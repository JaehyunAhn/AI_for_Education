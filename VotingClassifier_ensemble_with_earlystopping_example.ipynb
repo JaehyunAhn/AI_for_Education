{
  "nbformat": 4,
  "nbformat_minor": 0,
  "metadata": {
    "colab": {
      "provenance": [],
      "authorship_tag": "ABX9TyNMlEKWaQTExJDH/DffdBlR",
      "include_colab_link": true
    },
    "kernelspec": {
      "name": "python3",
      "display_name": "Python 3"
    },
    "language_info": {
      "name": "python"
    }
  },
  "cells": [
    {
      "cell_type": "markdown",
      "metadata": {
        "id": "view-in-github",
        "colab_type": "text"
      },
      "source": [
        "<a href=\"https://colab.research.google.com/github/JaehyunAhn/AI_for_Education/blob/master/VotingClassifier_ensemble_with_earlystopping_example.ipynb\" target=\"_parent\"><img src=\"https://colab.research.google.com/assets/colab-badge.svg\" alt=\"Open In Colab\"/></a>"
      ]
    },
    {
      "cell_type": "code",
      "source": [
        "!pip install xgboost==1.6.1\n",
        "!pip install --upgrade scikit-learn"
      ],
      "metadata": {
        "colab": {
          "base_uri": "https://localhost:8080/",
          "height": 567
        },
        "id": "_teOFgWmehl7",
        "outputId": "a15e438c-b70e-4322-efea-114160ce3258"
      },
      "execution_count": null,
      "outputs": [
        {
          "output_type": "stream",
          "name": "stdout",
          "text": [
            "Collecting xgboost==1.6.1\n",
            "  Downloading xgboost-1.6.1-py3-none-manylinux2014_x86_64.whl (192.9 MB)\n",
            "\u001b[2K     \u001b[90m━━━━━━━━━━━━━━━━━━━━━━━━━━━━━━━━━━━━━━━━\u001b[0m \u001b[32m192.9/192.9 MB\u001b[0m \u001b[31m2.6 MB/s\u001b[0m eta \u001b[36m0:00:00\u001b[0m\n",
            "\u001b[?25hRequirement already satisfied: numpy in /usr/local/lib/python3.10/dist-packages (from xgboost==1.6.1) (1.23.5)\n",
            "Requirement already satisfied: scipy in /usr/local/lib/python3.10/dist-packages (from xgboost==1.6.1) (1.11.3)\n",
            "Installing collected packages: xgboost\n",
            "  Attempting uninstall: xgboost\n",
            "    Found existing installation: xgboost 2.0.1\n",
            "    Uninstalling xgboost-2.0.1:\n",
            "      Successfully uninstalled xgboost-2.0.1\n",
            "Successfully installed xgboost-1.6.1\n",
            "Requirement already satisfied: scikit-learn in /usr/local/lib/python3.10/dist-packages (1.2.2)\n",
            "Collecting scikit-learn\n",
            "  Downloading scikit_learn-1.3.2-cp310-cp310-manylinux_2_17_x86_64.manylinux2014_x86_64.whl (10.8 MB)\n",
            "\u001b[2K     \u001b[90m━━━━━━━━━━━━━━━━━━━━━━━━━━━━━━━━━━━━━━━━\u001b[0m \u001b[32m10.8/10.8 MB\u001b[0m \u001b[31m79.9 MB/s\u001b[0m eta \u001b[36m0:00:00\u001b[0m\n",
            "\u001b[?25hRequirement already satisfied: numpy<2.0,>=1.17.3 in /usr/local/lib/python3.10/dist-packages (from scikit-learn) (1.23.5)\n",
            "Requirement already satisfied: scipy>=1.5.0 in /usr/local/lib/python3.10/dist-packages (from scikit-learn) (1.11.3)\n",
            "Requirement already satisfied: joblib>=1.1.1 in /usr/local/lib/python3.10/dist-packages (from scikit-learn) (1.3.2)\n",
            "Requirement already satisfied: threadpoolctl>=2.0.0 in /usr/local/lib/python3.10/dist-packages (from scikit-learn) (3.2.0)\n",
            "Installing collected packages: scikit-learn\n",
            "  Attempting uninstall: scikit-learn\n",
            "    Found existing installation: scikit-learn 1.2.2\n",
            "    Uninstalling scikit-learn-1.2.2:\n",
            "      Successfully uninstalled scikit-learn-1.2.2\n",
            "Successfully installed scikit-learn-1.3.2\n"
          ]
        },
        {
          "output_type": "display_data",
          "data": {
            "application/vnd.colab-display-data+json": {
              "pip_warning": {
                "packages": [
                  "sklearn"
                ]
              }
            }
          },
          "metadata": {}
        }
      ]
    },
    {
      "cell_type": "code",
      "source": [
        "import xgboost\n",
        "from sklearn.metrics import f1_score\n",
        "\n",
        "xgboost.__version__"
      ],
      "metadata": {
        "colab": {
          "base_uri": "https://localhost:8080/",
          "height": 36
        },
        "id": "AjaJ8byCemQI",
        "outputId": "890b0d62-59f7-42bd-aca1-7e370f668d4e"
      },
      "execution_count": 1,
      "outputs": [
        {
          "output_type": "execute_result",
          "data": {
            "text/plain": [
              "'2.0.2'"
            ],
            "application/vnd.google.colaboratory.intrinsic+json": {
              "type": "string"
            }
          },
          "metadata": {},
          "execution_count": 1
        }
      ]
    },
    {
      "cell_type": "code",
      "source": [],
      "metadata": {
        "id": "f4m5NGtBcqkW"
      },
      "execution_count": 1,
      "outputs": []
    },
    {
      "cell_type": "code",
      "execution_count": 2,
      "metadata": {
        "id": "19SqG-jTASv9"
      },
      "outputs": [],
      "source": [
        "from sklearn.pipeline import Pipeline\n",
        "from sklearn.ensemble import VotingClassifier\n",
        "from xgboost import XGBClassifier\n",
        "from sklearn.preprocessing import StandardScaler\n",
        "from sklearn.datasets import load_breast_cancer\n",
        "from sklearn.model_selection import train_test_split\n",
        "from sklearn.base import BaseEstimator, TransformerMixin\n",
        "from sklearn.linear_model import LogisticRegression\n",
        "from sklearn.ensemble import GradientBoostingClassifier\n",
        "\n",
        "\n",
        "X, y = load_breast_cancer(return_X_y=True, as_frame=True)\n",
        "\n",
        "# Split your data into training and validation sets\n",
        "X_train, X_test, y_train, y_test = train_test_split(X, y, test_size=0.8, random_state=42)"
      ]
    },
    {
      "cell_type": "code",
      "source": [
        "gbc = GradientBoostingClassifier(n_estimators=100, validation_fraction=.2)\n",
        "lgc = LogisticRegression()\n",
        "scaler = StandardScaler().set_output(transform='pandas')"
      ],
      "metadata": {
        "id": "5rYSMEe3vHfe"
      },
      "execution_count": 3,
      "outputs": []
    },
    {
      "cell_type": "code",
      "source": [
        "p1 = Pipeline([\n",
        "    ('scaler', scaler),\n",
        "    ('gbc', gbc)\n",
        "])\n",
        "p2 = Pipeline([\n",
        "    ('scaler', scaler),\n",
        "    ('lgc', lgc)\n",
        "])\n",
        "\n",
        "voting_classifier = VotingClassifier(\n",
        "    estimators=[\n",
        "        ('pipe1', p1),\n",
        "        ('pipe2', p2)\n",
        "        ],\n",
        "    voting='soft'\n",
        ")\n",
        "\n",
        "voting_classifier"
      ],
      "metadata": {
        "colab": {
          "base_uri": "https://localhost:8080/",
          "height": 143
        },
        "id": "J_sHxdDpU2nf",
        "outputId": "f297e07f-6801-4b0f-ad83-d7901412f95c"
      },
      "execution_count": 4,
      "outputs": [
        {
          "output_type": "execute_result",
          "data": {
            "text/plain": [
              "VotingClassifier(estimators=[('pipe1',\n",
              "                              Pipeline(steps=[('scaler', StandardScaler()),\n",
              "                                              ('gbc',\n",
              "                                               GradientBoostingClassifier(validation_fraction=0.2))])),\n",
              "                             ('pipe2',\n",
              "                              Pipeline(steps=[('scaler', StandardScaler()),\n",
              "                                              ('lgc', LogisticRegression())]))],\n",
              "                 voting='soft')"
            ],
            "text/html": [
              "<style>#sk-container-id-1 {color: black;background-color: white;}#sk-container-id-1 pre{padding: 0;}#sk-container-id-1 div.sk-toggleable {background-color: white;}#sk-container-id-1 label.sk-toggleable__label {cursor: pointer;display: block;width: 100%;margin-bottom: 0;padding: 0.3em;box-sizing: border-box;text-align: center;}#sk-container-id-1 label.sk-toggleable__label-arrow:before {content: \"▸\";float: left;margin-right: 0.25em;color: #696969;}#sk-container-id-1 label.sk-toggleable__label-arrow:hover:before {color: black;}#sk-container-id-1 div.sk-estimator:hover label.sk-toggleable__label-arrow:before {color: black;}#sk-container-id-1 div.sk-toggleable__content {max-height: 0;max-width: 0;overflow: hidden;text-align: left;background-color: #f0f8ff;}#sk-container-id-1 div.sk-toggleable__content pre {margin: 0.2em;color: black;border-radius: 0.25em;background-color: #f0f8ff;}#sk-container-id-1 input.sk-toggleable__control:checked~div.sk-toggleable__content {max-height: 200px;max-width: 100%;overflow: auto;}#sk-container-id-1 input.sk-toggleable__control:checked~label.sk-toggleable__label-arrow:before {content: \"▾\";}#sk-container-id-1 div.sk-estimator input.sk-toggleable__control:checked~label.sk-toggleable__label {background-color: #d4ebff;}#sk-container-id-1 div.sk-label input.sk-toggleable__control:checked~label.sk-toggleable__label {background-color: #d4ebff;}#sk-container-id-1 input.sk-hidden--visually {border: 0;clip: rect(1px 1px 1px 1px);clip: rect(1px, 1px, 1px, 1px);height: 1px;margin: -1px;overflow: hidden;padding: 0;position: absolute;width: 1px;}#sk-container-id-1 div.sk-estimator {font-family: monospace;background-color: #f0f8ff;border: 1px dotted black;border-radius: 0.25em;box-sizing: border-box;margin-bottom: 0.5em;}#sk-container-id-1 div.sk-estimator:hover {background-color: #d4ebff;}#sk-container-id-1 div.sk-parallel-item::after {content: \"\";width: 100%;border-bottom: 1px solid gray;flex-grow: 1;}#sk-container-id-1 div.sk-label:hover label.sk-toggleable__label {background-color: #d4ebff;}#sk-container-id-1 div.sk-serial::before {content: \"\";position: absolute;border-left: 1px solid gray;box-sizing: border-box;top: 0;bottom: 0;left: 50%;z-index: 0;}#sk-container-id-1 div.sk-serial {display: flex;flex-direction: column;align-items: center;background-color: white;padding-right: 0.2em;padding-left: 0.2em;position: relative;}#sk-container-id-1 div.sk-item {position: relative;z-index: 1;}#sk-container-id-1 div.sk-parallel {display: flex;align-items: stretch;justify-content: center;background-color: white;position: relative;}#sk-container-id-1 div.sk-item::before, #sk-container-id-1 div.sk-parallel-item::before {content: \"\";position: absolute;border-left: 1px solid gray;box-sizing: border-box;top: 0;bottom: 0;left: 50%;z-index: -1;}#sk-container-id-1 div.sk-parallel-item {display: flex;flex-direction: column;z-index: 1;position: relative;background-color: white;}#sk-container-id-1 div.sk-parallel-item:first-child::after {align-self: flex-end;width: 50%;}#sk-container-id-1 div.sk-parallel-item:last-child::after {align-self: flex-start;width: 50%;}#sk-container-id-1 div.sk-parallel-item:only-child::after {width: 0;}#sk-container-id-1 div.sk-dashed-wrapped {border: 1px dashed gray;margin: 0 0.4em 0.5em 0.4em;box-sizing: border-box;padding-bottom: 0.4em;background-color: white;}#sk-container-id-1 div.sk-label label {font-family: monospace;font-weight: bold;display: inline-block;line-height: 1.2em;}#sk-container-id-1 div.sk-label-container {text-align: center;}#sk-container-id-1 div.sk-container {/* jupyter's `normalize.less` sets `[hidden] { display: none; }` but bootstrap.min.css set `[hidden] { display: none !important; }` so we also need the `!important` here to be able to override the default hidden behavior on the sphinx rendered scikit-learn.org. See: https://github.com/scikit-learn/scikit-learn/issues/21755 */display: inline-block !important;position: relative;}#sk-container-id-1 div.sk-text-repr-fallback {display: none;}</style><div id=\"sk-container-id-1\" class=\"sk-top-container\"><div class=\"sk-text-repr-fallback\"><pre>VotingClassifier(estimators=[(&#x27;pipe1&#x27;,\n",
              "                              Pipeline(steps=[(&#x27;scaler&#x27;, StandardScaler()),\n",
              "                                              (&#x27;gbc&#x27;,\n",
              "                                               GradientBoostingClassifier(validation_fraction=0.2))])),\n",
              "                             (&#x27;pipe2&#x27;,\n",
              "                              Pipeline(steps=[(&#x27;scaler&#x27;, StandardScaler()),\n",
              "                                              (&#x27;lgc&#x27;, LogisticRegression())]))],\n",
              "                 voting=&#x27;soft&#x27;)</pre><b>In a Jupyter environment, please rerun this cell to show the HTML representation or trust the notebook. <br />On GitHub, the HTML representation is unable to render, please try loading this page with nbviewer.org.</b></div><div class=\"sk-container\" hidden><div class=\"sk-item sk-dashed-wrapped\"><div class=\"sk-label-container\"><div class=\"sk-label sk-toggleable\"><input class=\"sk-toggleable__control sk-hidden--visually\" id=\"sk-estimator-id-1\" type=\"checkbox\" ><label for=\"sk-estimator-id-1\" class=\"sk-toggleable__label sk-toggleable__label-arrow\">VotingClassifier</label><div class=\"sk-toggleable__content\"><pre>VotingClassifier(estimators=[(&#x27;pipe1&#x27;,\n",
              "                              Pipeline(steps=[(&#x27;scaler&#x27;, StandardScaler()),\n",
              "                                              (&#x27;gbc&#x27;,\n",
              "                                               GradientBoostingClassifier(validation_fraction=0.2))])),\n",
              "                             (&#x27;pipe2&#x27;,\n",
              "                              Pipeline(steps=[(&#x27;scaler&#x27;, StandardScaler()),\n",
              "                                              (&#x27;lgc&#x27;, LogisticRegression())]))],\n",
              "                 voting=&#x27;soft&#x27;)</pre></div></div></div><div class=\"sk-parallel\"><div class=\"sk-parallel-item\"><div class=\"sk-item\"><div class=\"sk-label-container\"><div class=\"sk-label sk-toggleable\"><label>pipe1</label></div></div><div class=\"sk-serial\"><div class=\"sk-item\"><div class=\"sk-serial\"><div class=\"sk-item\"><div class=\"sk-estimator sk-toggleable\"><input class=\"sk-toggleable__control sk-hidden--visually\" id=\"sk-estimator-id-2\" type=\"checkbox\" ><label for=\"sk-estimator-id-2\" class=\"sk-toggleable__label sk-toggleable__label-arrow\">StandardScaler</label><div class=\"sk-toggleable__content\"><pre>StandardScaler()</pre></div></div></div><div class=\"sk-item\"><div class=\"sk-estimator sk-toggleable\"><input class=\"sk-toggleable__control sk-hidden--visually\" id=\"sk-estimator-id-3\" type=\"checkbox\" ><label for=\"sk-estimator-id-3\" class=\"sk-toggleable__label sk-toggleable__label-arrow\">GradientBoostingClassifier</label><div class=\"sk-toggleable__content\"><pre>GradientBoostingClassifier(validation_fraction=0.2)</pre></div></div></div></div></div></div></div></div><div class=\"sk-parallel-item\"><div class=\"sk-item\"><div class=\"sk-label-container\"><div class=\"sk-label sk-toggleable\"><label>pipe2</label></div></div><div class=\"sk-serial\"><div class=\"sk-item\"><div class=\"sk-serial\"><div class=\"sk-item\"><div class=\"sk-estimator sk-toggleable\"><input class=\"sk-toggleable__control sk-hidden--visually\" id=\"sk-estimator-id-4\" type=\"checkbox\" ><label for=\"sk-estimator-id-4\" class=\"sk-toggleable__label sk-toggleable__label-arrow\">StandardScaler</label><div class=\"sk-toggleable__content\"><pre>StandardScaler()</pre></div></div></div><div class=\"sk-item\"><div class=\"sk-estimator sk-toggleable\"><input class=\"sk-toggleable__control sk-hidden--visually\" id=\"sk-estimator-id-5\" type=\"checkbox\" ><label for=\"sk-estimator-id-5\" class=\"sk-toggleable__label sk-toggleable__label-arrow\">LogisticRegression</label><div class=\"sk-toggleable__content\"><pre>LogisticRegression()</pre></div></div></div></div></div></div></div></div></div></div></div></div>"
            ]
          },
          "metadata": {},
          "execution_count": 4
        }
      ]
    },
    {
      "cell_type": "code",
      "source": [
        "voting_classifier.fit(X_train, y_train)"
      ],
      "metadata": {
        "colab": {
          "base_uri": "https://localhost:8080/",
          "height": 143
        },
        "id": "Vgq3Sr8px5PQ",
        "outputId": "26802c81-7da7-4346-85e2-3ba32c5cb996"
      },
      "execution_count": 5,
      "outputs": [
        {
          "output_type": "execute_result",
          "data": {
            "text/plain": [
              "VotingClassifier(estimators=[('pipe1',\n",
              "                              Pipeline(steps=[('scaler', StandardScaler()),\n",
              "                                              ('gbc',\n",
              "                                               GradientBoostingClassifier(validation_fraction=0.2))])),\n",
              "                             ('pipe2',\n",
              "                              Pipeline(steps=[('scaler', StandardScaler()),\n",
              "                                              ('lgc', LogisticRegression())]))],\n",
              "                 voting='soft')"
            ],
            "text/html": [
              "<style>#sk-container-id-2 {color: black;background-color: white;}#sk-container-id-2 pre{padding: 0;}#sk-container-id-2 div.sk-toggleable {background-color: white;}#sk-container-id-2 label.sk-toggleable__label {cursor: pointer;display: block;width: 100%;margin-bottom: 0;padding: 0.3em;box-sizing: border-box;text-align: center;}#sk-container-id-2 label.sk-toggleable__label-arrow:before {content: \"▸\";float: left;margin-right: 0.25em;color: #696969;}#sk-container-id-2 label.sk-toggleable__label-arrow:hover:before {color: black;}#sk-container-id-2 div.sk-estimator:hover label.sk-toggleable__label-arrow:before {color: black;}#sk-container-id-2 div.sk-toggleable__content {max-height: 0;max-width: 0;overflow: hidden;text-align: left;background-color: #f0f8ff;}#sk-container-id-2 div.sk-toggleable__content pre {margin: 0.2em;color: black;border-radius: 0.25em;background-color: #f0f8ff;}#sk-container-id-2 input.sk-toggleable__control:checked~div.sk-toggleable__content {max-height: 200px;max-width: 100%;overflow: auto;}#sk-container-id-2 input.sk-toggleable__control:checked~label.sk-toggleable__label-arrow:before {content: \"▾\";}#sk-container-id-2 div.sk-estimator input.sk-toggleable__control:checked~label.sk-toggleable__label {background-color: #d4ebff;}#sk-container-id-2 div.sk-label input.sk-toggleable__control:checked~label.sk-toggleable__label {background-color: #d4ebff;}#sk-container-id-2 input.sk-hidden--visually {border: 0;clip: rect(1px 1px 1px 1px);clip: rect(1px, 1px, 1px, 1px);height: 1px;margin: -1px;overflow: hidden;padding: 0;position: absolute;width: 1px;}#sk-container-id-2 div.sk-estimator {font-family: monospace;background-color: #f0f8ff;border: 1px dotted black;border-radius: 0.25em;box-sizing: border-box;margin-bottom: 0.5em;}#sk-container-id-2 div.sk-estimator:hover {background-color: #d4ebff;}#sk-container-id-2 div.sk-parallel-item::after {content: \"\";width: 100%;border-bottom: 1px solid gray;flex-grow: 1;}#sk-container-id-2 div.sk-label:hover label.sk-toggleable__label {background-color: #d4ebff;}#sk-container-id-2 div.sk-serial::before {content: \"\";position: absolute;border-left: 1px solid gray;box-sizing: border-box;top: 0;bottom: 0;left: 50%;z-index: 0;}#sk-container-id-2 div.sk-serial {display: flex;flex-direction: column;align-items: center;background-color: white;padding-right: 0.2em;padding-left: 0.2em;position: relative;}#sk-container-id-2 div.sk-item {position: relative;z-index: 1;}#sk-container-id-2 div.sk-parallel {display: flex;align-items: stretch;justify-content: center;background-color: white;position: relative;}#sk-container-id-2 div.sk-item::before, #sk-container-id-2 div.sk-parallel-item::before {content: \"\";position: absolute;border-left: 1px solid gray;box-sizing: border-box;top: 0;bottom: 0;left: 50%;z-index: -1;}#sk-container-id-2 div.sk-parallel-item {display: flex;flex-direction: column;z-index: 1;position: relative;background-color: white;}#sk-container-id-2 div.sk-parallel-item:first-child::after {align-self: flex-end;width: 50%;}#sk-container-id-2 div.sk-parallel-item:last-child::after {align-self: flex-start;width: 50%;}#sk-container-id-2 div.sk-parallel-item:only-child::after {width: 0;}#sk-container-id-2 div.sk-dashed-wrapped {border: 1px dashed gray;margin: 0 0.4em 0.5em 0.4em;box-sizing: border-box;padding-bottom: 0.4em;background-color: white;}#sk-container-id-2 div.sk-label label {font-family: monospace;font-weight: bold;display: inline-block;line-height: 1.2em;}#sk-container-id-2 div.sk-label-container {text-align: center;}#sk-container-id-2 div.sk-container {/* jupyter's `normalize.less` sets `[hidden] { display: none; }` but bootstrap.min.css set `[hidden] { display: none !important; }` so we also need the `!important` here to be able to override the default hidden behavior on the sphinx rendered scikit-learn.org. See: https://github.com/scikit-learn/scikit-learn/issues/21755 */display: inline-block !important;position: relative;}#sk-container-id-2 div.sk-text-repr-fallback {display: none;}</style><div id=\"sk-container-id-2\" class=\"sk-top-container\"><div class=\"sk-text-repr-fallback\"><pre>VotingClassifier(estimators=[(&#x27;pipe1&#x27;,\n",
              "                              Pipeline(steps=[(&#x27;scaler&#x27;, StandardScaler()),\n",
              "                                              (&#x27;gbc&#x27;,\n",
              "                                               GradientBoostingClassifier(validation_fraction=0.2))])),\n",
              "                             (&#x27;pipe2&#x27;,\n",
              "                              Pipeline(steps=[(&#x27;scaler&#x27;, StandardScaler()),\n",
              "                                              (&#x27;lgc&#x27;, LogisticRegression())]))],\n",
              "                 voting=&#x27;soft&#x27;)</pre><b>In a Jupyter environment, please rerun this cell to show the HTML representation or trust the notebook. <br />On GitHub, the HTML representation is unable to render, please try loading this page with nbviewer.org.</b></div><div class=\"sk-container\" hidden><div class=\"sk-item sk-dashed-wrapped\"><div class=\"sk-label-container\"><div class=\"sk-label sk-toggleable\"><input class=\"sk-toggleable__control sk-hidden--visually\" id=\"sk-estimator-id-6\" type=\"checkbox\" ><label for=\"sk-estimator-id-6\" class=\"sk-toggleable__label sk-toggleable__label-arrow\">VotingClassifier</label><div class=\"sk-toggleable__content\"><pre>VotingClassifier(estimators=[(&#x27;pipe1&#x27;,\n",
              "                              Pipeline(steps=[(&#x27;scaler&#x27;, StandardScaler()),\n",
              "                                              (&#x27;gbc&#x27;,\n",
              "                                               GradientBoostingClassifier(validation_fraction=0.2))])),\n",
              "                             (&#x27;pipe2&#x27;,\n",
              "                              Pipeline(steps=[(&#x27;scaler&#x27;, StandardScaler()),\n",
              "                                              (&#x27;lgc&#x27;, LogisticRegression())]))],\n",
              "                 voting=&#x27;soft&#x27;)</pre></div></div></div><div class=\"sk-parallel\"><div class=\"sk-parallel-item\"><div class=\"sk-item\"><div class=\"sk-label-container\"><div class=\"sk-label sk-toggleable\"><label>pipe1</label></div></div><div class=\"sk-serial\"><div class=\"sk-item\"><div class=\"sk-serial\"><div class=\"sk-item\"><div class=\"sk-estimator sk-toggleable\"><input class=\"sk-toggleable__control sk-hidden--visually\" id=\"sk-estimator-id-7\" type=\"checkbox\" ><label for=\"sk-estimator-id-7\" class=\"sk-toggleable__label sk-toggleable__label-arrow\">StandardScaler</label><div class=\"sk-toggleable__content\"><pre>StandardScaler()</pre></div></div></div><div class=\"sk-item\"><div class=\"sk-estimator sk-toggleable\"><input class=\"sk-toggleable__control sk-hidden--visually\" id=\"sk-estimator-id-8\" type=\"checkbox\" ><label for=\"sk-estimator-id-8\" class=\"sk-toggleable__label sk-toggleable__label-arrow\">GradientBoostingClassifier</label><div class=\"sk-toggleable__content\"><pre>GradientBoostingClassifier(validation_fraction=0.2)</pre></div></div></div></div></div></div></div></div><div class=\"sk-parallel-item\"><div class=\"sk-item\"><div class=\"sk-label-container\"><div class=\"sk-label sk-toggleable\"><label>pipe2</label></div></div><div class=\"sk-serial\"><div class=\"sk-item\"><div class=\"sk-serial\"><div class=\"sk-item\"><div class=\"sk-estimator sk-toggleable\"><input class=\"sk-toggleable__control sk-hidden--visually\" id=\"sk-estimator-id-9\" type=\"checkbox\" ><label for=\"sk-estimator-id-9\" class=\"sk-toggleable__label sk-toggleable__label-arrow\">StandardScaler</label><div class=\"sk-toggleable__content\"><pre>StandardScaler()</pre></div></div></div><div class=\"sk-item\"><div class=\"sk-estimator sk-toggleable\"><input class=\"sk-toggleable__control sk-hidden--visually\" id=\"sk-estimator-id-10\" type=\"checkbox\" ><label for=\"sk-estimator-id-10\" class=\"sk-toggleable__label sk-toggleable__label-arrow\">LogisticRegression</label><div class=\"sk-toggleable__content\"><pre>LogisticRegression()</pre></div></div></div></div></div></div></div></div></div></div></div></div>"
            ]
          },
          "metadata": {},
          "execution_count": 5
        }
      ]
    },
    {
      "cell_type": "code",
      "source": [
        "y_pred = voting_classifier.predict(X_test)\n",
        "\n",
        "f1_score(y_true=y_test, y_pred=y_pred)"
      ],
      "metadata": {
        "colab": {
          "base_uri": "https://localhost:8080/"
        },
        "id": "xerfEEAAxyis",
        "outputId": "909389ae-d949-4db7-b38d-e7d42f9e4d20"
      },
      "execution_count": 6,
      "outputs": [
        {
          "output_type": "execute_result",
          "data": {
            "text/plain": [
              "0.9269162210338682"
            ]
          },
          "metadata": {},
          "execution_count": 6
        }
      ]
    },
    {
      "cell_type": "code",
      "source": [
        "# XGBoost model을 따로 학습시키고 VotingClassifier에 추가"
      ],
      "metadata": {
        "id": "VvgKemr4yi2y"
      },
      "execution_count": 7,
      "outputs": []
    },
    {
      "cell_type": "code",
      "source": [
        "xgb = XGBClassifier(n_estimators=10000, early_stopping_rounds=10)\n",
        "xgb.fit(X_train, y_train, eval_set=[(X_train, y_train), (X_test, y_test)])"
      ],
      "metadata": {
        "colab": {
          "base_uri": "https://localhost:8080/",
          "height": 699
        },
        "id": "il6rUcBHxOMs",
        "outputId": "8a395c37-6a39-4957-f607-9ee2d5f94965"
      },
      "execution_count": 8,
      "outputs": [
        {
          "output_type": "stream",
          "name": "stdout",
          "text": [
            "[0]\tvalidation_0-logloss:0.47369\tvalidation_1-logloss:0.48629\n",
            "[1]\tvalidation_0-logloss:0.35799\tvalidation_1-logloss:0.38499\n",
            "[2]\tvalidation_0-logloss:0.27593\tvalidation_1-logloss:0.32306\n",
            "[3]\tvalidation_0-logloss:0.21821\tvalidation_1-logloss:0.26930\n",
            "[4]\tvalidation_0-logloss:0.17378\tvalidation_1-logloss:0.22892\n",
            "[5]\tvalidation_0-logloss:0.14589\tvalidation_1-logloss:0.20783\n",
            "[6]\tvalidation_0-logloss:0.12209\tvalidation_1-logloss:0.19011\n",
            "[7]\tvalidation_0-logloss:0.10632\tvalidation_1-logloss:0.17637\n",
            "[8]\tvalidation_0-logloss:0.09271\tvalidation_1-logloss:0.16575\n",
            "[9]\tvalidation_0-logloss:0.08098\tvalidation_1-logloss:0.15818\n",
            "[10]\tvalidation_0-logloss:0.07135\tvalidation_1-logloss:0.15290\n",
            "[11]\tvalidation_0-logloss:0.06396\tvalidation_1-logloss:0.14793\n",
            "[12]\tvalidation_0-logloss:0.05739\tvalidation_1-logloss:0.13669\n",
            "[13]\tvalidation_0-logloss:0.05237\tvalidation_1-logloss:0.13677\n",
            "[14]\tvalidation_0-logloss:0.04794\tvalidation_1-logloss:0.12918\n",
            "[15]\tvalidation_0-logloss:0.04450\tvalidation_1-logloss:0.12895\n",
            "[16]\tvalidation_0-logloss:0.04139\tvalidation_1-logloss:0.12327\n",
            "[17]\tvalidation_0-logloss:0.03919\tvalidation_1-logloss:0.12432\n",
            "[18]\tvalidation_0-logloss:0.03783\tvalidation_1-logloss:0.12381\n",
            "[19]\tvalidation_0-logloss:0.03594\tvalidation_1-logloss:0.12399\n",
            "[20]\tvalidation_0-logloss:0.03495\tvalidation_1-logloss:0.12383\n",
            "[21]\tvalidation_0-logloss:0.03393\tvalidation_1-logloss:0.12511\n",
            "[22]\tvalidation_0-logloss:0.03320\tvalidation_1-logloss:0.12522\n",
            "[23]\tvalidation_0-logloss:0.03243\tvalidation_1-logloss:0.12641\n",
            "[24]\tvalidation_0-logloss:0.03176\tvalidation_1-logloss:0.12446\n",
            "[25]\tvalidation_0-logloss:0.03119\tvalidation_1-logloss:0.12572\n"
          ]
        },
        {
          "output_type": "execute_result",
          "data": {
            "text/plain": [
              "XGBClassifier(base_score=None, booster=None, callbacks=None,\n",
              "              colsample_bylevel=None, colsample_bynode=None,\n",
              "              colsample_bytree=None, device=None, early_stopping_rounds=10,\n",
              "              enable_categorical=False, eval_metric=None, feature_types=None,\n",
              "              gamma=None, grow_policy=None, importance_type=None,\n",
              "              interaction_constraints=None, learning_rate=None, max_bin=None,\n",
              "              max_cat_threshold=None, max_cat_to_onehot=None,\n",
              "              max_delta_step=None, max_depth=None, max_leaves=None,\n",
              "              min_child_weight=None, missing=nan, monotone_constraints=None,\n",
              "              multi_strategy=None, n_estimators=10000, n_jobs=None,\n",
              "              num_parallel_tree=None, random_state=None, ...)"
            ],
            "text/html": [
              "<style>#sk-container-id-3 {color: black;background-color: white;}#sk-container-id-3 pre{padding: 0;}#sk-container-id-3 div.sk-toggleable {background-color: white;}#sk-container-id-3 label.sk-toggleable__label {cursor: pointer;display: block;width: 100%;margin-bottom: 0;padding: 0.3em;box-sizing: border-box;text-align: center;}#sk-container-id-3 label.sk-toggleable__label-arrow:before {content: \"▸\";float: left;margin-right: 0.25em;color: #696969;}#sk-container-id-3 label.sk-toggleable__label-arrow:hover:before {color: black;}#sk-container-id-3 div.sk-estimator:hover label.sk-toggleable__label-arrow:before {color: black;}#sk-container-id-3 div.sk-toggleable__content {max-height: 0;max-width: 0;overflow: hidden;text-align: left;background-color: #f0f8ff;}#sk-container-id-3 div.sk-toggleable__content pre {margin: 0.2em;color: black;border-radius: 0.25em;background-color: #f0f8ff;}#sk-container-id-3 input.sk-toggleable__control:checked~div.sk-toggleable__content {max-height: 200px;max-width: 100%;overflow: auto;}#sk-container-id-3 input.sk-toggleable__control:checked~label.sk-toggleable__label-arrow:before {content: \"▾\";}#sk-container-id-3 div.sk-estimator input.sk-toggleable__control:checked~label.sk-toggleable__label {background-color: #d4ebff;}#sk-container-id-3 div.sk-label input.sk-toggleable__control:checked~label.sk-toggleable__label {background-color: #d4ebff;}#sk-container-id-3 input.sk-hidden--visually {border: 0;clip: rect(1px 1px 1px 1px);clip: rect(1px, 1px, 1px, 1px);height: 1px;margin: -1px;overflow: hidden;padding: 0;position: absolute;width: 1px;}#sk-container-id-3 div.sk-estimator {font-family: monospace;background-color: #f0f8ff;border: 1px dotted black;border-radius: 0.25em;box-sizing: border-box;margin-bottom: 0.5em;}#sk-container-id-3 div.sk-estimator:hover {background-color: #d4ebff;}#sk-container-id-3 div.sk-parallel-item::after {content: \"\";width: 100%;border-bottom: 1px solid gray;flex-grow: 1;}#sk-container-id-3 div.sk-label:hover label.sk-toggleable__label {background-color: #d4ebff;}#sk-container-id-3 div.sk-serial::before {content: \"\";position: absolute;border-left: 1px solid gray;box-sizing: border-box;top: 0;bottom: 0;left: 50%;z-index: 0;}#sk-container-id-3 div.sk-serial {display: flex;flex-direction: column;align-items: center;background-color: white;padding-right: 0.2em;padding-left: 0.2em;position: relative;}#sk-container-id-3 div.sk-item {position: relative;z-index: 1;}#sk-container-id-3 div.sk-parallel {display: flex;align-items: stretch;justify-content: center;background-color: white;position: relative;}#sk-container-id-3 div.sk-item::before, #sk-container-id-3 div.sk-parallel-item::before {content: \"\";position: absolute;border-left: 1px solid gray;box-sizing: border-box;top: 0;bottom: 0;left: 50%;z-index: -1;}#sk-container-id-3 div.sk-parallel-item {display: flex;flex-direction: column;z-index: 1;position: relative;background-color: white;}#sk-container-id-3 div.sk-parallel-item:first-child::after {align-self: flex-end;width: 50%;}#sk-container-id-3 div.sk-parallel-item:last-child::after {align-self: flex-start;width: 50%;}#sk-container-id-3 div.sk-parallel-item:only-child::after {width: 0;}#sk-container-id-3 div.sk-dashed-wrapped {border: 1px dashed gray;margin: 0 0.4em 0.5em 0.4em;box-sizing: border-box;padding-bottom: 0.4em;background-color: white;}#sk-container-id-3 div.sk-label label {font-family: monospace;font-weight: bold;display: inline-block;line-height: 1.2em;}#sk-container-id-3 div.sk-label-container {text-align: center;}#sk-container-id-3 div.sk-container {/* jupyter's `normalize.less` sets `[hidden] { display: none; }` but bootstrap.min.css set `[hidden] { display: none !important; }` so we also need the `!important` here to be able to override the default hidden behavior on the sphinx rendered scikit-learn.org. See: https://github.com/scikit-learn/scikit-learn/issues/21755 */display: inline-block !important;position: relative;}#sk-container-id-3 div.sk-text-repr-fallback {display: none;}</style><div id=\"sk-container-id-3\" class=\"sk-top-container\"><div class=\"sk-text-repr-fallback\"><pre>XGBClassifier(base_score=None, booster=None, callbacks=None,\n",
              "              colsample_bylevel=None, colsample_bynode=None,\n",
              "              colsample_bytree=None, device=None, early_stopping_rounds=10,\n",
              "              enable_categorical=False, eval_metric=None, feature_types=None,\n",
              "              gamma=None, grow_policy=None, importance_type=None,\n",
              "              interaction_constraints=None, learning_rate=None, max_bin=None,\n",
              "              max_cat_threshold=None, max_cat_to_onehot=None,\n",
              "              max_delta_step=None, max_depth=None, max_leaves=None,\n",
              "              min_child_weight=None, missing=nan, monotone_constraints=None,\n",
              "              multi_strategy=None, n_estimators=10000, n_jobs=None,\n",
              "              num_parallel_tree=None, random_state=None, ...)</pre><b>In a Jupyter environment, please rerun this cell to show the HTML representation or trust the notebook. <br />On GitHub, the HTML representation is unable to render, please try loading this page with nbviewer.org.</b></div><div class=\"sk-container\" hidden><div class=\"sk-item\"><div class=\"sk-estimator sk-toggleable\"><input class=\"sk-toggleable__control sk-hidden--visually\" id=\"sk-estimator-id-11\" type=\"checkbox\" checked><label for=\"sk-estimator-id-11\" class=\"sk-toggleable__label sk-toggleable__label-arrow\">XGBClassifier</label><div class=\"sk-toggleable__content\"><pre>XGBClassifier(base_score=None, booster=None, callbacks=None,\n",
              "              colsample_bylevel=None, colsample_bynode=None,\n",
              "              colsample_bytree=None, device=None, early_stopping_rounds=10,\n",
              "              enable_categorical=False, eval_metric=None, feature_types=None,\n",
              "              gamma=None, grow_policy=None, importance_type=None,\n",
              "              interaction_constraints=None, learning_rate=None, max_bin=None,\n",
              "              max_cat_threshold=None, max_cat_to_onehot=None,\n",
              "              max_delta_step=None, max_depth=None, max_leaves=None,\n",
              "              min_child_weight=None, missing=nan, monotone_constraints=None,\n",
              "              multi_strategy=None, n_estimators=10000, n_jobs=None,\n",
              "              num_parallel_tree=None, random_state=None, ...)</pre></div></div></div></div></div>"
            ]
          },
          "metadata": {},
          "execution_count": 8
        }
      ]
    },
    {
      "cell_type": "code",
      "source": [
        "y_pred = xgb.predict(X_test)\n",
        "\n",
        "f1_score(y_true=y_test, y_pred=y_pred)"
      ],
      "metadata": {
        "colab": {
          "base_uri": "https://localhost:8080/"
        },
        "id": "vWfihGrOyChx",
        "outputId": "f2505d9c-6ae6-4998-c5fa-e7d71d27de77"
      },
      "execution_count": 9,
      "outputs": [
        {
          "output_type": "execute_result",
          "data": {
            "text/plain": [
              "0.9688581314878894"
            ]
          },
          "metadata": {},
          "execution_count": 9
        }
      ]
    },
    {
      "cell_type": "code",
      "source": [
        "voting_classifier.estimators.append(\n",
        "    ['xgb', xgb]\n",
        ")"
      ],
      "metadata": {
        "id": "sUKCwc_0YoIg"
      },
      "execution_count": 10,
      "outputs": []
    },
    {
      "cell_type": "code",
      "source": [
        "voting_classifier"
      ],
      "metadata": {
        "colab": {
          "base_uri": "https://localhost:8080/",
          "height": 143
        },
        "id": "U5ZqcP1KcCMb",
        "outputId": "4324620e-c2ae-45da-b5f4-9ad7eee14f49"
      },
      "execution_count": 11,
      "outputs": [
        {
          "output_type": "execute_result",
          "data": {
            "text/plain": [
              "VotingClassifier(estimators=[('pipe1',\n",
              "                              Pipeline(steps=[('scaler', StandardScaler()),\n",
              "                                              ('gbc',\n",
              "                                               GradientBoostingClassifier(validation_fraction=0.2))])),\n",
              "                             ('pipe2',\n",
              "                              Pipeline(steps=[('scaler', StandardScaler()),\n",
              "                                              ('lgc', LogisticRegression())])),\n",
              "                             ['xgb',\n",
              "                              XGBClassifier(base_score=None, booster=None,\n",
              "                                            callbacks=None,\n",
              "                                            colsample_bylevel=None,\n",
              "                                            colsample_bynode=None,\n",
              "                                            colsample_...\n",
              "                                            importance_type=None,\n",
              "                                            interaction_constraints=None,\n",
              "                                            learning_rate=None, max_bin=None,\n",
              "                                            max_cat_threshold=None,\n",
              "                                            max_cat_to_onehot=None,\n",
              "                                            max_delta_step=None, max_depth=None,\n",
              "                                            max_leaves=None,\n",
              "                                            min_child_weight=None, missing=nan,\n",
              "                                            monotone_constraints=None,\n",
              "                                            multi_strategy=None,\n",
              "                                            n_estimators=10000, n_jobs=None,\n",
              "                                            num_parallel_tree=None,\n",
              "                                            random_state=None, ...)]],\n",
              "                 voting='soft')"
            ],
            "text/html": [
              "<style>#sk-container-id-4 {color: black;background-color: white;}#sk-container-id-4 pre{padding: 0;}#sk-container-id-4 div.sk-toggleable {background-color: white;}#sk-container-id-4 label.sk-toggleable__label {cursor: pointer;display: block;width: 100%;margin-bottom: 0;padding: 0.3em;box-sizing: border-box;text-align: center;}#sk-container-id-4 label.sk-toggleable__label-arrow:before {content: \"▸\";float: left;margin-right: 0.25em;color: #696969;}#sk-container-id-4 label.sk-toggleable__label-arrow:hover:before {color: black;}#sk-container-id-4 div.sk-estimator:hover label.sk-toggleable__label-arrow:before {color: black;}#sk-container-id-4 div.sk-toggleable__content {max-height: 0;max-width: 0;overflow: hidden;text-align: left;background-color: #f0f8ff;}#sk-container-id-4 div.sk-toggleable__content pre {margin: 0.2em;color: black;border-radius: 0.25em;background-color: #f0f8ff;}#sk-container-id-4 input.sk-toggleable__control:checked~div.sk-toggleable__content {max-height: 200px;max-width: 100%;overflow: auto;}#sk-container-id-4 input.sk-toggleable__control:checked~label.sk-toggleable__label-arrow:before {content: \"▾\";}#sk-container-id-4 div.sk-estimator input.sk-toggleable__control:checked~label.sk-toggleable__label {background-color: #d4ebff;}#sk-container-id-4 div.sk-label input.sk-toggleable__control:checked~label.sk-toggleable__label {background-color: #d4ebff;}#sk-container-id-4 input.sk-hidden--visually {border: 0;clip: rect(1px 1px 1px 1px);clip: rect(1px, 1px, 1px, 1px);height: 1px;margin: -1px;overflow: hidden;padding: 0;position: absolute;width: 1px;}#sk-container-id-4 div.sk-estimator {font-family: monospace;background-color: #f0f8ff;border: 1px dotted black;border-radius: 0.25em;box-sizing: border-box;margin-bottom: 0.5em;}#sk-container-id-4 div.sk-estimator:hover {background-color: #d4ebff;}#sk-container-id-4 div.sk-parallel-item::after {content: \"\";width: 100%;border-bottom: 1px solid gray;flex-grow: 1;}#sk-container-id-4 div.sk-label:hover label.sk-toggleable__label {background-color: #d4ebff;}#sk-container-id-4 div.sk-serial::before {content: \"\";position: absolute;border-left: 1px solid gray;box-sizing: border-box;top: 0;bottom: 0;left: 50%;z-index: 0;}#sk-container-id-4 div.sk-serial {display: flex;flex-direction: column;align-items: center;background-color: white;padding-right: 0.2em;padding-left: 0.2em;position: relative;}#sk-container-id-4 div.sk-item {position: relative;z-index: 1;}#sk-container-id-4 div.sk-parallel {display: flex;align-items: stretch;justify-content: center;background-color: white;position: relative;}#sk-container-id-4 div.sk-item::before, #sk-container-id-4 div.sk-parallel-item::before {content: \"\";position: absolute;border-left: 1px solid gray;box-sizing: border-box;top: 0;bottom: 0;left: 50%;z-index: -1;}#sk-container-id-4 div.sk-parallel-item {display: flex;flex-direction: column;z-index: 1;position: relative;background-color: white;}#sk-container-id-4 div.sk-parallel-item:first-child::after {align-self: flex-end;width: 50%;}#sk-container-id-4 div.sk-parallel-item:last-child::after {align-self: flex-start;width: 50%;}#sk-container-id-4 div.sk-parallel-item:only-child::after {width: 0;}#sk-container-id-4 div.sk-dashed-wrapped {border: 1px dashed gray;margin: 0 0.4em 0.5em 0.4em;box-sizing: border-box;padding-bottom: 0.4em;background-color: white;}#sk-container-id-4 div.sk-label label {font-family: monospace;font-weight: bold;display: inline-block;line-height: 1.2em;}#sk-container-id-4 div.sk-label-container {text-align: center;}#sk-container-id-4 div.sk-container {/* jupyter's `normalize.less` sets `[hidden] { display: none; }` but bootstrap.min.css set `[hidden] { display: none !important; }` so we also need the `!important` here to be able to override the default hidden behavior on the sphinx rendered scikit-learn.org. See: https://github.com/scikit-learn/scikit-learn/issues/21755 */display: inline-block !important;position: relative;}#sk-container-id-4 div.sk-text-repr-fallback {display: none;}</style><div id=\"sk-container-id-4\" class=\"sk-top-container\"><div class=\"sk-text-repr-fallback\"><pre>VotingClassifier(estimators=[(&#x27;pipe1&#x27;,\n",
              "                              Pipeline(steps=[(&#x27;scaler&#x27;, StandardScaler()),\n",
              "                                              (&#x27;gbc&#x27;,\n",
              "                                               GradientBoostingClassifier(validation_fraction=0.2))])),\n",
              "                             (&#x27;pipe2&#x27;,\n",
              "                              Pipeline(steps=[(&#x27;scaler&#x27;, StandardScaler()),\n",
              "                                              (&#x27;lgc&#x27;, LogisticRegression())])),\n",
              "                             [&#x27;xgb&#x27;,\n",
              "                              XGBClassifier(base_score=None, booster=None,\n",
              "                                            callbacks=None,\n",
              "                                            colsample_bylevel=None,\n",
              "                                            colsample_bynode=None,\n",
              "                                            colsample_...\n",
              "                                            importance_type=None,\n",
              "                                            interaction_constraints=None,\n",
              "                                            learning_rate=None, max_bin=None,\n",
              "                                            max_cat_threshold=None,\n",
              "                                            max_cat_to_onehot=None,\n",
              "                                            max_delta_step=None, max_depth=None,\n",
              "                                            max_leaves=None,\n",
              "                                            min_child_weight=None, missing=nan,\n",
              "                                            monotone_constraints=None,\n",
              "                                            multi_strategy=None,\n",
              "                                            n_estimators=10000, n_jobs=None,\n",
              "                                            num_parallel_tree=None,\n",
              "                                            random_state=None, ...)]],\n",
              "                 voting=&#x27;soft&#x27;)</pre><b>In a Jupyter environment, please rerun this cell to show the HTML representation or trust the notebook. <br />On GitHub, the HTML representation is unable to render, please try loading this page with nbviewer.org.</b></div><div class=\"sk-container\" hidden><div class=\"sk-item sk-dashed-wrapped\"><div class=\"sk-label-container\"><div class=\"sk-label sk-toggleable\"><input class=\"sk-toggleable__control sk-hidden--visually\" id=\"sk-estimator-id-12\" type=\"checkbox\" ><label for=\"sk-estimator-id-12\" class=\"sk-toggleable__label sk-toggleable__label-arrow\">VotingClassifier</label><div class=\"sk-toggleable__content\"><pre>VotingClassifier(estimators=[(&#x27;pipe1&#x27;,\n",
              "                              Pipeline(steps=[(&#x27;scaler&#x27;, StandardScaler()),\n",
              "                                              (&#x27;gbc&#x27;,\n",
              "                                               GradientBoostingClassifier(validation_fraction=0.2))])),\n",
              "                             (&#x27;pipe2&#x27;,\n",
              "                              Pipeline(steps=[(&#x27;scaler&#x27;, StandardScaler()),\n",
              "                                              (&#x27;lgc&#x27;, LogisticRegression())])),\n",
              "                             [&#x27;xgb&#x27;,\n",
              "                              XGBClassifier(base_score=None, booster=None,\n",
              "                                            callbacks=None,\n",
              "                                            colsample_bylevel=None,\n",
              "                                            colsample_bynode=None,\n",
              "                                            colsample_...\n",
              "                                            importance_type=None,\n",
              "                                            interaction_constraints=None,\n",
              "                                            learning_rate=None, max_bin=None,\n",
              "                                            max_cat_threshold=None,\n",
              "                                            max_cat_to_onehot=None,\n",
              "                                            max_delta_step=None, max_depth=None,\n",
              "                                            max_leaves=None,\n",
              "                                            min_child_weight=None, missing=nan,\n",
              "                                            monotone_constraints=None,\n",
              "                                            multi_strategy=None,\n",
              "                                            n_estimators=10000, n_jobs=None,\n",
              "                                            num_parallel_tree=None,\n",
              "                                            random_state=None, ...)]],\n",
              "                 voting=&#x27;soft&#x27;)</pre></div></div></div><div class=\"sk-parallel\"><div class=\"sk-parallel-item\"><div class=\"sk-item\"><div class=\"sk-label-container\"><div class=\"sk-label sk-toggleable\"><label>pipe1</label></div></div><div class=\"sk-serial\"><div class=\"sk-item\"><div class=\"sk-serial\"><div class=\"sk-item\"><div class=\"sk-estimator sk-toggleable\"><input class=\"sk-toggleable__control sk-hidden--visually\" id=\"sk-estimator-id-13\" type=\"checkbox\" ><label for=\"sk-estimator-id-13\" class=\"sk-toggleable__label sk-toggleable__label-arrow\">StandardScaler</label><div class=\"sk-toggleable__content\"><pre>StandardScaler()</pre></div></div></div><div class=\"sk-item\"><div class=\"sk-estimator sk-toggleable\"><input class=\"sk-toggleable__control sk-hidden--visually\" id=\"sk-estimator-id-14\" type=\"checkbox\" ><label for=\"sk-estimator-id-14\" class=\"sk-toggleable__label sk-toggleable__label-arrow\">GradientBoostingClassifier</label><div class=\"sk-toggleable__content\"><pre>GradientBoostingClassifier(validation_fraction=0.2)</pre></div></div></div></div></div></div></div></div><div class=\"sk-parallel-item\"><div class=\"sk-item\"><div class=\"sk-label-container\"><div class=\"sk-label sk-toggleable\"><label>pipe2</label></div></div><div class=\"sk-serial\"><div class=\"sk-item\"><div class=\"sk-serial\"><div class=\"sk-item\"><div class=\"sk-estimator sk-toggleable\"><input class=\"sk-toggleable__control sk-hidden--visually\" id=\"sk-estimator-id-15\" type=\"checkbox\" ><label for=\"sk-estimator-id-15\" class=\"sk-toggleable__label sk-toggleable__label-arrow\">StandardScaler</label><div class=\"sk-toggleable__content\"><pre>StandardScaler()</pre></div></div></div><div class=\"sk-item\"><div class=\"sk-estimator sk-toggleable\"><input class=\"sk-toggleable__control sk-hidden--visually\" id=\"sk-estimator-id-16\" type=\"checkbox\" ><label for=\"sk-estimator-id-16\" class=\"sk-toggleable__label sk-toggleable__label-arrow\">LogisticRegression</label><div class=\"sk-toggleable__content\"><pre>LogisticRegression()</pre></div></div></div></div></div></div></div></div><div class=\"sk-parallel-item\"><div class=\"sk-item\"><div class=\"sk-label-container\"><div class=\"sk-label sk-toggleable\"><label>xgb</label></div></div><div class=\"sk-serial\"><div class=\"sk-item\"><div class=\"sk-estimator sk-toggleable\"><input class=\"sk-toggleable__control sk-hidden--visually\" id=\"sk-estimator-id-17\" type=\"checkbox\" ><label for=\"sk-estimator-id-17\" class=\"sk-toggleable__label sk-toggleable__label-arrow\">XGBClassifier</label><div class=\"sk-toggleable__content\"><pre>XGBClassifier(base_score=None, booster=None, callbacks=None,\n",
              "              colsample_bylevel=None, colsample_bynode=None,\n",
              "              colsample_bytree=None, device=None, early_stopping_rounds=10,\n",
              "              enable_categorical=False, eval_metric=None, feature_types=None,\n",
              "              gamma=None, grow_policy=None, importance_type=None,\n",
              "              interaction_constraints=None, learning_rate=None, max_bin=None,\n",
              "              max_cat_threshold=None, max_cat_to_onehot=None,\n",
              "              max_delta_step=None, max_depth=None, max_leaves=None,\n",
              "              min_child_weight=None, missing=nan, monotone_constraints=None,\n",
              "              multi_strategy=None, n_estimators=10000, n_jobs=None,\n",
              "              num_parallel_tree=None, random_state=None, ...)</pre></div></div></div></div></div></div></div></div></div></div>"
            ]
          },
          "metadata": {},
          "execution_count": 11
        }
      ]
    },
    {
      "cell_type": "code",
      "source": [
        "y_pred = voting_classifier.predict(X_test)\n",
        "f1_score(y_true=y_test, y_pred=y_pred)"
      ],
      "metadata": {
        "colab": {
          "base_uri": "https://localhost:8080/"
        },
        "id": "azG3V_j2xYMi",
        "outputId": "04eb7402-70b4-4ed0-db0b-efed1d9ed7cc"
      },
      "execution_count": 12,
      "outputs": [
        {
          "output_type": "execute_result",
          "data": {
            "text/plain": [
              "0.9269162210338682"
            ]
          },
          "metadata": {},
          "execution_count": 12
        }
      ]
    },
    {
      "cell_type": "code",
      "source": [
        "import pickle"
      ],
      "metadata": {
        "id": "aGsAvrJzn1JP"
      },
      "execution_count": 13,
      "outputs": []
    },
    {
      "cell_type": "code",
      "source": [
        "xgboost.__version__"
      ],
      "metadata": {
        "colab": {
          "base_uri": "https://localhost:8080/",
          "height": 36
        },
        "id": "lL6KSji-fsUg",
        "outputId": "d97d68c7-1bf5-4370-8c36-93d4d5ddddb0"
      },
      "execution_count": 14,
      "outputs": [
        {
          "output_type": "execute_result",
          "data": {
            "text/plain": [
              "'2.0.2'"
            ],
            "application/vnd.google.colaboratory.intrinsic+json": {
              "type": "string"
            }
          },
          "metadata": {},
          "execution_count": 14
        }
      ]
    },
    {
      "cell_type": "code",
      "source": [
        "pickle.dump(voting_classifier, open('./test.pkl', 'wb'))"
      ],
      "metadata": {
        "id": "hgyzJx9SaN1R"
      },
      "execution_count": 15,
      "outputs": []
    },
    {
      "cell_type": "code",
      "source": [
        "p = pickle.load(open('./test.pkl', 'rb'))\n",
        "p"
      ],
      "metadata": {
        "colab": {
          "base_uri": "https://localhost:8080/",
          "height": 143
        },
        "id": "ViSCUb7FaTS7",
        "outputId": "57f76c5e-6daf-4fd4-9907-9a0690cc339b"
      },
      "execution_count": 16,
      "outputs": [
        {
          "output_type": "execute_result",
          "data": {
            "text/plain": [
              "VotingClassifier(estimators=[('pipe1',\n",
              "                              Pipeline(steps=[('scaler', StandardScaler()),\n",
              "                                              ('gbc',\n",
              "                                               GradientBoostingClassifier(validation_fraction=0.2))])),\n",
              "                             ('pipe2',\n",
              "                              Pipeline(steps=[('scaler', StandardScaler()),\n",
              "                                              ('lgc', LogisticRegression())])),\n",
              "                             ['xgb',\n",
              "                              XGBClassifier(base_score=None, booster=None,\n",
              "                                            callbacks=None,\n",
              "                                            colsample_bylevel=None,\n",
              "                                            colsample_bynode=None,\n",
              "                                            colsample_...\n",
              "                                            importance_type=None,\n",
              "                                            interaction_constraints=None,\n",
              "                                            learning_rate=None, max_bin=None,\n",
              "                                            max_cat_threshold=None,\n",
              "                                            max_cat_to_onehot=None,\n",
              "                                            max_delta_step=None, max_depth=None,\n",
              "                                            max_leaves=None,\n",
              "                                            min_child_weight=None, missing=nan,\n",
              "                                            monotone_constraints=None,\n",
              "                                            multi_strategy=None,\n",
              "                                            n_estimators=10000, n_jobs=None,\n",
              "                                            num_parallel_tree=None,\n",
              "                                            random_state=None, ...)]],\n",
              "                 voting='soft')"
            ],
            "text/html": [
              "<style>#sk-container-id-5 {color: black;background-color: white;}#sk-container-id-5 pre{padding: 0;}#sk-container-id-5 div.sk-toggleable {background-color: white;}#sk-container-id-5 label.sk-toggleable__label {cursor: pointer;display: block;width: 100%;margin-bottom: 0;padding: 0.3em;box-sizing: border-box;text-align: center;}#sk-container-id-5 label.sk-toggleable__label-arrow:before {content: \"▸\";float: left;margin-right: 0.25em;color: #696969;}#sk-container-id-5 label.sk-toggleable__label-arrow:hover:before {color: black;}#sk-container-id-5 div.sk-estimator:hover label.sk-toggleable__label-arrow:before {color: black;}#sk-container-id-5 div.sk-toggleable__content {max-height: 0;max-width: 0;overflow: hidden;text-align: left;background-color: #f0f8ff;}#sk-container-id-5 div.sk-toggleable__content pre {margin: 0.2em;color: black;border-radius: 0.25em;background-color: #f0f8ff;}#sk-container-id-5 input.sk-toggleable__control:checked~div.sk-toggleable__content {max-height: 200px;max-width: 100%;overflow: auto;}#sk-container-id-5 input.sk-toggleable__control:checked~label.sk-toggleable__label-arrow:before {content: \"▾\";}#sk-container-id-5 div.sk-estimator input.sk-toggleable__control:checked~label.sk-toggleable__label {background-color: #d4ebff;}#sk-container-id-5 div.sk-label input.sk-toggleable__control:checked~label.sk-toggleable__label {background-color: #d4ebff;}#sk-container-id-5 input.sk-hidden--visually {border: 0;clip: rect(1px 1px 1px 1px);clip: rect(1px, 1px, 1px, 1px);height: 1px;margin: -1px;overflow: hidden;padding: 0;position: absolute;width: 1px;}#sk-container-id-5 div.sk-estimator {font-family: monospace;background-color: #f0f8ff;border: 1px dotted black;border-radius: 0.25em;box-sizing: border-box;margin-bottom: 0.5em;}#sk-container-id-5 div.sk-estimator:hover {background-color: #d4ebff;}#sk-container-id-5 div.sk-parallel-item::after {content: \"\";width: 100%;border-bottom: 1px solid gray;flex-grow: 1;}#sk-container-id-5 div.sk-label:hover label.sk-toggleable__label {background-color: #d4ebff;}#sk-container-id-5 div.sk-serial::before {content: \"\";position: absolute;border-left: 1px solid gray;box-sizing: border-box;top: 0;bottom: 0;left: 50%;z-index: 0;}#sk-container-id-5 div.sk-serial {display: flex;flex-direction: column;align-items: center;background-color: white;padding-right: 0.2em;padding-left: 0.2em;position: relative;}#sk-container-id-5 div.sk-item {position: relative;z-index: 1;}#sk-container-id-5 div.sk-parallel {display: flex;align-items: stretch;justify-content: center;background-color: white;position: relative;}#sk-container-id-5 div.sk-item::before, #sk-container-id-5 div.sk-parallel-item::before {content: \"\";position: absolute;border-left: 1px solid gray;box-sizing: border-box;top: 0;bottom: 0;left: 50%;z-index: -1;}#sk-container-id-5 div.sk-parallel-item {display: flex;flex-direction: column;z-index: 1;position: relative;background-color: white;}#sk-container-id-5 div.sk-parallel-item:first-child::after {align-self: flex-end;width: 50%;}#sk-container-id-5 div.sk-parallel-item:last-child::after {align-self: flex-start;width: 50%;}#sk-container-id-5 div.sk-parallel-item:only-child::after {width: 0;}#sk-container-id-5 div.sk-dashed-wrapped {border: 1px dashed gray;margin: 0 0.4em 0.5em 0.4em;box-sizing: border-box;padding-bottom: 0.4em;background-color: white;}#sk-container-id-5 div.sk-label label {font-family: monospace;font-weight: bold;display: inline-block;line-height: 1.2em;}#sk-container-id-5 div.sk-label-container {text-align: center;}#sk-container-id-5 div.sk-container {/* jupyter's `normalize.less` sets `[hidden] { display: none; }` but bootstrap.min.css set `[hidden] { display: none !important; }` so we also need the `!important` here to be able to override the default hidden behavior on the sphinx rendered scikit-learn.org. See: https://github.com/scikit-learn/scikit-learn/issues/21755 */display: inline-block !important;position: relative;}#sk-container-id-5 div.sk-text-repr-fallback {display: none;}</style><div id=\"sk-container-id-5\" class=\"sk-top-container\"><div class=\"sk-text-repr-fallback\"><pre>VotingClassifier(estimators=[(&#x27;pipe1&#x27;,\n",
              "                              Pipeline(steps=[(&#x27;scaler&#x27;, StandardScaler()),\n",
              "                                              (&#x27;gbc&#x27;,\n",
              "                                               GradientBoostingClassifier(validation_fraction=0.2))])),\n",
              "                             (&#x27;pipe2&#x27;,\n",
              "                              Pipeline(steps=[(&#x27;scaler&#x27;, StandardScaler()),\n",
              "                                              (&#x27;lgc&#x27;, LogisticRegression())])),\n",
              "                             [&#x27;xgb&#x27;,\n",
              "                              XGBClassifier(base_score=None, booster=None,\n",
              "                                            callbacks=None,\n",
              "                                            colsample_bylevel=None,\n",
              "                                            colsample_bynode=None,\n",
              "                                            colsample_...\n",
              "                                            importance_type=None,\n",
              "                                            interaction_constraints=None,\n",
              "                                            learning_rate=None, max_bin=None,\n",
              "                                            max_cat_threshold=None,\n",
              "                                            max_cat_to_onehot=None,\n",
              "                                            max_delta_step=None, max_depth=None,\n",
              "                                            max_leaves=None,\n",
              "                                            min_child_weight=None, missing=nan,\n",
              "                                            monotone_constraints=None,\n",
              "                                            multi_strategy=None,\n",
              "                                            n_estimators=10000, n_jobs=None,\n",
              "                                            num_parallel_tree=None,\n",
              "                                            random_state=None, ...)]],\n",
              "                 voting=&#x27;soft&#x27;)</pre><b>In a Jupyter environment, please rerun this cell to show the HTML representation or trust the notebook. <br />On GitHub, the HTML representation is unable to render, please try loading this page with nbviewer.org.</b></div><div class=\"sk-container\" hidden><div class=\"sk-item sk-dashed-wrapped\"><div class=\"sk-label-container\"><div class=\"sk-label sk-toggleable\"><input class=\"sk-toggleable__control sk-hidden--visually\" id=\"sk-estimator-id-18\" type=\"checkbox\" ><label for=\"sk-estimator-id-18\" class=\"sk-toggleable__label sk-toggleable__label-arrow\">VotingClassifier</label><div class=\"sk-toggleable__content\"><pre>VotingClassifier(estimators=[(&#x27;pipe1&#x27;,\n",
              "                              Pipeline(steps=[(&#x27;scaler&#x27;, StandardScaler()),\n",
              "                                              (&#x27;gbc&#x27;,\n",
              "                                               GradientBoostingClassifier(validation_fraction=0.2))])),\n",
              "                             (&#x27;pipe2&#x27;,\n",
              "                              Pipeline(steps=[(&#x27;scaler&#x27;, StandardScaler()),\n",
              "                                              (&#x27;lgc&#x27;, LogisticRegression())])),\n",
              "                             [&#x27;xgb&#x27;,\n",
              "                              XGBClassifier(base_score=None, booster=None,\n",
              "                                            callbacks=None,\n",
              "                                            colsample_bylevel=None,\n",
              "                                            colsample_bynode=None,\n",
              "                                            colsample_...\n",
              "                                            importance_type=None,\n",
              "                                            interaction_constraints=None,\n",
              "                                            learning_rate=None, max_bin=None,\n",
              "                                            max_cat_threshold=None,\n",
              "                                            max_cat_to_onehot=None,\n",
              "                                            max_delta_step=None, max_depth=None,\n",
              "                                            max_leaves=None,\n",
              "                                            min_child_weight=None, missing=nan,\n",
              "                                            monotone_constraints=None,\n",
              "                                            multi_strategy=None,\n",
              "                                            n_estimators=10000, n_jobs=None,\n",
              "                                            num_parallel_tree=None,\n",
              "                                            random_state=None, ...)]],\n",
              "                 voting=&#x27;soft&#x27;)</pre></div></div></div><div class=\"sk-parallel\"><div class=\"sk-parallel-item\"><div class=\"sk-item\"><div class=\"sk-label-container\"><div class=\"sk-label sk-toggleable\"><label>pipe1</label></div></div><div class=\"sk-serial\"><div class=\"sk-item\"><div class=\"sk-serial\"><div class=\"sk-item\"><div class=\"sk-estimator sk-toggleable\"><input class=\"sk-toggleable__control sk-hidden--visually\" id=\"sk-estimator-id-19\" type=\"checkbox\" ><label for=\"sk-estimator-id-19\" class=\"sk-toggleable__label sk-toggleable__label-arrow\">StandardScaler</label><div class=\"sk-toggleable__content\"><pre>StandardScaler()</pre></div></div></div><div class=\"sk-item\"><div class=\"sk-estimator sk-toggleable\"><input class=\"sk-toggleable__control sk-hidden--visually\" id=\"sk-estimator-id-20\" type=\"checkbox\" ><label for=\"sk-estimator-id-20\" class=\"sk-toggleable__label sk-toggleable__label-arrow\">GradientBoostingClassifier</label><div class=\"sk-toggleable__content\"><pre>GradientBoostingClassifier(validation_fraction=0.2)</pre></div></div></div></div></div></div></div></div><div class=\"sk-parallel-item\"><div class=\"sk-item\"><div class=\"sk-label-container\"><div class=\"sk-label sk-toggleable\"><label>pipe2</label></div></div><div class=\"sk-serial\"><div class=\"sk-item\"><div class=\"sk-serial\"><div class=\"sk-item\"><div class=\"sk-estimator sk-toggleable\"><input class=\"sk-toggleable__control sk-hidden--visually\" id=\"sk-estimator-id-21\" type=\"checkbox\" ><label for=\"sk-estimator-id-21\" class=\"sk-toggleable__label sk-toggleable__label-arrow\">StandardScaler</label><div class=\"sk-toggleable__content\"><pre>StandardScaler()</pre></div></div></div><div class=\"sk-item\"><div class=\"sk-estimator sk-toggleable\"><input class=\"sk-toggleable__control sk-hidden--visually\" id=\"sk-estimator-id-22\" type=\"checkbox\" ><label for=\"sk-estimator-id-22\" class=\"sk-toggleable__label sk-toggleable__label-arrow\">LogisticRegression</label><div class=\"sk-toggleable__content\"><pre>LogisticRegression()</pre></div></div></div></div></div></div></div></div><div class=\"sk-parallel-item\"><div class=\"sk-item\"><div class=\"sk-label-container\"><div class=\"sk-label sk-toggleable\"><label>xgb</label></div></div><div class=\"sk-serial\"><div class=\"sk-item\"><div class=\"sk-estimator sk-toggleable\"><input class=\"sk-toggleable__control sk-hidden--visually\" id=\"sk-estimator-id-23\" type=\"checkbox\" ><label for=\"sk-estimator-id-23\" class=\"sk-toggleable__label sk-toggleable__label-arrow\">XGBClassifier</label><div class=\"sk-toggleable__content\"><pre>XGBClassifier(base_score=None, booster=None, callbacks=None,\n",
              "              colsample_bylevel=None, colsample_bynode=None,\n",
              "              colsample_bytree=None, device=None, early_stopping_rounds=10,\n",
              "              enable_categorical=False, eval_metric=None, feature_types=None,\n",
              "              gamma=None, grow_policy=None, importance_type=None,\n",
              "              interaction_constraints=None, learning_rate=None, max_bin=None,\n",
              "              max_cat_threshold=None, max_cat_to_onehot=None,\n",
              "              max_delta_step=None, max_depth=None, max_leaves=None,\n",
              "              min_child_weight=None, missing=nan, monotone_constraints=None,\n",
              "              multi_strategy=None, n_estimators=10000, n_jobs=None,\n",
              "              num_parallel_tree=None, random_state=None, ...)</pre></div></div></div></div></div></div></div></div></div></div>"
            ]
          },
          "metadata": {},
          "execution_count": 16
        }
      ]
    },
    {
      "cell_type": "code",
      "source": [],
      "metadata": {
        "id": "WvNwc7m2aXNf"
      },
      "execution_count": 16,
      "outputs": []
    },
    {
      "cell_type": "markdown",
      "source": [
        "# VotingClassifier Override\n",
        "\n",
        "1. 접근법: VotingClassifier의 fit에 eval_set을 받을 수 있도록 wrapper를 만든다\n",
        "2. 문제점: VotingClassifier는 eval_set을 parameter로 받지 못한다\n",
        "    - 참고 코드: https://github.com/scikit-learn/scikit-learn/blob/main/sklearn/ensemble/_voting.py\n",
        "3. 해결법: Voting Classifier를 override한다\n"
      ],
      "metadata": {
        "id": "AgEpT32p8rwV"
      }
    },
    {
      "cell_type": "code",
      "source": [
        "import sklearn\n",
        "\n",
        "sklearn.__version__"
      ],
      "metadata": {
        "colab": {
          "base_uri": "https://localhost:8080/",
          "height": 36
        },
        "id": "6Ww4FcVJ8s2p",
        "outputId": "d975ff79-17dc-46b1-efc9-09a35e3acf7b"
      },
      "execution_count": 17,
      "outputs": [
        {
          "output_type": "execute_result",
          "data": {
            "text/plain": [
              "'1.2.2'"
            ],
            "application/vnd.google.colaboratory.intrinsic+json": {
              "type": "string"
            }
          },
          "metadata": {},
          "execution_count": 17
        }
      ]
    },
    {
      "cell_type": "code",
      "source": [
        "import numpy as np\n",
        "import pandas as pd"
      ],
      "metadata": {
        "id": "EfCRkKkzI9fK"
      },
      "execution_count": 18,
      "outputs": []
    },
    {
      "cell_type": "code",
      "source": [
        "from sklearn.preprocessing import LabelEncoder\n",
        "\n",
        "class VotingClassifierWrapper(VotingClassifier):\n",
        "  def fit(self, X, y, eval_set=None, **params):\n",
        "    # Following _BaseVoting as a Super Class\n",
        "    self.le_ = LabelEncoder().fit(y)\n",
        "    self.classes_ = self.le_.classes_\n",
        "    transformed_y = self.le_.transform(y)\n",
        "\n",
        "    if eval_set is not None:\n",
        "      eval_set = [(X, self.le_.transform(y)) for (X, y) in eval_set]\n",
        "\n",
        "    estimators_ = {}\n",
        "    # if class is xgboost, then support eval_set method\n",
        "    for name, estimator in self.estimators:\n",
        "      if type(estimator) == xgboost.sklearn.XGBClassifier:\n",
        "        estimators_[name] = estimator.fit(X, y, eval_set=eval_set, **params)\n",
        "      else:\n",
        "        estimators_[name] = estimator.fit(X, transformed_y, **params)\n",
        "\n",
        "    # fill out attributes\n",
        "    self.estimators_ = [estimator for (name, estimator) in estimators_.items()]\n",
        "    self.named_estimators_ = estimators_\n",
        "\n",
        "    for name, est in self.estimators:\n",
        "      if hasattr(est, 'feature_names_in_'):\n",
        "        self.feature_names_in_ = est.feature_names_in_\n",
        "\n",
        "    return self"
      ],
      "metadata": {
        "id": "m9Z3mumQFRvy"
      },
      "execution_count": 19,
      "outputs": []
    },
    {
      "cell_type": "code",
      "source": [
        "voting_classifier"
      ],
      "metadata": {
        "colab": {
          "base_uri": "https://localhost:8080/",
          "height": 143
        },
        "id": "RlIDnFfyDVrM",
        "outputId": "09c673f3-9e54-4053-bd0a-a8039cd876b9"
      },
      "execution_count": 20,
      "outputs": [
        {
          "output_type": "execute_result",
          "data": {
            "text/plain": [
              "VotingClassifier(estimators=[('pipe1',\n",
              "                              Pipeline(steps=[('scaler', StandardScaler()),\n",
              "                                              ('gbc',\n",
              "                                               GradientBoostingClassifier(validation_fraction=0.2))])),\n",
              "                             ('pipe2',\n",
              "                              Pipeline(steps=[('scaler', StandardScaler()),\n",
              "                                              ('lgc', LogisticRegression())])),\n",
              "                             ['xgb',\n",
              "                              XGBClassifier(base_score=None, booster=None,\n",
              "                                            callbacks=None,\n",
              "                                            colsample_bylevel=None,\n",
              "                                            colsample_bynode=None,\n",
              "                                            colsample_...\n",
              "                                            importance_type=None,\n",
              "                                            interaction_constraints=None,\n",
              "                                            learning_rate=None, max_bin=None,\n",
              "                                            max_cat_threshold=None,\n",
              "                                            max_cat_to_onehot=None,\n",
              "                                            max_delta_step=None, max_depth=None,\n",
              "                                            max_leaves=None,\n",
              "                                            min_child_weight=None, missing=nan,\n",
              "                                            monotone_constraints=None,\n",
              "                                            multi_strategy=None,\n",
              "                                            n_estimators=10000, n_jobs=None,\n",
              "                                            num_parallel_tree=None,\n",
              "                                            random_state=None, ...)]],\n",
              "                 voting='soft')"
            ],
            "text/html": [
              "<style>#sk-container-id-6 {color: black;background-color: white;}#sk-container-id-6 pre{padding: 0;}#sk-container-id-6 div.sk-toggleable {background-color: white;}#sk-container-id-6 label.sk-toggleable__label {cursor: pointer;display: block;width: 100%;margin-bottom: 0;padding: 0.3em;box-sizing: border-box;text-align: center;}#sk-container-id-6 label.sk-toggleable__label-arrow:before {content: \"▸\";float: left;margin-right: 0.25em;color: #696969;}#sk-container-id-6 label.sk-toggleable__label-arrow:hover:before {color: black;}#sk-container-id-6 div.sk-estimator:hover label.sk-toggleable__label-arrow:before {color: black;}#sk-container-id-6 div.sk-toggleable__content {max-height: 0;max-width: 0;overflow: hidden;text-align: left;background-color: #f0f8ff;}#sk-container-id-6 div.sk-toggleable__content pre {margin: 0.2em;color: black;border-radius: 0.25em;background-color: #f0f8ff;}#sk-container-id-6 input.sk-toggleable__control:checked~div.sk-toggleable__content {max-height: 200px;max-width: 100%;overflow: auto;}#sk-container-id-6 input.sk-toggleable__control:checked~label.sk-toggleable__label-arrow:before {content: \"▾\";}#sk-container-id-6 div.sk-estimator input.sk-toggleable__control:checked~label.sk-toggleable__label {background-color: #d4ebff;}#sk-container-id-6 div.sk-label input.sk-toggleable__control:checked~label.sk-toggleable__label {background-color: #d4ebff;}#sk-container-id-6 input.sk-hidden--visually {border: 0;clip: rect(1px 1px 1px 1px);clip: rect(1px, 1px, 1px, 1px);height: 1px;margin: -1px;overflow: hidden;padding: 0;position: absolute;width: 1px;}#sk-container-id-6 div.sk-estimator {font-family: monospace;background-color: #f0f8ff;border: 1px dotted black;border-radius: 0.25em;box-sizing: border-box;margin-bottom: 0.5em;}#sk-container-id-6 div.sk-estimator:hover {background-color: #d4ebff;}#sk-container-id-6 div.sk-parallel-item::after {content: \"\";width: 100%;border-bottom: 1px solid gray;flex-grow: 1;}#sk-container-id-6 div.sk-label:hover label.sk-toggleable__label {background-color: #d4ebff;}#sk-container-id-6 div.sk-serial::before {content: \"\";position: absolute;border-left: 1px solid gray;box-sizing: border-box;top: 0;bottom: 0;left: 50%;z-index: 0;}#sk-container-id-6 div.sk-serial {display: flex;flex-direction: column;align-items: center;background-color: white;padding-right: 0.2em;padding-left: 0.2em;position: relative;}#sk-container-id-6 div.sk-item {position: relative;z-index: 1;}#sk-container-id-6 div.sk-parallel {display: flex;align-items: stretch;justify-content: center;background-color: white;position: relative;}#sk-container-id-6 div.sk-item::before, #sk-container-id-6 div.sk-parallel-item::before {content: \"\";position: absolute;border-left: 1px solid gray;box-sizing: border-box;top: 0;bottom: 0;left: 50%;z-index: -1;}#sk-container-id-6 div.sk-parallel-item {display: flex;flex-direction: column;z-index: 1;position: relative;background-color: white;}#sk-container-id-6 div.sk-parallel-item:first-child::after {align-self: flex-end;width: 50%;}#sk-container-id-6 div.sk-parallel-item:last-child::after {align-self: flex-start;width: 50%;}#sk-container-id-6 div.sk-parallel-item:only-child::after {width: 0;}#sk-container-id-6 div.sk-dashed-wrapped {border: 1px dashed gray;margin: 0 0.4em 0.5em 0.4em;box-sizing: border-box;padding-bottom: 0.4em;background-color: white;}#sk-container-id-6 div.sk-label label {font-family: monospace;font-weight: bold;display: inline-block;line-height: 1.2em;}#sk-container-id-6 div.sk-label-container {text-align: center;}#sk-container-id-6 div.sk-container {/* jupyter's `normalize.less` sets `[hidden] { display: none; }` but bootstrap.min.css set `[hidden] { display: none !important; }` so we also need the `!important` here to be able to override the default hidden behavior on the sphinx rendered scikit-learn.org. See: https://github.com/scikit-learn/scikit-learn/issues/21755 */display: inline-block !important;position: relative;}#sk-container-id-6 div.sk-text-repr-fallback {display: none;}</style><div id=\"sk-container-id-6\" class=\"sk-top-container\"><div class=\"sk-text-repr-fallback\"><pre>VotingClassifier(estimators=[(&#x27;pipe1&#x27;,\n",
              "                              Pipeline(steps=[(&#x27;scaler&#x27;, StandardScaler()),\n",
              "                                              (&#x27;gbc&#x27;,\n",
              "                                               GradientBoostingClassifier(validation_fraction=0.2))])),\n",
              "                             (&#x27;pipe2&#x27;,\n",
              "                              Pipeline(steps=[(&#x27;scaler&#x27;, StandardScaler()),\n",
              "                                              (&#x27;lgc&#x27;, LogisticRegression())])),\n",
              "                             [&#x27;xgb&#x27;,\n",
              "                              XGBClassifier(base_score=None, booster=None,\n",
              "                                            callbacks=None,\n",
              "                                            colsample_bylevel=None,\n",
              "                                            colsample_bynode=None,\n",
              "                                            colsample_...\n",
              "                                            importance_type=None,\n",
              "                                            interaction_constraints=None,\n",
              "                                            learning_rate=None, max_bin=None,\n",
              "                                            max_cat_threshold=None,\n",
              "                                            max_cat_to_onehot=None,\n",
              "                                            max_delta_step=None, max_depth=None,\n",
              "                                            max_leaves=None,\n",
              "                                            min_child_weight=None, missing=nan,\n",
              "                                            monotone_constraints=None,\n",
              "                                            multi_strategy=None,\n",
              "                                            n_estimators=10000, n_jobs=None,\n",
              "                                            num_parallel_tree=None,\n",
              "                                            random_state=None, ...)]],\n",
              "                 voting=&#x27;soft&#x27;)</pre><b>In a Jupyter environment, please rerun this cell to show the HTML representation or trust the notebook. <br />On GitHub, the HTML representation is unable to render, please try loading this page with nbviewer.org.</b></div><div class=\"sk-container\" hidden><div class=\"sk-item sk-dashed-wrapped\"><div class=\"sk-label-container\"><div class=\"sk-label sk-toggleable\"><input class=\"sk-toggleable__control sk-hidden--visually\" id=\"sk-estimator-id-24\" type=\"checkbox\" ><label for=\"sk-estimator-id-24\" class=\"sk-toggleable__label sk-toggleable__label-arrow\">VotingClassifier</label><div class=\"sk-toggleable__content\"><pre>VotingClassifier(estimators=[(&#x27;pipe1&#x27;,\n",
              "                              Pipeline(steps=[(&#x27;scaler&#x27;, StandardScaler()),\n",
              "                                              (&#x27;gbc&#x27;,\n",
              "                                               GradientBoostingClassifier(validation_fraction=0.2))])),\n",
              "                             (&#x27;pipe2&#x27;,\n",
              "                              Pipeline(steps=[(&#x27;scaler&#x27;, StandardScaler()),\n",
              "                                              (&#x27;lgc&#x27;, LogisticRegression())])),\n",
              "                             [&#x27;xgb&#x27;,\n",
              "                              XGBClassifier(base_score=None, booster=None,\n",
              "                                            callbacks=None,\n",
              "                                            colsample_bylevel=None,\n",
              "                                            colsample_bynode=None,\n",
              "                                            colsample_...\n",
              "                                            importance_type=None,\n",
              "                                            interaction_constraints=None,\n",
              "                                            learning_rate=None, max_bin=None,\n",
              "                                            max_cat_threshold=None,\n",
              "                                            max_cat_to_onehot=None,\n",
              "                                            max_delta_step=None, max_depth=None,\n",
              "                                            max_leaves=None,\n",
              "                                            min_child_weight=None, missing=nan,\n",
              "                                            monotone_constraints=None,\n",
              "                                            multi_strategy=None,\n",
              "                                            n_estimators=10000, n_jobs=None,\n",
              "                                            num_parallel_tree=None,\n",
              "                                            random_state=None, ...)]],\n",
              "                 voting=&#x27;soft&#x27;)</pre></div></div></div><div class=\"sk-parallel\"><div class=\"sk-parallel-item\"><div class=\"sk-item\"><div class=\"sk-label-container\"><div class=\"sk-label sk-toggleable\"><label>pipe1</label></div></div><div class=\"sk-serial\"><div class=\"sk-item\"><div class=\"sk-serial\"><div class=\"sk-item\"><div class=\"sk-estimator sk-toggleable\"><input class=\"sk-toggleable__control sk-hidden--visually\" id=\"sk-estimator-id-25\" type=\"checkbox\" ><label for=\"sk-estimator-id-25\" class=\"sk-toggleable__label sk-toggleable__label-arrow\">StandardScaler</label><div class=\"sk-toggleable__content\"><pre>StandardScaler()</pre></div></div></div><div class=\"sk-item\"><div class=\"sk-estimator sk-toggleable\"><input class=\"sk-toggleable__control sk-hidden--visually\" id=\"sk-estimator-id-26\" type=\"checkbox\" ><label for=\"sk-estimator-id-26\" class=\"sk-toggleable__label sk-toggleable__label-arrow\">GradientBoostingClassifier</label><div class=\"sk-toggleable__content\"><pre>GradientBoostingClassifier(validation_fraction=0.2)</pre></div></div></div></div></div></div></div></div><div class=\"sk-parallel-item\"><div class=\"sk-item\"><div class=\"sk-label-container\"><div class=\"sk-label sk-toggleable\"><label>pipe2</label></div></div><div class=\"sk-serial\"><div class=\"sk-item\"><div class=\"sk-serial\"><div class=\"sk-item\"><div class=\"sk-estimator sk-toggleable\"><input class=\"sk-toggleable__control sk-hidden--visually\" id=\"sk-estimator-id-27\" type=\"checkbox\" ><label for=\"sk-estimator-id-27\" class=\"sk-toggleable__label sk-toggleable__label-arrow\">StandardScaler</label><div class=\"sk-toggleable__content\"><pre>StandardScaler()</pre></div></div></div><div class=\"sk-item\"><div class=\"sk-estimator sk-toggleable\"><input class=\"sk-toggleable__control sk-hidden--visually\" id=\"sk-estimator-id-28\" type=\"checkbox\" ><label for=\"sk-estimator-id-28\" class=\"sk-toggleable__label sk-toggleable__label-arrow\">LogisticRegression</label><div class=\"sk-toggleable__content\"><pre>LogisticRegression()</pre></div></div></div></div></div></div></div></div><div class=\"sk-parallel-item\"><div class=\"sk-item\"><div class=\"sk-label-container\"><div class=\"sk-label sk-toggleable\"><label>xgb</label></div></div><div class=\"sk-serial\"><div class=\"sk-item\"><div class=\"sk-estimator sk-toggleable\"><input class=\"sk-toggleable__control sk-hidden--visually\" id=\"sk-estimator-id-29\" type=\"checkbox\" ><label for=\"sk-estimator-id-29\" class=\"sk-toggleable__label sk-toggleable__label-arrow\">XGBClassifier</label><div class=\"sk-toggleable__content\"><pre>XGBClassifier(base_score=None, booster=None, callbacks=None,\n",
              "              colsample_bylevel=None, colsample_bynode=None,\n",
              "              colsample_bytree=None, device=None, early_stopping_rounds=10,\n",
              "              enable_categorical=False, eval_metric=None, feature_types=None,\n",
              "              gamma=None, grow_policy=None, importance_type=None,\n",
              "              interaction_constraints=None, learning_rate=None, max_bin=None,\n",
              "              max_cat_threshold=None, max_cat_to_onehot=None,\n",
              "              max_delta_step=None, max_depth=None, max_leaves=None,\n",
              "              min_child_weight=None, missing=nan, monotone_constraints=None,\n",
              "              multi_strategy=None, n_estimators=10000, n_jobs=None,\n",
              "              num_parallel_tree=None, random_state=None, ...)</pre></div></div></div></div></div></div></div></div></div></div>"
            ]
          },
          "metadata": {},
          "execution_count": 20
        }
      ]
    },
    {
      "cell_type": "code",
      "source": [
        "type(X_train) == pd.core.frame.DataFrame"
      ],
      "metadata": {
        "colab": {
          "base_uri": "https://localhost:8080/"
        },
        "id": "irmkT88xRgE6",
        "outputId": "78e7a372-bd89-4cab-ad12-5653bb329694"
      },
      "execution_count": 21,
      "outputs": [
        {
          "output_type": "execute_result",
          "data": {
            "text/plain": [
              "True"
            ]
          },
          "metadata": {},
          "execution_count": 21
        }
      ]
    },
    {
      "cell_type": "code",
      "source": [
        "vwrap = VotingClassifierWrapper(\n",
        "    estimators=[\n",
        "        ('pipe1', p1),\n",
        "        ('pipe2', p2),\n",
        "        ('xgb', XGBClassifier(n_estimators=500, early_stopping_rounds=10))\n",
        "        ],\n",
        "    voting='soft')\n",
        "vwrap"
      ],
      "metadata": {
        "colab": {
          "base_uri": "https://localhost:8080/",
          "height": 143
        },
        "id": "6rzAHNjKF5xD",
        "outputId": "f2e6d2df-53bb-49c0-e5b6-51881287a3bb"
      },
      "execution_count": 23,
      "outputs": [
        {
          "output_type": "execute_result",
          "data": {
            "text/plain": [
              "VotingClassifierWrapper(estimators=[('pipe1',\n",
              "                                     Pipeline(steps=[('scaler',\n",
              "                                                      StandardScaler()),\n",
              "                                                     ('gbc',\n",
              "                                                      GradientBoostingClassifier(validation_fraction=0.2))])),\n",
              "                                    ('pipe2',\n",
              "                                     Pipeline(steps=[('scaler',\n",
              "                                                      StandardScaler()),\n",
              "                                                     ('lgc',\n",
              "                                                      LogisticRegression())])),\n",
              "                                    ('xgb',\n",
              "                                     XGBClassifier(base_score=None,\n",
              "                                                   booster=None, callbacks=None,\n",
              "                                                   colsample_bylevel=None,\n",
              "                                                   colsample_bynode=None,\n",
              "                                                   col...\n",
              "                                                   importance_type=None,\n",
              "                                                   interaction_constraints=None,\n",
              "                                                   learning_rate=None,\n",
              "                                                   max_bin=None,\n",
              "                                                   max_cat_threshold=None,\n",
              "                                                   max_cat_to_onehot=None,\n",
              "                                                   max_delta_step=None,\n",
              "                                                   max_depth=None,\n",
              "                                                   max_leaves=None,\n",
              "                                                   min_child_weight=None,\n",
              "                                                   missing=nan,\n",
              "                                                   monotone_constraints=None,\n",
              "                                                   multi_strategy=None,\n",
              "                                                   n_estimators=500,\n",
              "                                                   n_jobs=None,\n",
              "                                                   num_parallel_tree=None,\n",
              "                                                   random_state=None, ...))],\n",
              "                        voting='soft')"
            ],
            "text/html": [
              "<style>#sk-container-id-7 {color: black;background-color: white;}#sk-container-id-7 pre{padding: 0;}#sk-container-id-7 div.sk-toggleable {background-color: white;}#sk-container-id-7 label.sk-toggleable__label {cursor: pointer;display: block;width: 100%;margin-bottom: 0;padding: 0.3em;box-sizing: border-box;text-align: center;}#sk-container-id-7 label.sk-toggleable__label-arrow:before {content: \"▸\";float: left;margin-right: 0.25em;color: #696969;}#sk-container-id-7 label.sk-toggleable__label-arrow:hover:before {color: black;}#sk-container-id-7 div.sk-estimator:hover label.sk-toggleable__label-arrow:before {color: black;}#sk-container-id-7 div.sk-toggleable__content {max-height: 0;max-width: 0;overflow: hidden;text-align: left;background-color: #f0f8ff;}#sk-container-id-7 div.sk-toggleable__content pre {margin: 0.2em;color: black;border-radius: 0.25em;background-color: #f0f8ff;}#sk-container-id-7 input.sk-toggleable__control:checked~div.sk-toggleable__content {max-height: 200px;max-width: 100%;overflow: auto;}#sk-container-id-7 input.sk-toggleable__control:checked~label.sk-toggleable__label-arrow:before {content: \"▾\";}#sk-container-id-7 div.sk-estimator input.sk-toggleable__control:checked~label.sk-toggleable__label {background-color: #d4ebff;}#sk-container-id-7 div.sk-label input.sk-toggleable__control:checked~label.sk-toggleable__label {background-color: #d4ebff;}#sk-container-id-7 input.sk-hidden--visually {border: 0;clip: rect(1px 1px 1px 1px);clip: rect(1px, 1px, 1px, 1px);height: 1px;margin: -1px;overflow: hidden;padding: 0;position: absolute;width: 1px;}#sk-container-id-7 div.sk-estimator {font-family: monospace;background-color: #f0f8ff;border: 1px dotted black;border-radius: 0.25em;box-sizing: border-box;margin-bottom: 0.5em;}#sk-container-id-7 div.sk-estimator:hover {background-color: #d4ebff;}#sk-container-id-7 div.sk-parallel-item::after {content: \"\";width: 100%;border-bottom: 1px solid gray;flex-grow: 1;}#sk-container-id-7 div.sk-label:hover label.sk-toggleable__label {background-color: #d4ebff;}#sk-container-id-7 div.sk-serial::before {content: \"\";position: absolute;border-left: 1px solid gray;box-sizing: border-box;top: 0;bottom: 0;left: 50%;z-index: 0;}#sk-container-id-7 div.sk-serial {display: flex;flex-direction: column;align-items: center;background-color: white;padding-right: 0.2em;padding-left: 0.2em;position: relative;}#sk-container-id-7 div.sk-item {position: relative;z-index: 1;}#sk-container-id-7 div.sk-parallel {display: flex;align-items: stretch;justify-content: center;background-color: white;position: relative;}#sk-container-id-7 div.sk-item::before, #sk-container-id-7 div.sk-parallel-item::before {content: \"\";position: absolute;border-left: 1px solid gray;box-sizing: border-box;top: 0;bottom: 0;left: 50%;z-index: -1;}#sk-container-id-7 div.sk-parallel-item {display: flex;flex-direction: column;z-index: 1;position: relative;background-color: white;}#sk-container-id-7 div.sk-parallel-item:first-child::after {align-self: flex-end;width: 50%;}#sk-container-id-7 div.sk-parallel-item:last-child::after {align-self: flex-start;width: 50%;}#sk-container-id-7 div.sk-parallel-item:only-child::after {width: 0;}#sk-container-id-7 div.sk-dashed-wrapped {border: 1px dashed gray;margin: 0 0.4em 0.5em 0.4em;box-sizing: border-box;padding-bottom: 0.4em;background-color: white;}#sk-container-id-7 div.sk-label label {font-family: monospace;font-weight: bold;display: inline-block;line-height: 1.2em;}#sk-container-id-7 div.sk-label-container {text-align: center;}#sk-container-id-7 div.sk-container {/* jupyter's `normalize.less` sets `[hidden] { display: none; }` but bootstrap.min.css set `[hidden] { display: none !important; }` so we also need the `!important` here to be able to override the default hidden behavior on the sphinx rendered scikit-learn.org. See: https://github.com/scikit-learn/scikit-learn/issues/21755 */display: inline-block !important;position: relative;}#sk-container-id-7 div.sk-text-repr-fallback {display: none;}</style><div id=\"sk-container-id-7\" class=\"sk-top-container\"><div class=\"sk-text-repr-fallback\"><pre>VotingClassifierWrapper(estimators=[(&#x27;pipe1&#x27;,\n",
              "                                     Pipeline(steps=[(&#x27;scaler&#x27;,\n",
              "                                                      StandardScaler()),\n",
              "                                                     (&#x27;gbc&#x27;,\n",
              "                                                      GradientBoostingClassifier(validation_fraction=0.2))])),\n",
              "                                    (&#x27;pipe2&#x27;,\n",
              "                                     Pipeline(steps=[(&#x27;scaler&#x27;,\n",
              "                                                      StandardScaler()),\n",
              "                                                     (&#x27;lgc&#x27;,\n",
              "                                                      LogisticRegression())])),\n",
              "                                    (&#x27;xgb&#x27;,\n",
              "                                     XGBClassifier(base_score=None,\n",
              "                                                   booster=None, callbacks=None,\n",
              "                                                   colsample_bylevel=None,\n",
              "                                                   colsample_bynode=None,\n",
              "                                                   col...\n",
              "                                                   importance_type=None,\n",
              "                                                   interaction_constraints=None,\n",
              "                                                   learning_rate=None,\n",
              "                                                   max_bin=None,\n",
              "                                                   max_cat_threshold=None,\n",
              "                                                   max_cat_to_onehot=None,\n",
              "                                                   max_delta_step=None,\n",
              "                                                   max_depth=None,\n",
              "                                                   max_leaves=None,\n",
              "                                                   min_child_weight=None,\n",
              "                                                   missing=nan,\n",
              "                                                   monotone_constraints=None,\n",
              "                                                   multi_strategy=None,\n",
              "                                                   n_estimators=500,\n",
              "                                                   n_jobs=None,\n",
              "                                                   num_parallel_tree=None,\n",
              "                                                   random_state=None, ...))],\n",
              "                        voting=&#x27;soft&#x27;)</pre><b>In a Jupyter environment, please rerun this cell to show the HTML representation or trust the notebook. <br />On GitHub, the HTML representation is unable to render, please try loading this page with nbviewer.org.</b></div><div class=\"sk-container\" hidden><div class=\"sk-item sk-dashed-wrapped\"><div class=\"sk-label-container\"><div class=\"sk-label sk-toggleable\"><input class=\"sk-toggleable__control sk-hidden--visually\" id=\"sk-estimator-id-30\" type=\"checkbox\" ><label for=\"sk-estimator-id-30\" class=\"sk-toggleable__label sk-toggleable__label-arrow\">VotingClassifierWrapper</label><div class=\"sk-toggleable__content\"><pre>VotingClassifierWrapper(estimators=[(&#x27;pipe1&#x27;,\n",
              "                                     Pipeline(steps=[(&#x27;scaler&#x27;,\n",
              "                                                      StandardScaler()),\n",
              "                                                     (&#x27;gbc&#x27;,\n",
              "                                                      GradientBoostingClassifier(validation_fraction=0.2))])),\n",
              "                                    (&#x27;pipe2&#x27;,\n",
              "                                     Pipeline(steps=[(&#x27;scaler&#x27;,\n",
              "                                                      StandardScaler()),\n",
              "                                                     (&#x27;lgc&#x27;,\n",
              "                                                      LogisticRegression())])),\n",
              "                                    (&#x27;xgb&#x27;,\n",
              "                                     XGBClassifier(base_score=None,\n",
              "                                                   booster=None, callbacks=None,\n",
              "                                                   colsample_bylevel=None,\n",
              "                                                   colsample_bynode=None,\n",
              "                                                   col...\n",
              "                                                   importance_type=None,\n",
              "                                                   interaction_constraints=None,\n",
              "                                                   learning_rate=None,\n",
              "                                                   max_bin=None,\n",
              "                                                   max_cat_threshold=None,\n",
              "                                                   max_cat_to_onehot=None,\n",
              "                                                   max_delta_step=None,\n",
              "                                                   max_depth=None,\n",
              "                                                   max_leaves=None,\n",
              "                                                   min_child_weight=None,\n",
              "                                                   missing=nan,\n",
              "                                                   monotone_constraints=None,\n",
              "                                                   multi_strategy=None,\n",
              "                                                   n_estimators=500,\n",
              "                                                   n_jobs=None,\n",
              "                                                   num_parallel_tree=None,\n",
              "                                                   random_state=None, ...))],\n",
              "                        voting=&#x27;soft&#x27;)</pre></div></div></div><div class=\"sk-parallel\"><div class=\"sk-parallel-item\"><div class=\"sk-item\"><div class=\"sk-label-container\"><div class=\"sk-label sk-toggleable\"><label>pipe1</label></div></div><div class=\"sk-serial\"><div class=\"sk-item\"><div class=\"sk-serial\"><div class=\"sk-item\"><div class=\"sk-estimator sk-toggleable\"><input class=\"sk-toggleable__control sk-hidden--visually\" id=\"sk-estimator-id-31\" type=\"checkbox\" ><label for=\"sk-estimator-id-31\" class=\"sk-toggleable__label sk-toggleable__label-arrow\">StandardScaler</label><div class=\"sk-toggleable__content\"><pre>StandardScaler()</pre></div></div></div><div class=\"sk-item\"><div class=\"sk-estimator sk-toggleable\"><input class=\"sk-toggleable__control sk-hidden--visually\" id=\"sk-estimator-id-32\" type=\"checkbox\" ><label for=\"sk-estimator-id-32\" class=\"sk-toggleable__label sk-toggleable__label-arrow\">GradientBoostingClassifier</label><div class=\"sk-toggleable__content\"><pre>GradientBoostingClassifier(validation_fraction=0.2)</pre></div></div></div></div></div></div></div></div><div class=\"sk-parallel-item\"><div class=\"sk-item\"><div class=\"sk-label-container\"><div class=\"sk-label sk-toggleable\"><label>pipe2</label></div></div><div class=\"sk-serial\"><div class=\"sk-item\"><div class=\"sk-serial\"><div class=\"sk-item\"><div class=\"sk-estimator sk-toggleable\"><input class=\"sk-toggleable__control sk-hidden--visually\" id=\"sk-estimator-id-33\" type=\"checkbox\" ><label for=\"sk-estimator-id-33\" class=\"sk-toggleable__label sk-toggleable__label-arrow\">StandardScaler</label><div class=\"sk-toggleable__content\"><pre>StandardScaler()</pre></div></div></div><div class=\"sk-item\"><div class=\"sk-estimator sk-toggleable\"><input class=\"sk-toggleable__control sk-hidden--visually\" id=\"sk-estimator-id-34\" type=\"checkbox\" ><label for=\"sk-estimator-id-34\" class=\"sk-toggleable__label sk-toggleable__label-arrow\">LogisticRegression</label><div class=\"sk-toggleable__content\"><pre>LogisticRegression()</pre></div></div></div></div></div></div></div></div><div class=\"sk-parallel-item\"><div class=\"sk-item\"><div class=\"sk-label-container\"><div class=\"sk-label sk-toggleable\"><label>xgb</label></div></div><div class=\"sk-serial\"><div class=\"sk-item\"><div class=\"sk-estimator sk-toggleable\"><input class=\"sk-toggleable__control sk-hidden--visually\" id=\"sk-estimator-id-35\" type=\"checkbox\" ><label for=\"sk-estimator-id-35\" class=\"sk-toggleable__label sk-toggleable__label-arrow\">XGBClassifier</label><div class=\"sk-toggleable__content\"><pre>XGBClassifier(base_score=None, booster=None, callbacks=None,\n",
              "              colsample_bylevel=None, colsample_bynode=None,\n",
              "              colsample_bytree=None, device=None, early_stopping_rounds=10,\n",
              "              enable_categorical=False, eval_metric=None, feature_types=None,\n",
              "              gamma=None, grow_policy=None, importance_type=None,\n",
              "              interaction_constraints=None, learning_rate=None, max_bin=None,\n",
              "              max_cat_threshold=None, max_cat_to_onehot=None,\n",
              "              max_delta_step=None, max_depth=None, max_leaves=None,\n",
              "              min_child_weight=None, missing=nan, monotone_constraints=None,\n",
              "              multi_strategy=None, n_estimators=500, n_jobs=None,\n",
              "              num_parallel_tree=None, random_state=None, ...)</pre></div></div></div></div></div></div></div></div></div></div>"
            ]
          },
          "metadata": {},
          "execution_count": 23
        }
      ]
    },
    {
      "cell_type": "code",
      "source": [
        "vwrap.fit(X_train, y_train, eval_set=[(X_train, y_train), (X_test, y_test)])"
      ],
      "metadata": {
        "colab": {
          "base_uri": "https://localhost:8080/",
          "height": 594
        },
        "id": "jmR3IeF4MqYt",
        "outputId": "f6ea51cb-6005-4cda-a969-bbb4711f4e51"
      },
      "execution_count": 24,
      "outputs": [
        {
          "output_type": "stream",
          "name": "stdout",
          "text": [
            "[0]\tvalidation_0-logloss:0.47369\tvalidation_1-logloss:0.48629\n",
            "[1]\tvalidation_0-logloss:0.35799\tvalidation_1-logloss:0.38499\n",
            "[2]\tvalidation_0-logloss:0.27593\tvalidation_1-logloss:0.32306\n",
            "[3]\tvalidation_0-logloss:0.21821\tvalidation_1-logloss:0.26930\n",
            "[4]\tvalidation_0-logloss:0.17378\tvalidation_1-logloss:0.22892\n",
            "[5]\tvalidation_0-logloss:0.14589\tvalidation_1-logloss:0.20783\n",
            "[6]\tvalidation_0-logloss:0.12209\tvalidation_1-logloss:0.19011\n",
            "[7]\tvalidation_0-logloss:0.10632\tvalidation_1-logloss:0.17637\n",
            "[8]\tvalidation_0-logloss:0.09271\tvalidation_1-logloss:0.16575\n",
            "[9]\tvalidation_0-logloss:0.08098\tvalidation_1-logloss:0.15818\n",
            "[10]\tvalidation_0-logloss:0.07135\tvalidation_1-logloss:0.15290\n",
            "[11]\tvalidation_0-logloss:0.06396\tvalidation_1-logloss:0.14793\n",
            "[12]\tvalidation_0-logloss:0.05739\tvalidation_1-logloss:0.13669\n",
            "[13]\tvalidation_0-logloss:0.05237\tvalidation_1-logloss:0.13677\n",
            "[14]\tvalidation_0-logloss:0.04794\tvalidation_1-logloss:0.12918\n",
            "[15]\tvalidation_0-logloss:0.04450\tvalidation_1-logloss:0.12895\n",
            "[16]\tvalidation_0-logloss:0.04139\tvalidation_1-logloss:0.12327\n",
            "[17]\tvalidation_0-logloss:0.03919\tvalidation_1-logloss:0.12432\n",
            "[18]\tvalidation_0-logloss:0.03783\tvalidation_1-logloss:0.12381\n",
            "[19]\tvalidation_0-logloss:0.03594\tvalidation_1-logloss:0.12399\n",
            "[20]\tvalidation_0-logloss:0.03495\tvalidation_1-logloss:0.12383\n",
            "[21]\tvalidation_0-logloss:0.03393\tvalidation_1-logloss:0.12511\n",
            "[22]\tvalidation_0-logloss:0.03320\tvalidation_1-logloss:0.12522\n",
            "[23]\tvalidation_0-logloss:0.03243\tvalidation_1-logloss:0.12641\n",
            "[24]\tvalidation_0-logloss:0.03176\tvalidation_1-logloss:0.12446\n",
            "[25]\tvalidation_0-logloss:0.03119\tvalidation_1-logloss:0.12572\n"
          ]
        },
        {
          "output_type": "execute_result",
          "data": {
            "text/plain": [
              "VotingClassifierWrapper(estimators=[('pipe1',\n",
              "                                     Pipeline(steps=[('scaler',\n",
              "                                                      StandardScaler()),\n",
              "                                                     ('gbc',\n",
              "                                                      GradientBoostingClassifier(validation_fraction=0.2))])),\n",
              "                                    ('pipe2',\n",
              "                                     Pipeline(steps=[('scaler',\n",
              "                                                      StandardScaler()),\n",
              "                                                     ('lgc',\n",
              "                                                      LogisticRegression())])),\n",
              "                                    ('xgb',\n",
              "                                     XGBClassifier(base_score=None,\n",
              "                                                   booster=None, callbacks=None,\n",
              "                                                   colsample_bylevel=None,\n",
              "                                                   colsample_bynode=None,\n",
              "                                                   col...\n",
              "                                                   importance_type=None,\n",
              "                                                   interaction_constraints=None,\n",
              "                                                   learning_rate=None,\n",
              "                                                   max_bin=None,\n",
              "                                                   max_cat_threshold=None,\n",
              "                                                   max_cat_to_onehot=None,\n",
              "                                                   max_delta_step=None,\n",
              "                                                   max_depth=None,\n",
              "                                                   max_leaves=None,\n",
              "                                                   min_child_weight=None,\n",
              "                                                   missing=nan,\n",
              "                                                   monotone_constraints=None,\n",
              "                                                   multi_strategy=None,\n",
              "                                                   n_estimators=500,\n",
              "                                                   n_jobs=None,\n",
              "                                                   num_parallel_tree=None,\n",
              "                                                   random_state=None, ...))],\n",
              "                        voting='soft')"
            ],
            "text/html": [
              "<style>#sk-container-id-8 {color: black;background-color: white;}#sk-container-id-8 pre{padding: 0;}#sk-container-id-8 div.sk-toggleable {background-color: white;}#sk-container-id-8 label.sk-toggleable__label {cursor: pointer;display: block;width: 100%;margin-bottom: 0;padding: 0.3em;box-sizing: border-box;text-align: center;}#sk-container-id-8 label.sk-toggleable__label-arrow:before {content: \"▸\";float: left;margin-right: 0.25em;color: #696969;}#sk-container-id-8 label.sk-toggleable__label-arrow:hover:before {color: black;}#sk-container-id-8 div.sk-estimator:hover label.sk-toggleable__label-arrow:before {color: black;}#sk-container-id-8 div.sk-toggleable__content {max-height: 0;max-width: 0;overflow: hidden;text-align: left;background-color: #f0f8ff;}#sk-container-id-8 div.sk-toggleable__content pre {margin: 0.2em;color: black;border-radius: 0.25em;background-color: #f0f8ff;}#sk-container-id-8 input.sk-toggleable__control:checked~div.sk-toggleable__content {max-height: 200px;max-width: 100%;overflow: auto;}#sk-container-id-8 input.sk-toggleable__control:checked~label.sk-toggleable__label-arrow:before {content: \"▾\";}#sk-container-id-8 div.sk-estimator input.sk-toggleable__control:checked~label.sk-toggleable__label {background-color: #d4ebff;}#sk-container-id-8 div.sk-label input.sk-toggleable__control:checked~label.sk-toggleable__label {background-color: #d4ebff;}#sk-container-id-8 input.sk-hidden--visually {border: 0;clip: rect(1px 1px 1px 1px);clip: rect(1px, 1px, 1px, 1px);height: 1px;margin: -1px;overflow: hidden;padding: 0;position: absolute;width: 1px;}#sk-container-id-8 div.sk-estimator {font-family: monospace;background-color: #f0f8ff;border: 1px dotted black;border-radius: 0.25em;box-sizing: border-box;margin-bottom: 0.5em;}#sk-container-id-8 div.sk-estimator:hover {background-color: #d4ebff;}#sk-container-id-8 div.sk-parallel-item::after {content: \"\";width: 100%;border-bottom: 1px solid gray;flex-grow: 1;}#sk-container-id-8 div.sk-label:hover label.sk-toggleable__label {background-color: #d4ebff;}#sk-container-id-8 div.sk-serial::before {content: \"\";position: absolute;border-left: 1px solid gray;box-sizing: border-box;top: 0;bottom: 0;left: 50%;z-index: 0;}#sk-container-id-8 div.sk-serial {display: flex;flex-direction: column;align-items: center;background-color: white;padding-right: 0.2em;padding-left: 0.2em;position: relative;}#sk-container-id-8 div.sk-item {position: relative;z-index: 1;}#sk-container-id-8 div.sk-parallel {display: flex;align-items: stretch;justify-content: center;background-color: white;position: relative;}#sk-container-id-8 div.sk-item::before, #sk-container-id-8 div.sk-parallel-item::before {content: \"\";position: absolute;border-left: 1px solid gray;box-sizing: border-box;top: 0;bottom: 0;left: 50%;z-index: -1;}#sk-container-id-8 div.sk-parallel-item {display: flex;flex-direction: column;z-index: 1;position: relative;background-color: white;}#sk-container-id-8 div.sk-parallel-item:first-child::after {align-self: flex-end;width: 50%;}#sk-container-id-8 div.sk-parallel-item:last-child::after {align-self: flex-start;width: 50%;}#sk-container-id-8 div.sk-parallel-item:only-child::after {width: 0;}#sk-container-id-8 div.sk-dashed-wrapped {border: 1px dashed gray;margin: 0 0.4em 0.5em 0.4em;box-sizing: border-box;padding-bottom: 0.4em;background-color: white;}#sk-container-id-8 div.sk-label label {font-family: monospace;font-weight: bold;display: inline-block;line-height: 1.2em;}#sk-container-id-8 div.sk-label-container {text-align: center;}#sk-container-id-8 div.sk-container {/* jupyter's `normalize.less` sets `[hidden] { display: none; }` but bootstrap.min.css set `[hidden] { display: none !important; }` so we also need the `!important` here to be able to override the default hidden behavior on the sphinx rendered scikit-learn.org. See: https://github.com/scikit-learn/scikit-learn/issues/21755 */display: inline-block !important;position: relative;}#sk-container-id-8 div.sk-text-repr-fallback {display: none;}</style><div id=\"sk-container-id-8\" class=\"sk-top-container\"><div class=\"sk-text-repr-fallback\"><pre>VotingClassifierWrapper(estimators=[(&#x27;pipe1&#x27;,\n",
              "                                     Pipeline(steps=[(&#x27;scaler&#x27;,\n",
              "                                                      StandardScaler()),\n",
              "                                                     (&#x27;gbc&#x27;,\n",
              "                                                      GradientBoostingClassifier(validation_fraction=0.2))])),\n",
              "                                    (&#x27;pipe2&#x27;,\n",
              "                                     Pipeline(steps=[(&#x27;scaler&#x27;,\n",
              "                                                      StandardScaler()),\n",
              "                                                     (&#x27;lgc&#x27;,\n",
              "                                                      LogisticRegression())])),\n",
              "                                    (&#x27;xgb&#x27;,\n",
              "                                     XGBClassifier(base_score=None,\n",
              "                                                   booster=None, callbacks=None,\n",
              "                                                   colsample_bylevel=None,\n",
              "                                                   colsample_bynode=None,\n",
              "                                                   col...\n",
              "                                                   importance_type=None,\n",
              "                                                   interaction_constraints=None,\n",
              "                                                   learning_rate=None,\n",
              "                                                   max_bin=None,\n",
              "                                                   max_cat_threshold=None,\n",
              "                                                   max_cat_to_onehot=None,\n",
              "                                                   max_delta_step=None,\n",
              "                                                   max_depth=None,\n",
              "                                                   max_leaves=None,\n",
              "                                                   min_child_weight=None,\n",
              "                                                   missing=nan,\n",
              "                                                   monotone_constraints=None,\n",
              "                                                   multi_strategy=None,\n",
              "                                                   n_estimators=500,\n",
              "                                                   n_jobs=None,\n",
              "                                                   num_parallel_tree=None,\n",
              "                                                   random_state=None, ...))],\n",
              "                        voting=&#x27;soft&#x27;)</pre><b>In a Jupyter environment, please rerun this cell to show the HTML representation or trust the notebook. <br />On GitHub, the HTML representation is unable to render, please try loading this page with nbviewer.org.</b></div><div class=\"sk-container\" hidden><div class=\"sk-item sk-dashed-wrapped\"><div class=\"sk-label-container\"><div class=\"sk-label sk-toggleable\"><input class=\"sk-toggleable__control sk-hidden--visually\" id=\"sk-estimator-id-36\" type=\"checkbox\" ><label for=\"sk-estimator-id-36\" class=\"sk-toggleable__label sk-toggleable__label-arrow\">VotingClassifierWrapper</label><div class=\"sk-toggleable__content\"><pre>VotingClassifierWrapper(estimators=[(&#x27;pipe1&#x27;,\n",
              "                                     Pipeline(steps=[(&#x27;scaler&#x27;,\n",
              "                                                      StandardScaler()),\n",
              "                                                     (&#x27;gbc&#x27;,\n",
              "                                                      GradientBoostingClassifier(validation_fraction=0.2))])),\n",
              "                                    (&#x27;pipe2&#x27;,\n",
              "                                     Pipeline(steps=[(&#x27;scaler&#x27;,\n",
              "                                                      StandardScaler()),\n",
              "                                                     (&#x27;lgc&#x27;,\n",
              "                                                      LogisticRegression())])),\n",
              "                                    (&#x27;xgb&#x27;,\n",
              "                                     XGBClassifier(base_score=None,\n",
              "                                                   booster=None, callbacks=None,\n",
              "                                                   colsample_bylevel=None,\n",
              "                                                   colsample_bynode=None,\n",
              "                                                   col...\n",
              "                                                   importance_type=None,\n",
              "                                                   interaction_constraints=None,\n",
              "                                                   learning_rate=None,\n",
              "                                                   max_bin=None,\n",
              "                                                   max_cat_threshold=None,\n",
              "                                                   max_cat_to_onehot=None,\n",
              "                                                   max_delta_step=None,\n",
              "                                                   max_depth=None,\n",
              "                                                   max_leaves=None,\n",
              "                                                   min_child_weight=None,\n",
              "                                                   missing=nan,\n",
              "                                                   monotone_constraints=None,\n",
              "                                                   multi_strategy=None,\n",
              "                                                   n_estimators=500,\n",
              "                                                   n_jobs=None,\n",
              "                                                   num_parallel_tree=None,\n",
              "                                                   random_state=None, ...))],\n",
              "                        voting=&#x27;soft&#x27;)</pre></div></div></div><div class=\"sk-parallel\"><div class=\"sk-parallel-item\"><div class=\"sk-item\"><div class=\"sk-label-container\"><div class=\"sk-label sk-toggleable\"><label>pipe1</label></div></div><div class=\"sk-serial\"><div class=\"sk-item\"><div class=\"sk-serial\"><div class=\"sk-item\"><div class=\"sk-estimator sk-toggleable\"><input class=\"sk-toggleable__control sk-hidden--visually\" id=\"sk-estimator-id-37\" type=\"checkbox\" ><label for=\"sk-estimator-id-37\" class=\"sk-toggleable__label sk-toggleable__label-arrow\">StandardScaler</label><div class=\"sk-toggleable__content\"><pre>StandardScaler()</pre></div></div></div><div class=\"sk-item\"><div class=\"sk-estimator sk-toggleable\"><input class=\"sk-toggleable__control sk-hidden--visually\" id=\"sk-estimator-id-38\" type=\"checkbox\" ><label for=\"sk-estimator-id-38\" class=\"sk-toggleable__label sk-toggleable__label-arrow\">GradientBoostingClassifier</label><div class=\"sk-toggleable__content\"><pre>GradientBoostingClassifier(validation_fraction=0.2)</pre></div></div></div></div></div></div></div></div><div class=\"sk-parallel-item\"><div class=\"sk-item\"><div class=\"sk-label-container\"><div class=\"sk-label sk-toggleable\"><label>pipe2</label></div></div><div class=\"sk-serial\"><div class=\"sk-item\"><div class=\"sk-serial\"><div class=\"sk-item\"><div class=\"sk-estimator sk-toggleable\"><input class=\"sk-toggleable__control sk-hidden--visually\" id=\"sk-estimator-id-39\" type=\"checkbox\" ><label for=\"sk-estimator-id-39\" class=\"sk-toggleable__label sk-toggleable__label-arrow\">StandardScaler</label><div class=\"sk-toggleable__content\"><pre>StandardScaler()</pre></div></div></div><div class=\"sk-item\"><div class=\"sk-estimator sk-toggleable\"><input class=\"sk-toggleable__control sk-hidden--visually\" id=\"sk-estimator-id-40\" type=\"checkbox\" ><label for=\"sk-estimator-id-40\" class=\"sk-toggleable__label sk-toggleable__label-arrow\">LogisticRegression</label><div class=\"sk-toggleable__content\"><pre>LogisticRegression()</pre></div></div></div></div></div></div></div></div><div class=\"sk-parallel-item\"><div class=\"sk-item\"><div class=\"sk-label-container\"><div class=\"sk-label sk-toggleable\"><label>xgb</label></div></div><div class=\"sk-serial\"><div class=\"sk-item\"><div class=\"sk-estimator sk-toggleable\"><input class=\"sk-toggleable__control sk-hidden--visually\" id=\"sk-estimator-id-41\" type=\"checkbox\" ><label for=\"sk-estimator-id-41\" class=\"sk-toggleable__label sk-toggleable__label-arrow\">XGBClassifier</label><div class=\"sk-toggleable__content\"><pre>XGBClassifier(base_score=None, booster=None, callbacks=None,\n",
              "              colsample_bylevel=None, colsample_bynode=None,\n",
              "              colsample_bytree=None, device=None, early_stopping_rounds=10,\n",
              "              enable_categorical=False, eval_metric=None, feature_types=None,\n",
              "              gamma=None, grow_policy=None, importance_type=None,\n",
              "              interaction_constraints=None, learning_rate=None, max_bin=None,\n",
              "              max_cat_threshold=None, max_cat_to_onehot=None,\n",
              "              max_delta_step=None, max_depth=None, max_leaves=None,\n",
              "              min_child_weight=None, missing=nan, monotone_constraints=None,\n",
              "              multi_strategy=None, n_estimators=500, n_jobs=None,\n",
              "              num_parallel_tree=None, random_state=None, ...)</pre></div></div></div></div></div></div></div></div></div></div>"
            ]
          },
          "metadata": {},
          "execution_count": 24
        }
      ]
    },
    {
      "cell_type": "code",
      "source": [
        "pickle.dump(vwrap, open('./test.pkl', 'wb'))"
      ],
      "metadata": {
        "id": "Qk47f0tqTkMa"
      },
      "execution_count": 25,
      "outputs": []
    },
    {
      "cell_type": "code",
      "source": [
        "p = pickle.load(open('./test.pkl', 'rb'))\n",
        "p"
      ],
      "metadata": {
        "colab": {
          "base_uri": "https://localhost:8080/",
          "height": 143
        },
        "id": "PUw29gv6TvM4",
        "outputId": "2d69ea5e-ffc3-472f-9837-f5f79a866658"
      },
      "execution_count": 26,
      "outputs": [
        {
          "output_type": "execute_result",
          "data": {
            "text/plain": [
              "VotingClassifierWrapper(estimators=[('pipe1',\n",
              "                                     Pipeline(steps=[('scaler',\n",
              "                                                      StandardScaler()),\n",
              "                                                     ('gbc',\n",
              "                                                      GradientBoostingClassifier(validation_fraction=0.2))])),\n",
              "                                    ('pipe2',\n",
              "                                     Pipeline(steps=[('scaler',\n",
              "                                                      StandardScaler()),\n",
              "                                                     ('lgc',\n",
              "                                                      LogisticRegression())])),\n",
              "                                    ('xgb',\n",
              "                                     XGBClassifier(base_score=None,\n",
              "                                                   booster=None, callbacks=None,\n",
              "                                                   colsample_bylevel=None,\n",
              "                                                   colsample_bynode=None,\n",
              "                                                   col...\n",
              "                                                   importance_type=None,\n",
              "                                                   interaction_constraints=None,\n",
              "                                                   learning_rate=None,\n",
              "                                                   max_bin=None,\n",
              "                                                   max_cat_threshold=None,\n",
              "                                                   max_cat_to_onehot=None,\n",
              "                                                   max_delta_step=None,\n",
              "                                                   max_depth=None,\n",
              "                                                   max_leaves=None,\n",
              "                                                   min_child_weight=None,\n",
              "                                                   missing=nan,\n",
              "                                                   monotone_constraints=None,\n",
              "                                                   multi_strategy=None,\n",
              "                                                   n_estimators=500,\n",
              "                                                   n_jobs=None,\n",
              "                                                   num_parallel_tree=None,\n",
              "                                                   random_state=None, ...))],\n",
              "                        voting='soft')"
            ],
            "text/html": [
              "<style>#sk-container-id-9 {color: black;background-color: white;}#sk-container-id-9 pre{padding: 0;}#sk-container-id-9 div.sk-toggleable {background-color: white;}#sk-container-id-9 label.sk-toggleable__label {cursor: pointer;display: block;width: 100%;margin-bottom: 0;padding: 0.3em;box-sizing: border-box;text-align: center;}#sk-container-id-9 label.sk-toggleable__label-arrow:before {content: \"▸\";float: left;margin-right: 0.25em;color: #696969;}#sk-container-id-9 label.sk-toggleable__label-arrow:hover:before {color: black;}#sk-container-id-9 div.sk-estimator:hover label.sk-toggleable__label-arrow:before {color: black;}#sk-container-id-9 div.sk-toggleable__content {max-height: 0;max-width: 0;overflow: hidden;text-align: left;background-color: #f0f8ff;}#sk-container-id-9 div.sk-toggleable__content pre {margin: 0.2em;color: black;border-radius: 0.25em;background-color: #f0f8ff;}#sk-container-id-9 input.sk-toggleable__control:checked~div.sk-toggleable__content {max-height: 200px;max-width: 100%;overflow: auto;}#sk-container-id-9 input.sk-toggleable__control:checked~label.sk-toggleable__label-arrow:before {content: \"▾\";}#sk-container-id-9 div.sk-estimator input.sk-toggleable__control:checked~label.sk-toggleable__label {background-color: #d4ebff;}#sk-container-id-9 div.sk-label input.sk-toggleable__control:checked~label.sk-toggleable__label {background-color: #d4ebff;}#sk-container-id-9 input.sk-hidden--visually {border: 0;clip: rect(1px 1px 1px 1px);clip: rect(1px, 1px, 1px, 1px);height: 1px;margin: -1px;overflow: hidden;padding: 0;position: absolute;width: 1px;}#sk-container-id-9 div.sk-estimator {font-family: monospace;background-color: #f0f8ff;border: 1px dotted black;border-radius: 0.25em;box-sizing: border-box;margin-bottom: 0.5em;}#sk-container-id-9 div.sk-estimator:hover {background-color: #d4ebff;}#sk-container-id-9 div.sk-parallel-item::after {content: \"\";width: 100%;border-bottom: 1px solid gray;flex-grow: 1;}#sk-container-id-9 div.sk-label:hover label.sk-toggleable__label {background-color: #d4ebff;}#sk-container-id-9 div.sk-serial::before {content: \"\";position: absolute;border-left: 1px solid gray;box-sizing: border-box;top: 0;bottom: 0;left: 50%;z-index: 0;}#sk-container-id-9 div.sk-serial {display: flex;flex-direction: column;align-items: center;background-color: white;padding-right: 0.2em;padding-left: 0.2em;position: relative;}#sk-container-id-9 div.sk-item {position: relative;z-index: 1;}#sk-container-id-9 div.sk-parallel {display: flex;align-items: stretch;justify-content: center;background-color: white;position: relative;}#sk-container-id-9 div.sk-item::before, #sk-container-id-9 div.sk-parallel-item::before {content: \"\";position: absolute;border-left: 1px solid gray;box-sizing: border-box;top: 0;bottom: 0;left: 50%;z-index: -1;}#sk-container-id-9 div.sk-parallel-item {display: flex;flex-direction: column;z-index: 1;position: relative;background-color: white;}#sk-container-id-9 div.sk-parallel-item:first-child::after {align-self: flex-end;width: 50%;}#sk-container-id-9 div.sk-parallel-item:last-child::after {align-self: flex-start;width: 50%;}#sk-container-id-9 div.sk-parallel-item:only-child::after {width: 0;}#sk-container-id-9 div.sk-dashed-wrapped {border: 1px dashed gray;margin: 0 0.4em 0.5em 0.4em;box-sizing: border-box;padding-bottom: 0.4em;background-color: white;}#sk-container-id-9 div.sk-label label {font-family: monospace;font-weight: bold;display: inline-block;line-height: 1.2em;}#sk-container-id-9 div.sk-label-container {text-align: center;}#sk-container-id-9 div.sk-container {/* jupyter's `normalize.less` sets `[hidden] { display: none; }` but bootstrap.min.css set `[hidden] { display: none !important; }` so we also need the `!important` here to be able to override the default hidden behavior on the sphinx rendered scikit-learn.org. See: https://github.com/scikit-learn/scikit-learn/issues/21755 */display: inline-block !important;position: relative;}#sk-container-id-9 div.sk-text-repr-fallback {display: none;}</style><div id=\"sk-container-id-9\" class=\"sk-top-container\"><div class=\"sk-text-repr-fallback\"><pre>VotingClassifierWrapper(estimators=[(&#x27;pipe1&#x27;,\n",
              "                                     Pipeline(steps=[(&#x27;scaler&#x27;,\n",
              "                                                      StandardScaler()),\n",
              "                                                     (&#x27;gbc&#x27;,\n",
              "                                                      GradientBoostingClassifier(validation_fraction=0.2))])),\n",
              "                                    (&#x27;pipe2&#x27;,\n",
              "                                     Pipeline(steps=[(&#x27;scaler&#x27;,\n",
              "                                                      StandardScaler()),\n",
              "                                                     (&#x27;lgc&#x27;,\n",
              "                                                      LogisticRegression())])),\n",
              "                                    (&#x27;xgb&#x27;,\n",
              "                                     XGBClassifier(base_score=None,\n",
              "                                                   booster=None, callbacks=None,\n",
              "                                                   colsample_bylevel=None,\n",
              "                                                   colsample_bynode=None,\n",
              "                                                   col...\n",
              "                                                   importance_type=None,\n",
              "                                                   interaction_constraints=None,\n",
              "                                                   learning_rate=None,\n",
              "                                                   max_bin=None,\n",
              "                                                   max_cat_threshold=None,\n",
              "                                                   max_cat_to_onehot=None,\n",
              "                                                   max_delta_step=None,\n",
              "                                                   max_depth=None,\n",
              "                                                   max_leaves=None,\n",
              "                                                   min_child_weight=None,\n",
              "                                                   missing=nan,\n",
              "                                                   monotone_constraints=None,\n",
              "                                                   multi_strategy=None,\n",
              "                                                   n_estimators=500,\n",
              "                                                   n_jobs=None,\n",
              "                                                   num_parallel_tree=None,\n",
              "                                                   random_state=None, ...))],\n",
              "                        voting=&#x27;soft&#x27;)</pre><b>In a Jupyter environment, please rerun this cell to show the HTML representation or trust the notebook. <br />On GitHub, the HTML representation is unable to render, please try loading this page with nbviewer.org.</b></div><div class=\"sk-container\" hidden><div class=\"sk-item sk-dashed-wrapped\"><div class=\"sk-label-container\"><div class=\"sk-label sk-toggleable\"><input class=\"sk-toggleable__control sk-hidden--visually\" id=\"sk-estimator-id-42\" type=\"checkbox\" ><label for=\"sk-estimator-id-42\" class=\"sk-toggleable__label sk-toggleable__label-arrow\">VotingClassifierWrapper</label><div class=\"sk-toggleable__content\"><pre>VotingClassifierWrapper(estimators=[(&#x27;pipe1&#x27;,\n",
              "                                     Pipeline(steps=[(&#x27;scaler&#x27;,\n",
              "                                                      StandardScaler()),\n",
              "                                                     (&#x27;gbc&#x27;,\n",
              "                                                      GradientBoostingClassifier(validation_fraction=0.2))])),\n",
              "                                    (&#x27;pipe2&#x27;,\n",
              "                                     Pipeline(steps=[(&#x27;scaler&#x27;,\n",
              "                                                      StandardScaler()),\n",
              "                                                     (&#x27;lgc&#x27;,\n",
              "                                                      LogisticRegression())])),\n",
              "                                    (&#x27;xgb&#x27;,\n",
              "                                     XGBClassifier(base_score=None,\n",
              "                                                   booster=None, callbacks=None,\n",
              "                                                   colsample_bylevel=None,\n",
              "                                                   colsample_bynode=None,\n",
              "                                                   col...\n",
              "                                                   importance_type=None,\n",
              "                                                   interaction_constraints=None,\n",
              "                                                   learning_rate=None,\n",
              "                                                   max_bin=None,\n",
              "                                                   max_cat_threshold=None,\n",
              "                                                   max_cat_to_onehot=None,\n",
              "                                                   max_delta_step=None,\n",
              "                                                   max_depth=None,\n",
              "                                                   max_leaves=None,\n",
              "                                                   min_child_weight=None,\n",
              "                                                   missing=nan,\n",
              "                                                   monotone_constraints=None,\n",
              "                                                   multi_strategy=None,\n",
              "                                                   n_estimators=500,\n",
              "                                                   n_jobs=None,\n",
              "                                                   num_parallel_tree=None,\n",
              "                                                   random_state=None, ...))],\n",
              "                        voting=&#x27;soft&#x27;)</pre></div></div></div><div class=\"sk-parallel\"><div class=\"sk-parallel-item\"><div class=\"sk-item\"><div class=\"sk-label-container\"><div class=\"sk-label sk-toggleable\"><label>pipe1</label></div></div><div class=\"sk-serial\"><div class=\"sk-item\"><div class=\"sk-serial\"><div class=\"sk-item\"><div class=\"sk-estimator sk-toggleable\"><input class=\"sk-toggleable__control sk-hidden--visually\" id=\"sk-estimator-id-43\" type=\"checkbox\" ><label for=\"sk-estimator-id-43\" class=\"sk-toggleable__label sk-toggleable__label-arrow\">StandardScaler</label><div class=\"sk-toggleable__content\"><pre>StandardScaler()</pre></div></div></div><div class=\"sk-item\"><div class=\"sk-estimator sk-toggleable\"><input class=\"sk-toggleable__control sk-hidden--visually\" id=\"sk-estimator-id-44\" type=\"checkbox\" ><label for=\"sk-estimator-id-44\" class=\"sk-toggleable__label sk-toggleable__label-arrow\">GradientBoostingClassifier</label><div class=\"sk-toggleable__content\"><pre>GradientBoostingClassifier(validation_fraction=0.2)</pre></div></div></div></div></div></div></div></div><div class=\"sk-parallel-item\"><div class=\"sk-item\"><div class=\"sk-label-container\"><div class=\"sk-label sk-toggleable\"><label>pipe2</label></div></div><div class=\"sk-serial\"><div class=\"sk-item\"><div class=\"sk-serial\"><div class=\"sk-item\"><div class=\"sk-estimator sk-toggleable\"><input class=\"sk-toggleable__control sk-hidden--visually\" id=\"sk-estimator-id-45\" type=\"checkbox\" ><label for=\"sk-estimator-id-45\" class=\"sk-toggleable__label sk-toggleable__label-arrow\">StandardScaler</label><div class=\"sk-toggleable__content\"><pre>StandardScaler()</pre></div></div></div><div class=\"sk-item\"><div class=\"sk-estimator sk-toggleable\"><input class=\"sk-toggleable__control sk-hidden--visually\" id=\"sk-estimator-id-46\" type=\"checkbox\" ><label for=\"sk-estimator-id-46\" class=\"sk-toggleable__label sk-toggleable__label-arrow\">LogisticRegression</label><div class=\"sk-toggleable__content\"><pre>LogisticRegression()</pre></div></div></div></div></div></div></div></div><div class=\"sk-parallel-item\"><div class=\"sk-item\"><div class=\"sk-label-container\"><div class=\"sk-label sk-toggleable\"><label>xgb</label></div></div><div class=\"sk-serial\"><div class=\"sk-item\"><div class=\"sk-estimator sk-toggleable\"><input class=\"sk-toggleable__control sk-hidden--visually\" id=\"sk-estimator-id-47\" type=\"checkbox\" ><label for=\"sk-estimator-id-47\" class=\"sk-toggleable__label sk-toggleable__label-arrow\">XGBClassifier</label><div class=\"sk-toggleable__content\"><pre>XGBClassifier(base_score=None, booster=None, callbacks=None,\n",
              "              colsample_bylevel=None, colsample_bynode=None,\n",
              "              colsample_bytree=None, device=None, early_stopping_rounds=10,\n",
              "              enable_categorical=False, eval_metric=None, feature_types=None,\n",
              "              gamma=None, grow_policy=None, importance_type=None,\n",
              "              interaction_constraints=None, learning_rate=None, max_bin=None,\n",
              "              max_cat_threshold=None, max_cat_to_onehot=None,\n",
              "              max_delta_step=None, max_depth=None, max_leaves=None,\n",
              "              min_child_weight=None, missing=nan, monotone_constraints=None,\n",
              "              multi_strategy=None, n_estimators=500, n_jobs=None,\n",
              "              num_parallel_tree=None, random_state=None, ...)</pre></div></div></div></div></div></div></div></div></div></div>"
            ]
          },
          "metadata": {},
          "execution_count": 26
        }
      ]
    },
    {
      "cell_type": "code",
      "source": [
        "vwrap.n_features_in_"
      ],
      "metadata": {
        "colab": {
          "base_uri": "https://localhost:8080/"
        },
        "id": "fadh7H18Rcga",
        "outputId": "74e3e4b0-4dc9-481a-90ae-462b87fa8f2a"
      },
      "execution_count": 27,
      "outputs": [
        {
          "output_type": "execute_result",
          "data": {
            "text/plain": [
              "30"
            ]
          },
          "metadata": {},
          "execution_count": 27
        }
      ]
    },
    {
      "cell_type": "code",
      "source": [
        "vwrap.feature_names_in_"
      ],
      "metadata": {
        "colab": {
          "base_uri": "https://localhost:8080/"
        },
        "id": "lCeidcMTTL4D",
        "outputId": "095b8aa9-cf4f-4793-bdf2-22890cc00e9c"
      },
      "execution_count": 28,
      "outputs": [
        {
          "output_type": "execute_result",
          "data": {
            "text/plain": [
              "array(['mean radius', 'mean texture', 'mean perimeter', 'mean area',\n",
              "       'mean smoothness', 'mean compactness', 'mean concavity',\n",
              "       'mean concave points', 'mean symmetry', 'mean fractal dimension',\n",
              "       'radius error', 'texture error', 'perimeter error', 'area error',\n",
              "       'smoothness error', 'compactness error', 'concavity error',\n",
              "       'concave points error', 'symmetry error',\n",
              "       'fractal dimension error', 'worst radius', 'worst texture',\n",
              "       'worst perimeter', 'worst area', 'worst smoothness',\n",
              "       'worst compactness', 'worst concavity', 'worst concave points',\n",
              "       'worst symmetry', 'worst fractal dimension'], dtype='<U23')"
            ]
          },
          "metadata": {},
          "execution_count": 28
        }
      ]
    },
    {
      "cell_type": "code",
      "source": [
        "vwrap.predict(X_test)"
      ],
      "metadata": {
        "colab": {
          "base_uri": "https://localhost:8080/"
        },
        "id": "ybZBbNsPM1kC",
        "outputId": "023b70c7-7bf0-48d6-fb2e-16fa90b53cc7"
      },
      "execution_count": 29,
      "outputs": [
        {
          "output_type": "execute_result",
          "data": {
            "text/plain": [
              "array([1, 0, 0, 1, 1, 0, 0, 0, 0, 1, 1, 0, 1, 0, 1, 0, 1, 1, 1, 0, 1, 1,\n",
              "       0, 1, 1, 1, 1, 1, 1, 0, 1, 1, 1, 1, 1, 1, 1, 1, 0, 1, 1, 0, 1, 1,\n",
              "       1, 1, 1, 1, 1, 1, 0, 0, 1, 1, 1, 1, 1, 0, 0, 1, 1, 0, 0, 1, 1, 1,\n",
              "       0, 0, 1, 1, 0, 0, 1, 0, 1, 1, 1, 1, 1, 1, 0, 1, 1, 0, 0, 0, 0, 0,\n",
              "       1, 1, 1, 0, 1, 1, 1, 1, 0, 0, 1, 0, 0, 1, 0, 0, 1, 1, 1, 0, 0, 1,\n",
              "       0, 1, 1, 0, 1, 0, 1, 1, 1, 0, 1, 1, 1, 0, 1, 0, 0, 1, 1, 0, 0, 0,\n",
              "       1, 1, 0, 0, 0, 1, 1, 0, 1, 0, 1, 1, 0, 1, 0, 0, 0, 1, 0, 1, 1, 1,\n",
              "       1, 0, 0, 1, 1, 1, 1, 1, 1, 1, 1, 1, 1, 1, 1, 0, 1, 1, 1, 1, 1, 1,\n",
              "       1, 1, 1, 1, 1, 1, 1, 0, 0, 0, 1, 1, 0, 1, 0, 1, 1, 1, 1, 0, 0, 1,\n",
              "       0, 1, 1, 1, 0, 1, 0, 0, 1, 1, 1, 0, 1, 1, 1, 1, 0, 1, 1, 1, 1, 1,\n",
              "       0, 1, 0, 0, 1, 1, 0, 1, 1, 1, 1, 1, 1, 1, 0, 0, 0, 1, 1, 0, 1, 1,\n",
              "       0, 1, 0, 1, 0, 1, 0, 1, 1, 0, 1, 1, 1, 0, 1, 0, 1, 0, 1, 0, 1, 1,\n",
              "       0, 1, 1, 1, 1, 0, 1, 1, 1, 0, 1, 1, 1, 0, 1, 0, 1, 1, 1, 1, 1, 1,\n",
              "       1, 0, 1, 1, 1, 0, 1, 0, 1, 1, 1, 0, 1, 0, 0, 1, 0, 0, 1, 0, 0, 1,\n",
              "       1, 1, 0, 1, 1, 1, 0, 1, 0, 1, 1, 1, 0, 1, 0, 1, 1, 0, 0, 1, 1, 0,\n",
              "       1, 0, 0, 1, 0, 0, 1, 0, 0, 0, 0, 1, 1, 1, 1, 0, 1, 0, 0, 0, 1, 1,\n",
              "       1, 1, 0, 1, 1, 1, 1, 0, 0, 0, 1, 0, 1, 1, 1, 1, 1, 0, 1, 1, 0, 0,\n",
              "       1, 0, 1, 0, 1, 1, 1, 1, 1, 1, 0, 1, 0, 0, 1, 1, 1, 1, 1, 1, 0, 0,\n",
              "       1, 0, 1, 0, 0, 0, 1, 0, 1, 1, 0, 0, 0, 1, 1, 1, 1, 1, 1, 1, 0, 1,\n",
              "       1, 1, 0, 1, 1, 0, 0, 1, 0, 1, 0, 0, 1, 1, 0, 1, 0, 0, 1, 0, 0, 1,\n",
              "       1, 0, 1, 0, 1, 1, 0, 1, 0, 0, 0, 0, 1, 1, 1, 0])"
            ]
          },
          "metadata": {},
          "execution_count": 29
        }
      ]
    },
    {
      "cell_type": "code",
      "source": [
        "vwrap.predict_proba(X_test)[:10]"
      ],
      "metadata": {
        "colab": {
          "base_uri": "https://localhost:8080/"
        },
        "id": "8rilA4UFPNbo",
        "outputId": "c8e98b36-50d2-4731-f399-54f6ab7c108e"
      },
      "execution_count": 30,
      "outputs": [
        {
          "output_type": "execute_result",
          "data": {
            "text/plain": [
              "array([[0.09509189, 0.90490811],\n",
              "       [0.99220907, 0.00779092],\n",
              "       [0.98802918, 0.01197083],\n",
              "       [0.01060427, 0.98939573],\n",
              "       [0.0028034 , 0.9971966 ],\n",
              "       [0.99514109, 0.00485891],\n",
              "       [0.99374744, 0.00625255],\n",
              "       [0.8541045 , 0.1458955 ],\n",
              "       [0.83424366, 0.16575634],\n",
              "       [0.01020755, 0.98979245]])"
            ]
          },
          "metadata": {},
          "execution_count": 30
        }
      ]
    },
    {
      "cell_type": "code",
      "source": [
        "y_pred = vwrap.predict(X_test)\n",
        "f1_score(y_true=y_test, y_pred=y_pred)"
      ],
      "metadata": {
        "colab": {
          "base_uri": "https://localhost:8080/"
        },
        "id": "PibsF7KTCcIm",
        "outputId": "a7a356ef-cd84-47d5-cde4-84e225273ada"
      },
      "execution_count": 31,
      "outputs": [
        {
          "output_type": "execute_result",
          "data": {
            "text/plain": [
              "0.9565217391304347"
            ]
          },
          "metadata": {},
          "execution_count": 31
        }
      ]
    },
    {
      "cell_type": "code",
      "source": [
        "vwrap.weights = [1, 0, 0]\n",
        "\n",
        "y_pred = vwrap.predict(X_test)\n",
        "f1_score(y_true=y_test, y_pred=y_pred)"
      ],
      "metadata": {
        "colab": {
          "base_uri": "https://localhost:8080/"
        },
        "id": "kk1HzF7OUPA5",
        "outputId": "0a87402e-1dff-40bd-e11c-96406900544c"
      },
      "execution_count": 32,
      "outputs": [
        {
          "output_type": "execute_result",
          "data": {
            "text/plain": [
              "0.9194991055456171"
            ]
          },
          "metadata": {},
          "execution_count": 32
        }
      ]
    },
    {
      "cell_type": "code",
      "source": [
        "vwrap.weights = [1, 0, 3]\n",
        "\n",
        "y_pred = vwrap.predict(X_test)\n",
        "f1_score(y_true=y_test, y_pred=y_pred)"
      ],
      "metadata": {
        "colab": {
          "base_uri": "https://localhost:8080/"
        },
        "id": "gp5yBhCTPwJe",
        "outputId": "552891b6-162c-481a-c359-9452abd98b25"
      },
      "execution_count": 33,
      "outputs": [
        {
          "output_type": "execute_result",
          "data": {
            "text/plain": [
              "0.9597197898423817"
            ]
          },
          "metadata": {},
          "execution_count": 33
        }
      ]
    },
    {
      "cell_type": "code",
      "source": [
        "vwrap.weights = [1, 1, 0]\n",
        "\n",
        "y_pred = vwrap.predict(X_test)\n",
        "f1_score(y_true=y_test, y_pred=y_pred)"
      ],
      "metadata": {
        "colab": {
          "base_uri": "https://localhost:8080/"
        },
        "id": "cci0L_zRUSti",
        "outputId": "1e9bbb11-d752-4b44-86aa-b2d9261be304"
      },
      "execution_count": 34,
      "outputs": [
        {
          "output_type": "execute_result",
          "data": {
            "text/plain": [
              "0.9249999999999999"
            ]
          },
          "metadata": {},
          "execution_count": 34
        }
      ]
    },
    {
      "cell_type": "code",
      "source": [
        "vwrap.weights = [1, 2, 0]\n",
        "\n",
        "y_pred = vwrap.predict(X_test)\n",
        "f1_score(y_true=y_test, y_pred=y_pred)"
      ],
      "metadata": {
        "colab": {
          "base_uri": "https://localhost:8080/"
        },
        "id": "Wwsv1N8yUjDq",
        "outputId": "5b62beb1-f6b7-4c16-fdc0-c4b1297a2056"
      },
      "execution_count": 35,
      "outputs": [
        {
          "output_type": "execute_result",
          "data": {
            "text/plain": [
              "0.9793103448275862"
            ]
          },
          "metadata": {},
          "execution_count": 35
        }
      ]
    },
    {
      "cell_type": "code",
      "source": [
        "vwrap.weights = [1, 1, 3]\n",
        "\n",
        "y_pred = vwrap.predict(X_test)\n",
        "f1_score(y_true=y_test, y_pred=y_pred)"
      ],
      "metadata": {
        "colab": {
          "base_uri": "https://localhost:8080/"
        },
        "id": "496PnaubUkiO",
        "outputId": "e022c6ab-38aa-468d-bb4a-64612125e2e9"
      },
      "execution_count": 36,
      "outputs": [
        {
          "output_type": "execute_result",
          "data": {
            "text/plain": [
              "0.9652777777777778"
            ]
          },
          "metadata": {},
          "execution_count": 36
        }
      ]
    },
    {
      "cell_type": "markdown",
      "source": [
        "# Override XGBoostClassifier\n",
        "\n"
      ],
      "metadata": {
        "id": "viMy0t-5W4Az"
      }
    },
    {
      "cell_type": "code",
      "source": [
        "SklObjective"
      ],
      "metadata": {
        "colab": {
          "base_uri": "https://localhost:8080/"
        },
        "id": "i3N_j0BxZ8-G",
        "outputId": "1135e5a3-b3f6-47c4-a2b0-7a4398127d8b"
      },
      "execution_count": 70,
      "outputs": [
        {
          "output_type": "execute_result",
          "data": {
            "text/plain": [
              "typing.Union[str, typing.Callable[[numpy.ndarray, numpy.ndarray], typing.Tuple[numpy.ndarray, numpy.ndarray]], NoneType]"
            ]
          },
          "metadata": {},
          "execution_count": 70
        }
      ]
    },
    {
      "cell_type": "code",
      "source": [
        "from typing import Optional, Any\n",
        "from xgboost.sklearn import SklObjective, Booster, XGBModel, Metric, TrainingCallback\n",
        "\n",
        "class FractionSupportXGBClassifier(XGBClassifier):\n",
        "  def __init__(\n",
        "      self,\n",
        "      fraction_ratio: Optional[float] = None,\n",
        "      **kwargs: Any,\n",
        "      ) -> None:\n",
        "      self.fraction_ratio = fraction_ratio\n",
        "      if (self.fraction_ratio is not None) and \\\n",
        "       (kwargs.get('early_stopping_rounds') is None):\n",
        "          kwargs['early_stopping_rounds'] = int(kwargs['n_estimators'] / 10) if int(kwargs['n_estimators'] / 10) > 0 else 1\n",
        "      super().__init__(**kwargs)\n",
        "\n",
        "  def fit(\n",
        "      self,\n",
        "      *args,\n",
        "      **kwargs\n",
        "  ) -> \"XGBClassifier\":\n",
        "      if self.fraction_ratio is not None:\n",
        "          X_sample = args[0]\n",
        "          y_sample = args[1]\n",
        "\n",
        "          X_train, X_valid, y_train, y_valid = train_test_split(X_sample, y_sample, test_size=self.fraction_ratio)\n",
        "\n",
        "          kwargs['eval_set'] = [(X_train, y_train), (X_valid, y_valid)]\n",
        "      return super().fit(*args, **kwargs)"
      ],
      "metadata": {
        "id": "fcv3aDfZUlam"
      },
      "execution_count": 168,
      "outputs": []
    },
    {
      "cell_type": "code",
      "source": [
        "wrap_xgb = FractionSupportXGBClassifier(n_estimators=10000, fraction_ratio=.2, early_stopping_rounds=100)\n",
        "wrap_xgb"
      ],
      "metadata": {
        "colab": {
          "base_uri": "https://localhost:8080/",
          "height": 251
        },
        "id": "S4emHjqFXcpL",
        "outputId": "4d0fc04d-6cea-4729-855b-d4334229080a"
      },
      "execution_count": 170,
      "outputs": [
        {
          "output_type": "execute_result",
          "data": {
            "text/plain": [
              "FractionSupportXGBClassifier(base_score=None, booster=None, callbacks=None,\n",
              "                             colsample_bylevel=None, colsample_bynode=None,\n",
              "                             colsample_bytree=None, device=None,\n",
              "                             early_stopping_rounds=100,\n",
              "                             enable_categorical=False, eval_metric=None,\n",
              "                             feature_types=None, fraction_ratio=0.2, gamma=None,\n",
              "                             grow_policy=None, importance_type=None,\n",
              "                             interaction_constraints=None, learning_rate=None,\n",
              "                             max_bin=None, max_cat_threshold=None,\n",
              "                             max_cat_to_onehot=None, max_delta_step=None,\n",
              "                             max_depth=None, max_leaves=None,\n",
              "                             min_child_weight=None, missing=nan,\n",
              "                             monotone_constraints=None, multi_strategy=None,\n",
              "                             n_estimators=10000, n_jobs=None,\n",
              "                             num_parallel_tree=None, ...)"
            ],
            "text/html": [
              "<style>#sk-container-id-47 {color: black;background-color: white;}#sk-container-id-47 pre{padding: 0;}#sk-container-id-47 div.sk-toggleable {background-color: white;}#sk-container-id-47 label.sk-toggleable__label {cursor: pointer;display: block;width: 100%;margin-bottom: 0;padding: 0.3em;box-sizing: border-box;text-align: center;}#sk-container-id-47 label.sk-toggleable__label-arrow:before {content: \"▸\";float: left;margin-right: 0.25em;color: #696969;}#sk-container-id-47 label.sk-toggleable__label-arrow:hover:before {color: black;}#sk-container-id-47 div.sk-estimator:hover label.sk-toggleable__label-arrow:before {color: black;}#sk-container-id-47 div.sk-toggleable__content {max-height: 0;max-width: 0;overflow: hidden;text-align: left;background-color: #f0f8ff;}#sk-container-id-47 div.sk-toggleable__content pre {margin: 0.2em;color: black;border-radius: 0.25em;background-color: #f0f8ff;}#sk-container-id-47 input.sk-toggleable__control:checked~div.sk-toggleable__content {max-height: 200px;max-width: 100%;overflow: auto;}#sk-container-id-47 input.sk-toggleable__control:checked~label.sk-toggleable__label-arrow:before {content: \"▾\";}#sk-container-id-47 div.sk-estimator input.sk-toggleable__control:checked~label.sk-toggleable__label {background-color: #d4ebff;}#sk-container-id-47 div.sk-label input.sk-toggleable__control:checked~label.sk-toggleable__label {background-color: #d4ebff;}#sk-container-id-47 input.sk-hidden--visually {border: 0;clip: rect(1px 1px 1px 1px);clip: rect(1px, 1px, 1px, 1px);height: 1px;margin: -1px;overflow: hidden;padding: 0;position: absolute;width: 1px;}#sk-container-id-47 div.sk-estimator {font-family: monospace;background-color: #f0f8ff;border: 1px dotted black;border-radius: 0.25em;box-sizing: border-box;margin-bottom: 0.5em;}#sk-container-id-47 div.sk-estimator:hover {background-color: #d4ebff;}#sk-container-id-47 div.sk-parallel-item::after {content: \"\";width: 100%;border-bottom: 1px solid gray;flex-grow: 1;}#sk-container-id-47 div.sk-label:hover label.sk-toggleable__label {background-color: #d4ebff;}#sk-container-id-47 div.sk-serial::before {content: \"\";position: absolute;border-left: 1px solid gray;box-sizing: border-box;top: 0;bottom: 0;left: 50%;z-index: 0;}#sk-container-id-47 div.sk-serial {display: flex;flex-direction: column;align-items: center;background-color: white;padding-right: 0.2em;padding-left: 0.2em;position: relative;}#sk-container-id-47 div.sk-item {position: relative;z-index: 1;}#sk-container-id-47 div.sk-parallel {display: flex;align-items: stretch;justify-content: center;background-color: white;position: relative;}#sk-container-id-47 div.sk-item::before, #sk-container-id-47 div.sk-parallel-item::before {content: \"\";position: absolute;border-left: 1px solid gray;box-sizing: border-box;top: 0;bottom: 0;left: 50%;z-index: -1;}#sk-container-id-47 div.sk-parallel-item {display: flex;flex-direction: column;z-index: 1;position: relative;background-color: white;}#sk-container-id-47 div.sk-parallel-item:first-child::after {align-self: flex-end;width: 50%;}#sk-container-id-47 div.sk-parallel-item:last-child::after {align-self: flex-start;width: 50%;}#sk-container-id-47 div.sk-parallel-item:only-child::after {width: 0;}#sk-container-id-47 div.sk-dashed-wrapped {border: 1px dashed gray;margin: 0 0.4em 0.5em 0.4em;box-sizing: border-box;padding-bottom: 0.4em;background-color: white;}#sk-container-id-47 div.sk-label label {font-family: monospace;font-weight: bold;display: inline-block;line-height: 1.2em;}#sk-container-id-47 div.sk-label-container {text-align: center;}#sk-container-id-47 div.sk-container {/* jupyter's `normalize.less` sets `[hidden] { display: none; }` but bootstrap.min.css set `[hidden] { display: none !important; }` so we also need the `!important` here to be able to override the default hidden behavior on the sphinx rendered scikit-learn.org. See: https://github.com/scikit-learn/scikit-learn/issues/21755 */display: inline-block !important;position: relative;}#sk-container-id-47 div.sk-text-repr-fallback {display: none;}</style><div id=\"sk-container-id-47\" class=\"sk-top-container\"><div class=\"sk-text-repr-fallback\"><pre>FractionSupportXGBClassifier(base_score=None, booster=None, callbacks=None,\n",
              "                             colsample_bylevel=None, colsample_bynode=None,\n",
              "                             colsample_bytree=None, device=None,\n",
              "                             early_stopping_rounds=100,\n",
              "                             enable_categorical=False, eval_metric=None,\n",
              "                             feature_types=None, fraction_ratio=0.2, gamma=None,\n",
              "                             grow_policy=None, importance_type=None,\n",
              "                             interaction_constraints=None, learning_rate=None,\n",
              "                             max_bin=None, max_cat_threshold=None,\n",
              "                             max_cat_to_onehot=None, max_delta_step=None,\n",
              "                             max_depth=None, max_leaves=None,\n",
              "                             min_child_weight=None, missing=nan,\n",
              "                             monotone_constraints=None, multi_strategy=None,\n",
              "                             n_estimators=10000, n_jobs=None,\n",
              "                             num_parallel_tree=None, ...)</pre><b>In a Jupyter environment, please rerun this cell to show the HTML representation or trust the notebook. <br />On GitHub, the HTML representation is unable to render, please try loading this page with nbviewer.org.</b></div><div class=\"sk-container\" hidden><div class=\"sk-item\"><div class=\"sk-estimator sk-toggleable\"><input class=\"sk-toggleable__control sk-hidden--visually\" id=\"sk-estimator-id-69\" type=\"checkbox\" checked><label for=\"sk-estimator-id-69\" class=\"sk-toggleable__label sk-toggleable__label-arrow\">FractionSupportXGBClassifier</label><div class=\"sk-toggleable__content\"><pre>FractionSupportXGBClassifier(base_score=None, booster=None, callbacks=None,\n",
              "                             colsample_bylevel=None, colsample_bynode=None,\n",
              "                             colsample_bytree=None, device=None,\n",
              "                             early_stopping_rounds=100,\n",
              "                             enable_categorical=False, eval_metric=None,\n",
              "                             feature_types=None, fraction_ratio=0.2, gamma=None,\n",
              "                             grow_policy=None, importance_type=None,\n",
              "                             interaction_constraints=None, learning_rate=None,\n",
              "                             max_bin=None, max_cat_threshold=None,\n",
              "                             max_cat_to_onehot=None, max_delta_step=None,\n",
              "                             max_depth=None, max_leaves=None,\n",
              "                             min_child_weight=None, missing=nan,\n",
              "                             monotone_constraints=None, multi_strategy=None,\n",
              "                             n_estimators=10000, n_jobs=None,\n",
              "                             num_parallel_tree=None, ...)</pre></div></div></div></div></div>"
            ]
          },
          "metadata": {},
          "execution_count": 170
        }
      ]
    },
    {
      "cell_type": "code",
      "source": [
        "wrap_xgb.fit(X_train, y_train)"
      ],
      "metadata": {
        "colab": {
          "base_uri": "https://localhost:8080/",
          "height": 1000
        },
        "id": "cF5WyBI5gyfB",
        "outputId": "edc1dac6-99e3-4eb9-959b-9ad936018e64"
      },
      "execution_count": 171,
      "outputs": [
        {
          "output_type": "stream",
          "name": "stderr",
          "text": [
            "/usr/local/lib/python3.10/dist-packages/xgboost/core.py:160: UserWarning: [02:17:20] WARNING: /workspace/src/learner.cc:742: \n",
            "Parameters: { \"fraction_ratio\" } are not used.\n",
            "\n",
            "  warnings.warn(smsg, UserWarning)\n"
          ]
        },
        {
          "output_type": "stream",
          "name": "stdout",
          "text": [
            "[0]\tvalidation_0-logloss:0.47134\tvalidation_1-logloss:0.48286\n",
            "[1]\tvalidation_0-logloss:0.35408\tvalidation_1-logloss:0.37328\n",
            "[2]\tvalidation_0-logloss:0.27180\tvalidation_1-logloss:0.29212\n",
            "[3]\tvalidation_0-logloss:0.21456\tvalidation_1-logloss:0.23252\n",
            "[4]\tvalidation_0-logloss:0.17048\tvalidation_1-logloss:0.18671\n",
            "[5]\tvalidation_0-logloss:0.14284\tvalidation_1-logloss:0.15786\n",
            "[6]\tvalidation_0-logloss:0.11815\tvalidation_1-logloss:0.13747\n",
            "[7]\tvalidation_0-logloss:0.10128\tvalidation_1-logloss:0.12605\n",
            "[8]\tvalidation_0-logloss:0.08867\tvalidation_1-logloss:0.10853\n",
            "[9]\tvalidation_0-logloss:0.07770\tvalidation_1-logloss:0.09380\n",
            "[10]\tvalidation_0-logloss:0.06820\tvalidation_1-logloss:0.08366\n",
            "[11]\tvalidation_0-logloss:0.06182\tvalidation_1-logloss:0.07230\n",
            "[12]\tvalidation_0-logloss:0.05539\tvalidation_1-logloss:0.06521\n",
            "[13]\tvalidation_0-logloss:0.05024\tvalidation_1-logloss:0.06070\n",
            "[14]\tvalidation_0-logloss:0.04603\tvalidation_1-logloss:0.05537\n",
            "[15]\tvalidation_0-logloss:0.04331\tvalidation_1-logloss:0.04918\n",
            "[16]\tvalidation_0-logloss:0.04034\tvalidation_1-logloss:0.04551\n",
            "[17]\tvalidation_0-logloss:0.03783\tvalidation_1-logloss:0.04455\n",
            "[18]\tvalidation_0-logloss:0.03697\tvalidation_1-logloss:0.04117\n",
            "[19]\tvalidation_0-logloss:0.03514\tvalidation_1-logloss:0.03911\n",
            "[20]\tvalidation_0-logloss:0.03455\tvalidation_1-logloss:0.03653\n",
            "[21]\tvalidation_0-logloss:0.03334\tvalidation_1-logloss:0.03625\n",
            "[22]\tvalidation_0-logloss:0.03295\tvalidation_1-logloss:0.03417\n",
            "[23]\tvalidation_0-logloss:0.03195\tvalidation_1-logloss:0.03430\n",
            "[24]\tvalidation_0-logloss:0.03138\tvalidation_1-logloss:0.03322\n",
            "[25]\tvalidation_0-logloss:0.03066\tvalidation_1-logloss:0.03323\n",
            "[26]\tvalidation_0-logloss:0.03040\tvalidation_1-logloss:0.03152\n",
            "[27]\tvalidation_0-logloss:0.02993\tvalidation_1-logloss:0.03102\n",
            "[28]\tvalidation_0-logloss:0.02928\tvalidation_1-logloss:0.03124\n",
            "[29]\tvalidation_0-logloss:0.02888\tvalidation_1-logloss:0.03039\n",
            "[30]\tvalidation_0-logloss:0.02859\tvalidation_1-logloss:0.02922\n",
            "[31]\tvalidation_0-logloss:0.02800\tvalidation_1-logloss:0.02943\n",
            "[32]\tvalidation_0-logloss:0.02783\tvalidation_1-logloss:0.02809\n",
            "[33]\tvalidation_0-logloss:0.02754\tvalidation_1-logloss:0.02739\n",
            "[34]\tvalidation_0-logloss:0.02703\tvalidation_1-logloss:0.02763\n",
            "[35]\tvalidation_0-logloss:0.02669\tvalidation_1-logloss:0.02723\n",
            "[36]\tvalidation_0-logloss:0.02641\tvalidation_1-logloss:0.02662\n",
            "[37]\tvalidation_0-logloss:0.02629\tvalidation_1-logloss:0.02555\n",
            "[38]\tvalidation_0-logloss:0.02583\tvalidation_1-logloss:0.02576\n",
            "[39]\tvalidation_0-logloss:0.02555\tvalidation_1-logloss:0.02534\n",
            "[40]\tvalidation_0-logloss:0.02547\tvalidation_1-logloss:0.02421\n",
            "[41]\tvalidation_0-logloss:0.02523\tvalidation_1-logloss:0.02372\n",
            "[42]\tvalidation_0-logloss:0.02483\tvalidation_1-logloss:0.02389\n",
            "[43]\tvalidation_0-logloss:0.02461\tvalidation_1-logloss:0.02350\n",
            "[44]\tvalidation_0-logloss:0.02427\tvalidation_1-logloss:0.02366\n",
            "[45]\tvalidation_0-logloss:0.02405\tvalidation_1-logloss:0.02326\n",
            "[46]\tvalidation_0-logloss:0.02396\tvalidation_1-logloss:0.02242\n",
            "[47]\tvalidation_0-logloss:0.02365\tvalidation_1-logloss:0.02257\n",
            "[48]\tvalidation_0-logloss:0.02344\tvalidation_1-logloss:0.02217\n",
            "[49]\tvalidation_0-logloss:0.02328\tvalidation_1-logloss:0.02170\n",
            "[50]\tvalidation_0-logloss:0.02300\tvalidation_1-logloss:0.02184\n",
            "[51]\tvalidation_0-logloss:0.02282\tvalidation_1-logloss:0.02150\n",
            "[52]\tvalidation_0-logloss:0.02267\tvalidation_1-logloss:0.02117\n",
            "[53]\tvalidation_0-logloss:0.02240\tvalidation_1-logloss:0.02130\n",
            "[54]\tvalidation_0-logloss:0.02225\tvalidation_1-logloss:0.02103\n",
            "[55]\tvalidation_0-logloss:0.02202\tvalidation_1-logloss:0.02115\n",
            "[56]\tvalidation_0-logloss:0.02187\tvalidation_1-logloss:0.02087\n",
            "[57]\tvalidation_0-logloss:0.02167\tvalidation_1-logloss:0.02099\n",
            "[58]\tvalidation_0-logloss:0.02155\tvalidation_1-logloss:0.02074\n",
            "[59]\tvalidation_0-logloss:0.02143\tvalidation_1-logloss:0.02050\n",
            "[60]\tvalidation_0-logloss:0.02122\tvalidation_1-logloss:0.02062\n",
            "[61]\tvalidation_0-logloss:0.02122\tvalidation_1-logloss:0.02062\n",
            "[62]\tvalidation_0-logloss:0.02122\tvalidation_1-logloss:0.02062\n",
            "[63]\tvalidation_0-logloss:0.02121\tvalidation_1-logloss:0.02063\n",
            "[64]\tvalidation_0-logloss:0.02121\tvalidation_1-logloss:0.02063\n",
            "[65]\tvalidation_0-logloss:0.02121\tvalidation_1-logloss:0.02063\n",
            "[66]\tvalidation_0-logloss:0.02121\tvalidation_1-logloss:0.02064\n",
            "[67]\tvalidation_0-logloss:0.02121\tvalidation_1-logloss:0.02064\n",
            "[68]\tvalidation_0-logloss:0.02121\tvalidation_1-logloss:0.02064\n",
            "[69]\tvalidation_0-logloss:0.02121\tvalidation_1-logloss:0.02064\n",
            "[70]\tvalidation_0-logloss:0.02121\tvalidation_1-logloss:0.02064\n",
            "[71]\tvalidation_0-logloss:0.02121\tvalidation_1-logloss:0.02064\n",
            "[72]\tvalidation_0-logloss:0.02121\tvalidation_1-logloss:0.02064\n",
            "[73]\tvalidation_0-logloss:0.02121\tvalidation_1-logloss:0.02064\n",
            "[74]\tvalidation_0-logloss:0.02121\tvalidation_1-logloss:0.02064\n",
            "[75]\tvalidation_0-logloss:0.02121\tvalidation_1-logloss:0.02064\n",
            "[76]\tvalidation_0-logloss:0.02121\tvalidation_1-logloss:0.02064\n",
            "[77]\tvalidation_0-logloss:0.02121\tvalidation_1-logloss:0.02064\n",
            "[78]\tvalidation_0-logloss:0.02121\tvalidation_1-logloss:0.02064\n",
            "[79]\tvalidation_0-logloss:0.02121\tvalidation_1-logloss:0.02064\n",
            "[80]\tvalidation_0-logloss:0.02121\tvalidation_1-logloss:0.02064\n",
            "[81]\tvalidation_0-logloss:0.02121\tvalidation_1-logloss:0.02064\n",
            "[82]\tvalidation_0-logloss:0.02121\tvalidation_1-logloss:0.02064\n",
            "[83]\tvalidation_0-logloss:0.02121\tvalidation_1-logloss:0.02064\n",
            "[84]\tvalidation_0-logloss:0.02121\tvalidation_1-logloss:0.02064\n",
            "[85]\tvalidation_0-logloss:0.02121\tvalidation_1-logloss:0.02064\n",
            "[86]\tvalidation_0-logloss:0.02121\tvalidation_1-logloss:0.02064\n",
            "[87]\tvalidation_0-logloss:0.02121\tvalidation_1-logloss:0.02064\n",
            "[88]\tvalidation_0-logloss:0.02121\tvalidation_1-logloss:0.02064\n",
            "[89]\tvalidation_0-logloss:0.02121\tvalidation_1-logloss:0.02064\n",
            "[90]\tvalidation_0-logloss:0.02121\tvalidation_1-logloss:0.02064\n",
            "[91]\tvalidation_0-logloss:0.02121\tvalidation_1-logloss:0.02064\n",
            "[92]\tvalidation_0-logloss:0.02121\tvalidation_1-logloss:0.02064\n",
            "[93]\tvalidation_0-logloss:0.02121\tvalidation_1-logloss:0.02064\n",
            "[94]\tvalidation_0-logloss:0.02121\tvalidation_1-logloss:0.02064\n",
            "[95]\tvalidation_0-logloss:0.02121\tvalidation_1-logloss:0.02064\n",
            "[96]\tvalidation_0-logloss:0.02121\tvalidation_1-logloss:0.02064\n",
            "[97]\tvalidation_0-logloss:0.02121\tvalidation_1-logloss:0.02064\n",
            "[98]\tvalidation_0-logloss:0.02121\tvalidation_1-logloss:0.02064\n",
            "[99]\tvalidation_0-logloss:0.02121\tvalidation_1-logloss:0.02064\n",
            "[100]\tvalidation_0-logloss:0.02121\tvalidation_1-logloss:0.02064\n",
            "[101]\tvalidation_0-logloss:0.02121\tvalidation_1-logloss:0.02064\n",
            "[102]\tvalidation_0-logloss:0.02121\tvalidation_1-logloss:0.02064\n",
            "[103]\tvalidation_0-logloss:0.02121\tvalidation_1-logloss:0.02064\n",
            "[104]\tvalidation_0-logloss:0.02121\tvalidation_1-logloss:0.02064\n",
            "[105]\tvalidation_0-logloss:0.02121\tvalidation_1-logloss:0.02064\n",
            "[106]\tvalidation_0-logloss:0.02121\tvalidation_1-logloss:0.02064\n",
            "[107]\tvalidation_0-logloss:0.02121\tvalidation_1-logloss:0.02064\n",
            "[108]\tvalidation_0-logloss:0.02121\tvalidation_1-logloss:0.02064\n",
            "[109]\tvalidation_0-logloss:0.02121\tvalidation_1-logloss:0.02064\n",
            "[110]\tvalidation_0-logloss:0.02121\tvalidation_1-logloss:0.02064\n",
            "[111]\tvalidation_0-logloss:0.02121\tvalidation_1-logloss:0.02064\n",
            "[112]\tvalidation_0-logloss:0.02121\tvalidation_1-logloss:0.02064\n",
            "[113]\tvalidation_0-logloss:0.02121\tvalidation_1-logloss:0.02064\n",
            "[114]\tvalidation_0-logloss:0.02121\tvalidation_1-logloss:0.02064\n",
            "[115]\tvalidation_0-logloss:0.02121\tvalidation_1-logloss:0.02064\n",
            "[116]\tvalidation_0-logloss:0.02121\tvalidation_1-logloss:0.02064\n",
            "[117]\tvalidation_0-logloss:0.02121\tvalidation_1-logloss:0.02064\n",
            "[118]\tvalidation_0-logloss:0.02121\tvalidation_1-logloss:0.02064\n",
            "[119]\tvalidation_0-logloss:0.02121\tvalidation_1-logloss:0.02064\n",
            "[120]\tvalidation_0-logloss:0.02121\tvalidation_1-logloss:0.02064\n",
            "[121]\tvalidation_0-logloss:0.02121\tvalidation_1-logloss:0.02064\n",
            "[122]\tvalidation_0-logloss:0.02121\tvalidation_1-logloss:0.02064\n",
            "[123]\tvalidation_0-logloss:0.02121\tvalidation_1-logloss:0.02064\n",
            "[124]\tvalidation_0-logloss:0.02121\tvalidation_1-logloss:0.02064\n",
            "[125]\tvalidation_0-logloss:0.02121\tvalidation_1-logloss:0.02064\n",
            "[126]\tvalidation_0-logloss:0.02121\tvalidation_1-logloss:0.02064\n",
            "[127]\tvalidation_0-logloss:0.02121\tvalidation_1-logloss:0.02064\n",
            "[128]\tvalidation_0-logloss:0.02121\tvalidation_1-logloss:0.02064\n",
            "[129]\tvalidation_0-logloss:0.02121\tvalidation_1-logloss:0.02064\n",
            "[130]\tvalidation_0-logloss:0.02121\tvalidation_1-logloss:0.02064\n",
            "[131]\tvalidation_0-logloss:0.02121\tvalidation_1-logloss:0.02064\n",
            "[132]\tvalidation_0-logloss:0.02121\tvalidation_1-logloss:0.02064\n",
            "[133]\tvalidation_0-logloss:0.02121\tvalidation_1-logloss:0.02064\n",
            "[134]\tvalidation_0-logloss:0.02121\tvalidation_1-logloss:0.02064\n",
            "[135]\tvalidation_0-logloss:0.02121\tvalidation_1-logloss:0.02064\n",
            "[136]\tvalidation_0-logloss:0.02121\tvalidation_1-logloss:0.02064\n",
            "[137]\tvalidation_0-logloss:0.02121\tvalidation_1-logloss:0.02064\n",
            "[138]\tvalidation_0-logloss:0.02121\tvalidation_1-logloss:0.02064\n",
            "[139]\tvalidation_0-logloss:0.02121\tvalidation_1-logloss:0.02064\n",
            "[140]\tvalidation_0-logloss:0.02121\tvalidation_1-logloss:0.02064\n",
            "[141]\tvalidation_0-logloss:0.02121\tvalidation_1-logloss:0.02064\n",
            "[142]\tvalidation_0-logloss:0.02121\tvalidation_1-logloss:0.02064\n",
            "[143]\tvalidation_0-logloss:0.02121\tvalidation_1-logloss:0.02064\n",
            "[144]\tvalidation_0-logloss:0.02121\tvalidation_1-logloss:0.02064\n",
            "[145]\tvalidation_0-logloss:0.02121\tvalidation_1-logloss:0.02064\n",
            "[146]\tvalidation_0-logloss:0.02121\tvalidation_1-logloss:0.02064\n",
            "[147]\tvalidation_0-logloss:0.02121\tvalidation_1-logloss:0.02064\n",
            "[148]\tvalidation_0-logloss:0.02121\tvalidation_1-logloss:0.02064\n",
            "[149]\tvalidation_0-logloss:0.02121\tvalidation_1-logloss:0.02064\n",
            "[150]\tvalidation_0-logloss:0.02121\tvalidation_1-logloss:0.02064\n",
            "[151]\tvalidation_0-logloss:0.02121\tvalidation_1-logloss:0.02064\n",
            "[152]\tvalidation_0-logloss:0.02121\tvalidation_1-logloss:0.02064\n",
            "[153]\tvalidation_0-logloss:0.02121\tvalidation_1-logloss:0.02064\n",
            "[154]\tvalidation_0-logloss:0.02121\tvalidation_1-logloss:0.02064\n",
            "[155]\tvalidation_0-logloss:0.02121\tvalidation_1-logloss:0.02064\n",
            "[156]\tvalidation_0-logloss:0.02121\tvalidation_1-logloss:0.02064\n",
            "[157]\tvalidation_0-logloss:0.02121\tvalidation_1-logloss:0.02064\n",
            "[158]\tvalidation_0-logloss:0.02121\tvalidation_1-logloss:0.02064\n",
            "[159]\tvalidation_0-logloss:0.02121\tvalidation_1-logloss:0.02064\n"
          ]
        },
        {
          "output_type": "execute_result",
          "data": {
            "text/plain": [
              "FractionSupportXGBClassifier(base_score=None, booster=None, callbacks=None,\n",
              "                             colsample_bylevel=None, colsample_bynode=None,\n",
              "                             colsample_bytree=None, device=None,\n",
              "                             early_stopping_rounds=100,\n",
              "                             enable_categorical=False, eval_metric=None,\n",
              "                             feature_types=None, fraction_ratio=0.2, gamma=None,\n",
              "                             grow_policy=None, importance_type=None,\n",
              "                             interaction_constraints=None, learning_rate=None,\n",
              "                             max_bin=None, max_cat_threshold=None,\n",
              "                             max_cat_to_onehot=None, max_delta_step=None,\n",
              "                             max_depth=None, max_leaves=None,\n",
              "                             min_child_weight=None, missing=nan,\n",
              "                             monotone_constraints=None, multi_strategy=None,\n",
              "                             n_estimators=10000, n_jobs=None,\n",
              "                             num_parallel_tree=None, ...)"
            ],
            "text/html": [
              "<style>#sk-container-id-48 {color: black;background-color: white;}#sk-container-id-48 pre{padding: 0;}#sk-container-id-48 div.sk-toggleable {background-color: white;}#sk-container-id-48 label.sk-toggleable__label {cursor: pointer;display: block;width: 100%;margin-bottom: 0;padding: 0.3em;box-sizing: border-box;text-align: center;}#sk-container-id-48 label.sk-toggleable__label-arrow:before {content: \"▸\";float: left;margin-right: 0.25em;color: #696969;}#sk-container-id-48 label.sk-toggleable__label-arrow:hover:before {color: black;}#sk-container-id-48 div.sk-estimator:hover label.sk-toggleable__label-arrow:before {color: black;}#sk-container-id-48 div.sk-toggleable__content {max-height: 0;max-width: 0;overflow: hidden;text-align: left;background-color: #f0f8ff;}#sk-container-id-48 div.sk-toggleable__content pre {margin: 0.2em;color: black;border-radius: 0.25em;background-color: #f0f8ff;}#sk-container-id-48 input.sk-toggleable__control:checked~div.sk-toggleable__content {max-height: 200px;max-width: 100%;overflow: auto;}#sk-container-id-48 input.sk-toggleable__control:checked~label.sk-toggleable__label-arrow:before {content: \"▾\";}#sk-container-id-48 div.sk-estimator input.sk-toggleable__control:checked~label.sk-toggleable__label {background-color: #d4ebff;}#sk-container-id-48 div.sk-label input.sk-toggleable__control:checked~label.sk-toggleable__label {background-color: #d4ebff;}#sk-container-id-48 input.sk-hidden--visually {border: 0;clip: rect(1px 1px 1px 1px);clip: rect(1px, 1px, 1px, 1px);height: 1px;margin: -1px;overflow: hidden;padding: 0;position: absolute;width: 1px;}#sk-container-id-48 div.sk-estimator {font-family: monospace;background-color: #f0f8ff;border: 1px dotted black;border-radius: 0.25em;box-sizing: border-box;margin-bottom: 0.5em;}#sk-container-id-48 div.sk-estimator:hover {background-color: #d4ebff;}#sk-container-id-48 div.sk-parallel-item::after {content: \"\";width: 100%;border-bottom: 1px solid gray;flex-grow: 1;}#sk-container-id-48 div.sk-label:hover label.sk-toggleable__label {background-color: #d4ebff;}#sk-container-id-48 div.sk-serial::before {content: \"\";position: absolute;border-left: 1px solid gray;box-sizing: border-box;top: 0;bottom: 0;left: 50%;z-index: 0;}#sk-container-id-48 div.sk-serial {display: flex;flex-direction: column;align-items: center;background-color: white;padding-right: 0.2em;padding-left: 0.2em;position: relative;}#sk-container-id-48 div.sk-item {position: relative;z-index: 1;}#sk-container-id-48 div.sk-parallel {display: flex;align-items: stretch;justify-content: center;background-color: white;position: relative;}#sk-container-id-48 div.sk-item::before, #sk-container-id-48 div.sk-parallel-item::before {content: \"\";position: absolute;border-left: 1px solid gray;box-sizing: border-box;top: 0;bottom: 0;left: 50%;z-index: -1;}#sk-container-id-48 div.sk-parallel-item {display: flex;flex-direction: column;z-index: 1;position: relative;background-color: white;}#sk-container-id-48 div.sk-parallel-item:first-child::after {align-self: flex-end;width: 50%;}#sk-container-id-48 div.sk-parallel-item:last-child::after {align-self: flex-start;width: 50%;}#sk-container-id-48 div.sk-parallel-item:only-child::after {width: 0;}#sk-container-id-48 div.sk-dashed-wrapped {border: 1px dashed gray;margin: 0 0.4em 0.5em 0.4em;box-sizing: border-box;padding-bottom: 0.4em;background-color: white;}#sk-container-id-48 div.sk-label label {font-family: monospace;font-weight: bold;display: inline-block;line-height: 1.2em;}#sk-container-id-48 div.sk-label-container {text-align: center;}#sk-container-id-48 div.sk-container {/* jupyter's `normalize.less` sets `[hidden] { display: none; }` but bootstrap.min.css set `[hidden] { display: none !important; }` so we also need the `!important` here to be able to override the default hidden behavior on the sphinx rendered scikit-learn.org. See: https://github.com/scikit-learn/scikit-learn/issues/21755 */display: inline-block !important;position: relative;}#sk-container-id-48 div.sk-text-repr-fallback {display: none;}</style><div id=\"sk-container-id-48\" class=\"sk-top-container\"><div class=\"sk-text-repr-fallback\"><pre>FractionSupportXGBClassifier(base_score=None, booster=None, callbacks=None,\n",
              "                             colsample_bylevel=None, colsample_bynode=None,\n",
              "                             colsample_bytree=None, device=None,\n",
              "                             early_stopping_rounds=100,\n",
              "                             enable_categorical=False, eval_metric=None,\n",
              "                             feature_types=None, fraction_ratio=0.2, gamma=None,\n",
              "                             grow_policy=None, importance_type=None,\n",
              "                             interaction_constraints=None, learning_rate=None,\n",
              "                             max_bin=None, max_cat_threshold=None,\n",
              "                             max_cat_to_onehot=None, max_delta_step=None,\n",
              "                             max_depth=None, max_leaves=None,\n",
              "                             min_child_weight=None, missing=nan,\n",
              "                             monotone_constraints=None, multi_strategy=None,\n",
              "                             n_estimators=10000, n_jobs=None,\n",
              "                             num_parallel_tree=None, ...)</pre><b>In a Jupyter environment, please rerun this cell to show the HTML representation or trust the notebook. <br />On GitHub, the HTML representation is unable to render, please try loading this page with nbviewer.org.</b></div><div class=\"sk-container\" hidden><div class=\"sk-item\"><div class=\"sk-estimator sk-toggleable\"><input class=\"sk-toggleable__control sk-hidden--visually\" id=\"sk-estimator-id-70\" type=\"checkbox\" checked><label for=\"sk-estimator-id-70\" class=\"sk-toggleable__label sk-toggleable__label-arrow\">FractionSupportXGBClassifier</label><div class=\"sk-toggleable__content\"><pre>FractionSupportXGBClassifier(base_score=None, booster=None, callbacks=None,\n",
              "                             colsample_bylevel=None, colsample_bynode=None,\n",
              "                             colsample_bytree=None, device=None,\n",
              "                             early_stopping_rounds=100,\n",
              "                             enable_categorical=False, eval_metric=None,\n",
              "                             feature_types=None, fraction_ratio=0.2, gamma=None,\n",
              "                             grow_policy=None, importance_type=None,\n",
              "                             interaction_constraints=None, learning_rate=None,\n",
              "                             max_bin=None, max_cat_threshold=None,\n",
              "                             max_cat_to_onehot=None, max_delta_step=None,\n",
              "                             max_depth=None, max_leaves=None,\n",
              "                             min_child_weight=None, missing=nan,\n",
              "                             monotone_constraints=None, multi_strategy=None,\n",
              "                             n_estimators=10000, n_jobs=None,\n",
              "                             num_parallel_tree=None, ...)</pre></div></div></div></div></div>"
            ]
          },
          "metadata": {},
          "execution_count": 171
        }
      ]
    },
    {
      "cell_type": "code",
      "source": [
        "f1_score(y_true=y_test, y_pred=wrap_xgb.predict(X_test))"
      ],
      "metadata": {
        "colab": {
          "base_uri": "https://localhost:8080/"
        },
        "id": "QgxNVwG4Xewf",
        "outputId": "74bb6cae-a0d9-4bf5-f7fa-234139bd71aa"
      },
      "execution_count": 172,
      "outputs": [
        {
          "output_type": "execute_result",
          "data": {
            "text/plain": [
              "0.9618055555555556"
            ]
          },
          "metadata": {},
          "execution_count": 172
        }
      ]
    },
    {
      "cell_type": "code",
      "source": [
        "vc2 = VotingClassifier(\n",
        "    estimators=[\n",
        "        ('pipe1', p1),\n",
        "        ('pipe2', p2),\n",
        "        ('xgb', FractionSupportXGBClassifier(n_estimators=10000, fraction_ratio=.2, early_stopping_rounds=10))\n",
        "        ],\n",
        "    voting='soft')\n",
        "vc2"
      ],
      "metadata": {
        "colab": {
          "base_uri": "https://localhost:8080/",
          "height": 143
        },
        "id": "UamrFuTycvdU",
        "outputId": "4428b504-628f-46f7-8233-443edca720fe"
      },
      "execution_count": 175,
      "outputs": [
        {
          "output_type": "execute_result",
          "data": {
            "text/plain": [
              "VotingClassifier(estimators=[('pipe1',\n",
              "                              Pipeline(steps=[('scaler', StandardScaler()),\n",
              "                                              ('gbc',\n",
              "                                               GradientBoostingClassifier(validation_fraction=0.2))])),\n",
              "                             ('pipe2',\n",
              "                              Pipeline(steps=[('scaler', StandardScaler()),\n",
              "                                              ('lgc', LogisticRegression())])),\n",
              "                             ('xgb',\n",
              "                              FractionSupportXGBClassifier(base_score=None,\n",
              "                                                           booster=None,\n",
              "                                                           callbacks=None,\n",
              "                                                           colsample_bylevel=None,\n",
              "                                                           colsample_bynode=...\n",
              "                                                           grow_policy=None,\n",
              "                                                           importance_type=None,\n",
              "                                                           interaction_constraints=None,\n",
              "                                                           learning_rate=None,\n",
              "                                                           max_bin=None,\n",
              "                                                           max_cat_threshold=None,\n",
              "                                                           max_cat_to_onehot=None,\n",
              "                                                           max_delta_step=None,\n",
              "                                                           max_depth=None,\n",
              "                                                           max_leaves=None,\n",
              "                                                           min_child_weight=None,\n",
              "                                                           missing=nan,\n",
              "                                                           monotone_constraints=None,\n",
              "                                                           multi_strategy=None,\n",
              "                                                           n_estimators=10000,\n",
              "                                                           n_jobs=None,\n",
              "                                                           num_parallel_tree=None, ...))],\n",
              "                 voting='soft')"
            ],
            "text/html": [
              "<style>#sk-container-id-51 {color: black;background-color: white;}#sk-container-id-51 pre{padding: 0;}#sk-container-id-51 div.sk-toggleable {background-color: white;}#sk-container-id-51 label.sk-toggleable__label {cursor: pointer;display: block;width: 100%;margin-bottom: 0;padding: 0.3em;box-sizing: border-box;text-align: center;}#sk-container-id-51 label.sk-toggleable__label-arrow:before {content: \"▸\";float: left;margin-right: 0.25em;color: #696969;}#sk-container-id-51 label.sk-toggleable__label-arrow:hover:before {color: black;}#sk-container-id-51 div.sk-estimator:hover label.sk-toggleable__label-arrow:before {color: black;}#sk-container-id-51 div.sk-toggleable__content {max-height: 0;max-width: 0;overflow: hidden;text-align: left;background-color: #f0f8ff;}#sk-container-id-51 div.sk-toggleable__content pre {margin: 0.2em;color: black;border-radius: 0.25em;background-color: #f0f8ff;}#sk-container-id-51 input.sk-toggleable__control:checked~div.sk-toggleable__content {max-height: 200px;max-width: 100%;overflow: auto;}#sk-container-id-51 input.sk-toggleable__control:checked~label.sk-toggleable__label-arrow:before {content: \"▾\";}#sk-container-id-51 div.sk-estimator input.sk-toggleable__control:checked~label.sk-toggleable__label {background-color: #d4ebff;}#sk-container-id-51 div.sk-label input.sk-toggleable__control:checked~label.sk-toggleable__label {background-color: #d4ebff;}#sk-container-id-51 input.sk-hidden--visually {border: 0;clip: rect(1px 1px 1px 1px);clip: rect(1px, 1px, 1px, 1px);height: 1px;margin: -1px;overflow: hidden;padding: 0;position: absolute;width: 1px;}#sk-container-id-51 div.sk-estimator {font-family: monospace;background-color: #f0f8ff;border: 1px dotted black;border-radius: 0.25em;box-sizing: border-box;margin-bottom: 0.5em;}#sk-container-id-51 div.sk-estimator:hover {background-color: #d4ebff;}#sk-container-id-51 div.sk-parallel-item::after {content: \"\";width: 100%;border-bottom: 1px solid gray;flex-grow: 1;}#sk-container-id-51 div.sk-label:hover label.sk-toggleable__label {background-color: #d4ebff;}#sk-container-id-51 div.sk-serial::before {content: \"\";position: absolute;border-left: 1px solid gray;box-sizing: border-box;top: 0;bottom: 0;left: 50%;z-index: 0;}#sk-container-id-51 div.sk-serial {display: flex;flex-direction: column;align-items: center;background-color: white;padding-right: 0.2em;padding-left: 0.2em;position: relative;}#sk-container-id-51 div.sk-item {position: relative;z-index: 1;}#sk-container-id-51 div.sk-parallel {display: flex;align-items: stretch;justify-content: center;background-color: white;position: relative;}#sk-container-id-51 div.sk-item::before, #sk-container-id-51 div.sk-parallel-item::before {content: \"\";position: absolute;border-left: 1px solid gray;box-sizing: border-box;top: 0;bottom: 0;left: 50%;z-index: -1;}#sk-container-id-51 div.sk-parallel-item {display: flex;flex-direction: column;z-index: 1;position: relative;background-color: white;}#sk-container-id-51 div.sk-parallel-item:first-child::after {align-self: flex-end;width: 50%;}#sk-container-id-51 div.sk-parallel-item:last-child::after {align-self: flex-start;width: 50%;}#sk-container-id-51 div.sk-parallel-item:only-child::after {width: 0;}#sk-container-id-51 div.sk-dashed-wrapped {border: 1px dashed gray;margin: 0 0.4em 0.5em 0.4em;box-sizing: border-box;padding-bottom: 0.4em;background-color: white;}#sk-container-id-51 div.sk-label label {font-family: monospace;font-weight: bold;display: inline-block;line-height: 1.2em;}#sk-container-id-51 div.sk-label-container {text-align: center;}#sk-container-id-51 div.sk-container {/* jupyter's `normalize.less` sets `[hidden] { display: none; }` but bootstrap.min.css set `[hidden] { display: none !important; }` so we also need the `!important` here to be able to override the default hidden behavior on the sphinx rendered scikit-learn.org. See: https://github.com/scikit-learn/scikit-learn/issues/21755 */display: inline-block !important;position: relative;}#sk-container-id-51 div.sk-text-repr-fallback {display: none;}</style><div id=\"sk-container-id-51\" class=\"sk-top-container\"><div class=\"sk-text-repr-fallback\"><pre>VotingClassifier(estimators=[(&#x27;pipe1&#x27;,\n",
              "                              Pipeline(steps=[(&#x27;scaler&#x27;, StandardScaler()),\n",
              "                                              (&#x27;gbc&#x27;,\n",
              "                                               GradientBoostingClassifier(validation_fraction=0.2))])),\n",
              "                             (&#x27;pipe2&#x27;,\n",
              "                              Pipeline(steps=[(&#x27;scaler&#x27;, StandardScaler()),\n",
              "                                              (&#x27;lgc&#x27;, LogisticRegression())])),\n",
              "                             (&#x27;xgb&#x27;,\n",
              "                              FractionSupportXGBClassifier(base_score=None,\n",
              "                                                           booster=None,\n",
              "                                                           callbacks=None,\n",
              "                                                           colsample_bylevel=None,\n",
              "                                                           colsample_bynode=...\n",
              "                                                           grow_policy=None,\n",
              "                                                           importance_type=None,\n",
              "                                                           interaction_constraints=None,\n",
              "                                                           learning_rate=None,\n",
              "                                                           max_bin=None,\n",
              "                                                           max_cat_threshold=None,\n",
              "                                                           max_cat_to_onehot=None,\n",
              "                                                           max_delta_step=None,\n",
              "                                                           max_depth=None,\n",
              "                                                           max_leaves=None,\n",
              "                                                           min_child_weight=None,\n",
              "                                                           missing=nan,\n",
              "                                                           monotone_constraints=None,\n",
              "                                                           multi_strategy=None,\n",
              "                                                           n_estimators=10000,\n",
              "                                                           n_jobs=None,\n",
              "                                                           num_parallel_tree=None, ...))],\n",
              "                 voting=&#x27;soft&#x27;)</pre><b>In a Jupyter environment, please rerun this cell to show the HTML representation or trust the notebook. <br />On GitHub, the HTML representation is unable to render, please try loading this page with nbviewer.org.</b></div><div class=\"sk-container\" hidden><div class=\"sk-item sk-dashed-wrapped\"><div class=\"sk-label-container\"><div class=\"sk-label sk-toggleable\"><input class=\"sk-toggleable__control sk-hidden--visually\" id=\"sk-estimator-id-83\" type=\"checkbox\" ><label for=\"sk-estimator-id-83\" class=\"sk-toggleable__label sk-toggleable__label-arrow\">VotingClassifier</label><div class=\"sk-toggleable__content\"><pre>VotingClassifier(estimators=[(&#x27;pipe1&#x27;,\n",
              "                              Pipeline(steps=[(&#x27;scaler&#x27;, StandardScaler()),\n",
              "                                              (&#x27;gbc&#x27;,\n",
              "                                               GradientBoostingClassifier(validation_fraction=0.2))])),\n",
              "                             (&#x27;pipe2&#x27;,\n",
              "                              Pipeline(steps=[(&#x27;scaler&#x27;, StandardScaler()),\n",
              "                                              (&#x27;lgc&#x27;, LogisticRegression())])),\n",
              "                             (&#x27;xgb&#x27;,\n",
              "                              FractionSupportXGBClassifier(base_score=None,\n",
              "                                                           booster=None,\n",
              "                                                           callbacks=None,\n",
              "                                                           colsample_bylevel=None,\n",
              "                                                           colsample_bynode=...\n",
              "                                                           grow_policy=None,\n",
              "                                                           importance_type=None,\n",
              "                                                           interaction_constraints=None,\n",
              "                                                           learning_rate=None,\n",
              "                                                           max_bin=None,\n",
              "                                                           max_cat_threshold=None,\n",
              "                                                           max_cat_to_onehot=None,\n",
              "                                                           max_delta_step=None,\n",
              "                                                           max_depth=None,\n",
              "                                                           max_leaves=None,\n",
              "                                                           min_child_weight=None,\n",
              "                                                           missing=nan,\n",
              "                                                           monotone_constraints=None,\n",
              "                                                           multi_strategy=None,\n",
              "                                                           n_estimators=10000,\n",
              "                                                           n_jobs=None,\n",
              "                                                           num_parallel_tree=None, ...))],\n",
              "                 voting=&#x27;soft&#x27;)</pre></div></div></div><div class=\"sk-parallel\"><div class=\"sk-parallel-item\"><div class=\"sk-item\"><div class=\"sk-label-container\"><div class=\"sk-label sk-toggleable\"><label>pipe1</label></div></div><div class=\"sk-serial\"><div class=\"sk-item\"><div class=\"sk-serial\"><div class=\"sk-item\"><div class=\"sk-estimator sk-toggleable\"><input class=\"sk-toggleable__control sk-hidden--visually\" id=\"sk-estimator-id-84\" type=\"checkbox\" ><label for=\"sk-estimator-id-84\" class=\"sk-toggleable__label sk-toggleable__label-arrow\">StandardScaler</label><div class=\"sk-toggleable__content\"><pre>StandardScaler()</pre></div></div></div><div class=\"sk-item\"><div class=\"sk-estimator sk-toggleable\"><input class=\"sk-toggleable__control sk-hidden--visually\" id=\"sk-estimator-id-85\" type=\"checkbox\" ><label for=\"sk-estimator-id-85\" class=\"sk-toggleable__label sk-toggleable__label-arrow\">GradientBoostingClassifier</label><div class=\"sk-toggleable__content\"><pre>GradientBoostingClassifier(validation_fraction=0.2)</pre></div></div></div></div></div></div></div></div><div class=\"sk-parallel-item\"><div class=\"sk-item\"><div class=\"sk-label-container\"><div class=\"sk-label sk-toggleable\"><label>pipe2</label></div></div><div class=\"sk-serial\"><div class=\"sk-item\"><div class=\"sk-serial\"><div class=\"sk-item\"><div class=\"sk-estimator sk-toggleable\"><input class=\"sk-toggleable__control sk-hidden--visually\" id=\"sk-estimator-id-86\" type=\"checkbox\" ><label for=\"sk-estimator-id-86\" class=\"sk-toggleable__label sk-toggleable__label-arrow\">StandardScaler</label><div class=\"sk-toggleable__content\"><pre>StandardScaler()</pre></div></div></div><div class=\"sk-item\"><div class=\"sk-estimator sk-toggleable\"><input class=\"sk-toggleable__control sk-hidden--visually\" id=\"sk-estimator-id-87\" type=\"checkbox\" ><label for=\"sk-estimator-id-87\" class=\"sk-toggleable__label sk-toggleable__label-arrow\">LogisticRegression</label><div class=\"sk-toggleable__content\"><pre>LogisticRegression()</pre></div></div></div></div></div></div></div></div><div class=\"sk-parallel-item\"><div class=\"sk-item\"><div class=\"sk-label-container\"><div class=\"sk-label sk-toggleable\"><label>xgb</label></div></div><div class=\"sk-serial\"><div class=\"sk-item\"><div class=\"sk-estimator sk-toggleable\"><input class=\"sk-toggleable__control sk-hidden--visually\" id=\"sk-estimator-id-88\" type=\"checkbox\" ><label for=\"sk-estimator-id-88\" class=\"sk-toggleable__label sk-toggleable__label-arrow\">FractionSupportXGBClassifier</label><div class=\"sk-toggleable__content\"><pre>FractionSupportXGBClassifier(base_score=None, booster=None, callbacks=None,\n",
              "                             colsample_bylevel=None, colsample_bynode=None,\n",
              "                             colsample_bytree=None, device=None,\n",
              "                             early_stopping_rounds=10, enable_categorical=False,\n",
              "                             eval_metric=None, feature_types=None,\n",
              "                             fraction_ratio=0.2, gamma=None, grow_policy=None,\n",
              "                             importance_type=None, interaction_constraints=None,\n",
              "                             learning_rate=None, max_bin=None,\n",
              "                             max_cat_threshold=None, max_cat_to_onehot=None,\n",
              "                             max_delta_step=None, max_depth=None,\n",
              "                             max_leaves=None, min_child_weight=None,\n",
              "                             missing=nan, monotone_constraints=None,\n",
              "                             multi_strategy=None, n_estimators=10000,\n",
              "                             n_jobs=None, num_parallel_tree=None, ...)</pre></div></div></div></div></div></div></div></div></div></div>"
            ]
          },
          "metadata": {},
          "execution_count": 175
        }
      ]
    },
    {
      "cell_type": "code",
      "source": [
        "vc2.fit(X_train, y_train)"
      ],
      "metadata": {
        "colab": {
          "base_uri": "https://localhost:8080/",
          "height": 1000
        },
        "id": "fJoWV_GghXGa",
        "outputId": "f22ae924-e6cd-494f-f1fd-b62aa21121ef"
      },
      "execution_count": 176,
      "outputs": [
        {
          "output_type": "stream",
          "name": "stdout",
          "text": [
            "[0]\tvalidation_0-logloss:0.47153\tvalidation_1-logloss:0.48214\n",
            "[1]\tvalidation_0-logloss:0.36128\tvalidation_1-logloss:0.34513\n",
            "[2]\tvalidation_0-logloss:0.28144\tvalidation_1-logloss:0.25438\n",
            "[3]\tvalidation_0-logloss:0.22450\tvalidation_1-logloss:0.19361\n",
            "[4]\tvalidation_0-logloss:0.17983\tvalidation_1-logloss:0.15013\n",
            "[5]\tvalidation_0-logloss:0.15225\tvalidation_1-logloss:0.12101\n",
            "[6]\tvalidation_0-logloss:0.12784\tvalidation_1-logloss:0.09957\n",
            "[7]\tvalidation_0-logloss:0.11123\tvalidation_1-logloss:0.08710\n",
            "[8]\tvalidation_0-logloss:0.09797\tvalidation_1-logloss:0.07212\n",
            "[9]\tvalidation_0-logloss:0.08610\tvalidation_1-logloss:0.06094\n",
            "[10]\tvalidation_0-logloss:0.07643\tvalidation_1-logloss:0.05145\n",
            "[11]\tvalidation_0-logloss:0.06825\tvalidation_1-logloss:0.04714\n",
            "[12]\tvalidation_0-logloss:0.06160\tvalidation_1-logloss:0.04092\n",
            "[13]\tvalidation_0-logloss:0.05595\tvalidation_1-logloss:0.03835\n",
            "[14]\tvalidation_0-logloss:0.05145\tvalidation_1-logloss:0.03417\n",
            "[15]\tvalidation_0-logloss:0.04793\tvalidation_1-logloss:0.03109\n",
            "[16]\tvalidation_0-logloss:0.04475\tvalidation_1-logloss:0.02824\n",
            "[17]\tvalidation_0-logloss:0.04243\tvalidation_1-logloss:0.02655\n",
            "[18]\tvalidation_0-logloss:0.04077\tvalidation_1-logloss:0.02633\n",
            "[19]\tvalidation_0-logloss:0.03902\tvalidation_1-logloss:0.02391\n",
            "[20]\tvalidation_0-logloss:0.03777\tvalidation_1-logloss:0.02391\n",
            "[21]\tvalidation_0-logloss:0.03701\tvalidation_1-logloss:0.02190\n",
            "[22]\tvalidation_0-logloss:0.03606\tvalidation_1-logloss:0.02201\n",
            "[23]\tvalidation_0-logloss:0.03549\tvalidation_1-logloss:0.02047\n",
            "[24]\tvalidation_0-logloss:0.03474\tvalidation_1-logloss:0.02008\n",
            "[25]\tvalidation_0-logloss:0.03436\tvalidation_1-logloss:0.01876\n",
            "[26]\tvalidation_0-logloss:0.03361\tvalidation_1-logloss:0.01894\n",
            "[27]\tvalidation_0-logloss:0.03295\tvalidation_1-logloss:0.01922\n",
            "[28]\tvalidation_0-logloss:0.03263\tvalidation_1-logloss:0.01812\n",
            "[29]\tvalidation_0-logloss:0.03207\tvalidation_1-logloss:0.01791\n",
            "[30]\tvalidation_0-logloss:0.03141\tvalidation_1-logloss:0.01820\n",
            "[31]\tvalidation_0-logloss:0.03113\tvalidation_1-logloss:0.01720\n",
            "[32]\tvalidation_0-logloss:0.03055\tvalidation_1-logloss:0.01744\n",
            "[33]\tvalidation_0-logloss:0.03012\tvalidation_1-logloss:0.01730\n",
            "[34]\tvalidation_0-logloss:0.02989\tvalidation_1-logloss:0.01642\n",
            "[35]\tvalidation_0-logloss:0.02937\tvalidation_1-logloss:0.01671\n",
            "[36]\tvalidation_0-logloss:0.02897\tvalidation_1-logloss:0.01660\n",
            "[37]\tvalidation_0-logloss:0.02851\tvalidation_1-logloss:0.01686\n",
            "[38]\tvalidation_0-logloss:0.02831\tvalidation_1-logloss:0.01604\n",
            "[39]\tvalidation_0-logloss:0.02785\tvalidation_1-logloss:0.01635\n",
            "[40]\tvalidation_0-logloss:0.02767\tvalidation_1-logloss:0.01560\n",
            "[41]\tvalidation_0-logloss:0.02733\tvalidation_1-logloss:0.01552\n",
            "[42]\tvalidation_0-logloss:0.02715\tvalidation_1-logloss:0.01481\n",
            "[43]\tvalidation_0-logloss:0.02676\tvalidation_1-logloss:0.01511\n",
            "[44]\tvalidation_0-logloss:0.02662\tvalidation_1-logloss:0.01446\n",
            "[45]\tvalidation_0-logloss:0.02619\tvalidation_1-logloss:0.01487\n"
          ]
        },
        {
          "output_type": "stream",
          "name": "stderr",
          "text": [
            "/usr/local/lib/python3.10/dist-packages/xgboost/core.py:160: UserWarning: [02:19:05] WARNING: /workspace/src/learner.cc:742: \n",
            "Parameters: { \"fraction_ratio\" } are not used.\n",
            "\n",
            "  warnings.warn(smsg, UserWarning)\n"
          ]
        },
        {
          "output_type": "stream",
          "name": "stdout",
          "text": [
            "[46]\tvalidation_0-logloss:0.02583\tvalidation_1-logloss:0.01511\n",
            "[47]\tvalidation_0-logloss:0.02571\tvalidation_1-logloss:0.01448\n",
            "[48]\tvalidation_0-logloss:0.02542\tvalidation_1-logloss:0.01442\n",
            "[49]\tvalidation_0-logloss:0.02508\tvalidation_1-logloss:0.01463\n",
            "[50]\tvalidation_0-logloss:0.02498\tvalidation_1-logloss:0.01406\n",
            "[51]\tvalidation_0-logloss:0.02470\tvalidation_1-logloss:0.01414\n",
            "[52]\tvalidation_0-logloss:0.02449\tvalidation_1-logloss:0.01404\n",
            "[53]\tvalidation_0-logloss:0.02439\tvalidation_1-logloss:0.01351\n",
            "[54]\tvalidation_0-logloss:0.02412\tvalidation_1-logloss:0.01374\n",
            "[55]\tvalidation_0-logloss:0.02404\tvalidation_1-logloss:0.01325\n",
            "[56]\tvalidation_0-logloss:0.02373\tvalidation_1-logloss:0.01360\n",
            "[57]\tvalidation_0-logloss:0.02368\tvalidation_1-logloss:0.01314\n",
            "[58]\tvalidation_0-logloss:0.02340\tvalidation_1-logloss:0.01347\n",
            "[59]\tvalidation_0-logloss:0.02321\tvalidation_1-logloss:0.01355\n",
            "[60]\tvalidation_0-logloss:0.02315\tvalidation_1-logloss:0.01309\n",
            "[61]\tvalidation_0-logloss:0.02314\tvalidation_1-logloss:0.01310\n",
            "[62]\tvalidation_0-logloss:0.02314\tvalidation_1-logloss:0.01310\n",
            "[63]\tvalidation_0-logloss:0.02316\tvalidation_1-logloss:0.01299\n",
            "[64]\tvalidation_0-logloss:0.02316\tvalidation_1-logloss:0.01299\n",
            "[65]\tvalidation_0-logloss:0.02316\tvalidation_1-logloss:0.01299\n",
            "[66]\tvalidation_0-logloss:0.02316\tvalidation_1-logloss:0.01299\n",
            "[67]\tvalidation_0-logloss:0.02316\tvalidation_1-logloss:0.01299\n",
            "[68]\tvalidation_0-logloss:0.02316\tvalidation_1-logloss:0.01299\n",
            "[69]\tvalidation_0-logloss:0.02316\tvalidation_1-logloss:0.01299\n",
            "[70]\tvalidation_0-logloss:0.02316\tvalidation_1-logloss:0.01299\n",
            "[71]\tvalidation_0-logloss:0.02316\tvalidation_1-logloss:0.01299\n",
            "[72]\tvalidation_0-logloss:0.02316\tvalidation_1-logloss:0.01299\n"
          ]
        },
        {
          "output_type": "execute_result",
          "data": {
            "text/plain": [
              "VotingClassifier(estimators=[('pipe1',\n",
              "                              Pipeline(steps=[('scaler', StandardScaler()),\n",
              "                                              ('gbc',\n",
              "                                               GradientBoostingClassifier(validation_fraction=0.2))])),\n",
              "                             ('pipe2',\n",
              "                              Pipeline(steps=[('scaler', StandardScaler()),\n",
              "                                              ('lgc', LogisticRegression())])),\n",
              "                             ('xgb',\n",
              "                              FractionSupportXGBClassifier(base_score=None,\n",
              "                                                           booster=None,\n",
              "                                                           callbacks=None,\n",
              "                                                           colsample_bylevel=None,\n",
              "                                                           colsample_bynode=...\n",
              "                                                           grow_policy=None,\n",
              "                                                           importance_type=None,\n",
              "                                                           interaction_constraints=None,\n",
              "                                                           learning_rate=None,\n",
              "                                                           max_bin=None,\n",
              "                                                           max_cat_threshold=None,\n",
              "                                                           max_cat_to_onehot=None,\n",
              "                                                           max_delta_step=None,\n",
              "                                                           max_depth=None,\n",
              "                                                           max_leaves=None,\n",
              "                                                           min_child_weight=None,\n",
              "                                                           missing=nan,\n",
              "                                                           monotone_constraints=None,\n",
              "                                                           multi_strategy=None,\n",
              "                                                           n_estimators=10000,\n",
              "                                                           n_jobs=None,\n",
              "                                                           num_parallel_tree=None, ...))],\n",
              "                 voting='soft')"
            ],
            "text/html": [
              "<style>#sk-container-id-52 {color: black;background-color: white;}#sk-container-id-52 pre{padding: 0;}#sk-container-id-52 div.sk-toggleable {background-color: white;}#sk-container-id-52 label.sk-toggleable__label {cursor: pointer;display: block;width: 100%;margin-bottom: 0;padding: 0.3em;box-sizing: border-box;text-align: center;}#sk-container-id-52 label.sk-toggleable__label-arrow:before {content: \"▸\";float: left;margin-right: 0.25em;color: #696969;}#sk-container-id-52 label.sk-toggleable__label-arrow:hover:before {color: black;}#sk-container-id-52 div.sk-estimator:hover label.sk-toggleable__label-arrow:before {color: black;}#sk-container-id-52 div.sk-toggleable__content {max-height: 0;max-width: 0;overflow: hidden;text-align: left;background-color: #f0f8ff;}#sk-container-id-52 div.sk-toggleable__content pre {margin: 0.2em;color: black;border-radius: 0.25em;background-color: #f0f8ff;}#sk-container-id-52 input.sk-toggleable__control:checked~div.sk-toggleable__content {max-height: 200px;max-width: 100%;overflow: auto;}#sk-container-id-52 input.sk-toggleable__control:checked~label.sk-toggleable__label-arrow:before {content: \"▾\";}#sk-container-id-52 div.sk-estimator input.sk-toggleable__control:checked~label.sk-toggleable__label {background-color: #d4ebff;}#sk-container-id-52 div.sk-label input.sk-toggleable__control:checked~label.sk-toggleable__label {background-color: #d4ebff;}#sk-container-id-52 input.sk-hidden--visually {border: 0;clip: rect(1px 1px 1px 1px);clip: rect(1px, 1px, 1px, 1px);height: 1px;margin: -1px;overflow: hidden;padding: 0;position: absolute;width: 1px;}#sk-container-id-52 div.sk-estimator {font-family: monospace;background-color: #f0f8ff;border: 1px dotted black;border-radius: 0.25em;box-sizing: border-box;margin-bottom: 0.5em;}#sk-container-id-52 div.sk-estimator:hover {background-color: #d4ebff;}#sk-container-id-52 div.sk-parallel-item::after {content: \"\";width: 100%;border-bottom: 1px solid gray;flex-grow: 1;}#sk-container-id-52 div.sk-label:hover label.sk-toggleable__label {background-color: #d4ebff;}#sk-container-id-52 div.sk-serial::before {content: \"\";position: absolute;border-left: 1px solid gray;box-sizing: border-box;top: 0;bottom: 0;left: 50%;z-index: 0;}#sk-container-id-52 div.sk-serial {display: flex;flex-direction: column;align-items: center;background-color: white;padding-right: 0.2em;padding-left: 0.2em;position: relative;}#sk-container-id-52 div.sk-item {position: relative;z-index: 1;}#sk-container-id-52 div.sk-parallel {display: flex;align-items: stretch;justify-content: center;background-color: white;position: relative;}#sk-container-id-52 div.sk-item::before, #sk-container-id-52 div.sk-parallel-item::before {content: \"\";position: absolute;border-left: 1px solid gray;box-sizing: border-box;top: 0;bottom: 0;left: 50%;z-index: -1;}#sk-container-id-52 div.sk-parallel-item {display: flex;flex-direction: column;z-index: 1;position: relative;background-color: white;}#sk-container-id-52 div.sk-parallel-item:first-child::after {align-self: flex-end;width: 50%;}#sk-container-id-52 div.sk-parallel-item:last-child::after {align-self: flex-start;width: 50%;}#sk-container-id-52 div.sk-parallel-item:only-child::after {width: 0;}#sk-container-id-52 div.sk-dashed-wrapped {border: 1px dashed gray;margin: 0 0.4em 0.5em 0.4em;box-sizing: border-box;padding-bottom: 0.4em;background-color: white;}#sk-container-id-52 div.sk-label label {font-family: monospace;font-weight: bold;display: inline-block;line-height: 1.2em;}#sk-container-id-52 div.sk-label-container {text-align: center;}#sk-container-id-52 div.sk-container {/* jupyter's `normalize.less` sets `[hidden] { display: none; }` but bootstrap.min.css set `[hidden] { display: none !important; }` so we also need the `!important` here to be able to override the default hidden behavior on the sphinx rendered scikit-learn.org. See: https://github.com/scikit-learn/scikit-learn/issues/21755 */display: inline-block !important;position: relative;}#sk-container-id-52 div.sk-text-repr-fallback {display: none;}</style><div id=\"sk-container-id-52\" class=\"sk-top-container\"><div class=\"sk-text-repr-fallback\"><pre>VotingClassifier(estimators=[(&#x27;pipe1&#x27;,\n",
              "                              Pipeline(steps=[(&#x27;scaler&#x27;, StandardScaler()),\n",
              "                                              (&#x27;gbc&#x27;,\n",
              "                                               GradientBoostingClassifier(validation_fraction=0.2))])),\n",
              "                             (&#x27;pipe2&#x27;,\n",
              "                              Pipeline(steps=[(&#x27;scaler&#x27;, StandardScaler()),\n",
              "                                              (&#x27;lgc&#x27;, LogisticRegression())])),\n",
              "                             (&#x27;xgb&#x27;,\n",
              "                              FractionSupportXGBClassifier(base_score=None,\n",
              "                                                           booster=None,\n",
              "                                                           callbacks=None,\n",
              "                                                           colsample_bylevel=None,\n",
              "                                                           colsample_bynode=...\n",
              "                                                           grow_policy=None,\n",
              "                                                           importance_type=None,\n",
              "                                                           interaction_constraints=None,\n",
              "                                                           learning_rate=None,\n",
              "                                                           max_bin=None,\n",
              "                                                           max_cat_threshold=None,\n",
              "                                                           max_cat_to_onehot=None,\n",
              "                                                           max_delta_step=None,\n",
              "                                                           max_depth=None,\n",
              "                                                           max_leaves=None,\n",
              "                                                           min_child_weight=None,\n",
              "                                                           missing=nan,\n",
              "                                                           monotone_constraints=None,\n",
              "                                                           multi_strategy=None,\n",
              "                                                           n_estimators=10000,\n",
              "                                                           n_jobs=None,\n",
              "                                                           num_parallel_tree=None, ...))],\n",
              "                 voting=&#x27;soft&#x27;)</pre><b>In a Jupyter environment, please rerun this cell to show the HTML representation or trust the notebook. <br />On GitHub, the HTML representation is unable to render, please try loading this page with nbviewer.org.</b></div><div class=\"sk-container\" hidden><div class=\"sk-item sk-dashed-wrapped\"><div class=\"sk-label-container\"><div class=\"sk-label sk-toggleable\"><input class=\"sk-toggleable__control sk-hidden--visually\" id=\"sk-estimator-id-89\" type=\"checkbox\" ><label for=\"sk-estimator-id-89\" class=\"sk-toggleable__label sk-toggleable__label-arrow\">VotingClassifier</label><div class=\"sk-toggleable__content\"><pre>VotingClassifier(estimators=[(&#x27;pipe1&#x27;,\n",
              "                              Pipeline(steps=[(&#x27;scaler&#x27;, StandardScaler()),\n",
              "                                              (&#x27;gbc&#x27;,\n",
              "                                               GradientBoostingClassifier(validation_fraction=0.2))])),\n",
              "                             (&#x27;pipe2&#x27;,\n",
              "                              Pipeline(steps=[(&#x27;scaler&#x27;, StandardScaler()),\n",
              "                                              (&#x27;lgc&#x27;, LogisticRegression())])),\n",
              "                             (&#x27;xgb&#x27;,\n",
              "                              FractionSupportXGBClassifier(base_score=None,\n",
              "                                                           booster=None,\n",
              "                                                           callbacks=None,\n",
              "                                                           colsample_bylevel=None,\n",
              "                                                           colsample_bynode=...\n",
              "                                                           grow_policy=None,\n",
              "                                                           importance_type=None,\n",
              "                                                           interaction_constraints=None,\n",
              "                                                           learning_rate=None,\n",
              "                                                           max_bin=None,\n",
              "                                                           max_cat_threshold=None,\n",
              "                                                           max_cat_to_onehot=None,\n",
              "                                                           max_delta_step=None,\n",
              "                                                           max_depth=None,\n",
              "                                                           max_leaves=None,\n",
              "                                                           min_child_weight=None,\n",
              "                                                           missing=nan,\n",
              "                                                           monotone_constraints=None,\n",
              "                                                           multi_strategy=None,\n",
              "                                                           n_estimators=10000,\n",
              "                                                           n_jobs=None,\n",
              "                                                           num_parallel_tree=None, ...))],\n",
              "                 voting=&#x27;soft&#x27;)</pre></div></div></div><div class=\"sk-parallel\"><div class=\"sk-parallel-item\"><div class=\"sk-item\"><div class=\"sk-label-container\"><div class=\"sk-label sk-toggleable\"><label>pipe1</label></div></div><div class=\"sk-serial\"><div class=\"sk-item\"><div class=\"sk-serial\"><div class=\"sk-item\"><div class=\"sk-estimator sk-toggleable\"><input class=\"sk-toggleable__control sk-hidden--visually\" id=\"sk-estimator-id-90\" type=\"checkbox\" ><label for=\"sk-estimator-id-90\" class=\"sk-toggleable__label sk-toggleable__label-arrow\">StandardScaler</label><div class=\"sk-toggleable__content\"><pre>StandardScaler()</pre></div></div></div><div class=\"sk-item\"><div class=\"sk-estimator sk-toggleable\"><input class=\"sk-toggleable__control sk-hidden--visually\" id=\"sk-estimator-id-91\" type=\"checkbox\" ><label for=\"sk-estimator-id-91\" class=\"sk-toggleable__label sk-toggleable__label-arrow\">GradientBoostingClassifier</label><div class=\"sk-toggleable__content\"><pre>GradientBoostingClassifier(validation_fraction=0.2)</pre></div></div></div></div></div></div></div></div><div class=\"sk-parallel-item\"><div class=\"sk-item\"><div class=\"sk-label-container\"><div class=\"sk-label sk-toggleable\"><label>pipe2</label></div></div><div class=\"sk-serial\"><div class=\"sk-item\"><div class=\"sk-serial\"><div class=\"sk-item\"><div class=\"sk-estimator sk-toggleable\"><input class=\"sk-toggleable__control sk-hidden--visually\" id=\"sk-estimator-id-92\" type=\"checkbox\" ><label for=\"sk-estimator-id-92\" class=\"sk-toggleable__label sk-toggleable__label-arrow\">StandardScaler</label><div class=\"sk-toggleable__content\"><pre>StandardScaler()</pre></div></div></div><div class=\"sk-item\"><div class=\"sk-estimator sk-toggleable\"><input class=\"sk-toggleable__control sk-hidden--visually\" id=\"sk-estimator-id-93\" type=\"checkbox\" ><label for=\"sk-estimator-id-93\" class=\"sk-toggleable__label sk-toggleable__label-arrow\">LogisticRegression</label><div class=\"sk-toggleable__content\"><pre>LogisticRegression()</pre></div></div></div></div></div></div></div></div><div class=\"sk-parallel-item\"><div class=\"sk-item\"><div class=\"sk-label-container\"><div class=\"sk-label sk-toggleable\"><label>xgb</label></div></div><div class=\"sk-serial\"><div class=\"sk-item\"><div class=\"sk-estimator sk-toggleable\"><input class=\"sk-toggleable__control sk-hidden--visually\" id=\"sk-estimator-id-94\" type=\"checkbox\" ><label for=\"sk-estimator-id-94\" class=\"sk-toggleable__label sk-toggleable__label-arrow\">FractionSupportXGBClassifier</label><div class=\"sk-toggleable__content\"><pre>FractionSupportXGBClassifier(base_score=None, booster=None, callbacks=None,\n",
              "                             colsample_bylevel=None, colsample_bynode=None,\n",
              "                             colsample_bytree=None, device=None,\n",
              "                             early_stopping_rounds=10, enable_categorical=False,\n",
              "                             eval_metric=None, feature_types=None,\n",
              "                             fraction_ratio=0.2, gamma=None, grow_policy=None,\n",
              "                             importance_type=None, interaction_constraints=None,\n",
              "                             learning_rate=None, max_bin=None,\n",
              "                             max_cat_threshold=None, max_cat_to_onehot=None,\n",
              "                             max_delta_step=None, max_depth=None,\n",
              "                             max_leaves=None, min_child_weight=None,\n",
              "                             missing=nan, monotone_constraints=None,\n",
              "                             multi_strategy=None, n_estimators=10000,\n",
              "                             n_jobs=None, num_parallel_tree=None, ...)</pre></div></div></div></div></div></div></div></div></div></div>"
            ]
          },
          "metadata": {},
          "execution_count": 176
        }
      ]
    },
    {
      "cell_type": "code",
      "source": [
        "f1_score(y_true=y_test, y_pred=vc2.predict(X_test))"
      ],
      "metadata": {
        "colab": {
          "base_uri": "https://localhost:8080/"
        },
        "id": "krwwPH8ZhfHn",
        "outputId": "24eb62ec-8f1e-4812-83b2-679b766a198f"
      },
      "execution_count": 177,
      "outputs": [
        {
          "output_type": "execute_result",
          "data": {
            "text/plain": [
              "0.958041958041958"
            ]
          },
          "metadata": {},
          "execution_count": 177
        }
      ]
    },
    {
      "cell_type": "code",
      "source": [],
      "metadata": {
        "id": "6Dw8OunshnUX"
      },
      "execution_count": null,
      "outputs": []
    }
  ]
}