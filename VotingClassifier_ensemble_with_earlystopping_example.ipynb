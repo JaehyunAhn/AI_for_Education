{
  "nbformat": 4,
  "nbformat_minor": 0,
  "metadata": {
    "colab": {
      "provenance": [],
      "authorship_tag": "ABX9TyN0rJx1vgM2Y+xdZOmIgA1s",
      "include_colab_link": true
    },
    "kernelspec": {
      "name": "python3",
      "display_name": "Python 3"
    },
    "language_info": {
      "name": "python"
    }
  },
  "cells": [
    {
      "cell_type": "markdown",
      "metadata": {
        "id": "view-in-github",
        "colab_type": "text"
      },
      "source": [
        "<a href=\"https://colab.research.google.com/github/JaehyunAhn/AI_for_Education/blob/master/VotingClassifier_ensemble_with_earlystopping_example.ipynb\" target=\"_parent\"><img src=\"https://colab.research.google.com/assets/colab-badge.svg\" alt=\"Open In Colab\"/></a>"
      ]
    },
    {
      "cell_type": "code",
      "source": [
        "!pip install xgboost==1.6.1\n",
        "!pip install --upgrade scikit-learn"
      ],
      "metadata": {
        "colab": {
          "base_uri": "https://localhost:8080/",
          "height": 567
        },
        "id": "_teOFgWmehl7",
        "outputId": "a15e438c-b70e-4322-efea-114160ce3258"
      },
      "execution_count": null,
      "outputs": [
        {
          "output_type": "stream",
          "name": "stdout",
          "text": [
            "Collecting xgboost==1.6.1\n",
            "  Downloading xgboost-1.6.1-py3-none-manylinux2014_x86_64.whl (192.9 MB)\n",
            "\u001b[2K     \u001b[90m━━━━━━━━━━━━━━━━━━━━━━━━━━━━━━━━━━━━━━━━\u001b[0m \u001b[32m192.9/192.9 MB\u001b[0m \u001b[31m2.6 MB/s\u001b[0m eta \u001b[36m0:00:00\u001b[0m\n",
            "\u001b[?25hRequirement already satisfied: numpy in /usr/local/lib/python3.10/dist-packages (from xgboost==1.6.1) (1.23.5)\n",
            "Requirement already satisfied: scipy in /usr/local/lib/python3.10/dist-packages (from xgboost==1.6.1) (1.11.3)\n",
            "Installing collected packages: xgboost\n",
            "  Attempting uninstall: xgboost\n",
            "    Found existing installation: xgboost 2.0.1\n",
            "    Uninstalling xgboost-2.0.1:\n",
            "      Successfully uninstalled xgboost-2.0.1\n",
            "Successfully installed xgboost-1.6.1\n",
            "Requirement already satisfied: scikit-learn in /usr/local/lib/python3.10/dist-packages (1.2.2)\n",
            "Collecting scikit-learn\n",
            "  Downloading scikit_learn-1.3.2-cp310-cp310-manylinux_2_17_x86_64.manylinux2014_x86_64.whl (10.8 MB)\n",
            "\u001b[2K     \u001b[90m━━━━━━━━━━━━━━━━━━━━━━━━━━━━━━━━━━━━━━━━\u001b[0m \u001b[32m10.8/10.8 MB\u001b[0m \u001b[31m79.9 MB/s\u001b[0m eta \u001b[36m0:00:00\u001b[0m\n",
            "\u001b[?25hRequirement already satisfied: numpy<2.0,>=1.17.3 in /usr/local/lib/python3.10/dist-packages (from scikit-learn) (1.23.5)\n",
            "Requirement already satisfied: scipy>=1.5.0 in /usr/local/lib/python3.10/dist-packages (from scikit-learn) (1.11.3)\n",
            "Requirement already satisfied: joblib>=1.1.1 in /usr/local/lib/python3.10/dist-packages (from scikit-learn) (1.3.2)\n",
            "Requirement already satisfied: threadpoolctl>=2.0.0 in /usr/local/lib/python3.10/dist-packages (from scikit-learn) (3.2.0)\n",
            "Installing collected packages: scikit-learn\n",
            "  Attempting uninstall: scikit-learn\n",
            "    Found existing installation: scikit-learn 1.2.2\n",
            "    Uninstalling scikit-learn-1.2.2:\n",
            "      Successfully uninstalled scikit-learn-1.2.2\n",
            "Successfully installed scikit-learn-1.3.2\n"
          ]
        },
        {
          "output_type": "display_data",
          "data": {
            "application/vnd.colab-display-data+json": {
              "pip_warning": {
                "packages": [
                  "sklearn"
                ]
              }
            }
          },
          "metadata": {}
        }
      ]
    },
    {
      "cell_type": "code",
      "source": [
        "import xgboost\n",
        "from sklearn.metrics import f1_score\n",
        "\n",
        "xgboost.__version__"
      ],
      "metadata": {
        "colab": {
          "base_uri": "https://localhost:8080/",
          "height": 36
        },
        "id": "AjaJ8byCemQI",
        "outputId": "e17c0078-5c75-4f6d-e90e-7616964d0d47"
      },
      "execution_count": 2,
      "outputs": [
        {
          "output_type": "execute_result",
          "data": {
            "text/plain": [
              "'2.0.2'"
            ],
            "application/vnd.google.colaboratory.intrinsic+json": {
              "type": "string"
            }
          },
          "metadata": {},
          "execution_count": 2
        }
      ]
    },
    {
      "cell_type": "code",
      "source": [],
      "metadata": {
        "id": "f4m5NGtBcqkW"
      },
      "execution_count": 2,
      "outputs": []
    },
    {
      "cell_type": "code",
      "execution_count": 3,
      "metadata": {
        "id": "19SqG-jTASv9"
      },
      "outputs": [],
      "source": [
        "from sklearn.pipeline import Pipeline\n",
        "from sklearn.ensemble import VotingClassifier\n",
        "from xgboost import XGBClassifier\n",
        "from sklearn.preprocessing import StandardScaler\n",
        "from sklearn.datasets import load_breast_cancer\n",
        "from sklearn.model_selection import train_test_split\n",
        "from sklearn.base import BaseEstimator, TransformerMixin\n",
        "from sklearn.linear_model import LogisticRegression\n",
        "from sklearn.ensemble import GradientBoostingClassifier\n",
        "\n",
        "\n",
        "X, y = load_breast_cancer(return_X_y=True, as_frame=True)\n",
        "\n",
        "# Split your data into training and validation sets\n",
        "X_train, X_test, y_train, y_test = train_test_split(X, y, test_size=0.8, random_state=42)"
      ]
    },
    {
      "cell_type": "code",
      "source": [
        "gbc = GradientBoostingClassifier(n_estimators=100, validation_fraction=.2)\n",
        "lgc = LogisticRegression()\n",
        "scaler = StandardScaler().set_output(transform='pandas')"
      ],
      "metadata": {
        "id": "5rYSMEe3vHfe"
      },
      "execution_count": 4,
      "outputs": []
    },
    {
      "cell_type": "code",
      "source": [
        "p1 = Pipeline([\n",
        "    ('scaler', scaler),\n",
        "    ('gbc', gbc)\n",
        "])\n",
        "p2 = Pipeline([\n",
        "    ('scaler', scaler),\n",
        "    ('lgc', lgc)\n",
        "])\n",
        "\n",
        "voting_classifier = VotingClassifier(\n",
        "    estimators=[\n",
        "        ('pipe1', p1),\n",
        "        ('pipe2', p2)\n",
        "        ],\n",
        "    voting='soft'\n",
        ")\n",
        "\n",
        "voting_classifier"
      ],
      "metadata": {
        "colab": {
          "base_uri": "https://localhost:8080/",
          "height": 143
        },
        "id": "J_sHxdDpU2nf",
        "outputId": "6a299b21-ce74-4faf-f5db-754a355d9e3c"
      },
      "execution_count": 5,
      "outputs": [
        {
          "output_type": "execute_result",
          "data": {
            "text/plain": [
              "VotingClassifier(estimators=[('pipe1',\n",
              "                              Pipeline(steps=[('scaler', StandardScaler()),\n",
              "                                              ('gbc',\n",
              "                                               GradientBoostingClassifier(validation_fraction=0.2))])),\n",
              "                             ('pipe2',\n",
              "                              Pipeline(steps=[('scaler', StandardScaler()),\n",
              "                                              ('lgc', LogisticRegression())]))],\n",
              "                 voting='soft')"
            ],
            "text/html": [
              "<style>#sk-container-id-1 {color: black;background-color: white;}#sk-container-id-1 pre{padding: 0;}#sk-container-id-1 div.sk-toggleable {background-color: white;}#sk-container-id-1 label.sk-toggleable__label {cursor: pointer;display: block;width: 100%;margin-bottom: 0;padding: 0.3em;box-sizing: border-box;text-align: center;}#sk-container-id-1 label.sk-toggleable__label-arrow:before {content: \"▸\";float: left;margin-right: 0.25em;color: #696969;}#sk-container-id-1 label.sk-toggleable__label-arrow:hover:before {color: black;}#sk-container-id-1 div.sk-estimator:hover label.sk-toggleable__label-arrow:before {color: black;}#sk-container-id-1 div.sk-toggleable__content {max-height: 0;max-width: 0;overflow: hidden;text-align: left;background-color: #f0f8ff;}#sk-container-id-1 div.sk-toggleable__content pre {margin: 0.2em;color: black;border-radius: 0.25em;background-color: #f0f8ff;}#sk-container-id-1 input.sk-toggleable__control:checked~div.sk-toggleable__content {max-height: 200px;max-width: 100%;overflow: auto;}#sk-container-id-1 input.sk-toggleable__control:checked~label.sk-toggleable__label-arrow:before {content: \"▾\";}#sk-container-id-1 div.sk-estimator input.sk-toggleable__control:checked~label.sk-toggleable__label {background-color: #d4ebff;}#sk-container-id-1 div.sk-label input.sk-toggleable__control:checked~label.sk-toggleable__label {background-color: #d4ebff;}#sk-container-id-1 input.sk-hidden--visually {border: 0;clip: rect(1px 1px 1px 1px);clip: rect(1px, 1px, 1px, 1px);height: 1px;margin: -1px;overflow: hidden;padding: 0;position: absolute;width: 1px;}#sk-container-id-1 div.sk-estimator {font-family: monospace;background-color: #f0f8ff;border: 1px dotted black;border-radius: 0.25em;box-sizing: border-box;margin-bottom: 0.5em;}#sk-container-id-1 div.sk-estimator:hover {background-color: #d4ebff;}#sk-container-id-1 div.sk-parallel-item::after {content: \"\";width: 100%;border-bottom: 1px solid gray;flex-grow: 1;}#sk-container-id-1 div.sk-label:hover label.sk-toggleable__label {background-color: #d4ebff;}#sk-container-id-1 div.sk-serial::before {content: \"\";position: absolute;border-left: 1px solid gray;box-sizing: border-box;top: 0;bottom: 0;left: 50%;z-index: 0;}#sk-container-id-1 div.sk-serial {display: flex;flex-direction: column;align-items: center;background-color: white;padding-right: 0.2em;padding-left: 0.2em;position: relative;}#sk-container-id-1 div.sk-item {position: relative;z-index: 1;}#sk-container-id-1 div.sk-parallel {display: flex;align-items: stretch;justify-content: center;background-color: white;position: relative;}#sk-container-id-1 div.sk-item::before, #sk-container-id-1 div.sk-parallel-item::before {content: \"\";position: absolute;border-left: 1px solid gray;box-sizing: border-box;top: 0;bottom: 0;left: 50%;z-index: -1;}#sk-container-id-1 div.sk-parallel-item {display: flex;flex-direction: column;z-index: 1;position: relative;background-color: white;}#sk-container-id-1 div.sk-parallel-item:first-child::after {align-self: flex-end;width: 50%;}#sk-container-id-1 div.sk-parallel-item:last-child::after {align-self: flex-start;width: 50%;}#sk-container-id-1 div.sk-parallel-item:only-child::after {width: 0;}#sk-container-id-1 div.sk-dashed-wrapped {border: 1px dashed gray;margin: 0 0.4em 0.5em 0.4em;box-sizing: border-box;padding-bottom: 0.4em;background-color: white;}#sk-container-id-1 div.sk-label label {font-family: monospace;font-weight: bold;display: inline-block;line-height: 1.2em;}#sk-container-id-1 div.sk-label-container {text-align: center;}#sk-container-id-1 div.sk-container {/* jupyter's `normalize.less` sets `[hidden] { display: none; }` but bootstrap.min.css set `[hidden] { display: none !important; }` so we also need the `!important` here to be able to override the default hidden behavior on the sphinx rendered scikit-learn.org. See: https://github.com/scikit-learn/scikit-learn/issues/21755 */display: inline-block !important;position: relative;}#sk-container-id-1 div.sk-text-repr-fallback {display: none;}</style><div id=\"sk-container-id-1\" class=\"sk-top-container\"><div class=\"sk-text-repr-fallback\"><pre>VotingClassifier(estimators=[(&#x27;pipe1&#x27;,\n",
              "                              Pipeline(steps=[(&#x27;scaler&#x27;, StandardScaler()),\n",
              "                                              (&#x27;gbc&#x27;,\n",
              "                                               GradientBoostingClassifier(validation_fraction=0.2))])),\n",
              "                             (&#x27;pipe2&#x27;,\n",
              "                              Pipeline(steps=[(&#x27;scaler&#x27;, StandardScaler()),\n",
              "                                              (&#x27;lgc&#x27;, LogisticRegression())]))],\n",
              "                 voting=&#x27;soft&#x27;)</pre><b>In a Jupyter environment, please rerun this cell to show the HTML representation or trust the notebook. <br />On GitHub, the HTML representation is unable to render, please try loading this page with nbviewer.org.</b></div><div class=\"sk-container\" hidden><div class=\"sk-item sk-dashed-wrapped\"><div class=\"sk-label-container\"><div class=\"sk-label sk-toggleable\"><input class=\"sk-toggleable__control sk-hidden--visually\" id=\"sk-estimator-id-1\" type=\"checkbox\" ><label for=\"sk-estimator-id-1\" class=\"sk-toggleable__label sk-toggleable__label-arrow\">VotingClassifier</label><div class=\"sk-toggleable__content\"><pre>VotingClassifier(estimators=[(&#x27;pipe1&#x27;,\n",
              "                              Pipeline(steps=[(&#x27;scaler&#x27;, StandardScaler()),\n",
              "                                              (&#x27;gbc&#x27;,\n",
              "                                               GradientBoostingClassifier(validation_fraction=0.2))])),\n",
              "                             (&#x27;pipe2&#x27;,\n",
              "                              Pipeline(steps=[(&#x27;scaler&#x27;, StandardScaler()),\n",
              "                                              (&#x27;lgc&#x27;, LogisticRegression())]))],\n",
              "                 voting=&#x27;soft&#x27;)</pre></div></div></div><div class=\"sk-parallel\"><div class=\"sk-parallel-item\"><div class=\"sk-item\"><div class=\"sk-label-container\"><div class=\"sk-label sk-toggleable\"><label>pipe1</label></div></div><div class=\"sk-serial\"><div class=\"sk-item\"><div class=\"sk-serial\"><div class=\"sk-item\"><div class=\"sk-estimator sk-toggleable\"><input class=\"sk-toggleable__control sk-hidden--visually\" id=\"sk-estimator-id-2\" type=\"checkbox\" ><label for=\"sk-estimator-id-2\" class=\"sk-toggleable__label sk-toggleable__label-arrow\">StandardScaler</label><div class=\"sk-toggleable__content\"><pre>StandardScaler()</pre></div></div></div><div class=\"sk-item\"><div class=\"sk-estimator sk-toggleable\"><input class=\"sk-toggleable__control sk-hidden--visually\" id=\"sk-estimator-id-3\" type=\"checkbox\" ><label for=\"sk-estimator-id-3\" class=\"sk-toggleable__label sk-toggleable__label-arrow\">GradientBoostingClassifier</label><div class=\"sk-toggleable__content\"><pre>GradientBoostingClassifier(validation_fraction=0.2)</pre></div></div></div></div></div></div></div></div><div class=\"sk-parallel-item\"><div class=\"sk-item\"><div class=\"sk-label-container\"><div class=\"sk-label sk-toggleable\"><label>pipe2</label></div></div><div class=\"sk-serial\"><div class=\"sk-item\"><div class=\"sk-serial\"><div class=\"sk-item\"><div class=\"sk-estimator sk-toggleable\"><input class=\"sk-toggleable__control sk-hidden--visually\" id=\"sk-estimator-id-4\" type=\"checkbox\" ><label for=\"sk-estimator-id-4\" class=\"sk-toggleable__label sk-toggleable__label-arrow\">StandardScaler</label><div class=\"sk-toggleable__content\"><pre>StandardScaler()</pre></div></div></div><div class=\"sk-item\"><div class=\"sk-estimator sk-toggleable\"><input class=\"sk-toggleable__control sk-hidden--visually\" id=\"sk-estimator-id-5\" type=\"checkbox\" ><label for=\"sk-estimator-id-5\" class=\"sk-toggleable__label sk-toggleable__label-arrow\">LogisticRegression</label><div class=\"sk-toggleable__content\"><pre>LogisticRegression()</pre></div></div></div></div></div></div></div></div></div></div></div></div>"
            ]
          },
          "metadata": {},
          "execution_count": 5
        }
      ]
    },
    {
      "cell_type": "code",
      "source": [
        "voting_classifier.fit(X_train, y_train)"
      ],
      "metadata": {
        "colab": {
          "base_uri": "https://localhost:8080/",
          "height": 143
        },
        "id": "Vgq3Sr8px5PQ",
        "outputId": "396bad1e-8ac8-4a49-aa34-8a11841147c7"
      },
      "execution_count": 6,
      "outputs": [
        {
          "output_type": "execute_result",
          "data": {
            "text/plain": [
              "VotingClassifier(estimators=[('pipe1',\n",
              "                              Pipeline(steps=[('scaler', StandardScaler()),\n",
              "                                              ('gbc',\n",
              "                                               GradientBoostingClassifier(validation_fraction=0.2))])),\n",
              "                             ('pipe2',\n",
              "                              Pipeline(steps=[('scaler', StandardScaler()),\n",
              "                                              ('lgc', LogisticRegression())]))],\n",
              "                 voting='soft')"
            ],
            "text/html": [
              "<style>#sk-container-id-2 {color: black;background-color: white;}#sk-container-id-2 pre{padding: 0;}#sk-container-id-2 div.sk-toggleable {background-color: white;}#sk-container-id-2 label.sk-toggleable__label {cursor: pointer;display: block;width: 100%;margin-bottom: 0;padding: 0.3em;box-sizing: border-box;text-align: center;}#sk-container-id-2 label.sk-toggleable__label-arrow:before {content: \"▸\";float: left;margin-right: 0.25em;color: #696969;}#sk-container-id-2 label.sk-toggleable__label-arrow:hover:before {color: black;}#sk-container-id-2 div.sk-estimator:hover label.sk-toggleable__label-arrow:before {color: black;}#sk-container-id-2 div.sk-toggleable__content {max-height: 0;max-width: 0;overflow: hidden;text-align: left;background-color: #f0f8ff;}#sk-container-id-2 div.sk-toggleable__content pre {margin: 0.2em;color: black;border-radius: 0.25em;background-color: #f0f8ff;}#sk-container-id-2 input.sk-toggleable__control:checked~div.sk-toggleable__content {max-height: 200px;max-width: 100%;overflow: auto;}#sk-container-id-2 input.sk-toggleable__control:checked~label.sk-toggleable__label-arrow:before {content: \"▾\";}#sk-container-id-2 div.sk-estimator input.sk-toggleable__control:checked~label.sk-toggleable__label {background-color: #d4ebff;}#sk-container-id-2 div.sk-label input.sk-toggleable__control:checked~label.sk-toggleable__label {background-color: #d4ebff;}#sk-container-id-2 input.sk-hidden--visually {border: 0;clip: rect(1px 1px 1px 1px);clip: rect(1px, 1px, 1px, 1px);height: 1px;margin: -1px;overflow: hidden;padding: 0;position: absolute;width: 1px;}#sk-container-id-2 div.sk-estimator {font-family: monospace;background-color: #f0f8ff;border: 1px dotted black;border-radius: 0.25em;box-sizing: border-box;margin-bottom: 0.5em;}#sk-container-id-2 div.sk-estimator:hover {background-color: #d4ebff;}#sk-container-id-2 div.sk-parallel-item::after {content: \"\";width: 100%;border-bottom: 1px solid gray;flex-grow: 1;}#sk-container-id-2 div.sk-label:hover label.sk-toggleable__label {background-color: #d4ebff;}#sk-container-id-2 div.sk-serial::before {content: \"\";position: absolute;border-left: 1px solid gray;box-sizing: border-box;top: 0;bottom: 0;left: 50%;z-index: 0;}#sk-container-id-2 div.sk-serial {display: flex;flex-direction: column;align-items: center;background-color: white;padding-right: 0.2em;padding-left: 0.2em;position: relative;}#sk-container-id-2 div.sk-item {position: relative;z-index: 1;}#sk-container-id-2 div.sk-parallel {display: flex;align-items: stretch;justify-content: center;background-color: white;position: relative;}#sk-container-id-2 div.sk-item::before, #sk-container-id-2 div.sk-parallel-item::before {content: \"\";position: absolute;border-left: 1px solid gray;box-sizing: border-box;top: 0;bottom: 0;left: 50%;z-index: -1;}#sk-container-id-2 div.sk-parallel-item {display: flex;flex-direction: column;z-index: 1;position: relative;background-color: white;}#sk-container-id-2 div.sk-parallel-item:first-child::after {align-self: flex-end;width: 50%;}#sk-container-id-2 div.sk-parallel-item:last-child::after {align-self: flex-start;width: 50%;}#sk-container-id-2 div.sk-parallel-item:only-child::after {width: 0;}#sk-container-id-2 div.sk-dashed-wrapped {border: 1px dashed gray;margin: 0 0.4em 0.5em 0.4em;box-sizing: border-box;padding-bottom: 0.4em;background-color: white;}#sk-container-id-2 div.sk-label label {font-family: monospace;font-weight: bold;display: inline-block;line-height: 1.2em;}#sk-container-id-2 div.sk-label-container {text-align: center;}#sk-container-id-2 div.sk-container {/* jupyter's `normalize.less` sets `[hidden] { display: none; }` but bootstrap.min.css set `[hidden] { display: none !important; }` so we also need the `!important` here to be able to override the default hidden behavior on the sphinx rendered scikit-learn.org. See: https://github.com/scikit-learn/scikit-learn/issues/21755 */display: inline-block !important;position: relative;}#sk-container-id-2 div.sk-text-repr-fallback {display: none;}</style><div id=\"sk-container-id-2\" class=\"sk-top-container\"><div class=\"sk-text-repr-fallback\"><pre>VotingClassifier(estimators=[(&#x27;pipe1&#x27;,\n",
              "                              Pipeline(steps=[(&#x27;scaler&#x27;, StandardScaler()),\n",
              "                                              (&#x27;gbc&#x27;,\n",
              "                                               GradientBoostingClassifier(validation_fraction=0.2))])),\n",
              "                             (&#x27;pipe2&#x27;,\n",
              "                              Pipeline(steps=[(&#x27;scaler&#x27;, StandardScaler()),\n",
              "                                              (&#x27;lgc&#x27;, LogisticRegression())]))],\n",
              "                 voting=&#x27;soft&#x27;)</pre><b>In a Jupyter environment, please rerun this cell to show the HTML representation or trust the notebook. <br />On GitHub, the HTML representation is unable to render, please try loading this page with nbviewer.org.</b></div><div class=\"sk-container\" hidden><div class=\"sk-item sk-dashed-wrapped\"><div class=\"sk-label-container\"><div class=\"sk-label sk-toggleable\"><input class=\"sk-toggleable__control sk-hidden--visually\" id=\"sk-estimator-id-6\" type=\"checkbox\" ><label for=\"sk-estimator-id-6\" class=\"sk-toggleable__label sk-toggleable__label-arrow\">VotingClassifier</label><div class=\"sk-toggleable__content\"><pre>VotingClassifier(estimators=[(&#x27;pipe1&#x27;,\n",
              "                              Pipeline(steps=[(&#x27;scaler&#x27;, StandardScaler()),\n",
              "                                              (&#x27;gbc&#x27;,\n",
              "                                               GradientBoostingClassifier(validation_fraction=0.2))])),\n",
              "                             (&#x27;pipe2&#x27;,\n",
              "                              Pipeline(steps=[(&#x27;scaler&#x27;, StandardScaler()),\n",
              "                                              (&#x27;lgc&#x27;, LogisticRegression())]))],\n",
              "                 voting=&#x27;soft&#x27;)</pre></div></div></div><div class=\"sk-parallel\"><div class=\"sk-parallel-item\"><div class=\"sk-item\"><div class=\"sk-label-container\"><div class=\"sk-label sk-toggleable\"><label>pipe1</label></div></div><div class=\"sk-serial\"><div class=\"sk-item\"><div class=\"sk-serial\"><div class=\"sk-item\"><div class=\"sk-estimator sk-toggleable\"><input class=\"sk-toggleable__control sk-hidden--visually\" id=\"sk-estimator-id-7\" type=\"checkbox\" ><label for=\"sk-estimator-id-7\" class=\"sk-toggleable__label sk-toggleable__label-arrow\">StandardScaler</label><div class=\"sk-toggleable__content\"><pre>StandardScaler()</pre></div></div></div><div class=\"sk-item\"><div class=\"sk-estimator sk-toggleable\"><input class=\"sk-toggleable__control sk-hidden--visually\" id=\"sk-estimator-id-8\" type=\"checkbox\" ><label for=\"sk-estimator-id-8\" class=\"sk-toggleable__label sk-toggleable__label-arrow\">GradientBoostingClassifier</label><div class=\"sk-toggleable__content\"><pre>GradientBoostingClassifier(validation_fraction=0.2)</pre></div></div></div></div></div></div></div></div><div class=\"sk-parallel-item\"><div class=\"sk-item\"><div class=\"sk-label-container\"><div class=\"sk-label sk-toggleable\"><label>pipe2</label></div></div><div class=\"sk-serial\"><div class=\"sk-item\"><div class=\"sk-serial\"><div class=\"sk-item\"><div class=\"sk-estimator sk-toggleable\"><input class=\"sk-toggleable__control sk-hidden--visually\" id=\"sk-estimator-id-9\" type=\"checkbox\" ><label for=\"sk-estimator-id-9\" class=\"sk-toggleable__label sk-toggleable__label-arrow\">StandardScaler</label><div class=\"sk-toggleable__content\"><pre>StandardScaler()</pre></div></div></div><div class=\"sk-item\"><div class=\"sk-estimator sk-toggleable\"><input class=\"sk-toggleable__control sk-hidden--visually\" id=\"sk-estimator-id-10\" type=\"checkbox\" ><label for=\"sk-estimator-id-10\" class=\"sk-toggleable__label sk-toggleable__label-arrow\">LogisticRegression</label><div class=\"sk-toggleable__content\"><pre>LogisticRegression()</pre></div></div></div></div></div></div></div></div></div></div></div></div>"
            ]
          },
          "metadata": {},
          "execution_count": 6
        }
      ]
    },
    {
      "cell_type": "code",
      "source": [
        "y_pred = voting_classifier.predict(X_test)\n",
        "\n",
        "f1_score(y_true=y_test, y_pred=y_pred)"
      ],
      "metadata": {
        "colab": {
          "base_uri": "https://localhost:8080/"
        },
        "id": "xerfEEAAxyis",
        "outputId": "38af9010-24ad-4f33-a39a-3709d32cff36"
      },
      "execution_count": 7,
      "outputs": [
        {
          "output_type": "execute_result",
          "data": {
            "text/plain": [
              "0.923076923076923"
            ]
          },
          "metadata": {},
          "execution_count": 7
        }
      ]
    },
    {
      "cell_type": "code",
      "source": [
        "# XGBoost model을 따로 학습시키고 VotingClassifier에 추가"
      ],
      "metadata": {
        "id": "VvgKemr4yi2y"
      },
      "execution_count": 8,
      "outputs": []
    },
    {
      "cell_type": "code",
      "source": [
        "xgb = XGBClassifier(n_estimators=10000, early_stopping_rounds=10)\n",
        "xgb.fit(X_train, y_train, eval_set=[(X_train, y_train), (X_test, y_test)])"
      ],
      "metadata": {
        "colab": {
          "base_uri": "https://localhost:8080/",
          "height": 699
        },
        "id": "il6rUcBHxOMs",
        "outputId": "e8829e71-8b38-4e64-eb97-35cd55b8443f"
      },
      "execution_count": 9,
      "outputs": [
        {
          "output_type": "stream",
          "name": "stdout",
          "text": [
            "[0]\tvalidation_0-logloss:0.47369\tvalidation_1-logloss:0.48629\n",
            "[1]\tvalidation_0-logloss:0.35799\tvalidation_1-logloss:0.38499\n",
            "[2]\tvalidation_0-logloss:0.27593\tvalidation_1-logloss:0.32306\n",
            "[3]\tvalidation_0-logloss:0.21821\tvalidation_1-logloss:0.26930\n",
            "[4]\tvalidation_0-logloss:0.17378\tvalidation_1-logloss:0.22892\n",
            "[5]\tvalidation_0-logloss:0.14589\tvalidation_1-logloss:0.20783\n",
            "[6]\tvalidation_0-logloss:0.12209\tvalidation_1-logloss:0.19011\n",
            "[7]\tvalidation_0-logloss:0.10632\tvalidation_1-logloss:0.17637\n",
            "[8]\tvalidation_0-logloss:0.09271\tvalidation_1-logloss:0.16575\n",
            "[9]\tvalidation_0-logloss:0.08098\tvalidation_1-logloss:0.15818\n",
            "[10]\tvalidation_0-logloss:0.07135\tvalidation_1-logloss:0.15290\n",
            "[11]\tvalidation_0-logloss:0.06396\tvalidation_1-logloss:0.14793\n",
            "[12]\tvalidation_0-logloss:0.05739\tvalidation_1-logloss:0.13669\n",
            "[13]\tvalidation_0-logloss:0.05237\tvalidation_1-logloss:0.13677\n",
            "[14]\tvalidation_0-logloss:0.04794\tvalidation_1-logloss:0.12918\n",
            "[15]\tvalidation_0-logloss:0.04450\tvalidation_1-logloss:0.12895\n",
            "[16]\tvalidation_0-logloss:0.04139\tvalidation_1-logloss:0.12327\n",
            "[17]\tvalidation_0-logloss:0.03919\tvalidation_1-logloss:0.12432\n",
            "[18]\tvalidation_0-logloss:0.03783\tvalidation_1-logloss:0.12381\n",
            "[19]\tvalidation_0-logloss:0.03594\tvalidation_1-logloss:0.12399\n",
            "[20]\tvalidation_0-logloss:0.03495\tvalidation_1-logloss:0.12383\n",
            "[21]\tvalidation_0-logloss:0.03393\tvalidation_1-logloss:0.12511\n",
            "[22]\tvalidation_0-logloss:0.03320\tvalidation_1-logloss:0.12522\n",
            "[23]\tvalidation_0-logloss:0.03243\tvalidation_1-logloss:0.12641\n",
            "[24]\tvalidation_0-logloss:0.03176\tvalidation_1-logloss:0.12446\n",
            "[25]\tvalidation_0-logloss:0.03119\tvalidation_1-logloss:0.12572\n"
          ]
        },
        {
          "output_type": "execute_result",
          "data": {
            "text/plain": [
              "XGBClassifier(base_score=None, booster=None, callbacks=None,\n",
              "              colsample_bylevel=None, colsample_bynode=None,\n",
              "              colsample_bytree=None, device=None, early_stopping_rounds=10,\n",
              "              enable_categorical=False, eval_metric=None, feature_types=None,\n",
              "              gamma=None, grow_policy=None, importance_type=None,\n",
              "              interaction_constraints=None, learning_rate=None, max_bin=None,\n",
              "              max_cat_threshold=None, max_cat_to_onehot=None,\n",
              "              max_delta_step=None, max_depth=None, max_leaves=None,\n",
              "              min_child_weight=None, missing=nan, monotone_constraints=None,\n",
              "              multi_strategy=None, n_estimators=10000, n_jobs=None,\n",
              "              num_parallel_tree=None, random_state=None, ...)"
            ],
            "text/html": [
              "<style>#sk-container-id-3 {color: black;background-color: white;}#sk-container-id-3 pre{padding: 0;}#sk-container-id-3 div.sk-toggleable {background-color: white;}#sk-container-id-3 label.sk-toggleable__label {cursor: pointer;display: block;width: 100%;margin-bottom: 0;padding: 0.3em;box-sizing: border-box;text-align: center;}#sk-container-id-3 label.sk-toggleable__label-arrow:before {content: \"▸\";float: left;margin-right: 0.25em;color: #696969;}#sk-container-id-3 label.sk-toggleable__label-arrow:hover:before {color: black;}#sk-container-id-3 div.sk-estimator:hover label.sk-toggleable__label-arrow:before {color: black;}#sk-container-id-3 div.sk-toggleable__content {max-height: 0;max-width: 0;overflow: hidden;text-align: left;background-color: #f0f8ff;}#sk-container-id-3 div.sk-toggleable__content pre {margin: 0.2em;color: black;border-radius: 0.25em;background-color: #f0f8ff;}#sk-container-id-3 input.sk-toggleable__control:checked~div.sk-toggleable__content {max-height: 200px;max-width: 100%;overflow: auto;}#sk-container-id-3 input.sk-toggleable__control:checked~label.sk-toggleable__label-arrow:before {content: \"▾\";}#sk-container-id-3 div.sk-estimator input.sk-toggleable__control:checked~label.sk-toggleable__label {background-color: #d4ebff;}#sk-container-id-3 div.sk-label input.sk-toggleable__control:checked~label.sk-toggleable__label {background-color: #d4ebff;}#sk-container-id-3 input.sk-hidden--visually {border: 0;clip: rect(1px 1px 1px 1px);clip: rect(1px, 1px, 1px, 1px);height: 1px;margin: -1px;overflow: hidden;padding: 0;position: absolute;width: 1px;}#sk-container-id-3 div.sk-estimator {font-family: monospace;background-color: #f0f8ff;border: 1px dotted black;border-radius: 0.25em;box-sizing: border-box;margin-bottom: 0.5em;}#sk-container-id-3 div.sk-estimator:hover {background-color: #d4ebff;}#sk-container-id-3 div.sk-parallel-item::after {content: \"\";width: 100%;border-bottom: 1px solid gray;flex-grow: 1;}#sk-container-id-3 div.sk-label:hover label.sk-toggleable__label {background-color: #d4ebff;}#sk-container-id-3 div.sk-serial::before {content: \"\";position: absolute;border-left: 1px solid gray;box-sizing: border-box;top: 0;bottom: 0;left: 50%;z-index: 0;}#sk-container-id-3 div.sk-serial {display: flex;flex-direction: column;align-items: center;background-color: white;padding-right: 0.2em;padding-left: 0.2em;position: relative;}#sk-container-id-3 div.sk-item {position: relative;z-index: 1;}#sk-container-id-3 div.sk-parallel {display: flex;align-items: stretch;justify-content: center;background-color: white;position: relative;}#sk-container-id-3 div.sk-item::before, #sk-container-id-3 div.sk-parallel-item::before {content: \"\";position: absolute;border-left: 1px solid gray;box-sizing: border-box;top: 0;bottom: 0;left: 50%;z-index: -1;}#sk-container-id-3 div.sk-parallel-item {display: flex;flex-direction: column;z-index: 1;position: relative;background-color: white;}#sk-container-id-3 div.sk-parallel-item:first-child::after {align-self: flex-end;width: 50%;}#sk-container-id-3 div.sk-parallel-item:last-child::after {align-self: flex-start;width: 50%;}#sk-container-id-3 div.sk-parallel-item:only-child::after {width: 0;}#sk-container-id-3 div.sk-dashed-wrapped {border: 1px dashed gray;margin: 0 0.4em 0.5em 0.4em;box-sizing: border-box;padding-bottom: 0.4em;background-color: white;}#sk-container-id-3 div.sk-label label {font-family: monospace;font-weight: bold;display: inline-block;line-height: 1.2em;}#sk-container-id-3 div.sk-label-container {text-align: center;}#sk-container-id-3 div.sk-container {/* jupyter's `normalize.less` sets `[hidden] { display: none; }` but bootstrap.min.css set `[hidden] { display: none !important; }` so we also need the `!important` here to be able to override the default hidden behavior on the sphinx rendered scikit-learn.org. See: https://github.com/scikit-learn/scikit-learn/issues/21755 */display: inline-block !important;position: relative;}#sk-container-id-3 div.sk-text-repr-fallback {display: none;}</style><div id=\"sk-container-id-3\" class=\"sk-top-container\"><div class=\"sk-text-repr-fallback\"><pre>XGBClassifier(base_score=None, booster=None, callbacks=None,\n",
              "              colsample_bylevel=None, colsample_bynode=None,\n",
              "              colsample_bytree=None, device=None, early_stopping_rounds=10,\n",
              "              enable_categorical=False, eval_metric=None, feature_types=None,\n",
              "              gamma=None, grow_policy=None, importance_type=None,\n",
              "              interaction_constraints=None, learning_rate=None, max_bin=None,\n",
              "              max_cat_threshold=None, max_cat_to_onehot=None,\n",
              "              max_delta_step=None, max_depth=None, max_leaves=None,\n",
              "              min_child_weight=None, missing=nan, monotone_constraints=None,\n",
              "              multi_strategy=None, n_estimators=10000, n_jobs=None,\n",
              "              num_parallel_tree=None, random_state=None, ...)</pre><b>In a Jupyter environment, please rerun this cell to show the HTML representation or trust the notebook. <br />On GitHub, the HTML representation is unable to render, please try loading this page with nbviewer.org.</b></div><div class=\"sk-container\" hidden><div class=\"sk-item\"><div class=\"sk-estimator sk-toggleable\"><input class=\"sk-toggleable__control sk-hidden--visually\" id=\"sk-estimator-id-11\" type=\"checkbox\" checked><label for=\"sk-estimator-id-11\" class=\"sk-toggleable__label sk-toggleable__label-arrow\">XGBClassifier</label><div class=\"sk-toggleable__content\"><pre>XGBClassifier(base_score=None, booster=None, callbacks=None,\n",
              "              colsample_bylevel=None, colsample_bynode=None,\n",
              "              colsample_bytree=None, device=None, early_stopping_rounds=10,\n",
              "              enable_categorical=False, eval_metric=None, feature_types=None,\n",
              "              gamma=None, grow_policy=None, importance_type=None,\n",
              "              interaction_constraints=None, learning_rate=None, max_bin=None,\n",
              "              max_cat_threshold=None, max_cat_to_onehot=None,\n",
              "              max_delta_step=None, max_depth=None, max_leaves=None,\n",
              "              min_child_weight=None, missing=nan, monotone_constraints=None,\n",
              "              multi_strategy=None, n_estimators=10000, n_jobs=None,\n",
              "              num_parallel_tree=None, random_state=None, ...)</pre></div></div></div></div></div>"
            ]
          },
          "metadata": {},
          "execution_count": 9
        }
      ]
    },
    {
      "cell_type": "code",
      "source": [
        "y_pred = xgb.predict(X_test)\n",
        "\n",
        "f1_score(y_true=y_test, y_pred=y_pred)"
      ],
      "metadata": {
        "colab": {
          "base_uri": "https://localhost:8080/"
        },
        "id": "vWfihGrOyChx",
        "outputId": "7c91492a-e0f3-4f35-b36a-fe7c08eeb8b2"
      },
      "execution_count": 10,
      "outputs": [
        {
          "output_type": "execute_result",
          "data": {
            "text/plain": [
              "0.9688581314878894"
            ]
          },
          "metadata": {},
          "execution_count": 10
        }
      ]
    },
    {
      "cell_type": "code",
      "source": [
        "voting_classifier.estimators.append(\n",
        "    ['xgb', xgb]\n",
        ")"
      ],
      "metadata": {
        "id": "sUKCwc_0YoIg"
      },
      "execution_count": 11,
      "outputs": []
    },
    {
      "cell_type": "code",
      "source": [
        "voting_classifier"
      ],
      "metadata": {
        "colab": {
          "base_uri": "https://localhost:8080/",
          "height": 143
        },
        "id": "U5ZqcP1KcCMb",
        "outputId": "1e0d4dd3-c791-4016-dc1a-c99dcd4e2b60"
      },
      "execution_count": 12,
      "outputs": [
        {
          "output_type": "execute_result",
          "data": {
            "text/plain": [
              "VotingClassifier(estimators=[('pipe1',\n",
              "                              Pipeline(steps=[('scaler', StandardScaler()),\n",
              "                                              ('gbc',\n",
              "                                               GradientBoostingClassifier(validation_fraction=0.2))])),\n",
              "                             ('pipe2',\n",
              "                              Pipeline(steps=[('scaler', StandardScaler()),\n",
              "                                              ('lgc', LogisticRegression())])),\n",
              "                             ['xgb',\n",
              "                              XGBClassifier(base_score=None, booster=None,\n",
              "                                            callbacks=None,\n",
              "                                            colsample_bylevel=None,\n",
              "                                            colsample_bynode=None,\n",
              "                                            colsample_...\n",
              "                                            importance_type=None,\n",
              "                                            interaction_constraints=None,\n",
              "                                            learning_rate=None, max_bin=None,\n",
              "                                            max_cat_threshold=None,\n",
              "                                            max_cat_to_onehot=None,\n",
              "                                            max_delta_step=None, max_depth=None,\n",
              "                                            max_leaves=None,\n",
              "                                            min_child_weight=None, missing=nan,\n",
              "                                            monotone_constraints=None,\n",
              "                                            multi_strategy=None,\n",
              "                                            n_estimators=10000, n_jobs=None,\n",
              "                                            num_parallel_tree=None,\n",
              "                                            random_state=None, ...)]],\n",
              "                 voting='soft')"
            ],
            "text/html": [
              "<style>#sk-container-id-4 {color: black;background-color: white;}#sk-container-id-4 pre{padding: 0;}#sk-container-id-4 div.sk-toggleable {background-color: white;}#sk-container-id-4 label.sk-toggleable__label {cursor: pointer;display: block;width: 100%;margin-bottom: 0;padding: 0.3em;box-sizing: border-box;text-align: center;}#sk-container-id-4 label.sk-toggleable__label-arrow:before {content: \"▸\";float: left;margin-right: 0.25em;color: #696969;}#sk-container-id-4 label.sk-toggleable__label-arrow:hover:before {color: black;}#sk-container-id-4 div.sk-estimator:hover label.sk-toggleable__label-arrow:before {color: black;}#sk-container-id-4 div.sk-toggleable__content {max-height: 0;max-width: 0;overflow: hidden;text-align: left;background-color: #f0f8ff;}#sk-container-id-4 div.sk-toggleable__content pre {margin: 0.2em;color: black;border-radius: 0.25em;background-color: #f0f8ff;}#sk-container-id-4 input.sk-toggleable__control:checked~div.sk-toggleable__content {max-height: 200px;max-width: 100%;overflow: auto;}#sk-container-id-4 input.sk-toggleable__control:checked~label.sk-toggleable__label-arrow:before {content: \"▾\";}#sk-container-id-4 div.sk-estimator input.sk-toggleable__control:checked~label.sk-toggleable__label {background-color: #d4ebff;}#sk-container-id-4 div.sk-label input.sk-toggleable__control:checked~label.sk-toggleable__label {background-color: #d4ebff;}#sk-container-id-4 input.sk-hidden--visually {border: 0;clip: rect(1px 1px 1px 1px);clip: rect(1px, 1px, 1px, 1px);height: 1px;margin: -1px;overflow: hidden;padding: 0;position: absolute;width: 1px;}#sk-container-id-4 div.sk-estimator {font-family: monospace;background-color: #f0f8ff;border: 1px dotted black;border-radius: 0.25em;box-sizing: border-box;margin-bottom: 0.5em;}#sk-container-id-4 div.sk-estimator:hover {background-color: #d4ebff;}#sk-container-id-4 div.sk-parallel-item::after {content: \"\";width: 100%;border-bottom: 1px solid gray;flex-grow: 1;}#sk-container-id-4 div.sk-label:hover label.sk-toggleable__label {background-color: #d4ebff;}#sk-container-id-4 div.sk-serial::before {content: \"\";position: absolute;border-left: 1px solid gray;box-sizing: border-box;top: 0;bottom: 0;left: 50%;z-index: 0;}#sk-container-id-4 div.sk-serial {display: flex;flex-direction: column;align-items: center;background-color: white;padding-right: 0.2em;padding-left: 0.2em;position: relative;}#sk-container-id-4 div.sk-item {position: relative;z-index: 1;}#sk-container-id-4 div.sk-parallel {display: flex;align-items: stretch;justify-content: center;background-color: white;position: relative;}#sk-container-id-4 div.sk-item::before, #sk-container-id-4 div.sk-parallel-item::before {content: \"\";position: absolute;border-left: 1px solid gray;box-sizing: border-box;top: 0;bottom: 0;left: 50%;z-index: -1;}#sk-container-id-4 div.sk-parallel-item {display: flex;flex-direction: column;z-index: 1;position: relative;background-color: white;}#sk-container-id-4 div.sk-parallel-item:first-child::after {align-self: flex-end;width: 50%;}#sk-container-id-4 div.sk-parallel-item:last-child::after {align-self: flex-start;width: 50%;}#sk-container-id-4 div.sk-parallel-item:only-child::after {width: 0;}#sk-container-id-4 div.sk-dashed-wrapped {border: 1px dashed gray;margin: 0 0.4em 0.5em 0.4em;box-sizing: border-box;padding-bottom: 0.4em;background-color: white;}#sk-container-id-4 div.sk-label label {font-family: monospace;font-weight: bold;display: inline-block;line-height: 1.2em;}#sk-container-id-4 div.sk-label-container {text-align: center;}#sk-container-id-4 div.sk-container {/* jupyter's `normalize.less` sets `[hidden] { display: none; }` but bootstrap.min.css set `[hidden] { display: none !important; }` so we also need the `!important` here to be able to override the default hidden behavior on the sphinx rendered scikit-learn.org. See: https://github.com/scikit-learn/scikit-learn/issues/21755 */display: inline-block !important;position: relative;}#sk-container-id-4 div.sk-text-repr-fallback {display: none;}</style><div id=\"sk-container-id-4\" class=\"sk-top-container\"><div class=\"sk-text-repr-fallback\"><pre>VotingClassifier(estimators=[(&#x27;pipe1&#x27;,\n",
              "                              Pipeline(steps=[(&#x27;scaler&#x27;, StandardScaler()),\n",
              "                                              (&#x27;gbc&#x27;,\n",
              "                                               GradientBoostingClassifier(validation_fraction=0.2))])),\n",
              "                             (&#x27;pipe2&#x27;,\n",
              "                              Pipeline(steps=[(&#x27;scaler&#x27;, StandardScaler()),\n",
              "                                              (&#x27;lgc&#x27;, LogisticRegression())])),\n",
              "                             [&#x27;xgb&#x27;,\n",
              "                              XGBClassifier(base_score=None, booster=None,\n",
              "                                            callbacks=None,\n",
              "                                            colsample_bylevel=None,\n",
              "                                            colsample_bynode=None,\n",
              "                                            colsample_...\n",
              "                                            importance_type=None,\n",
              "                                            interaction_constraints=None,\n",
              "                                            learning_rate=None, max_bin=None,\n",
              "                                            max_cat_threshold=None,\n",
              "                                            max_cat_to_onehot=None,\n",
              "                                            max_delta_step=None, max_depth=None,\n",
              "                                            max_leaves=None,\n",
              "                                            min_child_weight=None, missing=nan,\n",
              "                                            monotone_constraints=None,\n",
              "                                            multi_strategy=None,\n",
              "                                            n_estimators=10000, n_jobs=None,\n",
              "                                            num_parallel_tree=None,\n",
              "                                            random_state=None, ...)]],\n",
              "                 voting=&#x27;soft&#x27;)</pre><b>In a Jupyter environment, please rerun this cell to show the HTML representation or trust the notebook. <br />On GitHub, the HTML representation is unable to render, please try loading this page with nbviewer.org.</b></div><div class=\"sk-container\" hidden><div class=\"sk-item sk-dashed-wrapped\"><div class=\"sk-label-container\"><div class=\"sk-label sk-toggleable\"><input class=\"sk-toggleable__control sk-hidden--visually\" id=\"sk-estimator-id-12\" type=\"checkbox\" ><label for=\"sk-estimator-id-12\" class=\"sk-toggleable__label sk-toggleable__label-arrow\">VotingClassifier</label><div class=\"sk-toggleable__content\"><pre>VotingClassifier(estimators=[(&#x27;pipe1&#x27;,\n",
              "                              Pipeline(steps=[(&#x27;scaler&#x27;, StandardScaler()),\n",
              "                                              (&#x27;gbc&#x27;,\n",
              "                                               GradientBoostingClassifier(validation_fraction=0.2))])),\n",
              "                             (&#x27;pipe2&#x27;,\n",
              "                              Pipeline(steps=[(&#x27;scaler&#x27;, StandardScaler()),\n",
              "                                              (&#x27;lgc&#x27;, LogisticRegression())])),\n",
              "                             [&#x27;xgb&#x27;,\n",
              "                              XGBClassifier(base_score=None, booster=None,\n",
              "                                            callbacks=None,\n",
              "                                            colsample_bylevel=None,\n",
              "                                            colsample_bynode=None,\n",
              "                                            colsample_...\n",
              "                                            importance_type=None,\n",
              "                                            interaction_constraints=None,\n",
              "                                            learning_rate=None, max_bin=None,\n",
              "                                            max_cat_threshold=None,\n",
              "                                            max_cat_to_onehot=None,\n",
              "                                            max_delta_step=None, max_depth=None,\n",
              "                                            max_leaves=None,\n",
              "                                            min_child_weight=None, missing=nan,\n",
              "                                            monotone_constraints=None,\n",
              "                                            multi_strategy=None,\n",
              "                                            n_estimators=10000, n_jobs=None,\n",
              "                                            num_parallel_tree=None,\n",
              "                                            random_state=None, ...)]],\n",
              "                 voting=&#x27;soft&#x27;)</pre></div></div></div><div class=\"sk-parallel\"><div class=\"sk-parallel-item\"><div class=\"sk-item\"><div class=\"sk-label-container\"><div class=\"sk-label sk-toggleable\"><label>pipe1</label></div></div><div class=\"sk-serial\"><div class=\"sk-item\"><div class=\"sk-serial\"><div class=\"sk-item\"><div class=\"sk-estimator sk-toggleable\"><input class=\"sk-toggleable__control sk-hidden--visually\" id=\"sk-estimator-id-13\" type=\"checkbox\" ><label for=\"sk-estimator-id-13\" class=\"sk-toggleable__label sk-toggleable__label-arrow\">StandardScaler</label><div class=\"sk-toggleable__content\"><pre>StandardScaler()</pre></div></div></div><div class=\"sk-item\"><div class=\"sk-estimator sk-toggleable\"><input class=\"sk-toggleable__control sk-hidden--visually\" id=\"sk-estimator-id-14\" type=\"checkbox\" ><label for=\"sk-estimator-id-14\" class=\"sk-toggleable__label sk-toggleable__label-arrow\">GradientBoostingClassifier</label><div class=\"sk-toggleable__content\"><pre>GradientBoostingClassifier(validation_fraction=0.2)</pre></div></div></div></div></div></div></div></div><div class=\"sk-parallel-item\"><div class=\"sk-item\"><div class=\"sk-label-container\"><div class=\"sk-label sk-toggleable\"><label>pipe2</label></div></div><div class=\"sk-serial\"><div class=\"sk-item\"><div class=\"sk-serial\"><div class=\"sk-item\"><div class=\"sk-estimator sk-toggleable\"><input class=\"sk-toggleable__control sk-hidden--visually\" id=\"sk-estimator-id-15\" type=\"checkbox\" ><label for=\"sk-estimator-id-15\" class=\"sk-toggleable__label sk-toggleable__label-arrow\">StandardScaler</label><div class=\"sk-toggleable__content\"><pre>StandardScaler()</pre></div></div></div><div class=\"sk-item\"><div class=\"sk-estimator sk-toggleable\"><input class=\"sk-toggleable__control sk-hidden--visually\" id=\"sk-estimator-id-16\" type=\"checkbox\" ><label for=\"sk-estimator-id-16\" class=\"sk-toggleable__label sk-toggleable__label-arrow\">LogisticRegression</label><div class=\"sk-toggleable__content\"><pre>LogisticRegression()</pre></div></div></div></div></div></div></div></div><div class=\"sk-parallel-item\"><div class=\"sk-item\"><div class=\"sk-label-container\"><div class=\"sk-label sk-toggleable\"><label>xgb</label></div></div><div class=\"sk-serial\"><div class=\"sk-item\"><div class=\"sk-estimator sk-toggleable\"><input class=\"sk-toggleable__control sk-hidden--visually\" id=\"sk-estimator-id-17\" type=\"checkbox\" ><label for=\"sk-estimator-id-17\" class=\"sk-toggleable__label sk-toggleable__label-arrow\">XGBClassifier</label><div class=\"sk-toggleable__content\"><pre>XGBClassifier(base_score=None, booster=None, callbacks=None,\n",
              "              colsample_bylevel=None, colsample_bynode=None,\n",
              "              colsample_bytree=None, device=None, early_stopping_rounds=10,\n",
              "              enable_categorical=False, eval_metric=None, feature_types=None,\n",
              "              gamma=None, grow_policy=None, importance_type=None,\n",
              "              interaction_constraints=None, learning_rate=None, max_bin=None,\n",
              "              max_cat_threshold=None, max_cat_to_onehot=None,\n",
              "              max_delta_step=None, max_depth=None, max_leaves=None,\n",
              "              min_child_weight=None, missing=nan, monotone_constraints=None,\n",
              "              multi_strategy=None, n_estimators=10000, n_jobs=None,\n",
              "              num_parallel_tree=None, random_state=None, ...)</pre></div></div></div></div></div></div></div></div></div></div>"
            ]
          },
          "metadata": {},
          "execution_count": 12
        }
      ]
    },
    {
      "cell_type": "code",
      "source": [
        "y_pred = voting_classifier.predict(X_test)\n",
        "f1_score(y_true=y_test, y_pred=y_pred)"
      ],
      "metadata": {
        "colab": {
          "base_uri": "https://localhost:8080/"
        },
        "id": "azG3V_j2xYMi",
        "outputId": "6415fb56-dfa5-4af1-de10-ea9aec231ba3"
      },
      "execution_count": 13,
      "outputs": [
        {
          "output_type": "execute_result",
          "data": {
            "text/plain": [
              "0.923076923076923"
            ]
          },
          "metadata": {},
          "execution_count": 13
        }
      ]
    },
    {
      "cell_type": "code",
      "source": [
        "import pickle"
      ],
      "metadata": {
        "id": "aGsAvrJzn1JP"
      },
      "execution_count": 14,
      "outputs": []
    },
    {
      "cell_type": "code",
      "source": [
        "xgboost.__version__"
      ],
      "metadata": {
        "colab": {
          "base_uri": "https://localhost:8080/",
          "height": 36
        },
        "id": "lL6KSji-fsUg",
        "outputId": "30c0afd4-e421-4a8b-c9d3-0d01659314ea"
      },
      "execution_count": 15,
      "outputs": [
        {
          "output_type": "execute_result",
          "data": {
            "text/plain": [
              "'2.0.2'"
            ],
            "application/vnd.google.colaboratory.intrinsic+json": {
              "type": "string"
            }
          },
          "metadata": {},
          "execution_count": 15
        }
      ]
    },
    {
      "cell_type": "code",
      "source": [
        "pickle.dump(voting_classifier, open('./test.pkl', 'wb'))"
      ],
      "metadata": {
        "id": "hgyzJx9SaN1R"
      },
      "execution_count": 16,
      "outputs": []
    },
    {
      "cell_type": "code",
      "source": [
        "p = pickle.load(open('./test.pkl', 'rb'))\n",
        "p"
      ],
      "metadata": {
        "colab": {
          "base_uri": "https://localhost:8080/",
          "height": 143
        },
        "id": "ViSCUb7FaTS7",
        "outputId": "226e8f09-5019-4f5b-b64d-860b243f2756"
      },
      "execution_count": 17,
      "outputs": [
        {
          "output_type": "execute_result",
          "data": {
            "text/plain": [
              "VotingClassifier(estimators=[('pipe1',\n",
              "                              Pipeline(steps=[('scaler', StandardScaler()),\n",
              "                                              ('gbc',\n",
              "                                               GradientBoostingClassifier(validation_fraction=0.2))])),\n",
              "                             ('pipe2',\n",
              "                              Pipeline(steps=[('scaler', StandardScaler()),\n",
              "                                              ('lgc', LogisticRegression())])),\n",
              "                             ['xgb',\n",
              "                              XGBClassifier(base_score=None, booster=None,\n",
              "                                            callbacks=None,\n",
              "                                            colsample_bylevel=None,\n",
              "                                            colsample_bynode=None,\n",
              "                                            colsample_...\n",
              "                                            importance_type=None,\n",
              "                                            interaction_constraints=None,\n",
              "                                            learning_rate=None, max_bin=None,\n",
              "                                            max_cat_threshold=None,\n",
              "                                            max_cat_to_onehot=None,\n",
              "                                            max_delta_step=None, max_depth=None,\n",
              "                                            max_leaves=None,\n",
              "                                            min_child_weight=None, missing=nan,\n",
              "                                            monotone_constraints=None,\n",
              "                                            multi_strategy=None,\n",
              "                                            n_estimators=10000, n_jobs=None,\n",
              "                                            num_parallel_tree=None,\n",
              "                                            random_state=None, ...)]],\n",
              "                 voting='soft')"
            ],
            "text/html": [
              "<style>#sk-container-id-5 {color: black;background-color: white;}#sk-container-id-5 pre{padding: 0;}#sk-container-id-5 div.sk-toggleable {background-color: white;}#sk-container-id-5 label.sk-toggleable__label {cursor: pointer;display: block;width: 100%;margin-bottom: 0;padding: 0.3em;box-sizing: border-box;text-align: center;}#sk-container-id-5 label.sk-toggleable__label-arrow:before {content: \"▸\";float: left;margin-right: 0.25em;color: #696969;}#sk-container-id-5 label.sk-toggleable__label-arrow:hover:before {color: black;}#sk-container-id-5 div.sk-estimator:hover label.sk-toggleable__label-arrow:before {color: black;}#sk-container-id-5 div.sk-toggleable__content {max-height: 0;max-width: 0;overflow: hidden;text-align: left;background-color: #f0f8ff;}#sk-container-id-5 div.sk-toggleable__content pre {margin: 0.2em;color: black;border-radius: 0.25em;background-color: #f0f8ff;}#sk-container-id-5 input.sk-toggleable__control:checked~div.sk-toggleable__content {max-height: 200px;max-width: 100%;overflow: auto;}#sk-container-id-5 input.sk-toggleable__control:checked~label.sk-toggleable__label-arrow:before {content: \"▾\";}#sk-container-id-5 div.sk-estimator input.sk-toggleable__control:checked~label.sk-toggleable__label {background-color: #d4ebff;}#sk-container-id-5 div.sk-label input.sk-toggleable__control:checked~label.sk-toggleable__label {background-color: #d4ebff;}#sk-container-id-5 input.sk-hidden--visually {border: 0;clip: rect(1px 1px 1px 1px);clip: rect(1px, 1px, 1px, 1px);height: 1px;margin: -1px;overflow: hidden;padding: 0;position: absolute;width: 1px;}#sk-container-id-5 div.sk-estimator {font-family: monospace;background-color: #f0f8ff;border: 1px dotted black;border-radius: 0.25em;box-sizing: border-box;margin-bottom: 0.5em;}#sk-container-id-5 div.sk-estimator:hover {background-color: #d4ebff;}#sk-container-id-5 div.sk-parallel-item::after {content: \"\";width: 100%;border-bottom: 1px solid gray;flex-grow: 1;}#sk-container-id-5 div.sk-label:hover label.sk-toggleable__label {background-color: #d4ebff;}#sk-container-id-5 div.sk-serial::before {content: \"\";position: absolute;border-left: 1px solid gray;box-sizing: border-box;top: 0;bottom: 0;left: 50%;z-index: 0;}#sk-container-id-5 div.sk-serial {display: flex;flex-direction: column;align-items: center;background-color: white;padding-right: 0.2em;padding-left: 0.2em;position: relative;}#sk-container-id-5 div.sk-item {position: relative;z-index: 1;}#sk-container-id-5 div.sk-parallel {display: flex;align-items: stretch;justify-content: center;background-color: white;position: relative;}#sk-container-id-5 div.sk-item::before, #sk-container-id-5 div.sk-parallel-item::before {content: \"\";position: absolute;border-left: 1px solid gray;box-sizing: border-box;top: 0;bottom: 0;left: 50%;z-index: -1;}#sk-container-id-5 div.sk-parallel-item {display: flex;flex-direction: column;z-index: 1;position: relative;background-color: white;}#sk-container-id-5 div.sk-parallel-item:first-child::after {align-self: flex-end;width: 50%;}#sk-container-id-5 div.sk-parallel-item:last-child::after {align-self: flex-start;width: 50%;}#sk-container-id-5 div.sk-parallel-item:only-child::after {width: 0;}#sk-container-id-5 div.sk-dashed-wrapped {border: 1px dashed gray;margin: 0 0.4em 0.5em 0.4em;box-sizing: border-box;padding-bottom: 0.4em;background-color: white;}#sk-container-id-5 div.sk-label label {font-family: monospace;font-weight: bold;display: inline-block;line-height: 1.2em;}#sk-container-id-5 div.sk-label-container {text-align: center;}#sk-container-id-5 div.sk-container {/* jupyter's `normalize.less` sets `[hidden] { display: none; }` but bootstrap.min.css set `[hidden] { display: none !important; }` so we also need the `!important` here to be able to override the default hidden behavior on the sphinx rendered scikit-learn.org. See: https://github.com/scikit-learn/scikit-learn/issues/21755 */display: inline-block !important;position: relative;}#sk-container-id-5 div.sk-text-repr-fallback {display: none;}</style><div id=\"sk-container-id-5\" class=\"sk-top-container\"><div class=\"sk-text-repr-fallback\"><pre>VotingClassifier(estimators=[(&#x27;pipe1&#x27;,\n",
              "                              Pipeline(steps=[(&#x27;scaler&#x27;, StandardScaler()),\n",
              "                                              (&#x27;gbc&#x27;,\n",
              "                                               GradientBoostingClassifier(validation_fraction=0.2))])),\n",
              "                             (&#x27;pipe2&#x27;,\n",
              "                              Pipeline(steps=[(&#x27;scaler&#x27;, StandardScaler()),\n",
              "                                              (&#x27;lgc&#x27;, LogisticRegression())])),\n",
              "                             [&#x27;xgb&#x27;,\n",
              "                              XGBClassifier(base_score=None, booster=None,\n",
              "                                            callbacks=None,\n",
              "                                            colsample_bylevel=None,\n",
              "                                            colsample_bynode=None,\n",
              "                                            colsample_...\n",
              "                                            importance_type=None,\n",
              "                                            interaction_constraints=None,\n",
              "                                            learning_rate=None, max_bin=None,\n",
              "                                            max_cat_threshold=None,\n",
              "                                            max_cat_to_onehot=None,\n",
              "                                            max_delta_step=None, max_depth=None,\n",
              "                                            max_leaves=None,\n",
              "                                            min_child_weight=None, missing=nan,\n",
              "                                            monotone_constraints=None,\n",
              "                                            multi_strategy=None,\n",
              "                                            n_estimators=10000, n_jobs=None,\n",
              "                                            num_parallel_tree=None,\n",
              "                                            random_state=None, ...)]],\n",
              "                 voting=&#x27;soft&#x27;)</pre><b>In a Jupyter environment, please rerun this cell to show the HTML representation or trust the notebook. <br />On GitHub, the HTML representation is unable to render, please try loading this page with nbviewer.org.</b></div><div class=\"sk-container\" hidden><div class=\"sk-item sk-dashed-wrapped\"><div class=\"sk-label-container\"><div class=\"sk-label sk-toggleable\"><input class=\"sk-toggleable__control sk-hidden--visually\" id=\"sk-estimator-id-18\" type=\"checkbox\" ><label for=\"sk-estimator-id-18\" class=\"sk-toggleable__label sk-toggleable__label-arrow\">VotingClassifier</label><div class=\"sk-toggleable__content\"><pre>VotingClassifier(estimators=[(&#x27;pipe1&#x27;,\n",
              "                              Pipeline(steps=[(&#x27;scaler&#x27;, StandardScaler()),\n",
              "                                              (&#x27;gbc&#x27;,\n",
              "                                               GradientBoostingClassifier(validation_fraction=0.2))])),\n",
              "                             (&#x27;pipe2&#x27;,\n",
              "                              Pipeline(steps=[(&#x27;scaler&#x27;, StandardScaler()),\n",
              "                                              (&#x27;lgc&#x27;, LogisticRegression())])),\n",
              "                             [&#x27;xgb&#x27;,\n",
              "                              XGBClassifier(base_score=None, booster=None,\n",
              "                                            callbacks=None,\n",
              "                                            colsample_bylevel=None,\n",
              "                                            colsample_bynode=None,\n",
              "                                            colsample_...\n",
              "                                            importance_type=None,\n",
              "                                            interaction_constraints=None,\n",
              "                                            learning_rate=None, max_bin=None,\n",
              "                                            max_cat_threshold=None,\n",
              "                                            max_cat_to_onehot=None,\n",
              "                                            max_delta_step=None, max_depth=None,\n",
              "                                            max_leaves=None,\n",
              "                                            min_child_weight=None, missing=nan,\n",
              "                                            monotone_constraints=None,\n",
              "                                            multi_strategy=None,\n",
              "                                            n_estimators=10000, n_jobs=None,\n",
              "                                            num_parallel_tree=None,\n",
              "                                            random_state=None, ...)]],\n",
              "                 voting=&#x27;soft&#x27;)</pre></div></div></div><div class=\"sk-parallel\"><div class=\"sk-parallel-item\"><div class=\"sk-item\"><div class=\"sk-label-container\"><div class=\"sk-label sk-toggleable\"><label>pipe1</label></div></div><div class=\"sk-serial\"><div class=\"sk-item\"><div class=\"sk-serial\"><div class=\"sk-item\"><div class=\"sk-estimator sk-toggleable\"><input class=\"sk-toggleable__control sk-hidden--visually\" id=\"sk-estimator-id-19\" type=\"checkbox\" ><label for=\"sk-estimator-id-19\" class=\"sk-toggleable__label sk-toggleable__label-arrow\">StandardScaler</label><div class=\"sk-toggleable__content\"><pre>StandardScaler()</pre></div></div></div><div class=\"sk-item\"><div class=\"sk-estimator sk-toggleable\"><input class=\"sk-toggleable__control sk-hidden--visually\" id=\"sk-estimator-id-20\" type=\"checkbox\" ><label for=\"sk-estimator-id-20\" class=\"sk-toggleable__label sk-toggleable__label-arrow\">GradientBoostingClassifier</label><div class=\"sk-toggleable__content\"><pre>GradientBoostingClassifier(validation_fraction=0.2)</pre></div></div></div></div></div></div></div></div><div class=\"sk-parallel-item\"><div class=\"sk-item\"><div class=\"sk-label-container\"><div class=\"sk-label sk-toggleable\"><label>pipe2</label></div></div><div class=\"sk-serial\"><div class=\"sk-item\"><div class=\"sk-serial\"><div class=\"sk-item\"><div class=\"sk-estimator sk-toggleable\"><input class=\"sk-toggleable__control sk-hidden--visually\" id=\"sk-estimator-id-21\" type=\"checkbox\" ><label for=\"sk-estimator-id-21\" class=\"sk-toggleable__label sk-toggleable__label-arrow\">StandardScaler</label><div class=\"sk-toggleable__content\"><pre>StandardScaler()</pre></div></div></div><div class=\"sk-item\"><div class=\"sk-estimator sk-toggleable\"><input class=\"sk-toggleable__control sk-hidden--visually\" id=\"sk-estimator-id-22\" type=\"checkbox\" ><label for=\"sk-estimator-id-22\" class=\"sk-toggleable__label sk-toggleable__label-arrow\">LogisticRegression</label><div class=\"sk-toggleable__content\"><pre>LogisticRegression()</pre></div></div></div></div></div></div></div></div><div class=\"sk-parallel-item\"><div class=\"sk-item\"><div class=\"sk-label-container\"><div class=\"sk-label sk-toggleable\"><label>xgb</label></div></div><div class=\"sk-serial\"><div class=\"sk-item\"><div class=\"sk-estimator sk-toggleable\"><input class=\"sk-toggleable__control sk-hidden--visually\" id=\"sk-estimator-id-23\" type=\"checkbox\" ><label for=\"sk-estimator-id-23\" class=\"sk-toggleable__label sk-toggleable__label-arrow\">XGBClassifier</label><div class=\"sk-toggleable__content\"><pre>XGBClassifier(base_score=None, booster=None, callbacks=None,\n",
              "              colsample_bylevel=None, colsample_bynode=None,\n",
              "              colsample_bytree=None, device=None, early_stopping_rounds=10,\n",
              "              enable_categorical=False, eval_metric=None, feature_types=None,\n",
              "              gamma=None, grow_policy=None, importance_type=None,\n",
              "              interaction_constraints=None, learning_rate=None, max_bin=None,\n",
              "              max_cat_threshold=None, max_cat_to_onehot=None,\n",
              "              max_delta_step=None, max_depth=None, max_leaves=None,\n",
              "              min_child_weight=None, missing=nan, monotone_constraints=None,\n",
              "              multi_strategy=None, n_estimators=10000, n_jobs=None,\n",
              "              num_parallel_tree=None, random_state=None, ...)</pre></div></div></div></div></div></div></div></div></div></div>"
            ]
          },
          "metadata": {},
          "execution_count": 17
        }
      ]
    },
    {
      "cell_type": "code",
      "source": [],
      "metadata": {
        "id": "WvNwc7m2aXNf"
      },
      "execution_count": 17,
      "outputs": []
    },
    {
      "cell_type": "markdown",
      "source": [
        "# VotingClassifier Override\n",
        "\n",
        "1. 접근법: VotingClassifier의 fit에 eval_set을 받을 수 있도록 wrapper를 만든다\n",
        "2. 문제점: VotingClassifier는 eval_set을 parameter로 받지 못한다\n",
        "    - 참고 코드: https://github.com/scikit-learn/scikit-learn/blob/main/sklearn/ensemble/_voting.py\n",
        "3. 해결법: Voting Classifier를 override한다\n"
      ],
      "metadata": {
        "id": "AgEpT32p8rwV"
      }
    },
    {
      "cell_type": "code",
      "source": [
        "import sklearn\n",
        "\n",
        "sklearn.__version__"
      ],
      "metadata": {
        "colab": {
          "base_uri": "https://localhost:8080/",
          "height": 36
        },
        "id": "6Ww4FcVJ8s2p",
        "outputId": "6f20dfa6-0048-4fe9-8f83-db580c4554bd"
      },
      "execution_count": 18,
      "outputs": [
        {
          "output_type": "execute_result",
          "data": {
            "text/plain": [
              "'1.2.2'"
            ],
            "application/vnd.google.colaboratory.intrinsic+json": {
              "type": "string"
            }
          },
          "metadata": {},
          "execution_count": 18
        }
      ]
    },
    {
      "cell_type": "code",
      "source": [
        "import numpy as np\n",
        "import pandas as pd"
      ],
      "metadata": {
        "id": "EfCRkKkzI9fK"
      },
      "execution_count": 19,
      "outputs": []
    },
    {
      "cell_type": "code",
      "source": [
        "from sklearn.preprocessing import LabelEncoder\n",
        "\n",
        "class VotingClassifierWrapper(VotingClassifier):\n",
        "  def fit(self, X, y, eval_set=None, **params):\n",
        "    # Following _BaseVoting as a Super Class\n",
        "    self.le_ = LabelEncoder().fit(y)\n",
        "    self.classes_ = self.le_.classes_\n",
        "    transformed_y = self.le_.transform(y)\n",
        "\n",
        "    if eval_set is not None:\n",
        "      eval_set = [(X, self.le_.transform(y)) for (X, y) in eval_set]\n",
        "\n",
        "    estimators_ = {}\n",
        "    # if class is xgboost, then support eval_set method\n",
        "    for name, estimator in self.estimators:\n",
        "      if type(estimator) == xgboost.sklearn.XGBClassifier:\n",
        "        estimators_[name] = estimator.fit(X, y, eval_set=eval_set, **params)\n",
        "      else:\n",
        "        estimators_[name] = estimator.fit(X, transformed_y, **params)\n",
        "\n",
        "    # fill out attributes\n",
        "    self.estimators_ = [estimator for (name, estimator) in estimators_.items()]\n",
        "    self.named_estimators_ = estimators_\n",
        "\n",
        "    for name, est in self.estimators:\n",
        "      if hasattr(est, 'feature_names_in_'):\n",
        "        self.feature_names_in_ = est.feature_names_in_\n",
        "\n",
        "    return self"
      ],
      "metadata": {
        "id": "m9Z3mumQFRvy"
      },
      "execution_count": 20,
      "outputs": []
    },
    {
      "cell_type": "code",
      "source": [
        "voting_classifier"
      ],
      "metadata": {
        "colab": {
          "base_uri": "https://localhost:8080/",
          "height": 143
        },
        "id": "RlIDnFfyDVrM",
        "outputId": "07dc2493-8d9f-4299-ec3f-71d5ed0aacbc"
      },
      "execution_count": 21,
      "outputs": [
        {
          "output_type": "execute_result",
          "data": {
            "text/plain": [
              "VotingClassifier(estimators=[('pipe1',\n",
              "                              Pipeline(steps=[('scaler', StandardScaler()),\n",
              "                                              ('gbc',\n",
              "                                               GradientBoostingClassifier(validation_fraction=0.2))])),\n",
              "                             ('pipe2',\n",
              "                              Pipeline(steps=[('scaler', StandardScaler()),\n",
              "                                              ('lgc', LogisticRegression())])),\n",
              "                             ['xgb',\n",
              "                              XGBClassifier(base_score=None, booster=None,\n",
              "                                            callbacks=None,\n",
              "                                            colsample_bylevel=None,\n",
              "                                            colsample_bynode=None,\n",
              "                                            colsample_...\n",
              "                                            importance_type=None,\n",
              "                                            interaction_constraints=None,\n",
              "                                            learning_rate=None, max_bin=None,\n",
              "                                            max_cat_threshold=None,\n",
              "                                            max_cat_to_onehot=None,\n",
              "                                            max_delta_step=None, max_depth=None,\n",
              "                                            max_leaves=None,\n",
              "                                            min_child_weight=None, missing=nan,\n",
              "                                            monotone_constraints=None,\n",
              "                                            multi_strategy=None,\n",
              "                                            n_estimators=10000, n_jobs=None,\n",
              "                                            num_parallel_tree=None,\n",
              "                                            random_state=None, ...)]],\n",
              "                 voting='soft')"
            ],
            "text/html": [
              "<style>#sk-container-id-6 {color: black;background-color: white;}#sk-container-id-6 pre{padding: 0;}#sk-container-id-6 div.sk-toggleable {background-color: white;}#sk-container-id-6 label.sk-toggleable__label {cursor: pointer;display: block;width: 100%;margin-bottom: 0;padding: 0.3em;box-sizing: border-box;text-align: center;}#sk-container-id-6 label.sk-toggleable__label-arrow:before {content: \"▸\";float: left;margin-right: 0.25em;color: #696969;}#sk-container-id-6 label.sk-toggleable__label-arrow:hover:before {color: black;}#sk-container-id-6 div.sk-estimator:hover label.sk-toggleable__label-arrow:before {color: black;}#sk-container-id-6 div.sk-toggleable__content {max-height: 0;max-width: 0;overflow: hidden;text-align: left;background-color: #f0f8ff;}#sk-container-id-6 div.sk-toggleable__content pre {margin: 0.2em;color: black;border-radius: 0.25em;background-color: #f0f8ff;}#sk-container-id-6 input.sk-toggleable__control:checked~div.sk-toggleable__content {max-height: 200px;max-width: 100%;overflow: auto;}#sk-container-id-6 input.sk-toggleable__control:checked~label.sk-toggleable__label-arrow:before {content: \"▾\";}#sk-container-id-6 div.sk-estimator input.sk-toggleable__control:checked~label.sk-toggleable__label {background-color: #d4ebff;}#sk-container-id-6 div.sk-label input.sk-toggleable__control:checked~label.sk-toggleable__label {background-color: #d4ebff;}#sk-container-id-6 input.sk-hidden--visually {border: 0;clip: rect(1px 1px 1px 1px);clip: rect(1px, 1px, 1px, 1px);height: 1px;margin: -1px;overflow: hidden;padding: 0;position: absolute;width: 1px;}#sk-container-id-6 div.sk-estimator {font-family: monospace;background-color: #f0f8ff;border: 1px dotted black;border-radius: 0.25em;box-sizing: border-box;margin-bottom: 0.5em;}#sk-container-id-6 div.sk-estimator:hover {background-color: #d4ebff;}#sk-container-id-6 div.sk-parallel-item::after {content: \"\";width: 100%;border-bottom: 1px solid gray;flex-grow: 1;}#sk-container-id-6 div.sk-label:hover label.sk-toggleable__label {background-color: #d4ebff;}#sk-container-id-6 div.sk-serial::before {content: \"\";position: absolute;border-left: 1px solid gray;box-sizing: border-box;top: 0;bottom: 0;left: 50%;z-index: 0;}#sk-container-id-6 div.sk-serial {display: flex;flex-direction: column;align-items: center;background-color: white;padding-right: 0.2em;padding-left: 0.2em;position: relative;}#sk-container-id-6 div.sk-item {position: relative;z-index: 1;}#sk-container-id-6 div.sk-parallel {display: flex;align-items: stretch;justify-content: center;background-color: white;position: relative;}#sk-container-id-6 div.sk-item::before, #sk-container-id-6 div.sk-parallel-item::before {content: \"\";position: absolute;border-left: 1px solid gray;box-sizing: border-box;top: 0;bottom: 0;left: 50%;z-index: -1;}#sk-container-id-6 div.sk-parallel-item {display: flex;flex-direction: column;z-index: 1;position: relative;background-color: white;}#sk-container-id-6 div.sk-parallel-item:first-child::after {align-self: flex-end;width: 50%;}#sk-container-id-6 div.sk-parallel-item:last-child::after {align-self: flex-start;width: 50%;}#sk-container-id-6 div.sk-parallel-item:only-child::after {width: 0;}#sk-container-id-6 div.sk-dashed-wrapped {border: 1px dashed gray;margin: 0 0.4em 0.5em 0.4em;box-sizing: border-box;padding-bottom: 0.4em;background-color: white;}#sk-container-id-6 div.sk-label label {font-family: monospace;font-weight: bold;display: inline-block;line-height: 1.2em;}#sk-container-id-6 div.sk-label-container {text-align: center;}#sk-container-id-6 div.sk-container {/* jupyter's `normalize.less` sets `[hidden] { display: none; }` but bootstrap.min.css set `[hidden] { display: none !important; }` so we also need the `!important` here to be able to override the default hidden behavior on the sphinx rendered scikit-learn.org. See: https://github.com/scikit-learn/scikit-learn/issues/21755 */display: inline-block !important;position: relative;}#sk-container-id-6 div.sk-text-repr-fallback {display: none;}</style><div id=\"sk-container-id-6\" class=\"sk-top-container\"><div class=\"sk-text-repr-fallback\"><pre>VotingClassifier(estimators=[(&#x27;pipe1&#x27;,\n",
              "                              Pipeline(steps=[(&#x27;scaler&#x27;, StandardScaler()),\n",
              "                                              (&#x27;gbc&#x27;,\n",
              "                                               GradientBoostingClassifier(validation_fraction=0.2))])),\n",
              "                             (&#x27;pipe2&#x27;,\n",
              "                              Pipeline(steps=[(&#x27;scaler&#x27;, StandardScaler()),\n",
              "                                              (&#x27;lgc&#x27;, LogisticRegression())])),\n",
              "                             [&#x27;xgb&#x27;,\n",
              "                              XGBClassifier(base_score=None, booster=None,\n",
              "                                            callbacks=None,\n",
              "                                            colsample_bylevel=None,\n",
              "                                            colsample_bynode=None,\n",
              "                                            colsample_...\n",
              "                                            importance_type=None,\n",
              "                                            interaction_constraints=None,\n",
              "                                            learning_rate=None, max_bin=None,\n",
              "                                            max_cat_threshold=None,\n",
              "                                            max_cat_to_onehot=None,\n",
              "                                            max_delta_step=None, max_depth=None,\n",
              "                                            max_leaves=None,\n",
              "                                            min_child_weight=None, missing=nan,\n",
              "                                            monotone_constraints=None,\n",
              "                                            multi_strategy=None,\n",
              "                                            n_estimators=10000, n_jobs=None,\n",
              "                                            num_parallel_tree=None,\n",
              "                                            random_state=None, ...)]],\n",
              "                 voting=&#x27;soft&#x27;)</pre><b>In a Jupyter environment, please rerun this cell to show the HTML representation or trust the notebook. <br />On GitHub, the HTML representation is unable to render, please try loading this page with nbviewer.org.</b></div><div class=\"sk-container\" hidden><div class=\"sk-item sk-dashed-wrapped\"><div class=\"sk-label-container\"><div class=\"sk-label sk-toggleable\"><input class=\"sk-toggleable__control sk-hidden--visually\" id=\"sk-estimator-id-24\" type=\"checkbox\" ><label for=\"sk-estimator-id-24\" class=\"sk-toggleable__label sk-toggleable__label-arrow\">VotingClassifier</label><div class=\"sk-toggleable__content\"><pre>VotingClassifier(estimators=[(&#x27;pipe1&#x27;,\n",
              "                              Pipeline(steps=[(&#x27;scaler&#x27;, StandardScaler()),\n",
              "                                              (&#x27;gbc&#x27;,\n",
              "                                               GradientBoostingClassifier(validation_fraction=0.2))])),\n",
              "                             (&#x27;pipe2&#x27;,\n",
              "                              Pipeline(steps=[(&#x27;scaler&#x27;, StandardScaler()),\n",
              "                                              (&#x27;lgc&#x27;, LogisticRegression())])),\n",
              "                             [&#x27;xgb&#x27;,\n",
              "                              XGBClassifier(base_score=None, booster=None,\n",
              "                                            callbacks=None,\n",
              "                                            colsample_bylevel=None,\n",
              "                                            colsample_bynode=None,\n",
              "                                            colsample_...\n",
              "                                            importance_type=None,\n",
              "                                            interaction_constraints=None,\n",
              "                                            learning_rate=None, max_bin=None,\n",
              "                                            max_cat_threshold=None,\n",
              "                                            max_cat_to_onehot=None,\n",
              "                                            max_delta_step=None, max_depth=None,\n",
              "                                            max_leaves=None,\n",
              "                                            min_child_weight=None, missing=nan,\n",
              "                                            monotone_constraints=None,\n",
              "                                            multi_strategy=None,\n",
              "                                            n_estimators=10000, n_jobs=None,\n",
              "                                            num_parallel_tree=None,\n",
              "                                            random_state=None, ...)]],\n",
              "                 voting=&#x27;soft&#x27;)</pre></div></div></div><div class=\"sk-parallel\"><div class=\"sk-parallel-item\"><div class=\"sk-item\"><div class=\"sk-label-container\"><div class=\"sk-label sk-toggleable\"><label>pipe1</label></div></div><div class=\"sk-serial\"><div class=\"sk-item\"><div class=\"sk-serial\"><div class=\"sk-item\"><div class=\"sk-estimator sk-toggleable\"><input class=\"sk-toggleable__control sk-hidden--visually\" id=\"sk-estimator-id-25\" type=\"checkbox\" ><label for=\"sk-estimator-id-25\" class=\"sk-toggleable__label sk-toggleable__label-arrow\">StandardScaler</label><div class=\"sk-toggleable__content\"><pre>StandardScaler()</pre></div></div></div><div class=\"sk-item\"><div class=\"sk-estimator sk-toggleable\"><input class=\"sk-toggleable__control sk-hidden--visually\" id=\"sk-estimator-id-26\" type=\"checkbox\" ><label for=\"sk-estimator-id-26\" class=\"sk-toggleable__label sk-toggleable__label-arrow\">GradientBoostingClassifier</label><div class=\"sk-toggleable__content\"><pre>GradientBoostingClassifier(validation_fraction=0.2)</pre></div></div></div></div></div></div></div></div><div class=\"sk-parallel-item\"><div class=\"sk-item\"><div class=\"sk-label-container\"><div class=\"sk-label sk-toggleable\"><label>pipe2</label></div></div><div class=\"sk-serial\"><div class=\"sk-item\"><div class=\"sk-serial\"><div class=\"sk-item\"><div class=\"sk-estimator sk-toggleable\"><input class=\"sk-toggleable__control sk-hidden--visually\" id=\"sk-estimator-id-27\" type=\"checkbox\" ><label for=\"sk-estimator-id-27\" class=\"sk-toggleable__label sk-toggleable__label-arrow\">StandardScaler</label><div class=\"sk-toggleable__content\"><pre>StandardScaler()</pre></div></div></div><div class=\"sk-item\"><div class=\"sk-estimator sk-toggleable\"><input class=\"sk-toggleable__control sk-hidden--visually\" id=\"sk-estimator-id-28\" type=\"checkbox\" ><label for=\"sk-estimator-id-28\" class=\"sk-toggleable__label sk-toggleable__label-arrow\">LogisticRegression</label><div class=\"sk-toggleable__content\"><pre>LogisticRegression()</pre></div></div></div></div></div></div></div></div><div class=\"sk-parallel-item\"><div class=\"sk-item\"><div class=\"sk-label-container\"><div class=\"sk-label sk-toggleable\"><label>xgb</label></div></div><div class=\"sk-serial\"><div class=\"sk-item\"><div class=\"sk-estimator sk-toggleable\"><input class=\"sk-toggleable__control sk-hidden--visually\" id=\"sk-estimator-id-29\" type=\"checkbox\" ><label for=\"sk-estimator-id-29\" class=\"sk-toggleable__label sk-toggleable__label-arrow\">XGBClassifier</label><div class=\"sk-toggleable__content\"><pre>XGBClassifier(base_score=None, booster=None, callbacks=None,\n",
              "              colsample_bylevel=None, colsample_bynode=None,\n",
              "              colsample_bytree=None, device=None, early_stopping_rounds=10,\n",
              "              enable_categorical=False, eval_metric=None, feature_types=None,\n",
              "              gamma=None, grow_policy=None, importance_type=None,\n",
              "              interaction_constraints=None, learning_rate=None, max_bin=None,\n",
              "              max_cat_threshold=None, max_cat_to_onehot=None,\n",
              "              max_delta_step=None, max_depth=None, max_leaves=None,\n",
              "              min_child_weight=None, missing=nan, monotone_constraints=None,\n",
              "              multi_strategy=None, n_estimators=10000, n_jobs=None,\n",
              "              num_parallel_tree=None, random_state=None, ...)</pre></div></div></div></div></div></div></div></div></div></div>"
            ]
          },
          "metadata": {},
          "execution_count": 21
        }
      ]
    },
    {
      "cell_type": "code",
      "source": [
        "type(X_train) == pd.core.frame.DataFrame"
      ],
      "metadata": {
        "colab": {
          "base_uri": "https://localhost:8080/"
        },
        "id": "irmkT88xRgE6",
        "outputId": "14f9b13f-7e59-427a-fbfe-5c468d27b03f"
      },
      "execution_count": 22,
      "outputs": [
        {
          "output_type": "execute_result",
          "data": {
            "text/plain": [
              "True"
            ]
          },
          "metadata": {},
          "execution_count": 22
        }
      ]
    },
    {
      "cell_type": "code",
      "source": [
        "vwrap = VotingClassifierWrapper(\n",
        "    estimators=[\n",
        "        ('pipe1', p1),\n",
        "        ('pipe2', p2),\n",
        "        ('xgb', XGBClassifier(n_estimators=500, early_stopping_rounds=10))\n",
        "        ],\n",
        "    voting='soft')\n",
        "vwrap"
      ],
      "metadata": {
        "colab": {
          "base_uri": "https://localhost:8080/",
          "height": 143
        },
        "id": "6rzAHNjKF5xD",
        "outputId": "163e4ad7-afce-407f-cb19-5bb6f901ded8"
      },
      "execution_count": 23,
      "outputs": [
        {
          "output_type": "execute_result",
          "data": {
            "text/plain": [
              "VotingClassifierWrapper(estimators=[('pipe1',\n",
              "                                     Pipeline(steps=[('scaler',\n",
              "                                                      StandardScaler()),\n",
              "                                                     ('gbc',\n",
              "                                                      GradientBoostingClassifier(validation_fraction=0.2))])),\n",
              "                                    ('pipe2',\n",
              "                                     Pipeline(steps=[('scaler',\n",
              "                                                      StandardScaler()),\n",
              "                                                     ('lgc',\n",
              "                                                      LogisticRegression())])),\n",
              "                                    ('xgb',\n",
              "                                     XGBClassifier(base_score=None,\n",
              "                                                   booster=None, callbacks=None,\n",
              "                                                   colsample_bylevel=None,\n",
              "                                                   colsample_bynode=None,\n",
              "                                                   col...\n",
              "                                                   importance_type=None,\n",
              "                                                   interaction_constraints=None,\n",
              "                                                   learning_rate=None,\n",
              "                                                   max_bin=None,\n",
              "                                                   max_cat_threshold=None,\n",
              "                                                   max_cat_to_onehot=None,\n",
              "                                                   max_delta_step=None,\n",
              "                                                   max_depth=None,\n",
              "                                                   max_leaves=None,\n",
              "                                                   min_child_weight=None,\n",
              "                                                   missing=nan,\n",
              "                                                   monotone_constraints=None,\n",
              "                                                   multi_strategy=None,\n",
              "                                                   n_estimators=500,\n",
              "                                                   n_jobs=None,\n",
              "                                                   num_parallel_tree=None,\n",
              "                                                   random_state=None, ...))],\n",
              "                        voting='soft')"
            ],
            "text/html": [
              "<style>#sk-container-id-7 {color: black;background-color: white;}#sk-container-id-7 pre{padding: 0;}#sk-container-id-7 div.sk-toggleable {background-color: white;}#sk-container-id-7 label.sk-toggleable__label {cursor: pointer;display: block;width: 100%;margin-bottom: 0;padding: 0.3em;box-sizing: border-box;text-align: center;}#sk-container-id-7 label.sk-toggleable__label-arrow:before {content: \"▸\";float: left;margin-right: 0.25em;color: #696969;}#sk-container-id-7 label.sk-toggleable__label-arrow:hover:before {color: black;}#sk-container-id-7 div.sk-estimator:hover label.sk-toggleable__label-arrow:before {color: black;}#sk-container-id-7 div.sk-toggleable__content {max-height: 0;max-width: 0;overflow: hidden;text-align: left;background-color: #f0f8ff;}#sk-container-id-7 div.sk-toggleable__content pre {margin: 0.2em;color: black;border-radius: 0.25em;background-color: #f0f8ff;}#sk-container-id-7 input.sk-toggleable__control:checked~div.sk-toggleable__content {max-height: 200px;max-width: 100%;overflow: auto;}#sk-container-id-7 input.sk-toggleable__control:checked~label.sk-toggleable__label-arrow:before {content: \"▾\";}#sk-container-id-7 div.sk-estimator input.sk-toggleable__control:checked~label.sk-toggleable__label {background-color: #d4ebff;}#sk-container-id-7 div.sk-label input.sk-toggleable__control:checked~label.sk-toggleable__label {background-color: #d4ebff;}#sk-container-id-7 input.sk-hidden--visually {border: 0;clip: rect(1px 1px 1px 1px);clip: rect(1px, 1px, 1px, 1px);height: 1px;margin: -1px;overflow: hidden;padding: 0;position: absolute;width: 1px;}#sk-container-id-7 div.sk-estimator {font-family: monospace;background-color: #f0f8ff;border: 1px dotted black;border-radius: 0.25em;box-sizing: border-box;margin-bottom: 0.5em;}#sk-container-id-7 div.sk-estimator:hover {background-color: #d4ebff;}#sk-container-id-7 div.sk-parallel-item::after {content: \"\";width: 100%;border-bottom: 1px solid gray;flex-grow: 1;}#sk-container-id-7 div.sk-label:hover label.sk-toggleable__label {background-color: #d4ebff;}#sk-container-id-7 div.sk-serial::before {content: \"\";position: absolute;border-left: 1px solid gray;box-sizing: border-box;top: 0;bottom: 0;left: 50%;z-index: 0;}#sk-container-id-7 div.sk-serial {display: flex;flex-direction: column;align-items: center;background-color: white;padding-right: 0.2em;padding-left: 0.2em;position: relative;}#sk-container-id-7 div.sk-item {position: relative;z-index: 1;}#sk-container-id-7 div.sk-parallel {display: flex;align-items: stretch;justify-content: center;background-color: white;position: relative;}#sk-container-id-7 div.sk-item::before, #sk-container-id-7 div.sk-parallel-item::before {content: \"\";position: absolute;border-left: 1px solid gray;box-sizing: border-box;top: 0;bottom: 0;left: 50%;z-index: -1;}#sk-container-id-7 div.sk-parallel-item {display: flex;flex-direction: column;z-index: 1;position: relative;background-color: white;}#sk-container-id-7 div.sk-parallel-item:first-child::after {align-self: flex-end;width: 50%;}#sk-container-id-7 div.sk-parallel-item:last-child::after {align-self: flex-start;width: 50%;}#sk-container-id-7 div.sk-parallel-item:only-child::after {width: 0;}#sk-container-id-7 div.sk-dashed-wrapped {border: 1px dashed gray;margin: 0 0.4em 0.5em 0.4em;box-sizing: border-box;padding-bottom: 0.4em;background-color: white;}#sk-container-id-7 div.sk-label label {font-family: monospace;font-weight: bold;display: inline-block;line-height: 1.2em;}#sk-container-id-7 div.sk-label-container {text-align: center;}#sk-container-id-7 div.sk-container {/* jupyter's `normalize.less` sets `[hidden] { display: none; }` but bootstrap.min.css set `[hidden] { display: none !important; }` so we also need the `!important` here to be able to override the default hidden behavior on the sphinx rendered scikit-learn.org. See: https://github.com/scikit-learn/scikit-learn/issues/21755 */display: inline-block !important;position: relative;}#sk-container-id-7 div.sk-text-repr-fallback {display: none;}</style><div id=\"sk-container-id-7\" class=\"sk-top-container\"><div class=\"sk-text-repr-fallback\"><pre>VotingClassifierWrapper(estimators=[(&#x27;pipe1&#x27;,\n",
              "                                     Pipeline(steps=[(&#x27;scaler&#x27;,\n",
              "                                                      StandardScaler()),\n",
              "                                                     (&#x27;gbc&#x27;,\n",
              "                                                      GradientBoostingClassifier(validation_fraction=0.2))])),\n",
              "                                    (&#x27;pipe2&#x27;,\n",
              "                                     Pipeline(steps=[(&#x27;scaler&#x27;,\n",
              "                                                      StandardScaler()),\n",
              "                                                     (&#x27;lgc&#x27;,\n",
              "                                                      LogisticRegression())])),\n",
              "                                    (&#x27;xgb&#x27;,\n",
              "                                     XGBClassifier(base_score=None,\n",
              "                                                   booster=None, callbacks=None,\n",
              "                                                   colsample_bylevel=None,\n",
              "                                                   colsample_bynode=None,\n",
              "                                                   col...\n",
              "                                                   importance_type=None,\n",
              "                                                   interaction_constraints=None,\n",
              "                                                   learning_rate=None,\n",
              "                                                   max_bin=None,\n",
              "                                                   max_cat_threshold=None,\n",
              "                                                   max_cat_to_onehot=None,\n",
              "                                                   max_delta_step=None,\n",
              "                                                   max_depth=None,\n",
              "                                                   max_leaves=None,\n",
              "                                                   min_child_weight=None,\n",
              "                                                   missing=nan,\n",
              "                                                   monotone_constraints=None,\n",
              "                                                   multi_strategy=None,\n",
              "                                                   n_estimators=500,\n",
              "                                                   n_jobs=None,\n",
              "                                                   num_parallel_tree=None,\n",
              "                                                   random_state=None, ...))],\n",
              "                        voting=&#x27;soft&#x27;)</pre><b>In a Jupyter environment, please rerun this cell to show the HTML representation or trust the notebook. <br />On GitHub, the HTML representation is unable to render, please try loading this page with nbviewer.org.</b></div><div class=\"sk-container\" hidden><div class=\"sk-item sk-dashed-wrapped\"><div class=\"sk-label-container\"><div class=\"sk-label sk-toggleable\"><input class=\"sk-toggleable__control sk-hidden--visually\" id=\"sk-estimator-id-30\" type=\"checkbox\" ><label for=\"sk-estimator-id-30\" class=\"sk-toggleable__label sk-toggleable__label-arrow\">VotingClassifierWrapper</label><div class=\"sk-toggleable__content\"><pre>VotingClassifierWrapper(estimators=[(&#x27;pipe1&#x27;,\n",
              "                                     Pipeline(steps=[(&#x27;scaler&#x27;,\n",
              "                                                      StandardScaler()),\n",
              "                                                     (&#x27;gbc&#x27;,\n",
              "                                                      GradientBoostingClassifier(validation_fraction=0.2))])),\n",
              "                                    (&#x27;pipe2&#x27;,\n",
              "                                     Pipeline(steps=[(&#x27;scaler&#x27;,\n",
              "                                                      StandardScaler()),\n",
              "                                                     (&#x27;lgc&#x27;,\n",
              "                                                      LogisticRegression())])),\n",
              "                                    (&#x27;xgb&#x27;,\n",
              "                                     XGBClassifier(base_score=None,\n",
              "                                                   booster=None, callbacks=None,\n",
              "                                                   colsample_bylevel=None,\n",
              "                                                   colsample_bynode=None,\n",
              "                                                   col...\n",
              "                                                   importance_type=None,\n",
              "                                                   interaction_constraints=None,\n",
              "                                                   learning_rate=None,\n",
              "                                                   max_bin=None,\n",
              "                                                   max_cat_threshold=None,\n",
              "                                                   max_cat_to_onehot=None,\n",
              "                                                   max_delta_step=None,\n",
              "                                                   max_depth=None,\n",
              "                                                   max_leaves=None,\n",
              "                                                   min_child_weight=None,\n",
              "                                                   missing=nan,\n",
              "                                                   monotone_constraints=None,\n",
              "                                                   multi_strategy=None,\n",
              "                                                   n_estimators=500,\n",
              "                                                   n_jobs=None,\n",
              "                                                   num_parallel_tree=None,\n",
              "                                                   random_state=None, ...))],\n",
              "                        voting=&#x27;soft&#x27;)</pre></div></div></div><div class=\"sk-parallel\"><div class=\"sk-parallel-item\"><div class=\"sk-item\"><div class=\"sk-label-container\"><div class=\"sk-label sk-toggleable\"><label>pipe1</label></div></div><div class=\"sk-serial\"><div class=\"sk-item\"><div class=\"sk-serial\"><div class=\"sk-item\"><div class=\"sk-estimator sk-toggleable\"><input class=\"sk-toggleable__control sk-hidden--visually\" id=\"sk-estimator-id-31\" type=\"checkbox\" ><label for=\"sk-estimator-id-31\" class=\"sk-toggleable__label sk-toggleable__label-arrow\">StandardScaler</label><div class=\"sk-toggleable__content\"><pre>StandardScaler()</pre></div></div></div><div class=\"sk-item\"><div class=\"sk-estimator sk-toggleable\"><input class=\"sk-toggleable__control sk-hidden--visually\" id=\"sk-estimator-id-32\" type=\"checkbox\" ><label for=\"sk-estimator-id-32\" class=\"sk-toggleable__label sk-toggleable__label-arrow\">GradientBoostingClassifier</label><div class=\"sk-toggleable__content\"><pre>GradientBoostingClassifier(validation_fraction=0.2)</pre></div></div></div></div></div></div></div></div><div class=\"sk-parallel-item\"><div class=\"sk-item\"><div class=\"sk-label-container\"><div class=\"sk-label sk-toggleable\"><label>pipe2</label></div></div><div class=\"sk-serial\"><div class=\"sk-item\"><div class=\"sk-serial\"><div class=\"sk-item\"><div class=\"sk-estimator sk-toggleable\"><input class=\"sk-toggleable__control sk-hidden--visually\" id=\"sk-estimator-id-33\" type=\"checkbox\" ><label for=\"sk-estimator-id-33\" class=\"sk-toggleable__label sk-toggleable__label-arrow\">StandardScaler</label><div class=\"sk-toggleable__content\"><pre>StandardScaler()</pre></div></div></div><div class=\"sk-item\"><div class=\"sk-estimator sk-toggleable\"><input class=\"sk-toggleable__control sk-hidden--visually\" id=\"sk-estimator-id-34\" type=\"checkbox\" ><label for=\"sk-estimator-id-34\" class=\"sk-toggleable__label sk-toggleable__label-arrow\">LogisticRegression</label><div class=\"sk-toggleable__content\"><pre>LogisticRegression()</pre></div></div></div></div></div></div></div></div><div class=\"sk-parallel-item\"><div class=\"sk-item\"><div class=\"sk-label-container\"><div class=\"sk-label sk-toggleable\"><label>xgb</label></div></div><div class=\"sk-serial\"><div class=\"sk-item\"><div class=\"sk-estimator sk-toggleable\"><input class=\"sk-toggleable__control sk-hidden--visually\" id=\"sk-estimator-id-35\" type=\"checkbox\" ><label for=\"sk-estimator-id-35\" class=\"sk-toggleable__label sk-toggleable__label-arrow\">XGBClassifier</label><div class=\"sk-toggleable__content\"><pre>XGBClassifier(base_score=None, booster=None, callbacks=None,\n",
              "              colsample_bylevel=None, colsample_bynode=None,\n",
              "              colsample_bytree=None, device=None, early_stopping_rounds=10,\n",
              "              enable_categorical=False, eval_metric=None, feature_types=None,\n",
              "              gamma=None, grow_policy=None, importance_type=None,\n",
              "              interaction_constraints=None, learning_rate=None, max_bin=None,\n",
              "              max_cat_threshold=None, max_cat_to_onehot=None,\n",
              "              max_delta_step=None, max_depth=None, max_leaves=None,\n",
              "              min_child_weight=None, missing=nan, monotone_constraints=None,\n",
              "              multi_strategy=None, n_estimators=500, n_jobs=None,\n",
              "              num_parallel_tree=None, random_state=None, ...)</pre></div></div></div></div></div></div></div></div></div></div>"
            ]
          },
          "metadata": {},
          "execution_count": 23
        }
      ]
    },
    {
      "cell_type": "code",
      "source": [
        "vwrap.fit(X_train, y_train, eval_set=[(X_train, y_train), (X_test, y_test)])"
      ],
      "metadata": {
        "colab": {
          "base_uri": "https://localhost:8080/",
          "height": 612
        },
        "id": "jmR3IeF4MqYt",
        "outputId": "e7fab5de-b2e0-4a10-bc2a-40a4b41487a1"
      },
      "execution_count": 24,
      "outputs": [
        {
          "output_type": "stream",
          "name": "stdout",
          "text": [
            "[0]\tvalidation_0-logloss:0.47369\tvalidation_1-logloss:0.48629\n",
            "[1]\tvalidation_0-logloss:0.35799\tvalidation_1-logloss:0.38499\n",
            "[2]\tvalidation_0-logloss:0.27593\tvalidation_1-logloss:0.32306\n",
            "[3]\tvalidation_0-logloss:0.21821\tvalidation_1-logloss:0.26930\n",
            "[4]\tvalidation_0-logloss:0.17378\tvalidation_1-logloss:0.22892\n",
            "[5]\tvalidation_0-logloss:0.14589\tvalidation_1-logloss:0.20783\n",
            "[6]\tvalidation_0-logloss:0.12209\tvalidation_1-logloss:0.19011\n",
            "[7]\tvalidation_0-logloss:0.10632\tvalidation_1-logloss:0.17637\n",
            "[8]\tvalidation_0-logloss:0.09271\tvalidation_1-logloss:0.16575\n",
            "[9]\tvalidation_0-logloss:0.08098\tvalidation_1-logloss:0.15818\n",
            "[10]\tvalidation_0-logloss:0.07135\tvalidation_1-logloss:0.15290\n",
            "[11]\tvalidation_0-logloss:0.06396\tvalidation_1-logloss:0.14793\n",
            "[12]\tvalidation_0-logloss:0.05739\tvalidation_1-logloss:0.13669\n",
            "[13]\tvalidation_0-logloss:0.05237\tvalidation_1-logloss:0.13677\n",
            "[14]\tvalidation_0-logloss:0.04794\tvalidation_1-logloss:0.12918\n",
            "[15]\tvalidation_0-logloss:0.04450\tvalidation_1-logloss:0.12895\n",
            "[16]\tvalidation_0-logloss:0.04139\tvalidation_1-logloss:0.12327\n",
            "[17]\tvalidation_0-logloss:0.03919\tvalidation_1-logloss:0.12432\n",
            "[18]\tvalidation_0-logloss:0.03783\tvalidation_1-logloss:0.12381\n",
            "[19]\tvalidation_0-logloss:0.03594\tvalidation_1-logloss:0.12399\n",
            "[20]\tvalidation_0-logloss:0.03495\tvalidation_1-logloss:0.12383\n",
            "[21]\tvalidation_0-logloss:0.03393\tvalidation_1-logloss:0.12511\n",
            "[22]\tvalidation_0-logloss:0.03320\tvalidation_1-logloss:0.12522\n",
            "[23]\tvalidation_0-logloss:0.03243\tvalidation_1-logloss:0.12641\n",
            "[24]\tvalidation_0-logloss:0.03176\tvalidation_1-logloss:0.12446\n",
            "[25]\tvalidation_0-logloss:0.03119\tvalidation_1-logloss:0.12572\n",
            "[26]\tvalidation_0-logloss:0.03063\tvalidation_1-logloss:0.12598\n"
          ]
        },
        {
          "output_type": "execute_result",
          "data": {
            "text/plain": [
              "VotingClassifierWrapper(estimators=[('pipe1',\n",
              "                                     Pipeline(steps=[('scaler',\n",
              "                                                      StandardScaler()),\n",
              "                                                     ('gbc',\n",
              "                                                      GradientBoostingClassifier(validation_fraction=0.2))])),\n",
              "                                    ('pipe2',\n",
              "                                     Pipeline(steps=[('scaler',\n",
              "                                                      StandardScaler()),\n",
              "                                                     ('lgc',\n",
              "                                                      LogisticRegression())])),\n",
              "                                    ('xgb',\n",
              "                                     XGBClassifier(base_score=None,\n",
              "                                                   booster=None, callbacks=None,\n",
              "                                                   colsample_bylevel=None,\n",
              "                                                   colsample_bynode=None,\n",
              "                                                   col...\n",
              "                                                   importance_type=None,\n",
              "                                                   interaction_constraints=None,\n",
              "                                                   learning_rate=None,\n",
              "                                                   max_bin=None,\n",
              "                                                   max_cat_threshold=None,\n",
              "                                                   max_cat_to_onehot=None,\n",
              "                                                   max_delta_step=None,\n",
              "                                                   max_depth=None,\n",
              "                                                   max_leaves=None,\n",
              "                                                   min_child_weight=None,\n",
              "                                                   missing=nan,\n",
              "                                                   monotone_constraints=None,\n",
              "                                                   multi_strategy=None,\n",
              "                                                   n_estimators=500,\n",
              "                                                   n_jobs=None,\n",
              "                                                   num_parallel_tree=None,\n",
              "                                                   random_state=None, ...))],\n",
              "                        voting='soft')"
            ],
            "text/html": [
              "<style>#sk-container-id-8 {color: black;background-color: white;}#sk-container-id-8 pre{padding: 0;}#sk-container-id-8 div.sk-toggleable {background-color: white;}#sk-container-id-8 label.sk-toggleable__label {cursor: pointer;display: block;width: 100%;margin-bottom: 0;padding: 0.3em;box-sizing: border-box;text-align: center;}#sk-container-id-8 label.sk-toggleable__label-arrow:before {content: \"▸\";float: left;margin-right: 0.25em;color: #696969;}#sk-container-id-8 label.sk-toggleable__label-arrow:hover:before {color: black;}#sk-container-id-8 div.sk-estimator:hover label.sk-toggleable__label-arrow:before {color: black;}#sk-container-id-8 div.sk-toggleable__content {max-height: 0;max-width: 0;overflow: hidden;text-align: left;background-color: #f0f8ff;}#sk-container-id-8 div.sk-toggleable__content pre {margin: 0.2em;color: black;border-radius: 0.25em;background-color: #f0f8ff;}#sk-container-id-8 input.sk-toggleable__control:checked~div.sk-toggleable__content {max-height: 200px;max-width: 100%;overflow: auto;}#sk-container-id-8 input.sk-toggleable__control:checked~label.sk-toggleable__label-arrow:before {content: \"▾\";}#sk-container-id-8 div.sk-estimator input.sk-toggleable__control:checked~label.sk-toggleable__label {background-color: #d4ebff;}#sk-container-id-8 div.sk-label input.sk-toggleable__control:checked~label.sk-toggleable__label {background-color: #d4ebff;}#sk-container-id-8 input.sk-hidden--visually {border: 0;clip: rect(1px 1px 1px 1px);clip: rect(1px, 1px, 1px, 1px);height: 1px;margin: -1px;overflow: hidden;padding: 0;position: absolute;width: 1px;}#sk-container-id-8 div.sk-estimator {font-family: monospace;background-color: #f0f8ff;border: 1px dotted black;border-radius: 0.25em;box-sizing: border-box;margin-bottom: 0.5em;}#sk-container-id-8 div.sk-estimator:hover {background-color: #d4ebff;}#sk-container-id-8 div.sk-parallel-item::after {content: \"\";width: 100%;border-bottom: 1px solid gray;flex-grow: 1;}#sk-container-id-8 div.sk-label:hover label.sk-toggleable__label {background-color: #d4ebff;}#sk-container-id-8 div.sk-serial::before {content: \"\";position: absolute;border-left: 1px solid gray;box-sizing: border-box;top: 0;bottom: 0;left: 50%;z-index: 0;}#sk-container-id-8 div.sk-serial {display: flex;flex-direction: column;align-items: center;background-color: white;padding-right: 0.2em;padding-left: 0.2em;position: relative;}#sk-container-id-8 div.sk-item {position: relative;z-index: 1;}#sk-container-id-8 div.sk-parallel {display: flex;align-items: stretch;justify-content: center;background-color: white;position: relative;}#sk-container-id-8 div.sk-item::before, #sk-container-id-8 div.sk-parallel-item::before {content: \"\";position: absolute;border-left: 1px solid gray;box-sizing: border-box;top: 0;bottom: 0;left: 50%;z-index: -1;}#sk-container-id-8 div.sk-parallel-item {display: flex;flex-direction: column;z-index: 1;position: relative;background-color: white;}#sk-container-id-8 div.sk-parallel-item:first-child::after {align-self: flex-end;width: 50%;}#sk-container-id-8 div.sk-parallel-item:last-child::after {align-self: flex-start;width: 50%;}#sk-container-id-8 div.sk-parallel-item:only-child::after {width: 0;}#sk-container-id-8 div.sk-dashed-wrapped {border: 1px dashed gray;margin: 0 0.4em 0.5em 0.4em;box-sizing: border-box;padding-bottom: 0.4em;background-color: white;}#sk-container-id-8 div.sk-label label {font-family: monospace;font-weight: bold;display: inline-block;line-height: 1.2em;}#sk-container-id-8 div.sk-label-container {text-align: center;}#sk-container-id-8 div.sk-container {/* jupyter's `normalize.less` sets `[hidden] { display: none; }` but bootstrap.min.css set `[hidden] { display: none !important; }` so we also need the `!important` here to be able to override the default hidden behavior on the sphinx rendered scikit-learn.org. See: https://github.com/scikit-learn/scikit-learn/issues/21755 */display: inline-block !important;position: relative;}#sk-container-id-8 div.sk-text-repr-fallback {display: none;}</style><div id=\"sk-container-id-8\" class=\"sk-top-container\"><div class=\"sk-text-repr-fallback\"><pre>VotingClassifierWrapper(estimators=[(&#x27;pipe1&#x27;,\n",
              "                                     Pipeline(steps=[(&#x27;scaler&#x27;,\n",
              "                                                      StandardScaler()),\n",
              "                                                     (&#x27;gbc&#x27;,\n",
              "                                                      GradientBoostingClassifier(validation_fraction=0.2))])),\n",
              "                                    (&#x27;pipe2&#x27;,\n",
              "                                     Pipeline(steps=[(&#x27;scaler&#x27;,\n",
              "                                                      StandardScaler()),\n",
              "                                                     (&#x27;lgc&#x27;,\n",
              "                                                      LogisticRegression())])),\n",
              "                                    (&#x27;xgb&#x27;,\n",
              "                                     XGBClassifier(base_score=None,\n",
              "                                                   booster=None, callbacks=None,\n",
              "                                                   colsample_bylevel=None,\n",
              "                                                   colsample_bynode=None,\n",
              "                                                   col...\n",
              "                                                   importance_type=None,\n",
              "                                                   interaction_constraints=None,\n",
              "                                                   learning_rate=None,\n",
              "                                                   max_bin=None,\n",
              "                                                   max_cat_threshold=None,\n",
              "                                                   max_cat_to_onehot=None,\n",
              "                                                   max_delta_step=None,\n",
              "                                                   max_depth=None,\n",
              "                                                   max_leaves=None,\n",
              "                                                   min_child_weight=None,\n",
              "                                                   missing=nan,\n",
              "                                                   monotone_constraints=None,\n",
              "                                                   multi_strategy=None,\n",
              "                                                   n_estimators=500,\n",
              "                                                   n_jobs=None,\n",
              "                                                   num_parallel_tree=None,\n",
              "                                                   random_state=None, ...))],\n",
              "                        voting=&#x27;soft&#x27;)</pre><b>In a Jupyter environment, please rerun this cell to show the HTML representation or trust the notebook. <br />On GitHub, the HTML representation is unable to render, please try loading this page with nbviewer.org.</b></div><div class=\"sk-container\" hidden><div class=\"sk-item sk-dashed-wrapped\"><div class=\"sk-label-container\"><div class=\"sk-label sk-toggleable\"><input class=\"sk-toggleable__control sk-hidden--visually\" id=\"sk-estimator-id-36\" type=\"checkbox\" ><label for=\"sk-estimator-id-36\" class=\"sk-toggleable__label sk-toggleable__label-arrow\">VotingClassifierWrapper</label><div class=\"sk-toggleable__content\"><pre>VotingClassifierWrapper(estimators=[(&#x27;pipe1&#x27;,\n",
              "                                     Pipeline(steps=[(&#x27;scaler&#x27;,\n",
              "                                                      StandardScaler()),\n",
              "                                                     (&#x27;gbc&#x27;,\n",
              "                                                      GradientBoostingClassifier(validation_fraction=0.2))])),\n",
              "                                    (&#x27;pipe2&#x27;,\n",
              "                                     Pipeline(steps=[(&#x27;scaler&#x27;,\n",
              "                                                      StandardScaler()),\n",
              "                                                     (&#x27;lgc&#x27;,\n",
              "                                                      LogisticRegression())])),\n",
              "                                    (&#x27;xgb&#x27;,\n",
              "                                     XGBClassifier(base_score=None,\n",
              "                                                   booster=None, callbacks=None,\n",
              "                                                   colsample_bylevel=None,\n",
              "                                                   colsample_bynode=None,\n",
              "                                                   col...\n",
              "                                                   importance_type=None,\n",
              "                                                   interaction_constraints=None,\n",
              "                                                   learning_rate=None,\n",
              "                                                   max_bin=None,\n",
              "                                                   max_cat_threshold=None,\n",
              "                                                   max_cat_to_onehot=None,\n",
              "                                                   max_delta_step=None,\n",
              "                                                   max_depth=None,\n",
              "                                                   max_leaves=None,\n",
              "                                                   min_child_weight=None,\n",
              "                                                   missing=nan,\n",
              "                                                   monotone_constraints=None,\n",
              "                                                   multi_strategy=None,\n",
              "                                                   n_estimators=500,\n",
              "                                                   n_jobs=None,\n",
              "                                                   num_parallel_tree=None,\n",
              "                                                   random_state=None, ...))],\n",
              "                        voting=&#x27;soft&#x27;)</pre></div></div></div><div class=\"sk-parallel\"><div class=\"sk-parallel-item\"><div class=\"sk-item\"><div class=\"sk-label-container\"><div class=\"sk-label sk-toggleable\"><label>pipe1</label></div></div><div class=\"sk-serial\"><div class=\"sk-item\"><div class=\"sk-serial\"><div class=\"sk-item\"><div class=\"sk-estimator sk-toggleable\"><input class=\"sk-toggleable__control sk-hidden--visually\" id=\"sk-estimator-id-37\" type=\"checkbox\" ><label for=\"sk-estimator-id-37\" class=\"sk-toggleable__label sk-toggleable__label-arrow\">StandardScaler</label><div class=\"sk-toggleable__content\"><pre>StandardScaler()</pre></div></div></div><div class=\"sk-item\"><div class=\"sk-estimator sk-toggleable\"><input class=\"sk-toggleable__control sk-hidden--visually\" id=\"sk-estimator-id-38\" type=\"checkbox\" ><label for=\"sk-estimator-id-38\" class=\"sk-toggleable__label sk-toggleable__label-arrow\">GradientBoostingClassifier</label><div class=\"sk-toggleable__content\"><pre>GradientBoostingClassifier(validation_fraction=0.2)</pre></div></div></div></div></div></div></div></div><div class=\"sk-parallel-item\"><div class=\"sk-item\"><div class=\"sk-label-container\"><div class=\"sk-label sk-toggleable\"><label>pipe2</label></div></div><div class=\"sk-serial\"><div class=\"sk-item\"><div class=\"sk-serial\"><div class=\"sk-item\"><div class=\"sk-estimator sk-toggleable\"><input class=\"sk-toggleable__control sk-hidden--visually\" id=\"sk-estimator-id-39\" type=\"checkbox\" ><label for=\"sk-estimator-id-39\" class=\"sk-toggleable__label sk-toggleable__label-arrow\">StandardScaler</label><div class=\"sk-toggleable__content\"><pre>StandardScaler()</pre></div></div></div><div class=\"sk-item\"><div class=\"sk-estimator sk-toggleable\"><input class=\"sk-toggleable__control sk-hidden--visually\" id=\"sk-estimator-id-40\" type=\"checkbox\" ><label for=\"sk-estimator-id-40\" class=\"sk-toggleable__label sk-toggleable__label-arrow\">LogisticRegression</label><div class=\"sk-toggleable__content\"><pre>LogisticRegression()</pre></div></div></div></div></div></div></div></div><div class=\"sk-parallel-item\"><div class=\"sk-item\"><div class=\"sk-label-container\"><div class=\"sk-label sk-toggleable\"><label>xgb</label></div></div><div class=\"sk-serial\"><div class=\"sk-item\"><div class=\"sk-estimator sk-toggleable\"><input class=\"sk-toggleable__control sk-hidden--visually\" id=\"sk-estimator-id-41\" type=\"checkbox\" ><label for=\"sk-estimator-id-41\" class=\"sk-toggleable__label sk-toggleable__label-arrow\">XGBClassifier</label><div class=\"sk-toggleable__content\"><pre>XGBClassifier(base_score=None, booster=None, callbacks=None,\n",
              "              colsample_bylevel=None, colsample_bynode=None,\n",
              "              colsample_bytree=None, device=None, early_stopping_rounds=10,\n",
              "              enable_categorical=False, eval_metric=None, feature_types=None,\n",
              "              gamma=None, grow_policy=None, importance_type=None,\n",
              "              interaction_constraints=None, learning_rate=None, max_bin=None,\n",
              "              max_cat_threshold=None, max_cat_to_onehot=None,\n",
              "              max_delta_step=None, max_depth=None, max_leaves=None,\n",
              "              min_child_weight=None, missing=nan, monotone_constraints=None,\n",
              "              multi_strategy=None, n_estimators=500, n_jobs=None,\n",
              "              num_parallel_tree=None, random_state=None, ...)</pre></div></div></div></div></div></div></div></div></div></div>"
            ]
          },
          "metadata": {},
          "execution_count": 24
        }
      ]
    },
    {
      "cell_type": "code",
      "source": [
        "pickle.dump(vwrap, open('./test.pkl', 'wb'))"
      ],
      "metadata": {
        "id": "Qk47f0tqTkMa"
      },
      "execution_count": 25,
      "outputs": []
    },
    {
      "cell_type": "code",
      "source": [
        "p = pickle.load(open('./test.pkl', 'rb'))\n",
        "p"
      ],
      "metadata": {
        "colab": {
          "base_uri": "https://localhost:8080/",
          "height": 143
        },
        "id": "PUw29gv6TvM4",
        "outputId": "f6586e9b-a32c-4cb6-871d-31cf4e190098"
      },
      "execution_count": 26,
      "outputs": [
        {
          "output_type": "execute_result",
          "data": {
            "text/plain": [
              "VotingClassifierWrapper(estimators=[('pipe1',\n",
              "                                     Pipeline(steps=[('scaler',\n",
              "                                                      StandardScaler()),\n",
              "                                                     ('gbc',\n",
              "                                                      GradientBoostingClassifier(validation_fraction=0.2))])),\n",
              "                                    ('pipe2',\n",
              "                                     Pipeline(steps=[('scaler',\n",
              "                                                      StandardScaler()),\n",
              "                                                     ('lgc',\n",
              "                                                      LogisticRegression())])),\n",
              "                                    ('xgb',\n",
              "                                     XGBClassifier(base_score=None,\n",
              "                                                   booster=None, callbacks=None,\n",
              "                                                   colsample_bylevel=None,\n",
              "                                                   colsample_bynode=None,\n",
              "                                                   col...\n",
              "                                                   importance_type=None,\n",
              "                                                   interaction_constraints=None,\n",
              "                                                   learning_rate=None,\n",
              "                                                   max_bin=None,\n",
              "                                                   max_cat_threshold=None,\n",
              "                                                   max_cat_to_onehot=None,\n",
              "                                                   max_delta_step=None,\n",
              "                                                   max_depth=None,\n",
              "                                                   max_leaves=None,\n",
              "                                                   min_child_weight=None,\n",
              "                                                   missing=nan,\n",
              "                                                   monotone_constraints=None,\n",
              "                                                   multi_strategy=None,\n",
              "                                                   n_estimators=500,\n",
              "                                                   n_jobs=None,\n",
              "                                                   num_parallel_tree=None,\n",
              "                                                   random_state=None, ...))],\n",
              "                        voting='soft')"
            ],
            "text/html": [
              "<style>#sk-container-id-9 {color: black;background-color: white;}#sk-container-id-9 pre{padding: 0;}#sk-container-id-9 div.sk-toggleable {background-color: white;}#sk-container-id-9 label.sk-toggleable__label {cursor: pointer;display: block;width: 100%;margin-bottom: 0;padding: 0.3em;box-sizing: border-box;text-align: center;}#sk-container-id-9 label.sk-toggleable__label-arrow:before {content: \"▸\";float: left;margin-right: 0.25em;color: #696969;}#sk-container-id-9 label.sk-toggleable__label-arrow:hover:before {color: black;}#sk-container-id-9 div.sk-estimator:hover label.sk-toggleable__label-arrow:before {color: black;}#sk-container-id-9 div.sk-toggleable__content {max-height: 0;max-width: 0;overflow: hidden;text-align: left;background-color: #f0f8ff;}#sk-container-id-9 div.sk-toggleable__content pre {margin: 0.2em;color: black;border-radius: 0.25em;background-color: #f0f8ff;}#sk-container-id-9 input.sk-toggleable__control:checked~div.sk-toggleable__content {max-height: 200px;max-width: 100%;overflow: auto;}#sk-container-id-9 input.sk-toggleable__control:checked~label.sk-toggleable__label-arrow:before {content: \"▾\";}#sk-container-id-9 div.sk-estimator input.sk-toggleable__control:checked~label.sk-toggleable__label {background-color: #d4ebff;}#sk-container-id-9 div.sk-label input.sk-toggleable__control:checked~label.sk-toggleable__label {background-color: #d4ebff;}#sk-container-id-9 input.sk-hidden--visually {border: 0;clip: rect(1px 1px 1px 1px);clip: rect(1px, 1px, 1px, 1px);height: 1px;margin: -1px;overflow: hidden;padding: 0;position: absolute;width: 1px;}#sk-container-id-9 div.sk-estimator {font-family: monospace;background-color: #f0f8ff;border: 1px dotted black;border-radius: 0.25em;box-sizing: border-box;margin-bottom: 0.5em;}#sk-container-id-9 div.sk-estimator:hover {background-color: #d4ebff;}#sk-container-id-9 div.sk-parallel-item::after {content: \"\";width: 100%;border-bottom: 1px solid gray;flex-grow: 1;}#sk-container-id-9 div.sk-label:hover label.sk-toggleable__label {background-color: #d4ebff;}#sk-container-id-9 div.sk-serial::before {content: \"\";position: absolute;border-left: 1px solid gray;box-sizing: border-box;top: 0;bottom: 0;left: 50%;z-index: 0;}#sk-container-id-9 div.sk-serial {display: flex;flex-direction: column;align-items: center;background-color: white;padding-right: 0.2em;padding-left: 0.2em;position: relative;}#sk-container-id-9 div.sk-item {position: relative;z-index: 1;}#sk-container-id-9 div.sk-parallel {display: flex;align-items: stretch;justify-content: center;background-color: white;position: relative;}#sk-container-id-9 div.sk-item::before, #sk-container-id-9 div.sk-parallel-item::before {content: \"\";position: absolute;border-left: 1px solid gray;box-sizing: border-box;top: 0;bottom: 0;left: 50%;z-index: -1;}#sk-container-id-9 div.sk-parallel-item {display: flex;flex-direction: column;z-index: 1;position: relative;background-color: white;}#sk-container-id-9 div.sk-parallel-item:first-child::after {align-self: flex-end;width: 50%;}#sk-container-id-9 div.sk-parallel-item:last-child::after {align-self: flex-start;width: 50%;}#sk-container-id-9 div.sk-parallel-item:only-child::after {width: 0;}#sk-container-id-9 div.sk-dashed-wrapped {border: 1px dashed gray;margin: 0 0.4em 0.5em 0.4em;box-sizing: border-box;padding-bottom: 0.4em;background-color: white;}#sk-container-id-9 div.sk-label label {font-family: monospace;font-weight: bold;display: inline-block;line-height: 1.2em;}#sk-container-id-9 div.sk-label-container {text-align: center;}#sk-container-id-9 div.sk-container {/* jupyter's `normalize.less` sets `[hidden] { display: none; }` but bootstrap.min.css set `[hidden] { display: none !important; }` so we also need the `!important` here to be able to override the default hidden behavior on the sphinx rendered scikit-learn.org. See: https://github.com/scikit-learn/scikit-learn/issues/21755 */display: inline-block !important;position: relative;}#sk-container-id-9 div.sk-text-repr-fallback {display: none;}</style><div id=\"sk-container-id-9\" class=\"sk-top-container\"><div class=\"sk-text-repr-fallback\"><pre>VotingClassifierWrapper(estimators=[(&#x27;pipe1&#x27;,\n",
              "                                     Pipeline(steps=[(&#x27;scaler&#x27;,\n",
              "                                                      StandardScaler()),\n",
              "                                                     (&#x27;gbc&#x27;,\n",
              "                                                      GradientBoostingClassifier(validation_fraction=0.2))])),\n",
              "                                    (&#x27;pipe2&#x27;,\n",
              "                                     Pipeline(steps=[(&#x27;scaler&#x27;,\n",
              "                                                      StandardScaler()),\n",
              "                                                     (&#x27;lgc&#x27;,\n",
              "                                                      LogisticRegression())])),\n",
              "                                    (&#x27;xgb&#x27;,\n",
              "                                     XGBClassifier(base_score=None,\n",
              "                                                   booster=None, callbacks=None,\n",
              "                                                   colsample_bylevel=None,\n",
              "                                                   colsample_bynode=None,\n",
              "                                                   col...\n",
              "                                                   importance_type=None,\n",
              "                                                   interaction_constraints=None,\n",
              "                                                   learning_rate=None,\n",
              "                                                   max_bin=None,\n",
              "                                                   max_cat_threshold=None,\n",
              "                                                   max_cat_to_onehot=None,\n",
              "                                                   max_delta_step=None,\n",
              "                                                   max_depth=None,\n",
              "                                                   max_leaves=None,\n",
              "                                                   min_child_weight=None,\n",
              "                                                   missing=nan,\n",
              "                                                   monotone_constraints=None,\n",
              "                                                   multi_strategy=None,\n",
              "                                                   n_estimators=500,\n",
              "                                                   n_jobs=None,\n",
              "                                                   num_parallel_tree=None,\n",
              "                                                   random_state=None, ...))],\n",
              "                        voting=&#x27;soft&#x27;)</pre><b>In a Jupyter environment, please rerun this cell to show the HTML representation or trust the notebook. <br />On GitHub, the HTML representation is unable to render, please try loading this page with nbviewer.org.</b></div><div class=\"sk-container\" hidden><div class=\"sk-item sk-dashed-wrapped\"><div class=\"sk-label-container\"><div class=\"sk-label sk-toggleable\"><input class=\"sk-toggleable__control sk-hidden--visually\" id=\"sk-estimator-id-42\" type=\"checkbox\" ><label for=\"sk-estimator-id-42\" class=\"sk-toggleable__label sk-toggleable__label-arrow\">VotingClassifierWrapper</label><div class=\"sk-toggleable__content\"><pre>VotingClassifierWrapper(estimators=[(&#x27;pipe1&#x27;,\n",
              "                                     Pipeline(steps=[(&#x27;scaler&#x27;,\n",
              "                                                      StandardScaler()),\n",
              "                                                     (&#x27;gbc&#x27;,\n",
              "                                                      GradientBoostingClassifier(validation_fraction=0.2))])),\n",
              "                                    (&#x27;pipe2&#x27;,\n",
              "                                     Pipeline(steps=[(&#x27;scaler&#x27;,\n",
              "                                                      StandardScaler()),\n",
              "                                                     (&#x27;lgc&#x27;,\n",
              "                                                      LogisticRegression())])),\n",
              "                                    (&#x27;xgb&#x27;,\n",
              "                                     XGBClassifier(base_score=None,\n",
              "                                                   booster=None, callbacks=None,\n",
              "                                                   colsample_bylevel=None,\n",
              "                                                   colsample_bynode=None,\n",
              "                                                   col...\n",
              "                                                   importance_type=None,\n",
              "                                                   interaction_constraints=None,\n",
              "                                                   learning_rate=None,\n",
              "                                                   max_bin=None,\n",
              "                                                   max_cat_threshold=None,\n",
              "                                                   max_cat_to_onehot=None,\n",
              "                                                   max_delta_step=None,\n",
              "                                                   max_depth=None,\n",
              "                                                   max_leaves=None,\n",
              "                                                   min_child_weight=None,\n",
              "                                                   missing=nan,\n",
              "                                                   monotone_constraints=None,\n",
              "                                                   multi_strategy=None,\n",
              "                                                   n_estimators=500,\n",
              "                                                   n_jobs=None,\n",
              "                                                   num_parallel_tree=None,\n",
              "                                                   random_state=None, ...))],\n",
              "                        voting=&#x27;soft&#x27;)</pre></div></div></div><div class=\"sk-parallel\"><div class=\"sk-parallel-item\"><div class=\"sk-item\"><div class=\"sk-label-container\"><div class=\"sk-label sk-toggleable\"><label>pipe1</label></div></div><div class=\"sk-serial\"><div class=\"sk-item\"><div class=\"sk-serial\"><div class=\"sk-item\"><div class=\"sk-estimator sk-toggleable\"><input class=\"sk-toggleable__control sk-hidden--visually\" id=\"sk-estimator-id-43\" type=\"checkbox\" ><label for=\"sk-estimator-id-43\" class=\"sk-toggleable__label sk-toggleable__label-arrow\">StandardScaler</label><div class=\"sk-toggleable__content\"><pre>StandardScaler()</pre></div></div></div><div class=\"sk-item\"><div class=\"sk-estimator sk-toggleable\"><input class=\"sk-toggleable__control sk-hidden--visually\" id=\"sk-estimator-id-44\" type=\"checkbox\" ><label for=\"sk-estimator-id-44\" class=\"sk-toggleable__label sk-toggleable__label-arrow\">GradientBoostingClassifier</label><div class=\"sk-toggleable__content\"><pre>GradientBoostingClassifier(validation_fraction=0.2)</pre></div></div></div></div></div></div></div></div><div class=\"sk-parallel-item\"><div class=\"sk-item\"><div class=\"sk-label-container\"><div class=\"sk-label sk-toggleable\"><label>pipe2</label></div></div><div class=\"sk-serial\"><div class=\"sk-item\"><div class=\"sk-serial\"><div class=\"sk-item\"><div class=\"sk-estimator sk-toggleable\"><input class=\"sk-toggleable__control sk-hidden--visually\" id=\"sk-estimator-id-45\" type=\"checkbox\" ><label for=\"sk-estimator-id-45\" class=\"sk-toggleable__label sk-toggleable__label-arrow\">StandardScaler</label><div class=\"sk-toggleable__content\"><pre>StandardScaler()</pre></div></div></div><div class=\"sk-item\"><div class=\"sk-estimator sk-toggleable\"><input class=\"sk-toggleable__control sk-hidden--visually\" id=\"sk-estimator-id-46\" type=\"checkbox\" ><label for=\"sk-estimator-id-46\" class=\"sk-toggleable__label sk-toggleable__label-arrow\">LogisticRegression</label><div class=\"sk-toggleable__content\"><pre>LogisticRegression()</pre></div></div></div></div></div></div></div></div><div class=\"sk-parallel-item\"><div class=\"sk-item\"><div class=\"sk-label-container\"><div class=\"sk-label sk-toggleable\"><label>xgb</label></div></div><div class=\"sk-serial\"><div class=\"sk-item\"><div class=\"sk-estimator sk-toggleable\"><input class=\"sk-toggleable__control sk-hidden--visually\" id=\"sk-estimator-id-47\" type=\"checkbox\" ><label for=\"sk-estimator-id-47\" class=\"sk-toggleable__label sk-toggleable__label-arrow\">XGBClassifier</label><div class=\"sk-toggleable__content\"><pre>XGBClassifier(base_score=None, booster=None, callbacks=None,\n",
              "              colsample_bylevel=None, colsample_bynode=None,\n",
              "              colsample_bytree=None, device=None, early_stopping_rounds=10,\n",
              "              enable_categorical=False, eval_metric=None, feature_types=None,\n",
              "              gamma=None, grow_policy=None, importance_type=None,\n",
              "              interaction_constraints=None, learning_rate=None, max_bin=None,\n",
              "              max_cat_threshold=None, max_cat_to_onehot=None,\n",
              "              max_delta_step=None, max_depth=None, max_leaves=None,\n",
              "              min_child_weight=None, missing=nan, monotone_constraints=None,\n",
              "              multi_strategy=None, n_estimators=500, n_jobs=None,\n",
              "              num_parallel_tree=None, random_state=None, ...)</pre></div></div></div></div></div></div></div></div></div></div>"
            ]
          },
          "metadata": {},
          "execution_count": 26
        }
      ]
    },
    {
      "cell_type": "code",
      "source": [
        "vwrap.n_features_in_"
      ],
      "metadata": {
        "colab": {
          "base_uri": "https://localhost:8080/"
        },
        "id": "fadh7H18Rcga",
        "outputId": "38a358d7-e792-4beb-f18d-35c308ee4be2"
      },
      "execution_count": 27,
      "outputs": [
        {
          "output_type": "execute_result",
          "data": {
            "text/plain": [
              "30"
            ]
          },
          "metadata": {},
          "execution_count": 27
        }
      ]
    },
    {
      "cell_type": "code",
      "source": [
        "vwrap.feature_names_in_"
      ],
      "metadata": {
        "colab": {
          "base_uri": "https://localhost:8080/"
        },
        "id": "lCeidcMTTL4D",
        "outputId": "a4427934-3911-4e5d-e94c-779bb1eb7eb4"
      },
      "execution_count": 28,
      "outputs": [
        {
          "output_type": "execute_result",
          "data": {
            "text/plain": [
              "array(['mean radius', 'mean texture', 'mean perimeter', 'mean area',\n",
              "       'mean smoothness', 'mean compactness', 'mean concavity',\n",
              "       'mean concave points', 'mean symmetry', 'mean fractal dimension',\n",
              "       'radius error', 'texture error', 'perimeter error', 'area error',\n",
              "       'smoothness error', 'compactness error', 'concavity error',\n",
              "       'concave points error', 'symmetry error',\n",
              "       'fractal dimension error', 'worst radius', 'worst texture',\n",
              "       'worst perimeter', 'worst area', 'worst smoothness',\n",
              "       'worst compactness', 'worst concavity', 'worst concave points',\n",
              "       'worst symmetry', 'worst fractal dimension'], dtype='<U23')"
            ]
          },
          "metadata": {},
          "execution_count": 28
        }
      ]
    },
    {
      "cell_type": "code",
      "source": [
        "vwrap.predict(X_test)"
      ],
      "metadata": {
        "colab": {
          "base_uri": "https://localhost:8080/"
        },
        "id": "ybZBbNsPM1kC",
        "outputId": "6ee65109-84e8-40f0-bb6b-ae747ac6dfa0"
      },
      "execution_count": 29,
      "outputs": [
        {
          "output_type": "execute_result",
          "data": {
            "text/plain": [
              "array([1, 0, 0, 1, 1, 0, 0, 0, 0, 1, 1, 0, 1, 0, 1, 0, 1, 1, 1, 0, 1, 1,\n",
              "       0, 1, 1, 1, 1, 1, 1, 0, 1, 1, 1, 1, 1, 1, 1, 1, 0, 1, 1, 0, 1, 1,\n",
              "       1, 1, 1, 1, 1, 1, 0, 0, 1, 1, 1, 1, 1, 0, 0, 1, 1, 0, 0, 1, 1, 1,\n",
              "       0, 0, 1, 1, 0, 0, 1, 0, 1, 1, 1, 1, 1, 1, 0, 1, 1, 0, 0, 0, 0, 0,\n",
              "       1, 1, 1, 0, 1, 1, 1, 1, 0, 0, 1, 0, 0, 1, 0, 0, 1, 1, 1, 0, 0, 1,\n",
              "       0, 1, 1, 0, 1, 0, 1, 1, 1, 0, 1, 1, 1, 0, 1, 0, 0, 1, 1, 0, 0, 0,\n",
              "       1, 1, 0, 0, 0, 1, 1, 0, 1, 0, 1, 1, 0, 1, 0, 0, 0, 1, 0, 1, 1, 1,\n",
              "       1, 0, 0, 1, 1, 1, 1, 1, 1, 1, 1, 1, 1, 1, 1, 0, 1, 1, 1, 0, 1, 1,\n",
              "       1, 1, 1, 1, 1, 1, 1, 0, 0, 0, 1, 1, 0, 1, 0, 1, 1, 1, 1, 0, 0, 1,\n",
              "       0, 1, 1, 1, 0, 1, 0, 0, 1, 1, 1, 0, 1, 1, 1, 1, 0, 1, 1, 1, 1, 1,\n",
              "       0, 1, 0, 0, 1, 1, 0, 1, 1, 1, 1, 1, 1, 1, 0, 0, 0, 1, 1, 0, 1, 1,\n",
              "       0, 1, 0, 1, 0, 1, 0, 1, 1, 0, 1, 1, 1, 0, 1, 0, 1, 0, 1, 0, 1, 1,\n",
              "       0, 1, 1, 1, 1, 0, 1, 1, 1, 0, 1, 1, 1, 0, 1, 0, 1, 1, 1, 1, 1, 1,\n",
              "       1, 0, 1, 1, 1, 0, 1, 0, 1, 1, 1, 0, 1, 0, 0, 1, 0, 0, 1, 0, 0, 1,\n",
              "       1, 1, 0, 1, 1, 1, 0, 1, 0, 1, 1, 1, 0, 1, 0, 1, 1, 0, 0, 1, 1, 0,\n",
              "       1, 0, 0, 1, 0, 0, 1, 0, 0, 0, 0, 1, 1, 1, 1, 0, 1, 0, 0, 0, 1, 1,\n",
              "       1, 1, 0, 1, 1, 1, 1, 0, 0, 0, 1, 0, 1, 1, 1, 1, 1, 0, 1, 1, 0, 0,\n",
              "       1, 0, 1, 0, 1, 1, 1, 1, 1, 1, 0, 1, 0, 0, 1, 1, 1, 1, 1, 1, 0, 0,\n",
              "       1, 0, 1, 0, 0, 0, 1, 0, 1, 1, 0, 0, 0, 1, 1, 1, 1, 1, 1, 1, 0, 1,\n",
              "       1, 1, 0, 1, 1, 0, 0, 1, 0, 1, 0, 0, 1, 1, 0, 1, 0, 0, 1, 0, 0, 1,\n",
              "       1, 0, 1, 0, 1, 1, 0, 1, 0, 0, 0, 0, 1, 1, 1, 0])"
            ]
          },
          "metadata": {},
          "execution_count": 29
        }
      ]
    },
    {
      "cell_type": "code",
      "source": [
        "vwrap.predict_proba(X_test)[:10]"
      ],
      "metadata": {
        "colab": {
          "base_uri": "https://localhost:8080/"
        },
        "id": "8rilA4UFPNbo",
        "outputId": "c63af44e-7016-44fc-dc53-d8498729f911"
      },
      "execution_count": 30,
      "outputs": [
        {
          "output_type": "execute_result",
          "data": {
            "text/plain": [
              "array([[0.09509189, 0.90490811],\n",
              "       [0.99220907, 0.00779092],\n",
              "       [0.98802918, 0.01197083],\n",
              "       [0.01060427, 0.98939573],\n",
              "       [0.0028034 , 0.9971966 ],\n",
              "       [0.99514109, 0.00485891],\n",
              "       [0.99374744, 0.00625255],\n",
              "       [0.8541045 , 0.1458955 ],\n",
              "       [0.8341843 , 0.16581571],\n",
              "       [0.01020755, 0.98979245]])"
            ]
          },
          "metadata": {},
          "execution_count": 30
        }
      ]
    },
    {
      "cell_type": "code",
      "source": [
        "y_pred = vwrap.predict(X_test)\n",
        "f1_score(y_true=y_test, y_pred=y_pred)"
      ],
      "metadata": {
        "colab": {
          "base_uri": "https://localhost:8080/"
        },
        "id": "PibsF7KTCcIm",
        "outputId": "0184ff6c-dac3-40ca-ddb8-62a055a99081"
      },
      "execution_count": 31,
      "outputs": [
        {
          "output_type": "execute_result",
          "data": {
            "text/plain": [
              "0.9547038327526133"
            ]
          },
          "metadata": {},
          "execution_count": 31
        }
      ]
    },
    {
      "cell_type": "code",
      "source": [
        "vwrap.weights = [1, 0, 0]\n",
        "\n",
        "y_pred = vwrap.predict(X_test)\n",
        "f1_score(y_true=y_test, y_pred=y_pred)"
      ],
      "metadata": {
        "colab": {
          "base_uri": "https://localhost:8080/"
        },
        "id": "kk1HzF7OUPA5",
        "outputId": "58640b51-2ed9-4c2f-d052-a8b851967931"
      },
      "execution_count": 32,
      "outputs": [
        {
          "output_type": "execute_result",
          "data": {
            "text/plain": [
              "0.9133574007220217"
            ]
          },
          "metadata": {},
          "execution_count": 32
        }
      ]
    },
    {
      "cell_type": "code",
      "source": [
        "vwrap.weights = [1, 0, 3]\n",
        "\n",
        "y_pred = vwrap.predict(X_test)\n",
        "f1_score(y_true=y_test, y_pred=y_pred)"
      ],
      "metadata": {
        "colab": {
          "base_uri": "https://localhost:8080/"
        },
        "id": "gp5yBhCTPwJe",
        "outputId": "8a9be96f-a541-4cad-e82a-037aff011184"
      },
      "execution_count": 33,
      "outputs": [
        {
          "output_type": "execute_result",
          "data": {
            "text/plain": [
              "0.9578947368421052"
            ]
          },
          "metadata": {},
          "execution_count": 33
        }
      ]
    },
    {
      "cell_type": "code",
      "source": [
        "vwrap.weights = [1, 1, 0]\n",
        "\n",
        "y_pred = vwrap.predict(X_test)\n",
        "f1_score(y_true=y_test, y_pred=y_pred)"
      ],
      "metadata": {
        "colab": {
          "base_uri": "https://localhost:8080/"
        },
        "id": "cci0L_zRUSti",
        "outputId": "ec31fda5-adad-4a38-b464-7952f3d10b50"
      },
      "execution_count": 34,
      "outputs": [
        {
          "output_type": "execute_result",
          "data": {
            "text/plain": [
              "0.923076923076923"
            ]
          },
          "metadata": {},
          "execution_count": 34
        }
      ]
    },
    {
      "cell_type": "code",
      "source": [
        "vwrap.weights = [1, 2, 0]\n",
        "\n",
        "y_pred = vwrap.predict(X_test)\n",
        "f1_score(y_true=y_test, y_pred=y_pred)"
      ],
      "metadata": {
        "colab": {
          "base_uri": "https://localhost:8080/"
        },
        "id": "Wwsv1N8yUjDq",
        "outputId": "c6687147-c6f6-4a7a-ce1c-4f765f1fe842"
      },
      "execution_count": 35,
      "outputs": [
        {
          "output_type": "execute_result",
          "data": {
            "text/plain": [
              "0.9793103448275862"
            ]
          },
          "metadata": {},
          "execution_count": 35
        }
      ]
    },
    {
      "cell_type": "code",
      "source": [
        "vwrap.weights = [1, 1, 3]\n",
        "\n",
        "y_pred = vwrap.predict(X_test)\n",
        "f1_score(y_true=y_test, y_pred=y_pred)"
      ],
      "metadata": {
        "colab": {
          "base_uri": "https://localhost:8080/"
        },
        "id": "496PnaubUkiO",
        "outputId": "ef82c35b-5675-4e89-a0fa-6151f89b9c38"
      },
      "execution_count": 36,
      "outputs": [
        {
          "output_type": "execute_result",
          "data": {
            "text/plain": [
              "0.9634782608695653"
            ]
          },
          "metadata": {},
          "execution_count": 36
        }
      ]
    },
    {
      "cell_type": "markdown",
      "source": [
        "# Override XGBoostClassifier\n",
        "\n"
      ],
      "metadata": {
        "id": "viMy0t-5W4Az"
      }
    },
    {
      "cell_type": "code",
      "source": [
        "SklObjective"
      ],
      "metadata": {
        "colab": {
          "base_uri": "https://localhost:8080/"
        },
        "id": "i3N_j0BxZ8-G",
        "outputId": "280ae51c-2661-4789-b4de-fc5bc1e799ef"
      },
      "execution_count": 37,
      "outputs": [
        {
          "output_type": "execute_result",
          "data": {
            "text/plain": [
              "typing.Union[str, typing.Callable[[numpy.ndarray, numpy.ndarray], typing.Tuple[numpy.ndarray, numpy.ndarray]], NoneType]"
            ]
          },
          "metadata": {},
          "execution_count": 37
        }
      ]
    },
    {
      "cell_type": "code",
      "source": [
        "from multiprocessing import Value\n",
        "from typing import Optional, Any\n",
        "from xgboost.sklearn import SklObjective, Booster, XGBModel, Metric, TrainingCallback\n",
        "\n",
        "\n",
        "class FractionSupportXGBClassifier(XGBClassifier):\n",
        "  def __init__(\n",
        "      self,\n",
        "      fraction_ratio: float | None = None,\n",
        "      **kwargs: Any,\n",
        "      ) -> None:\n",
        "      # check types\n",
        "      self.fraction_ratio = self._float_checker(fraction_ratio)\n",
        "\n",
        "      # assign early stopping rounds\n",
        "      if isinstance(self.fraction_ratio, (float)) and \\\n",
        "       (kwargs.get('early_stopping_rounds') is None):\n",
        "          kwargs['early_stopping_rounds'] = int(kwargs['n_estimators'] / 10) if int(kwargs['n_estimators'] / 10) > 0 else 1\n",
        "      super().__init__(**kwargs)\n",
        "\n",
        "\n",
        "  def fit(\n",
        "      self,\n",
        "      *args,\n",
        "      **kwargs\n",
        "  ) -> \"XGBClassifier\":\n",
        "      if isinstance(self.fraction_ratio, float):\n",
        "          X_sample = args[0]\n",
        "          y_sample = args[1]\n",
        "\n",
        "          X_train, X_valid, y_train, y_valid = train_test_split(X_sample, y_sample,\n",
        "                                                                test_size=self.fraction_ratio,\n",
        "                                                                random_state=self.random_state\n",
        "                                                                )\n",
        "\n",
        "          kwargs['eval_set'] = [(X_train, y_train), (X_valid, y_valid)]\n",
        "      return super().fit(*args, **kwargs)\n",
        "\n",
        "\n",
        "  @staticmethod\n",
        "  def _float_checker(value: float | None = None):\n",
        "      \"\"\"\n",
        "         Class instance를 바꾸지 않는 메소드는 staticmethod로 선언, self를 선언하지 않음.\n",
        "      \"\"\"\n",
        "      if type(value) is None:\n",
        "          return value\n",
        "      if isinstance(value, (float)):\n",
        "          if (value > 0) and (1 > value):\n",
        "              return value\n",
        "          else:\n",
        "              raise ValueError(f'fraction_ratio={value} must be a floating number between 0 and 1.')\n",
        "      else:\n",
        "          raise TypeError(f'fraction_ratio={value} must be a floating number between 0 and 1.')\n"
      ],
      "metadata": {
        "id": "fcv3aDfZUlam"
      },
      "execution_count": 85,
      "outputs": []
    },
    {
      "cell_type": "code",
      "source": [
        "FractionSupportXGBClassifier(n_estimators=10000, fraction_ratio=0.7, early_stopping_rounds=10)"
      ],
      "metadata": {
        "id": "dIwyKpJG1AQh",
        "colab": {
          "base_uri": "https://localhost:8080/",
          "height": 251
        },
        "outputId": "0736e577-5d4a-4a5b-b2a7-c0562677f20e"
      },
      "execution_count": 86,
      "outputs": [
        {
          "output_type": "execute_result",
          "data": {
            "text/plain": [
              "FractionSupportXGBClassifier(base_score=None, booster=None, callbacks=None,\n",
              "                             colsample_bylevel=None, colsample_bynode=None,\n",
              "                             colsample_bytree=None, device=None,\n",
              "                             early_stopping_rounds=10, enable_categorical=False,\n",
              "                             eval_metric=None, feature_types=None,\n",
              "                             fraction_ratio=0.7, gamma=None, grow_policy=None,\n",
              "                             importance_type=None, interaction_constraints=None,\n",
              "                             learning_rate=None, max_bin=None,\n",
              "                             max_cat_threshold=None, max_cat_to_onehot=None,\n",
              "                             max_delta_step=None, max_depth=None,\n",
              "                             max_leaves=None, min_child_weight=None,\n",
              "                             missing=nan, monotone_constraints=None,\n",
              "                             multi_strategy=None, n_estimators=10000,\n",
              "                             n_jobs=None, num_parallel_tree=None, ...)"
            ],
            "text/html": [
              "<style>#sk-container-id-25 {color: black;background-color: white;}#sk-container-id-25 pre{padding: 0;}#sk-container-id-25 div.sk-toggleable {background-color: white;}#sk-container-id-25 label.sk-toggleable__label {cursor: pointer;display: block;width: 100%;margin-bottom: 0;padding: 0.3em;box-sizing: border-box;text-align: center;}#sk-container-id-25 label.sk-toggleable__label-arrow:before {content: \"▸\";float: left;margin-right: 0.25em;color: #696969;}#sk-container-id-25 label.sk-toggleable__label-arrow:hover:before {color: black;}#sk-container-id-25 div.sk-estimator:hover label.sk-toggleable__label-arrow:before {color: black;}#sk-container-id-25 div.sk-toggleable__content {max-height: 0;max-width: 0;overflow: hidden;text-align: left;background-color: #f0f8ff;}#sk-container-id-25 div.sk-toggleable__content pre {margin: 0.2em;color: black;border-radius: 0.25em;background-color: #f0f8ff;}#sk-container-id-25 input.sk-toggleable__control:checked~div.sk-toggleable__content {max-height: 200px;max-width: 100%;overflow: auto;}#sk-container-id-25 input.sk-toggleable__control:checked~label.sk-toggleable__label-arrow:before {content: \"▾\";}#sk-container-id-25 div.sk-estimator input.sk-toggleable__control:checked~label.sk-toggleable__label {background-color: #d4ebff;}#sk-container-id-25 div.sk-label input.sk-toggleable__control:checked~label.sk-toggleable__label {background-color: #d4ebff;}#sk-container-id-25 input.sk-hidden--visually {border: 0;clip: rect(1px 1px 1px 1px);clip: rect(1px, 1px, 1px, 1px);height: 1px;margin: -1px;overflow: hidden;padding: 0;position: absolute;width: 1px;}#sk-container-id-25 div.sk-estimator {font-family: monospace;background-color: #f0f8ff;border: 1px dotted black;border-radius: 0.25em;box-sizing: border-box;margin-bottom: 0.5em;}#sk-container-id-25 div.sk-estimator:hover {background-color: #d4ebff;}#sk-container-id-25 div.sk-parallel-item::after {content: \"\";width: 100%;border-bottom: 1px solid gray;flex-grow: 1;}#sk-container-id-25 div.sk-label:hover label.sk-toggleable__label {background-color: #d4ebff;}#sk-container-id-25 div.sk-serial::before {content: \"\";position: absolute;border-left: 1px solid gray;box-sizing: border-box;top: 0;bottom: 0;left: 50%;z-index: 0;}#sk-container-id-25 div.sk-serial {display: flex;flex-direction: column;align-items: center;background-color: white;padding-right: 0.2em;padding-left: 0.2em;position: relative;}#sk-container-id-25 div.sk-item {position: relative;z-index: 1;}#sk-container-id-25 div.sk-parallel {display: flex;align-items: stretch;justify-content: center;background-color: white;position: relative;}#sk-container-id-25 div.sk-item::before, #sk-container-id-25 div.sk-parallel-item::before {content: \"\";position: absolute;border-left: 1px solid gray;box-sizing: border-box;top: 0;bottom: 0;left: 50%;z-index: -1;}#sk-container-id-25 div.sk-parallel-item {display: flex;flex-direction: column;z-index: 1;position: relative;background-color: white;}#sk-container-id-25 div.sk-parallel-item:first-child::after {align-self: flex-end;width: 50%;}#sk-container-id-25 div.sk-parallel-item:last-child::after {align-self: flex-start;width: 50%;}#sk-container-id-25 div.sk-parallel-item:only-child::after {width: 0;}#sk-container-id-25 div.sk-dashed-wrapped {border: 1px dashed gray;margin: 0 0.4em 0.5em 0.4em;box-sizing: border-box;padding-bottom: 0.4em;background-color: white;}#sk-container-id-25 div.sk-label label {font-family: monospace;font-weight: bold;display: inline-block;line-height: 1.2em;}#sk-container-id-25 div.sk-label-container {text-align: center;}#sk-container-id-25 div.sk-container {/* jupyter's `normalize.less` sets `[hidden] { display: none; }` but bootstrap.min.css set `[hidden] { display: none !important; }` so we also need the `!important` here to be able to override the default hidden behavior on the sphinx rendered scikit-learn.org. See: https://github.com/scikit-learn/scikit-learn/issues/21755 */display: inline-block !important;position: relative;}#sk-container-id-25 div.sk-text-repr-fallback {display: none;}</style><div id=\"sk-container-id-25\" class=\"sk-top-container\"><div class=\"sk-text-repr-fallback\"><pre>FractionSupportXGBClassifier(base_score=None, booster=None, callbacks=None,\n",
              "                             colsample_bylevel=None, colsample_bynode=None,\n",
              "                             colsample_bytree=None, device=None,\n",
              "                             early_stopping_rounds=10, enable_categorical=False,\n",
              "                             eval_metric=None, feature_types=None,\n",
              "                             fraction_ratio=0.7, gamma=None, grow_policy=None,\n",
              "                             importance_type=None, interaction_constraints=None,\n",
              "                             learning_rate=None, max_bin=None,\n",
              "                             max_cat_threshold=None, max_cat_to_onehot=None,\n",
              "                             max_delta_step=None, max_depth=None,\n",
              "                             max_leaves=None, min_child_weight=None,\n",
              "                             missing=nan, monotone_constraints=None,\n",
              "                             multi_strategy=None, n_estimators=10000,\n",
              "                             n_jobs=None, num_parallel_tree=None, ...)</pre><b>In a Jupyter environment, please rerun this cell to show the HTML representation or trust the notebook. <br />On GitHub, the HTML representation is unable to render, please try loading this page with nbviewer.org.</b></div><div class=\"sk-container\" hidden><div class=\"sk-item\"><div class=\"sk-estimator sk-toggleable\"><input class=\"sk-toggleable__control sk-hidden--visually\" id=\"sk-estimator-id-70\" type=\"checkbox\" checked><label for=\"sk-estimator-id-70\" class=\"sk-toggleable__label sk-toggleable__label-arrow\">FractionSupportXGBClassifier</label><div class=\"sk-toggleable__content\"><pre>FractionSupportXGBClassifier(base_score=None, booster=None, callbacks=None,\n",
              "                             colsample_bylevel=None, colsample_bynode=None,\n",
              "                             colsample_bytree=None, device=None,\n",
              "                             early_stopping_rounds=10, enable_categorical=False,\n",
              "                             eval_metric=None, feature_types=None,\n",
              "                             fraction_ratio=0.7, gamma=None, grow_policy=None,\n",
              "                             importance_type=None, interaction_constraints=None,\n",
              "                             learning_rate=None, max_bin=None,\n",
              "                             max_cat_threshold=None, max_cat_to_onehot=None,\n",
              "                             max_delta_step=None, max_depth=None,\n",
              "                             max_leaves=None, min_child_weight=None,\n",
              "                             missing=nan, monotone_constraints=None,\n",
              "                             multi_strategy=None, n_estimators=10000,\n",
              "                             n_jobs=None, num_parallel_tree=None, ...)</pre></div></div></div></div></div>"
            ]
          },
          "metadata": {},
          "execution_count": 86
        }
      ]
    },
    {
      "cell_type": "code",
      "source": [
        "wrap_xgb = FractionSupportXGBClassifier(n_estimators=10000, fraction_ratio=.2, early_stopping_rounds=10)\n",
        "wrap_xgb"
      ],
      "metadata": {
        "colab": {
          "base_uri": "https://localhost:8080/",
          "height": 251
        },
        "id": "S4emHjqFXcpL",
        "outputId": "52edd928-1127-4138-e283-4a00a2b822bb"
      },
      "execution_count": 87,
      "outputs": [
        {
          "output_type": "execute_result",
          "data": {
            "text/plain": [
              "FractionSupportXGBClassifier(base_score=None, booster=None, callbacks=None,\n",
              "                             colsample_bylevel=None, colsample_bynode=None,\n",
              "                             colsample_bytree=None, device=None,\n",
              "                             early_stopping_rounds=10, enable_categorical=False,\n",
              "                             eval_metric=None, feature_types=None,\n",
              "                             fraction_ratio=0.2, gamma=None, grow_policy=None,\n",
              "                             importance_type=None, interaction_constraints=None,\n",
              "                             learning_rate=None, max_bin=None,\n",
              "                             max_cat_threshold=None, max_cat_to_onehot=None,\n",
              "                             max_delta_step=None, max_depth=None,\n",
              "                             max_leaves=None, min_child_weight=None,\n",
              "                             missing=nan, monotone_constraints=None,\n",
              "                             multi_strategy=None, n_estimators=10000,\n",
              "                             n_jobs=None, num_parallel_tree=None, ...)"
            ],
            "text/html": [
              "<style>#sk-container-id-26 {color: black;background-color: white;}#sk-container-id-26 pre{padding: 0;}#sk-container-id-26 div.sk-toggleable {background-color: white;}#sk-container-id-26 label.sk-toggleable__label {cursor: pointer;display: block;width: 100%;margin-bottom: 0;padding: 0.3em;box-sizing: border-box;text-align: center;}#sk-container-id-26 label.sk-toggleable__label-arrow:before {content: \"▸\";float: left;margin-right: 0.25em;color: #696969;}#sk-container-id-26 label.sk-toggleable__label-arrow:hover:before {color: black;}#sk-container-id-26 div.sk-estimator:hover label.sk-toggleable__label-arrow:before {color: black;}#sk-container-id-26 div.sk-toggleable__content {max-height: 0;max-width: 0;overflow: hidden;text-align: left;background-color: #f0f8ff;}#sk-container-id-26 div.sk-toggleable__content pre {margin: 0.2em;color: black;border-radius: 0.25em;background-color: #f0f8ff;}#sk-container-id-26 input.sk-toggleable__control:checked~div.sk-toggleable__content {max-height: 200px;max-width: 100%;overflow: auto;}#sk-container-id-26 input.sk-toggleable__control:checked~label.sk-toggleable__label-arrow:before {content: \"▾\";}#sk-container-id-26 div.sk-estimator input.sk-toggleable__control:checked~label.sk-toggleable__label {background-color: #d4ebff;}#sk-container-id-26 div.sk-label input.sk-toggleable__control:checked~label.sk-toggleable__label {background-color: #d4ebff;}#sk-container-id-26 input.sk-hidden--visually {border: 0;clip: rect(1px 1px 1px 1px);clip: rect(1px, 1px, 1px, 1px);height: 1px;margin: -1px;overflow: hidden;padding: 0;position: absolute;width: 1px;}#sk-container-id-26 div.sk-estimator {font-family: monospace;background-color: #f0f8ff;border: 1px dotted black;border-radius: 0.25em;box-sizing: border-box;margin-bottom: 0.5em;}#sk-container-id-26 div.sk-estimator:hover {background-color: #d4ebff;}#sk-container-id-26 div.sk-parallel-item::after {content: \"\";width: 100%;border-bottom: 1px solid gray;flex-grow: 1;}#sk-container-id-26 div.sk-label:hover label.sk-toggleable__label {background-color: #d4ebff;}#sk-container-id-26 div.sk-serial::before {content: \"\";position: absolute;border-left: 1px solid gray;box-sizing: border-box;top: 0;bottom: 0;left: 50%;z-index: 0;}#sk-container-id-26 div.sk-serial {display: flex;flex-direction: column;align-items: center;background-color: white;padding-right: 0.2em;padding-left: 0.2em;position: relative;}#sk-container-id-26 div.sk-item {position: relative;z-index: 1;}#sk-container-id-26 div.sk-parallel {display: flex;align-items: stretch;justify-content: center;background-color: white;position: relative;}#sk-container-id-26 div.sk-item::before, #sk-container-id-26 div.sk-parallel-item::before {content: \"\";position: absolute;border-left: 1px solid gray;box-sizing: border-box;top: 0;bottom: 0;left: 50%;z-index: -1;}#sk-container-id-26 div.sk-parallel-item {display: flex;flex-direction: column;z-index: 1;position: relative;background-color: white;}#sk-container-id-26 div.sk-parallel-item:first-child::after {align-self: flex-end;width: 50%;}#sk-container-id-26 div.sk-parallel-item:last-child::after {align-self: flex-start;width: 50%;}#sk-container-id-26 div.sk-parallel-item:only-child::after {width: 0;}#sk-container-id-26 div.sk-dashed-wrapped {border: 1px dashed gray;margin: 0 0.4em 0.5em 0.4em;box-sizing: border-box;padding-bottom: 0.4em;background-color: white;}#sk-container-id-26 div.sk-label label {font-family: monospace;font-weight: bold;display: inline-block;line-height: 1.2em;}#sk-container-id-26 div.sk-label-container {text-align: center;}#sk-container-id-26 div.sk-container {/* jupyter's `normalize.less` sets `[hidden] { display: none; }` but bootstrap.min.css set `[hidden] { display: none !important; }` so we also need the `!important` here to be able to override the default hidden behavior on the sphinx rendered scikit-learn.org. See: https://github.com/scikit-learn/scikit-learn/issues/21755 */display: inline-block !important;position: relative;}#sk-container-id-26 div.sk-text-repr-fallback {display: none;}</style><div id=\"sk-container-id-26\" class=\"sk-top-container\"><div class=\"sk-text-repr-fallback\"><pre>FractionSupportXGBClassifier(base_score=None, booster=None, callbacks=None,\n",
              "                             colsample_bylevel=None, colsample_bynode=None,\n",
              "                             colsample_bytree=None, device=None,\n",
              "                             early_stopping_rounds=10, enable_categorical=False,\n",
              "                             eval_metric=None, feature_types=None,\n",
              "                             fraction_ratio=0.2, gamma=None, grow_policy=None,\n",
              "                             importance_type=None, interaction_constraints=None,\n",
              "                             learning_rate=None, max_bin=None,\n",
              "                             max_cat_threshold=None, max_cat_to_onehot=None,\n",
              "                             max_delta_step=None, max_depth=None,\n",
              "                             max_leaves=None, min_child_weight=None,\n",
              "                             missing=nan, monotone_constraints=None,\n",
              "                             multi_strategy=None, n_estimators=10000,\n",
              "                             n_jobs=None, num_parallel_tree=None, ...)</pre><b>In a Jupyter environment, please rerun this cell to show the HTML representation or trust the notebook. <br />On GitHub, the HTML representation is unable to render, please try loading this page with nbviewer.org.</b></div><div class=\"sk-container\" hidden><div class=\"sk-item\"><div class=\"sk-estimator sk-toggleable\"><input class=\"sk-toggleable__control sk-hidden--visually\" id=\"sk-estimator-id-71\" type=\"checkbox\" checked><label for=\"sk-estimator-id-71\" class=\"sk-toggleable__label sk-toggleable__label-arrow\">FractionSupportXGBClassifier</label><div class=\"sk-toggleable__content\"><pre>FractionSupportXGBClassifier(base_score=None, booster=None, callbacks=None,\n",
              "                             colsample_bylevel=None, colsample_bynode=None,\n",
              "                             colsample_bytree=None, device=None,\n",
              "                             early_stopping_rounds=10, enable_categorical=False,\n",
              "                             eval_metric=None, feature_types=None,\n",
              "                             fraction_ratio=0.2, gamma=None, grow_policy=None,\n",
              "                             importance_type=None, interaction_constraints=None,\n",
              "                             learning_rate=None, max_bin=None,\n",
              "                             max_cat_threshold=None, max_cat_to_onehot=None,\n",
              "                             max_delta_step=None, max_depth=None,\n",
              "                             max_leaves=None, min_child_weight=None,\n",
              "                             missing=nan, monotone_constraints=None,\n",
              "                             multi_strategy=None, n_estimators=10000,\n",
              "                             n_jobs=None, num_parallel_tree=None, ...)</pre></div></div></div></div></div>"
            ]
          },
          "metadata": {},
          "execution_count": 87
        }
      ]
    },
    {
      "cell_type": "code",
      "source": [
        "wrap_xgb.fit(X_train, y_train)"
      ],
      "metadata": {
        "colab": {
          "base_uri": "https://localhost:8080/",
          "height": 1000
        },
        "id": "cF5WyBI5gyfB",
        "outputId": "cdba7b70-0cd9-4eda-8883-0be59e44dcc9"
      },
      "execution_count": 88,
      "outputs": [
        {
          "output_type": "stream",
          "name": "stderr",
          "text": [
            "/usr/local/lib/python3.10/dist-packages/xgboost/core.py:160: UserWarning: [06:57:37] WARNING: /workspace/src/learner.cc:742: \n",
            "Parameters: { \"fraction_ratio\" } are not used.\n",
            "\n",
            "  warnings.warn(smsg, UserWarning)\n"
          ]
        },
        {
          "output_type": "stream",
          "name": "stdout",
          "text": [
            "[0]\tvalidation_0-logloss:0.47688\tvalidation_1-logloss:0.46119\n",
            "[1]\tvalidation_0-logloss:0.36071\tvalidation_1-logloss:0.34735\n",
            "[2]\tvalidation_0-logloss:0.27891\tvalidation_1-logloss:0.26430\n",
            "[3]\tvalidation_0-logloss:0.22169\tvalidation_1-logloss:0.20460\n",
            "[4]\tvalidation_0-logloss:0.17518\tvalidation_1-logloss:0.16831\n",
            "[5]\tvalidation_0-logloss:0.14660\tvalidation_1-logloss:0.14313\n",
            "[6]\tvalidation_0-logloss:0.12299\tvalidation_1-logloss:0.11857\n",
            "[7]\tvalidation_0-logloss:0.10707\tvalidation_1-logloss:0.10338\n",
            "[8]\tvalidation_0-logloss:0.09346\tvalidation_1-logloss:0.08977\n",
            "[9]\tvalidation_0-logloss:0.08133\tvalidation_1-logloss:0.07960\n",
            "[10]\tvalidation_0-logloss:0.07115\tvalidation_1-logloss:0.07211\n",
            "[11]\tvalidation_0-logloss:0.06413\tvalidation_1-logloss:0.06327\n",
            "[12]\tvalidation_0-logloss:0.05751\tvalidation_1-logloss:0.05693\n",
            "[13]\tvalidation_0-logloss:0.05328\tvalidation_1-logloss:0.04880\n",
            "[14]\tvalidation_0-logloss:0.04859\tvalidation_1-logloss:0.04537\n",
            "[15]\tvalidation_0-logloss:0.04544\tvalidation_1-logloss:0.04084\n",
            "[16]\tvalidation_0-logloss:0.04200\tvalidation_1-logloss:0.03899\n",
            "[17]\tvalidation_0-logloss:0.03985\tvalidation_1-logloss:0.03664\n",
            "[18]\tvalidation_0-logloss:0.03856\tvalidation_1-logloss:0.03495\n",
            "[19]\tvalidation_0-logloss:0.03664\tvalidation_1-logloss:0.03323\n",
            "[20]\tvalidation_0-logloss:0.03572\tvalidation_1-logloss:0.03197\n",
            "[21]\tvalidation_0-logloss:0.03455\tvalidation_1-logloss:0.03150\n",
            "[22]\tvalidation_0-logloss:0.03389\tvalidation_1-logloss:0.03050\n",
            "[23]\tvalidation_0-logloss:0.03298\tvalidation_1-logloss:0.03027\n",
            "[24]\tvalidation_0-logloss:0.03251\tvalidation_1-logloss:0.02883\n",
            "[25]\tvalidation_0-logloss:0.03183\tvalidation_1-logloss:0.02867\n",
            "[26]\tvalidation_0-logloss:0.03134\tvalidation_1-logloss:0.02784\n",
            "[27]\tvalidation_0-logloss:0.03084\tvalidation_1-logloss:0.02745\n",
            "[28]\tvalidation_0-logloss:0.03027\tvalidation_1-logloss:0.02739\n",
            "[29]\tvalidation_0-logloss:0.02994\tvalidation_1-logloss:0.02624\n",
            "[30]\tvalidation_0-logloss:0.02949\tvalidation_1-logloss:0.02573\n",
            "[31]\tvalidation_0-logloss:0.02896\tvalidation_1-logloss:0.02569\n",
            "[32]\tvalidation_0-logloss:0.02860\tvalidation_1-logloss:0.02506\n",
            "[33]\tvalidation_0-logloss:0.02830\tvalidation_1-logloss:0.02445\n",
            "[34]\tvalidation_0-logloss:0.02784\tvalidation_1-logloss:0.02444\n",
            "[35]\tvalidation_0-logloss:0.02748\tvalidation_1-logloss:0.02413\n",
            "[36]\tvalidation_0-logloss:0.02720\tvalidation_1-logloss:0.02354\n",
            "[37]\tvalidation_0-logloss:0.02692\tvalidation_1-logloss:0.02308\n",
            "[38]\tvalidation_0-logloss:0.02652\tvalidation_1-logloss:0.02306\n",
            "[39]\tvalidation_0-logloss:0.02630\tvalidation_1-logloss:0.02238\n",
            "[40]\tvalidation_0-logloss:0.02616\tvalidation_1-logloss:0.02152\n",
            "[41]\tvalidation_0-logloss:0.02592\tvalidation_1-logloss:0.02104\n",
            "[42]\tvalidation_0-logloss:0.02556\tvalidation_1-logloss:0.02103\n",
            "[43]\tvalidation_0-logloss:0.02534\tvalidation_1-logloss:0.02066\n",
            "[44]\tvalidation_0-logloss:0.02504\tvalidation_1-logloss:0.02067\n",
            "[45]\tvalidation_0-logloss:0.02476\tvalidation_1-logloss:0.02050\n",
            "[46]\tvalidation_0-logloss:0.02455\tvalidation_1-logloss:0.02014\n",
            "[47]\tvalidation_0-logloss:0.02427\tvalidation_1-logloss:0.02014\n",
            "[48]\tvalidation_0-logloss:0.02407\tvalidation_1-logloss:0.01972\n",
            "[49]\tvalidation_0-logloss:0.02385\tvalidation_1-logloss:0.01947\n",
            "[50]\tvalidation_0-logloss:0.02360\tvalidation_1-logloss:0.01946\n",
            "[51]\tvalidation_0-logloss:0.02345\tvalidation_1-logloss:0.01904\n",
            "[52]\tvalidation_0-logloss:0.02330\tvalidation_1-logloss:0.01870\n",
            "[53]\tvalidation_0-logloss:0.02306\tvalidation_1-logloss:0.01870\n",
            "[54]\tvalidation_0-logloss:0.02292\tvalidation_1-logloss:0.01842\n",
            "[55]\tvalidation_0-logloss:0.02272\tvalidation_1-logloss:0.01843\n",
            "[56]\tvalidation_0-logloss:0.02252\tvalidation_1-logloss:0.01833\n",
            "[57]\tvalidation_0-logloss:0.02235\tvalidation_1-logloss:0.01834\n",
            "[58]\tvalidation_0-logloss:0.02218\tvalidation_1-logloss:0.01825\n",
            "[59]\tvalidation_0-logloss:0.02208\tvalidation_1-logloss:0.01794\n",
            "[60]\tvalidation_0-logloss:0.02190\tvalidation_1-logloss:0.01795\n",
            "[61]\tvalidation_0-logloss:0.02190\tvalidation_1-logloss:0.01795\n",
            "[62]\tvalidation_0-logloss:0.02190\tvalidation_1-logloss:0.01795\n",
            "[63]\tvalidation_0-logloss:0.02189\tvalidation_1-logloss:0.01797\n",
            "[64]\tvalidation_0-logloss:0.02189\tvalidation_1-logloss:0.01797\n",
            "[65]\tvalidation_0-logloss:0.02189\tvalidation_1-logloss:0.01797\n",
            "[66]\tvalidation_0-logloss:0.02189\tvalidation_1-logloss:0.01797\n",
            "[67]\tvalidation_0-logloss:0.02189\tvalidation_1-logloss:0.01797\n",
            "[68]\tvalidation_0-logloss:0.02189\tvalidation_1-logloss:0.01797\n",
            "[69]\tvalidation_0-logloss:0.02189\tvalidation_1-logloss:0.01797\n"
          ]
        },
        {
          "output_type": "execute_result",
          "data": {
            "text/plain": [
              "FractionSupportXGBClassifier(base_score=None, booster=None, callbacks=None,\n",
              "                             colsample_bylevel=None, colsample_bynode=None,\n",
              "                             colsample_bytree=None, device=None,\n",
              "                             early_stopping_rounds=10, enable_categorical=False,\n",
              "                             eval_metric=None, feature_types=None,\n",
              "                             fraction_ratio=0.2, gamma=None, grow_policy=None,\n",
              "                             importance_type=None, interaction_constraints=None,\n",
              "                             learning_rate=None, max_bin=None,\n",
              "                             max_cat_threshold=None, max_cat_to_onehot=None,\n",
              "                             max_delta_step=None, max_depth=None,\n",
              "                             max_leaves=None, min_child_weight=None,\n",
              "                             missing=nan, monotone_constraints=None,\n",
              "                             multi_strategy=None, n_estimators=10000,\n",
              "                             n_jobs=None, num_parallel_tree=None, ...)"
            ],
            "text/html": [
              "<style>#sk-container-id-27 {color: black;background-color: white;}#sk-container-id-27 pre{padding: 0;}#sk-container-id-27 div.sk-toggleable {background-color: white;}#sk-container-id-27 label.sk-toggleable__label {cursor: pointer;display: block;width: 100%;margin-bottom: 0;padding: 0.3em;box-sizing: border-box;text-align: center;}#sk-container-id-27 label.sk-toggleable__label-arrow:before {content: \"▸\";float: left;margin-right: 0.25em;color: #696969;}#sk-container-id-27 label.sk-toggleable__label-arrow:hover:before {color: black;}#sk-container-id-27 div.sk-estimator:hover label.sk-toggleable__label-arrow:before {color: black;}#sk-container-id-27 div.sk-toggleable__content {max-height: 0;max-width: 0;overflow: hidden;text-align: left;background-color: #f0f8ff;}#sk-container-id-27 div.sk-toggleable__content pre {margin: 0.2em;color: black;border-radius: 0.25em;background-color: #f0f8ff;}#sk-container-id-27 input.sk-toggleable__control:checked~div.sk-toggleable__content {max-height: 200px;max-width: 100%;overflow: auto;}#sk-container-id-27 input.sk-toggleable__control:checked~label.sk-toggleable__label-arrow:before {content: \"▾\";}#sk-container-id-27 div.sk-estimator input.sk-toggleable__control:checked~label.sk-toggleable__label {background-color: #d4ebff;}#sk-container-id-27 div.sk-label input.sk-toggleable__control:checked~label.sk-toggleable__label {background-color: #d4ebff;}#sk-container-id-27 input.sk-hidden--visually {border: 0;clip: rect(1px 1px 1px 1px);clip: rect(1px, 1px, 1px, 1px);height: 1px;margin: -1px;overflow: hidden;padding: 0;position: absolute;width: 1px;}#sk-container-id-27 div.sk-estimator {font-family: monospace;background-color: #f0f8ff;border: 1px dotted black;border-radius: 0.25em;box-sizing: border-box;margin-bottom: 0.5em;}#sk-container-id-27 div.sk-estimator:hover {background-color: #d4ebff;}#sk-container-id-27 div.sk-parallel-item::after {content: \"\";width: 100%;border-bottom: 1px solid gray;flex-grow: 1;}#sk-container-id-27 div.sk-label:hover label.sk-toggleable__label {background-color: #d4ebff;}#sk-container-id-27 div.sk-serial::before {content: \"\";position: absolute;border-left: 1px solid gray;box-sizing: border-box;top: 0;bottom: 0;left: 50%;z-index: 0;}#sk-container-id-27 div.sk-serial {display: flex;flex-direction: column;align-items: center;background-color: white;padding-right: 0.2em;padding-left: 0.2em;position: relative;}#sk-container-id-27 div.sk-item {position: relative;z-index: 1;}#sk-container-id-27 div.sk-parallel {display: flex;align-items: stretch;justify-content: center;background-color: white;position: relative;}#sk-container-id-27 div.sk-item::before, #sk-container-id-27 div.sk-parallel-item::before {content: \"\";position: absolute;border-left: 1px solid gray;box-sizing: border-box;top: 0;bottom: 0;left: 50%;z-index: -1;}#sk-container-id-27 div.sk-parallel-item {display: flex;flex-direction: column;z-index: 1;position: relative;background-color: white;}#sk-container-id-27 div.sk-parallel-item:first-child::after {align-self: flex-end;width: 50%;}#sk-container-id-27 div.sk-parallel-item:last-child::after {align-self: flex-start;width: 50%;}#sk-container-id-27 div.sk-parallel-item:only-child::after {width: 0;}#sk-container-id-27 div.sk-dashed-wrapped {border: 1px dashed gray;margin: 0 0.4em 0.5em 0.4em;box-sizing: border-box;padding-bottom: 0.4em;background-color: white;}#sk-container-id-27 div.sk-label label {font-family: monospace;font-weight: bold;display: inline-block;line-height: 1.2em;}#sk-container-id-27 div.sk-label-container {text-align: center;}#sk-container-id-27 div.sk-container {/* jupyter's `normalize.less` sets `[hidden] { display: none; }` but bootstrap.min.css set `[hidden] { display: none !important; }` so we also need the `!important` here to be able to override the default hidden behavior on the sphinx rendered scikit-learn.org. See: https://github.com/scikit-learn/scikit-learn/issues/21755 */display: inline-block !important;position: relative;}#sk-container-id-27 div.sk-text-repr-fallback {display: none;}</style><div id=\"sk-container-id-27\" class=\"sk-top-container\"><div class=\"sk-text-repr-fallback\"><pre>FractionSupportXGBClassifier(base_score=None, booster=None, callbacks=None,\n",
              "                             colsample_bylevel=None, colsample_bynode=None,\n",
              "                             colsample_bytree=None, device=None,\n",
              "                             early_stopping_rounds=10, enable_categorical=False,\n",
              "                             eval_metric=None, feature_types=None,\n",
              "                             fraction_ratio=0.2, gamma=None, grow_policy=None,\n",
              "                             importance_type=None, interaction_constraints=None,\n",
              "                             learning_rate=None, max_bin=None,\n",
              "                             max_cat_threshold=None, max_cat_to_onehot=None,\n",
              "                             max_delta_step=None, max_depth=None,\n",
              "                             max_leaves=None, min_child_weight=None,\n",
              "                             missing=nan, monotone_constraints=None,\n",
              "                             multi_strategy=None, n_estimators=10000,\n",
              "                             n_jobs=None, num_parallel_tree=None, ...)</pre><b>In a Jupyter environment, please rerun this cell to show the HTML representation or trust the notebook. <br />On GitHub, the HTML representation is unable to render, please try loading this page with nbviewer.org.</b></div><div class=\"sk-container\" hidden><div class=\"sk-item\"><div class=\"sk-estimator sk-toggleable\"><input class=\"sk-toggleable__control sk-hidden--visually\" id=\"sk-estimator-id-72\" type=\"checkbox\" checked><label for=\"sk-estimator-id-72\" class=\"sk-toggleable__label sk-toggleable__label-arrow\">FractionSupportXGBClassifier</label><div class=\"sk-toggleable__content\"><pre>FractionSupportXGBClassifier(base_score=None, booster=None, callbacks=None,\n",
              "                             colsample_bylevel=None, colsample_bynode=None,\n",
              "                             colsample_bytree=None, device=None,\n",
              "                             early_stopping_rounds=10, enable_categorical=False,\n",
              "                             eval_metric=None, feature_types=None,\n",
              "                             fraction_ratio=0.2, gamma=None, grow_policy=None,\n",
              "                             importance_type=None, interaction_constraints=None,\n",
              "                             learning_rate=None, max_bin=None,\n",
              "                             max_cat_threshold=None, max_cat_to_onehot=None,\n",
              "                             max_delta_step=None, max_depth=None,\n",
              "                             max_leaves=None, min_child_weight=None,\n",
              "                             missing=nan, monotone_constraints=None,\n",
              "                             multi_strategy=None, n_estimators=10000,\n",
              "                             n_jobs=None, num_parallel_tree=None, ...)</pre></div></div></div></div></div>"
            ]
          },
          "metadata": {},
          "execution_count": 88
        }
      ]
    },
    {
      "cell_type": "code",
      "source": [
        "f1_score(y_true=y_test, y_pred=wrap_xgb.predict(X_test))"
      ],
      "metadata": {
        "colab": {
          "base_uri": "https://localhost:8080/"
        },
        "id": "QgxNVwG4Xewf",
        "outputId": "6c105f47-1640-4595-d281-6cdee0bda7e4"
      },
      "execution_count": 89,
      "outputs": [
        {
          "output_type": "execute_result",
          "data": {
            "text/plain": [
              "0.9618055555555556"
            ]
          },
          "metadata": {},
          "execution_count": 89
        }
      ]
    },
    {
      "cell_type": "code",
      "source": [
        "vc2 = VotingClassifier(\n",
        "    estimators=[\n",
        "        ('pipe1', p1),\n",
        "        ('pipe2', p2),\n",
        "        ('xgb', FractionSupportXGBClassifier(n_estimators=10000, fraction_ratio=.2, early_stopping_rounds=10))\n",
        "        ],\n",
        "    voting='soft')\n",
        "vc2"
      ],
      "metadata": {
        "colab": {
          "base_uri": "https://localhost:8080/",
          "height": 143
        },
        "id": "UamrFuTycvdU",
        "outputId": "8be00a43-733b-4f8c-b54f-111df2ad98dd"
      },
      "execution_count": 90,
      "outputs": [
        {
          "output_type": "execute_result",
          "data": {
            "text/plain": [
              "VotingClassifier(estimators=[('pipe1',\n",
              "                              Pipeline(steps=[('scaler', StandardScaler()),\n",
              "                                              ('gbc',\n",
              "                                               GradientBoostingClassifier(validation_fraction=0.2))])),\n",
              "                             ('pipe2',\n",
              "                              Pipeline(steps=[('scaler', StandardScaler()),\n",
              "                                              ('lgc', LogisticRegression())])),\n",
              "                             ('xgb',\n",
              "                              FractionSupportXGBClassifier(base_score=None,\n",
              "                                                           booster=None,\n",
              "                                                           callbacks=None,\n",
              "                                                           colsample_bylevel=None,\n",
              "                                                           colsample_bynode=...\n",
              "                                                           grow_policy=None,\n",
              "                                                           importance_type=None,\n",
              "                                                           interaction_constraints=None,\n",
              "                                                           learning_rate=None,\n",
              "                                                           max_bin=None,\n",
              "                                                           max_cat_threshold=None,\n",
              "                                                           max_cat_to_onehot=None,\n",
              "                                                           max_delta_step=None,\n",
              "                                                           max_depth=None,\n",
              "                                                           max_leaves=None,\n",
              "                                                           min_child_weight=None,\n",
              "                                                           missing=nan,\n",
              "                                                           monotone_constraints=None,\n",
              "                                                           multi_strategy=None,\n",
              "                                                           n_estimators=10000,\n",
              "                                                           n_jobs=None,\n",
              "                                                           num_parallel_tree=None, ...))],\n",
              "                 voting='soft')"
            ],
            "text/html": [
              "<style>#sk-container-id-28 {color: black;background-color: white;}#sk-container-id-28 pre{padding: 0;}#sk-container-id-28 div.sk-toggleable {background-color: white;}#sk-container-id-28 label.sk-toggleable__label {cursor: pointer;display: block;width: 100%;margin-bottom: 0;padding: 0.3em;box-sizing: border-box;text-align: center;}#sk-container-id-28 label.sk-toggleable__label-arrow:before {content: \"▸\";float: left;margin-right: 0.25em;color: #696969;}#sk-container-id-28 label.sk-toggleable__label-arrow:hover:before {color: black;}#sk-container-id-28 div.sk-estimator:hover label.sk-toggleable__label-arrow:before {color: black;}#sk-container-id-28 div.sk-toggleable__content {max-height: 0;max-width: 0;overflow: hidden;text-align: left;background-color: #f0f8ff;}#sk-container-id-28 div.sk-toggleable__content pre {margin: 0.2em;color: black;border-radius: 0.25em;background-color: #f0f8ff;}#sk-container-id-28 input.sk-toggleable__control:checked~div.sk-toggleable__content {max-height: 200px;max-width: 100%;overflow: auto;}#sk-container-id-28 input.sk-toggleable__control:checked~label.sk-toggleable__label-arrow:before {content: \"▾\";}#sk-container-id-28 div.sk-estimator input.sk-toggleable__control:checked~label.sk-toggleable__label {background-color: #d4ebff;}#sk-container-id-28 div.sk-label input.sk-toggleable__control:checked~label.sk-toggleable__label {background-color: #d4ebff;}#sk-container-id-28 input.sk-hidden--visually {border: 0;clip: rect(1px 1px 1px 1px);clip: rect(1px, 1px, 1px, 1px);height: 1px;margin: -1px;overflow: hidden;padding: 0;position: absolute;width: 1px;}#sk-container-id-28 div.sk-estimator {font-family: monospace;background-color: #f0f8ff;border: 1px dotted black;border-radius: 0.25em;box-sizing: border-box;margin-bottom: 0.5em;}#sk-container-id-28 div.sk-estimator:hover {background-color: #d4ebff;}#sk-container-id-28 div.sk-parallel-item::after {content: \"\";width: 100%;border-bottom: 1px solid gray;flex-grow: 1;}#sk-container-id-28 div.sk-label:hover label.sk-toggleable__label {background-color: #d4ebff;}#sk-container-id-28 div.sk-serial::before {content: \"\";position: absolute;border-left: 1px solid gray;box-sizing: border-box;top: 0;bottom: 0;left: 50%;z-index: 0;}#sk-container-id-28 div.sk-serial {display: flex;flex-direction: column;align-items: center;background-color: white;padding-right: 0.2em;padding-left: 0.2em;position: relative;}#sk-container-id-28 div.sk-item {position: relative;z-index: 1;}#sk-container-id-28 div.sk-parallel {display: flex;align-items: stretch;justify-content: center;background-color: white;position: relative;}#sk-container-id-28 div.sk-item::before, #sk-container-id-28 div.sk-parallel-item::before {content: \"\";position: absolute;border-left: 1px solid gray;box-sizing: border-box;top: 0;bottom: 0;left: 50%;z-index: -1;}#sk-container-id-28 div.sk-parallel-item {display: flex;flex-direction: column;z-index: 1;position: relative;background-color: white;}#sk-container-id-28 div.sk-parallel-item:first-child::after {align-self: flex-end;width: 50%;}#sk-container-id-28 div.sk-parallel-item:last-child::after {align-self: flex-start;width: 50%;}#sk-container-id-28 div.sk-parallel-item:only-child::after {width: 0;}#sk-container-id-28 div.sk-dashed-wrapped {border: 1px dashed gray;margin: 0 0.4em 0.5em 0.4em;box-sizing: border-box;padding-bottom: 0.4em;background-color: white;}#sk-container-id-28 div.sk-label label {font-family: monospace;font-weight: bold;display: inline-block;line-height: 1.2em;}#sk-container-id-28 div.sk-label-container {text-align: center;}#sk-container-id-28 div.sk-container {/* jupyter's `normalize.less` sets `[hidden] { display: none; }` but bootstrap.min.css set `[hidden] { display: none !important; }` so we also need the `!important` here to be able to override the default hidden behavior on the sphinx rendered scikit-learn.org. See: https://github.com/scikit-learn/scikit-learn/issues/21755 */display: inline-block !important;position: relative;}#sk-container-id-28 div.sk-text-repr-fallback {display: none;}</style><div id=\"sk-container-id-28\" class=\"sk-top-container\"><div class=\"sk-text-repr-fallback\"><pre>VotingClassifier(estimators=[(&#x27;pipe1&#x27;,\n",
              "                              Pipeline(steps=[(&#x27;scaler&#x27;, StandardScaler()),\n",
              "                                              (&#x27;gbc&#x27;,\n",
              "                                               GradientBoostingClassifier(validation_fraction=0.2))])),\n",
              "                             (&#x27;pipe2&#x27;,\n",
              "                              Pipeline(steps=[(&#x27;scaler&#x27;, StandardScaler()),\n",
              "                                              (&#x27;lgc&#x27;, LogisticRegression())])),\n",
              "                             (&#x27;xgb&#x27;,\n",
              "                              FractionSupportXGBClassifier(base_score=None,\n",
              "                                                           booster=None,\n",
              "                                                           callbacks=None,\n",
              "                                                           colsample_bylevel=None,\n",
              "                                                           colsample_bynode=...\n",
              "                                                           grow_policy=None,\n",
              "                                                           importance_type=None,\n",
              "                                                           interaction_constraints=None,\n",
              "                                                           learning_rate=None,\n",
              "                                                           max_bin=None,\n",
              "                                                           max_cat_threshold=None,\n",
              "                                                           max_cat_to_onehot=None,\n",
              "                                                           max_delta_step=None,\n",
              "                                                           max_depth=None,\n",
              "                                                           max_leaves=None,\n",
              "                                                           min_child_weight=None,\n",
              "                                                           missing=nan,\n",
              "                                                           monotone_constraints=None,\n",
              "                                                           multi_strategy=None,\n",
              "                                                           n_estimators=10000,\n",
              "                                                           n_jobs=None,\n",
              "                                                           num_parallel_tree=None, ...))],\n",
              "                 voting=&#x27;soft&#x27;)</pre><b>In a Jupyter environment, please rerun this cell to show the HTML representation or trust the notebook. <br />On GitHub, the HTML representation is unable to render, please try loading this page with nbviewer.org.</b></div><div class=\"sk-container\" hidden><div class=\"sk-item sk-dashed-wrapped\"><div class=\"sk-label-container\"><div class=\"sk-label sk-toggleable\"><input class=\"sk-toggleable__control sk-hidden--visually\" id=\"sk-estimator-id-73\" type=\"checkbox\" ><label for=\"sk-estimator-id-73\" class=\"sk-toggleable__label sk-toggleable__label-arrow\">VotingClassifier</label><div class=\"sk-toggleable__content\"><pre>VotingClassifier(estimators=[(&#x27;pipe1&#x27;,\n",
              "                              Pipeline(steps=[(&#x27;scaler&#x27;, StandardScaler()),\n",
              "                                              (&#x27;gbc&#x27;,\n",
              "                                               GradientBoostingClassifier(validation_fraction=0.2))])),\n",
              "                             (&#x27;pipe2&#x27;,\n",
              "                              Pipeline(steps=[(&#x27;scaler&#x27;, StandardScaler()),\n",
              "                                              (&#x27;lgc&#x27;, LogisticRegression())])),\n",
              "                             (&#x27;xgb&#x27;,\n",
              "                              FractionSupportXGBClassifier(base_score=None,\n",
              "                                                           booster=None,\n",
              "                                                           callbacks=None,\n",
              "                                                           colsample_bylevel=None,\n",
              "                                                           colsample_bynode=...\n",
              "                                                           grow_policy=None,\n",
              "                                                           importance_type=None,\n",
              "                                                           interaction_constraints=None,\n",
              "                                                           learning_rate=None,\n",
              "                                                           max_bin=None,\n",
              "                                                           max_cat_threshold=None,\n",
              "                                                           max_cat_to_onehot=None,\n",
              "                                                           max_delta_step=None,\n",
              "                                                           max_depth=None,\n",
              "                                                           max_leaves=None,\n",
              "                                                           min_child_weight=None,\n",
              "                                                           missing=nan,\n",
              "                                                           monotone_constraints=None,\n",
              "                                                           multi_strategy=None,\n",
              "                                                           n_estimators=10000,\n",
              "                                                           n_jobs=None,\n",
              "                                                           num_parallel_tree=None, ...))],\n",
              "                 voting=&#x27;soft&#x27;)</pre></div></div></div><div class=\"sk-parallel\"><div class=\"sk-parallel-item\"><div class=\"sk-item\"><div class=\"sk-label-container\"><div class=\"sk-label sk-toggleable\"><label>pipe1</label></div></div><div class=\"sk-serial\"><div class=\"sk-item\"><div class=\"sk-serial\"><div class=\"sk-item\"><div class=\"sk-estimator sk-toggleable\"><input class=\"sk-toggleable__control sk-hidden--visually\" id=\"sk-estimator-id-74\" type=\"checkbox\" ><label for=\"sk-estimator-id-74\" class=\"sk-toggleable__label sk-toggleable__label-arrow\">StandardScaler</label><div class=\"sk-toggleable__content\"><pre>StandardScaler()</pre></div></div></div><div class=\"sk-item\"><div class=\"sk-estimator sk-toggleable\"><input class=\"sk-toggleable__control sk-hidden--visually\" id=\"sk-estimator-id-75\" type=\"checkbox\" ><label for=\"sk-estimator-id-75\" class=\"sk-toggleable__label sk-toggleable__label-arrow\">GradientBoostingClassifier</label><div class=\"sk-toggleable__content\"><pre>GradientBoostingClassifier(validation_fraction=0.2)</pre></div></div></div></div></div></div></div></div><div class=\"sk-parallel-item\"><div class=\"sk-item\"><div class=\"sk-label-container\"><div class=\"sk-label sk-toggleable\"><label>pipe2</label></div></div><div class=\"sk-serial\"><div class=\"sk-item\"><div class=\"sk-serial\"><div class=\"sk-item\"><div class=\"sk-estimator sk-toggleable\"><input class=\"sk-toggleable__control sk-hidden--visually\" id=\"sk-estimator-id-76\" type=\"checkbox\" ><label for=\"sk-estimator-id-76\" class=\"sk-toggleable__label sk-toggleable__label-arrow\">StandardScaler</label><div class=\"sk-toggleable__content\"><pre>StandardScaler()</pre></div></div></div><div class=\"sk-item\"><div class=\"sk-estimator sk-toggleable\"><input class=\"sk-toggleable__control sk-hidden--visually\" id=\"sk-estimator-id-77\" type=\"checkbox\" ><label for=\"sk-estimator-id-77\" class=\"sk-toggleable__label sk-toggleable__label-arrow\">LogisticRegression</label><div class=\"sk-toggleable__content\"><pre>LogisticRegression()</pre></div></div></div></div></div></div></div></div><div class=\"sk-parallel-item\"><div class=\"sk-item\"><div class=\"sk-label-container\"><div class=\"sk-label sk-toggleable\"><label>xgb</label></div></div><div class=\"sk-serial\"><div class=\"sk-item\"><div class=\"sk-estimator sk-toggleable\"><input class=\"sk-toggleable__control sk-hidden--visually\" id=\"sk-estimator-id-78\" type=\"checkbox\" ><label for=\"sk-estimator-id-78\" class=\"sk-toggleable__label sk-toggleable__label-arrow\">FractionSupportXGBClassifier</label><div class=\"sk-toggleable__content\"><pre>FractionSupportXGBClassifier(base_score=None, booster=None, callbacks=None,\n",
              "                             colsample_bylevel=None, colsample_bynode=None,\n",
              "                             colsample_bytree=None, device=None,\n",
              "                             early_stopping_rounds=10, enable_categorical=False,\n",
              "                             eval_metric=None, feature_types=None,\n",
              "                             fraction_ratio=0.2, gamma=None, grow_policy=None,\n",
              "                             importance_type=None, interaction_constraints=None,\n",
              "                             learning_rate=None, max_bin=None,\n",
              "                             max_cat_threshold=None, max_cat_to_onehot=None,\n",
              "                             max_delta_step=None, max_depth=None,\n",
              "                             max_leaves=None, min_child_weight=None,\n",
              "                             missing=nan, monotone_constraints=None,\n",
              "                             multi_strategy=None, n_estimators=10000,\n",
              "                             n_jobs=None, num_parallel_tree=None, ...)</pre></div></div></div></div></div></div></div></div></div></div>"
            ]
          },
          "metadata": {},
          "execution_count": 90
        }
      ]
    },
    {
      "cell_type": "code",
      "source": [
        "vc2.fit(X_train, y_train)"
      ],
      "metadata": {
        "colab": {
          "base_uri": "https://localhost:8080/",
          "height": 1000
        },
        "id": "fJoWV_GghXGa",
        "outputId": "027b365a-2c2b-48a3-8d89-6bac5b73406a"
      },
      "execution_count": 91,
      "outputs": [
        {
          "output_type": "stream",
          "name": "stdout",
          "text": [
            "[0]\tvalidation_0-logloss:0.47235\tvalidation_1-logloss:0.47894\n",
            "[1]\tvalidation_0-logloss:0.35495\tvalidation_1-logloss:0.36987\n",
            "[2]\tvalidation_0-logloss:0.27079\tvalidation_1-logloss:0.29608\n",
            "[3]\tvalidation_0-logloss:0.21498\tvalidation_1-logloss:0.23087\n",
            "[4]\tvalidation_0-logloss:0.17167\tvalidation_1-logloss:0.18205\n",
            "[5]\tvalidation_0-logloss:0.14243\tvalidation_1-logloss:0.15944\n",
            "[6]\tvalidation_0-logloss:0.11823\tvalidation_1-logloss:0.13719\n",
            "[7]\tvalidation_0-logloss:0.10197\tvalidation_1-logloss:0.12334\n",
            "[8]\tvalidation_0-logloss:0.08824\tvalidation_1-logloss:0.11020\n",
            "[9]\tvalidation_0-logloss:0.07723\tvalidation_1-logloss:0.09562\n",
            "[10]\tvalidation_0-logloss:0.06898\tvalidation_1-logloss:0.08059\n",
            "[11]\tvalidation_0-logloss:0.06228\tvalidation_1-logloss:0.07051\n",
            "[12]\tvalidation_0-logloss:0.05668\tvalidation_1-logloss:0.06014\n",
            "[13]\tvalidation_0-logloss:0.05061\tvalidation_1-logloss:0.05925\n",
            "[14]\tvalidation_0-logloss:0.04706\tvalidation_1-logloss:0.05137\n",
            "[15]\tvalidation_0-logloss:0.04336\tvalidation_1-logloss:0.04898\n",
            "[16]\tvalidation_0-logloss:0.04090\tvalidation_1-logloss:0.04332\n",
            "[17]\tvalidation_0-logloss:0.03834\tvalidation_1-logloss:0.04254\n",
            "[18]\tvalidation_0-logloss:0.03735\tvalidation_1-logloss:0.03968\n",
            "[19]\tvalidation_0-logloss:0.03490\tvalidation_1-logloss:0.04003\n",
            "[20]\tvalidation_0-logloss:0.03426\tvalidation_1-logloss:0.03768\n",
            "[21]\tvalidation_0-logloss:0.03294\tvalidation_1-logloss:0.03781\n",
            "[22]\tvalidation_0-logloss:0.03251\tvalidation_1-logloss:0.03589\n",
            "[23]\tvalidation_0-logloss:0.03163\tvalidation_1-logloss:0.03558\n",
            "[24]\tvalidation_0-logloss:0.03108\tvalidation_1-logloss:0.03443\n",
            "[25]\tvalidation_0-logloss:0.03028\tvalidation_1-logloss:0.03474\n",
            "[26]\tvalidation_0-logloss:0.02998\tvalidation_1-logloss:0.03315\n",
            "[27]\tvalidation_0-logloss:0.02936\tvalidation_1-logloss:0.03325\n",
            "[28]\tvalidation_0-logloss:0.02880\tvalidation_1-logloss:0.03313\n",
            "[29]\tvalidation_0-logloss:0.02841\tvalidation_1-logloss:0.03220\n",
            "[30]\tvalidation_0-logloss:0.02808\tvalidation_1-logloss:0.03122\n",
            "[31]\tvalidation_0-logloss:0.02757\tvalidation_1-logloss:0.03112\n",
            "[32]\tvalidation_0-logloss:0.02737\tvalidation_1-logloss:0.02988\n",
            "[33]\tvalidation_0-logloss:0.02711\tvalidation_1-logloss:0.02910\n",
            "[34]\tvalidation_0-logloss:0.02667\tvalidation_1-logloss:0.02905\n",
            "[35]\tvalidation_0-logloss:0.02619\tvalidation_1-logloss:0.02916\n",
            "[36]\tvalidation_0-logloss:0.02588\tvalidation_1-logloss:0.02870\n"
          ]
        },
        {
          "output_type": "stream",
          "name": "stderr",
          "text": [
            "/usr/local/lib/python3.10/dist-packages/xgboost/core.py:160: UserWarning: [06:57:39] WARNING: /workspace/src/learner.cc:742: \n",
            "Parameters: { \"fraction_ratio\" } are not used.\n",
            "\n",
            "  warnings.warn(smsg, UserWarning)\n"
          ]
        },
        {
          "output_type": "stream",
          "name": "stdout",
          "text": [
            "[37]\tvalidation_0-logloss:0.02574\tvalidation_1-logloss:0.02769\n",
            "[38]\tvalidation_0-logloss:0.02534\tvalidation_1-logloss:0.02766\n",
            "[39]\tvalidation_0-logloss:0.02502\tvalidation_1-logloss:0.02741\n",
            "[40]\tvalidation_0-logloss:0.02475\tvalidation_1-logloss:0.02702\n",
            "[41]\tvalidation_0-logloss:0.02448\tvalidation_1-logloss:0.02665\n",
            "[42]\tvalidation_0-logloss:0.02413\tvalidation_1-logloss:0.02663\n",
            "[43]\tvalidation_0-logloss:0.02387\tvalidation_1-logloss:0.02640\n",
            "[44]\tvalidation_0-logloss:0.02357\tvalidation_1-logloss:0.02639\n",
            "[45]\tvalidation_0-logloss:0.02344\tvalidation_1-logloss:0.02564\n",
            "[46]\tvalidation_0-logloss:0.02334\tvalidation_1-logloss:0.02484\n",
            "[47]\tvalidation_0-logloss:0.02306\tvalidation_1-logloss:0.02486\n",
            "[48]\tvalidation_0-logloss:0.02284\tvalidation_1-logloss:0.02454\n",
            "[49]\tvalidation_0-logloss:0.02250\tvalidation_1-logloss:0.02473\n",
            "[50]\tvalidation_0-logloss:0.02225\tvalidation_1-logloss:0.02476\n",
            "[51]\tvalidation_0-logloss:0.02210\tvalidation_1-logloss:0.02430\n",
            "[52]\tvalidation_0-logloss:0.02193\tvalidation_1-logloss:0.02406\n",
            "[53]\tvalidation_0-logloss:0.02169\tvalidation_1-logloss:0.02407\n",
            "[54]\tvalidation_0-logloss:0.02152\tvalidation_1-logloss:0.02388\n",
            "[55]\tvalidation_0-logloss:0.02132\tvalidation_1-logloss:0.02390\n",
            "[56]\tvalidation_0-logloss:0.02124\tvalidation_1-logloss:0.02334\n",
            "[57]\tvalidation_0-logloss:0.02106\tvalidation_1-logloss:0.02337\n",
            "[58]\tvalidation_0-logloss:0.02100\tvalidation_1-logloss:0.02287\n",
            "[59]\tvalidation_0-logloss:0.02091\tvalidation_1-logloss:0.02255\n",
            "[60]\tvalidation_0-logloss:0.02072\tvalidation_1-logloss:0.02258\n",
            "[61]\tvalidation_0-logloss:0.02072\tvalidation_1-logloss:0.02258\n",
            "[62]\tvalidation_0-logloss:0.02072\tvalidation_1-logloss:0.02258\n",
            "[63]\tvalidation_0-logloss:0.02071\tvalidation_1-logloss:0.02256\n",
            "[64]\tvalidation_0-logloss:0.02072\tvalidation_1-logloss:0.02256\n",
            "[65]\tvalidation_0-logloss:0.02072\tvalidation_1-logloss:0.02256\n",
            "[66]\tvalidation_0-logloss:0.02072\tvalidation_1-logloss:0.02255\n",
            "[67]\tvalidation_0-logloss:0.02072\tvalidation_1-logloss:0.02255\n",
            "[68]\tvalidation_0-logloss:0.02072\tvalidation_1-logloss:0.02255\n"
          ]
        },
        {
          "output_type": "execute_result",
          "data": {
            "text/plain": [
              "VotingClassifier(estimators=[('pipe1',\n",
              "                              Pipeline(steps=[('scaler', StandardScaler()),\n",
              "                                              ('gbc',\n",
              "                                               GradientBoostingClassifier(validation_fraction=0.2))])),\n",
              "                             ('pipe2',\n",
              "                              Pipeline(steps=[('scaler', StandardScaler()),\n",
              "                                              ('lgc', LogisticRegression())])),\n",
              "                             ('xgb',\n",
              "                              FractionSupportXGBClassifier(base_score=None,\n",
              "                                                           booster=None,\n",
              "                                                           callbacks=None,\n",
              "                                                           colsample_bylevel=None,\n",
              "                                                           colsample_bynode=...\n",
              "                                                           grow_policy=None,\n",
              "                                                           importance_type=None,\n",
              "                                                           interaction_constraints=None,\n",
              "                                                           learning_rate=None,\n",
              "                                                           max_bin=None,\n",
              "                                                           max_cat_threshold=None,\n",
              "                                                           max_cat_to_onehot=None,\n",
              "                                                           max_delta_step=None,\n",
              "                                                           max_depth=None,\n",
              "                                                           max_leaves=None,\n",
              "                                                           min_child_weight=None,\n",
              "                                                           missing=nan,\n",
              "                                                           monotone_constraints=None,\n",
              "                                                           multi_strategy=None,\n",
              "                                                           n_estimators=10000,\n",
              "                                                           n_jobs=None,\n",
              "                                                           num_parallel_tree=None, ...))],\n",
              "                 voting='soft')"
            ],
            "text/html": [
              "<style>#sk-container-id-29 {color: black;background-color: white;}#sk-container-id-29 pre{padding: 0;}#sk-container-id-29 div.sk-toggleable {background-color: white;}#sk-container-id-29 label.sk-toggleable__label {cursor: pointer;display: block;width: 100%;margin-bottom: 0;padding: 0.3em;box-sizing: border-box;text-align: center;}#sk-container-id-29 label.sk-toggleable__label-arrow:before {content: \"▸\";float: left;margin-right: 0.25em;color: #696969;}#sk-container-id-29 label.sk-toggleable__label-arrow:hover:before {color: black;}#sk-container-id-29 div.sk-estimator:hover label.sk-toggleable__label-arrow:before {color: black;}#sk-container-id-29 div.sk-toggleable__content {max-height: 0;max-width: 0;overflow: hidden;text-align: left;background-color: #f0f8ff;}#sk-container-id-29 div.sk-toggleable__content pre {margin: 0.2em;color: black;border-radius: 0.25em;background-color: #f0f8ff;}#sk-container-id-29 input.sk-toggleable__control:checked~div.sk-toggleable__content {max-height: 200px;max-width: 100%;overflow: auto;}#sk-container-id-29 input.sk-toggleable__control:checked~label.sk-toggleable__label-arrow:before {content: \"▾\";}#sk-container-id-29 div.sk-estimator input.sk-toggleable__control:checked~label.sk-toggleable__label {background-color: #d4ebff;}#sk-container-id-29 div.sk-label input.sk-toggleable__control:checked~label.sk-toggleable__label {background-color: #d4ebff;}#sk-container-id-29 input.sk-hidden--visually {border: 0;clip: rect(1px 1px 1px 1px);clip: rect(1px, 1px, 1px, 1px);height: 1px;margin: -1px;overflow: hidden;padding: 0;position: absolute;width: 1px;}#sk-container-id-29 div.sk-estimator {font-family: monospace;background-color: #f0f8ff;border: 1px dotted black;border-radius: 0.25em;box-sizing: border-box;margin-bottom: 0.5em;}#sk-container-id-29 div.sk-estimator:hover {background-color: #d4ebff;}#sk-container-id-29 div.sk-parallel-item::after {content: \"\";width: 100%;border-bottom: 1px solid gray;flex-grow: 1;}#sk-container-id-29 div.sk-label:hover label.sk-toggleable__label {background-color: #d4ebff;}#sk-container-id-29 div.sk-serial::before {content: \"\";position: absolute;border-left: 1px solid gray;box-sizing: border-box;top: 0;bottom: 0;left: 50%;z-index: 0;}#sk-container-id-29 div.sk-serial {display: flex;flex-direction: column;align-items: center;background-color: white;padding-right: 0.2em;padding-left: 0.2em;position: relative;}#sk-container-id-29 div.sk-item {position: relative;z-index: 1;}#sk-container-id-29 div.sk-parallel {display: flex;align-items: stretch;justify-content: center;background-color: white;position: relative;}#sk-container-id-29 div.sk-item::before, #sk-container-id-29 div.sk-parallel-item::before {content: \"\";position: absolute;border-left: 1px solid gray;box-sizing: border-box;top: 0;bottom: 0;left: 50%;z-index: -1;}#sk-container-id-29 div.sk-parallel-item {display: flex;flex-direction: column;z-index: 1;position: relative;background-color: white;}#sk-container-id-29 div.sk-parallel-item:first-child::after {align-self: flex-end;width: 50%;}#sk-container-id-29 div.sk-parallel-item:last-child::after {align-self: flex-start;width: 50%;}#sk-container-id-29 div.sk-parallel-item:only-child::after {width: 0;}#sk-container-id-29 div.sk-dashed-wrapped {border: 1px dashed gray;margin: 0 0.4em 0.5em 0.4em;box-sizing: border-box;padding-bottom: 0.4em;background-color: white;}#sk-container-id-29 div.sk-label label {font-family: monospace;font-weight: bold;display: inline-block;line-height: 1.2em;}#sk-container-id-29 div.sk-label-container {text-align: center;}#sk-container-id-29 div.sk-container {/* jupyter's `normalize.less` sets `[hidden] { display: none; }` but bootstrap.min.css set `[hidden] { display: none !important; }` so we also need the `!important` here to be able to override the default hidden behavior on the sphinx rendered scikit-learn.org. See: https://github.com/scikit-learn/scikit-learn/issues/21755 */display: inline-block !important;position: relative;}#sk-container-id-29 div.sk-text-repr-fallback {display: none;}</style><div id=\"sk-container-id-29\" class=\"sk-top-container\"><div class=\"sk-text-repr-fallback\"><pre>VotingClassifier(estimators=[(&#x27;pipe1&#x27;,\n",
              "                              Pipeline(steps=[(&#x27;scaler&#x27;, StandardScaler()),\n",
              "                                              (&#x27;gbc&#x27;,\n",
              "                                               GradientBoostingClassifier(validation_fraction=0.2))])),\n",
              "                             (&#x27;pipe2&#x27;,\n",
              "                              Pipeline(steps=[(&#x27;scaler&#x27;, StandardScaler()),\n",
              "                                              (&#x27;lgc&#x27;, LogisticRegression())])),\n",
              "                             (&#x27;xgb&#x27;,\n",
              "                              FractionSupportXGBClassifier(base_score=None,\n",
              "                                                           booster=None,\n",
              "                                                           callbacks=None,\n",
              "                                                           colsample_bylevel=None,\n",
              "                                                           colsample_bynode=...\n",
              "                                                           grow_policy=None,\n",
              "                                                           importance_type=None,\n",
              "                                                           interaction_constraints=None,\n",
              "                                                           learning_rate=None,\n",
              "                                                           max_bin=None,\n",
              "                                                           max_cat_threshold=None,\n",
              "                                                           max_cat_to_onehot=None,\n",
              "                                                           max_delta_step=None,\n",
              "                                                           max_depth=None,\n",
              "                                                           max_leaves=None,\n",
              "                                                           min_child_weight=None,\n",
              "                                                           missing=nan,\n",
              "                                                           monotone_constraints=None,\n",
              "                                                           multi_strategy=None,\n",
              "                                                           n_estimators=10000,\n",
              "                                                           n_jobs=None,\n",
              "                                                           num_parallel_tree=None, ...))],\n",
              "                 voting=&#x27;soft&#x27;)</pre><b>In a Jupyter environment, please rerun this cell to show the HTML representation or trust the notebook. <br />On GitHub, the HTML representation is unable to render, please try loading this page with nbviewer.org.</b></div><div class=\"sk-container\" hidden><div class=\"sk-item sk-dashed-wrapped\"><div class=\"sk-label-container\"><div class=\"sk-label sk-toggleable\"><input class=\"sk-toggleable__control sk-hidden--visually\" id=\"sk-estimator-id-79\" type=\"checkbox\" ><label for=\"sk-estimator-id-79\" class=\"sk-toggleable__label sk-toggleable__label-arrow\">VotingClassifier</label><div class=\"sk-toggleable__content\"><pre>VotingClassifier(estimators=[(&#x27;pipe1&#x27;,\n",
              "                              Pipeline(steps=[(&#x27;scaler&#x27;, StandardScaler()),\n",
              "                                              (&#x27;gbc&#x27;,\n",
              "                                               GradientBoostingClassifier(validation_fraction=0.2))])),\n",
              "                             (&#x27;pipe2&#x27;,\n",
              "                              Pipeline(steps=[(&#x27;scaler&#x27;, StandardScaler()),\n",
              "                                              (&#x27;lgc&#x27;, LogisticRegression())])),\n",
              "                             (&#x27;xgb&#x27;,\n",
              "                              FractionSupportXGBClassifier(base_score=None,\n",
              "                                                           booster=None,\n",
              "                                                           callbacks=None,\n",
              "                                                           colsample_bylevel=None,\n",
              "                                                           colsample_bynode=...\n",
              "                                                           grow_policy=None,\n",
              "                                                           importance_type=None,\n",
              "                                                           interaction_constraints=None,\n",
              "                                                           learning_rate=None,\n",
              "                                                           max_bin=None,\n",
              "                                                           max_cat_threshold=None,\n",
              "                                                           max_cat_to_onehot=None,\n",
              "                                                           max_delta_step=None,\n",
              "                                                           max_depth=None,\n",
              "                                                           max_leaves=None,\n",
              "                                                           min_child_weight=None,\n",
              "                                                           missing=nan,\n",
              "                                                           monotone_constraints=None,\n",
              "                                                           multi_strategy=None,\n",
              "                                                           n_estimators=10000,\n",
              "                                                           n_jobs=None,\n",
              "                                                           num_parallel_tree=None, ...))],\n",
              "                 voting=&#x27;soft&#x27;)</pre></div></div></div><div class=\"sk-parallel\"><div class=\"sk-parallel-item\"><div class=\"sk-item\"><div class=\"sk-label-container\"><div class=\"sk-label sk-toggleable\"><label>pipe1</label></div></div><div class=\"sk-serial\"><div class=\"sk-item\"><div class=\"sk-serial\"><div class=\"sk-item\"><div class=\"sk-estimator sk-toggleable\"><input class=\"sk-toggleable__control sk-hidden--visually\" id=\"sk-estimator-id-80\" type=\"checkbox\" ><label for=\"sk-estimator-id-80\" class=\"sk-toggleable__label sk-toggleable__label-arrow\">StandardScaler</label><div class=\"sk-toggleable__content\"><pre>StandardScaler()</pre></div></div></div><div class=\"sk-item\"><div class=\"sk-estimator sk-toggleable\"><input class=\"sk-toggleable__control sk-hidden--visually\" id=\"sk-estimator-id-81\" type=\"checkbox\" ><label for=\"sk-estimator-id-81\" class=\"sk-toggleable__label sk-toggleable__label-arrow\">GradientBoostingClassifier</label><div class=\"sk-toggleable__content\"><pre>GradientBoostingClassifier(validation_fraction=0.2)</pre></div></div></div></div></div></div></div></div><div class=\"sk-parallel-item\"><div class=\"sk-item\"><div class=\"sk-label-container\"><div class=\"sk-label sk-toggleable\"><label>pipe2</label></div></div><div class=\"sk-serial\"><div class=\"sk-item\"><div class=\"sk-serial\"><div class=\"sk-item\"><div class=\"sk-estimator sk-toggleable\"><input class=\"sk-toggleable__control sk-hidden--visually\" id=\"sk-estimator-id-82\" type=\"checkbox\" ><label for=\"sk-estimator-id-82\" class=\"sk-toggleable__label sk-toggleable__label-arrow\">StandardScaler</label><div class=\"sk-toggleable__content\"><pre>StandardScaler()</pre></div></div></div><div class=\"sk-item\"><div class=\"sk-estimator sk-toggleable\"><input class=\"sk-toggleable__control sk-hidden--visually\" id=\"sk-estimator-id-83\" type=\"checkbox\" ><label for=\"sk-estimator-id-83\" class=\"sk-toggleable__label sk-toggleable__label-arrow\">LogisticRegression</label><div class=\"sk-toggleable__content\"><pre>LogisticRegression()</pre></div></div></div></div></div></div></div></div><div class=\"sk-parallel-item\"><div class=\"sk-item\"><div class=\"sk-label-container\"><div class=\"sk-label sk-toggleable\"><label>xgb</label></div></div><div class=\"sk-serial\"><div class=\"sk-item\"><div class=\"sk-estimator sk-toggleable\"><input class=\"sk-toggleable__control sk-hidden--visually\" id=\"sk-estimator-id-84\" type=\"checkbox\" ><label for=\"sk-estimator-id-84\" class=\"sk-toggleable__label sk-toggleable__label-arrow\">FractionSupportXGBClassifier</label><div class=\"sk-toggleable__content\"><pre>FractionSupportXGBClassifier(base_score=None, booster=None, callbacks=None,\n",
              "                             colsample_bylevel=None, colsample_bynode=None,\n",
              "                             colsample_bytree=None, device=None,\n",
              "                             early_stopping_rounds=10, enable_categorical=False,\n",
              "                             eval_metric=None, feature_types=None,\n",
              "                             fraction_ratio=0.2, gamma=None, grow_policy=None,\n",
              "                             importance_type=None, interaction_constraints=None,\n",
              "                             learning_rate=None, max_bin=None,\n",
              "                             max_cat_threshold=None, max_cat_to_onehot=None,\n",
              "                             max_delta_step=None, max_depth=None,\n",
              "                             max_leaves=None, min_child_weight=None,\n",
              "                             missing=nan, monotone_constraints=None,\n",
              "                             multi_strategy=None, n_estimators=10000,\n",
              "                             n_jobs=None, num_parallel_tree=None, ...)</pre></div></div></div></div></div></div></div></div></div></div>"
            ]
          },
          "metadata": {},
          "execution_count": 91
        }
      ]
    },
    {
      "cell_type": "code",
      "source": [
        "f1_score(y_true=y_test, y_pred=vc2.predict(X_test))"
      ],
      "metadata": {
        "colab": {
          "base_uri": "https://localhost:8080/"
        },
        "id": "krwwPH8ZhfHn",
        "outputId": "ea06f1c0-e6b2-4b45-9dd1-ef08280e14d7"
      },
      "execution_count": 92,
      "outputs": [
        {
          "output_type": "execute_result",
          "data": {
            "text/plain": [
              "0.9598603839441536"
            ]
          },
          "metadata": {},
          "execution_count": 92
        }
      ]
    },
    {
      "cell_type": "code",
      "source": [],
      "metadata": {
        "id": "6Dw8OunshnUX"
      },
      "execution_count": 44,
      "outputs": []
    }
  ]
}