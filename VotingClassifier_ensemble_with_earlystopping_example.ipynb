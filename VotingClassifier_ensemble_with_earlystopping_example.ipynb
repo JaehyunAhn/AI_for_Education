{
  "nbformat": 4,
  "nbformat_minor": 0,
  "metadata": {
    "colab": {
      "provenance": [],
      "authorship_tag": "ABX9TyOCabDp/vV/Fy6obYk01OMP",
      "include_colab_link": true
    },
    "kernelspec": {
      "name": "python3",
      "display_name": "Python 3"
    },
    "language_info": {
      "name": "python"
    }
  },
  "cells": [
    {
      "cell_type": "markdown",
      "metadata": {
        "id": "view-in-github",
        "colab_type": "text"
      },
      "source": [
        "<a href=\"https://colab.research.google.com/github/JaehyunAhn/AI_for_Education/blob/master/VotingClassifier_ensemble_with_earlystopping_example.ipynb\" target=\"_parent\"><img src=\"https://colab.research.google.com/assets/colab-badge.svg\" alt=\"Open In Colab\"/></a>"
      ]
    },
    {
      "cell_type": "code",
      "source": [
        "!pip install xgboost==1.6.1\n",
        "!pip install --upgrade scikit-learn"
      ],
      "metadata": {
        "colab": {
          "base_uri": "https://localhost:8080/",
          "height": 567
        },
        "id": "_teOFgWmehl7",
        "outputId": "a15e438c-b70e-4322-efea-114160ce3258"
      },
      "execution_count": null,
      "outputs": [
        {
          "output_type": "stream",
          "name": "stdout",
          "text": [
            "Collecting xgboost==1.6.1\n",
            "  Downloading xgboost-1.6.1-py3-none-manylinux2014_x86_64.whl (192.9 MB)\n",
            "\u001b[2K     \u001b[90m━━━━━━━━━━━━━━━━━━━━━━━━━━━━━━━━━━━━━━━━\u001b[0m \u001b[32m192.9/192.9 MB\u001b[0m \u001b[31m2.6 MB/s\u001b[0m eta \u001b[36m0:00:00\u001b[0m\n",
            "\u001b[?25hRequirement already satisfied: numpy in /usr/local/lib/python3.10/dist-packages (from xgboost==1.6.1) (1.23.5)\n",
            "Requirement already satisfied: scipy in /usr/local/lib/python3.10/dist-packages (from xgboost==1.6.1) (1.11.3)\n",
            "Installing collected packages: xgboost\n",
            "  Attempting uninstall: xgboost\n",
            "    Found existing installation: xgboost 2.0.1\n",
            "    Uninstalling xgboost-2.0.1:\n",
            "      Successfully uninstalled xgboost-2.0.1\n",
            "Successfully installed xgboost-1.6.1\n",
            "Requirement already satisfied: scikit-learn in /usr/local/lib/python3.10/dist-packages (1.2.2)\n",
            "Collecting scikit-learn\n",
            "  Downloading scikit_learn-1.3.2-cp310-cp310-manylinux_2_17_x86_64.manylinux2014_x86_64.whl (10.8 MB)\n",
            "\u001b[2K     \u001b[90m━━━━━━━━━━━━━━━━━━━━━━━━━━━━━━━━━━━━━━━━\u001b[0m \u001b[32m10.8/10.8 MB\u001b[0m \u001b[31m79.9 MB/s\u001b[0m eta \u001b[36m0:00:00\u001b[0m\n",
            "\u001b[?25hRequirement already satisfied: numpy<2.0,>=1.17.3 in /usr/local/lib/python3.10/dist-packages (from scikit-learn) (1.23.5)\n",
            "Requirement already satisfied: scipy>=1.5.0 in /usr/local/lib/python3.10/dist-packages (from scikit-learn) (1.11.3)\n",
            "Requirement already satisfied: joblib>=1.1.1 in /usr/local/lib/python3.10/dist-packages (from scikit-learn) (1.3.2)\n",
            "Requirement already satisfied: threadpoolctl>=2.0.0 in /usr/local/lib/python3.10/dist-packages (from scikit-learn) (3.2.0)\n",
            "Installing collected packages: scikit-learn\n",
            "  Attempting uninstall: scikit-learn\n",
            "    Found existing installation: scikit-learn 1.2.2\n",
            "    Uninstalling scikit-learn-1.2.2:\n",
            "      Successfully uninstalled scikit-learn-1.2.2\n",
            "Successfully installed scikit-learn-1.3.2\n"
          ]
        },
        {
          "output_type": "display_data",
          "data": {
            "application/vnd.colab-display-data+json": {
              "pip_warning": {
                "packages": [
                  "sklearn"
                ]
              }
            }
          },
          "metadata": {}
        }
      ]
    },
    {
      "cell_type": "code",
      "source": [
        "import xgboost\n",
        "from sklearn.metrics import f1_score\n",
        "\n",
        "xgboost.__version__"
      ],
      "metadata": {
        "colab": {
          "base_uri": "https://localhost:8080/",
          "height": 36
        },
        "id": "AjaJ8byCemQI",
        "outputId": "2be57327-22c7-4dee-8d2d-acea661ba115"
      },
      "execution_count": 180,
      "outputs": [
        {
          "output_type": "execute_result",
          "data": {
            "text/plain": [
              "'2.0.2'"
            ],
            "application/vnd.google.colaboratory.intrinsic+json": {
              "type": "string"
            }
          },
          "metadata": {},
          "execution_count": 180
        }
      ]
    },
    {
      "cell_type": "code",
      "source": [],
      "metadata": {
        "id": "f4m5NGtBcqkW"
      },
      "execution_count": 180,
      "outputs": []
    },
    {
      "cell_type": "code",
      "execution_count": 181,
      "metadata": {
        "id": "19SqG-jTASv9"
      },
      "outputs": [],
      "source": [
        "from sklearn.pipeline import Pipeline\n",
        "from sklearn.ensemble import VotingClassifier\n",
        "from xgboost import XGBClassifier\n",
        "from sklearn.preprocessing import StandardScaler\n",
        "from sklearn.datasets import load_breast_cancer\n",
        "from sklearn.model_selection import train_test_split\n",
        "from sklearn.base import BaseEstimator, TransformerMixin\n",
        "from sklearn.linear_model import LogisticRegression\n",
        "from sklearn.ensemble import GradientBoostingClassifier\n",
        "\n",
        "\n",
        "X, y = load_breast_cancer(return_X_y=True, as_frame=True)\n",
        "\n",
        "# Split your data into training and validation sets\n",
        "X_train, X_test, y_train, y_test = train_test_split(X, y, test_size=0.8, random_state=42)"
      ]
    },
    {
      "cell_type": "code",
      "source": [
        "gbc = GradientBoostingClassifier(n_estimators=100, validation_fraction=.2)\n",
        "lgc = LogisticRegression()\n",
        "scaler = StandardScaler().set_output(transform='pandas')"
      ],
      "metadata": {
        "id": "5rYSMEe3vHfe"
      },
      "execution_count": 182,
      "outputs": []
    },
    {
      "cell_type": "code",
      "source": [
        "p1 = Pipeline([\n",
        "    ('scaler', scaler),\n",
        "    ('gbc', gbc)\n",
        "])\n",
        "p2 = Pipeline([\n",
        "    ('scaler', scaler),\n",
        "    ('lgc', lgc)\n",
        "])\n",
        "\n",
        "voting_classifier = VotingClassifier(\n",
        "    estimators=[\n",
        "        ('pipe1', p1),\n",
        "        ('pipe2', p2)\n",
        "        ],\n",
        "    voting='soft'\n",
        ")\n",
        "\n",
        "voting_classifier"
      ],
      "metadata": {
        "colab": {
          "base_uri": "https://localhost:8080/",
          "height": 143
        },
        "id": "J_sHxdDpU2nf",
        "outputId": "850b4fff-ede7-462c-db5d-cd0fe8fd61d2"
      },
      "execution_count": 183,
      "outputs": [
        {
          "output_type": "execute_result",
          "data": {
            "text/plain": [
              "VotingClassifier(estimators=[('pipe1',\n",
              "                              Pipeline(steps=[('scaler', StandardScaler()),\n",
              "                                              ('gbc',\n",
              "                                               GradientBoostingClassifier(validation_fraction=0.2))])),\n",
              "                             ('pipe2',\n",
              "                              Pipeline(steps=[('scaler', StandardScaler()),\n",
              "                                              ('lgc', LogisticRegression())]))],\n",
              "                 voting='soft')"
            ],
            "text/html": [
              "<style>#sk-container-id-54 {color: black;background-color: white;}#sk-container-id-54 pre{padding: 0;}#sk-container-id-54 div.sk-toggleable {background-color: white;}#sk-container-id-54 label.sk-toggleable__label {cursor: pointer;display: block;width: 100%;margin-bottom: 0;padding: 0.3em;box-sizing: border-box;text-align: center;}#sk-container-id-54 label.sk-toggleable__label-arrow:before {content: \"▸\";float: left;margin-right: 0.25em;color: #696969;}#sk-container-id-54 label.sk-toggleable__label-arrow:hover:before {color: black;}#sk-container-id-54 div.sk-estimator:hover label.sk-toggleable__label-arrow:before {color: black;}#sk-container-id-54 div.sk-toggleable__content {max-height: 0;max-width: 0;overflow: hidden;text-align: left;background-color: #f0f8ff;}#sk-container-id-54 div.sk-toggleable__content pre {margin: 0.2em;color: black;border-radius: 0.25em;background-color: #f0f8ff;}#sk-container-id-54 input.sk-toggleable__control:checked~div.sk-toggleable__content {max-height: 200px;max-width: 100%;overflow: auto;}#sk-container-id-54 input.sk-toggleable__control:checked~label.sk-toggleable__label-arrow:before {content: \"▾\";}#sk-container-id-54 div.sk-estimator input.sk-toggleable__control:checked~label.sk-toggleable__label {background-color: #d4ebff;}#sk-container-id-54 div.sk-label input.sk-toggleable__control:checked~label.sk-toggleable__label {background-color: #d4ebff;}#sk-container-id-54 input.sk-hidden--visually {border: 0;clip: rect(1px 1px 1px 1px);clip: rect(1px, 1px, 1px, 1px);height: 1px;margin: -1px;overflow: hidden;padding: 0;position: absolute;width: 1px;}#sk-container-id-54 div.sk-estimator {font-family: monospace;background-color: #f0f8ff;border: 1px dotted black;border-radius: 0.25em;box-sizing: border-box;margin-bottom: 0.5em;}#sk-container-id-54 div.sk-estimator:hover {background-color: #d4ebff;}#sk-container-id-54 div.sk-parallel-item::after {content: \"\";width: 100%;border-bottom: 1px solid gray;flex-grow: 1;}#sk-container-id-54 div.sk-label:hover label.sk-toggleable__label {background-color: #d4ebff;}#sk-container-id-54 div.sk-serial::before {content: \"\";position: absolute;border-left: 1px solid gray;box-sizing: border-box;top: 0;bottom: 0;left: 50%;z-index: 0;}#sk-container-id-54 div.sk-serial {display: flex;flex-direction: column;align-items: center;background-color: white;padding-right: 0.2em;padding-left: 0.2em;position: relative;}#sk-container-id-54 div.sk-item {position: relative;z-index: 1;}#sk-container-id-54 div.sk-parallel {display: flex;align-items: stretch;justify-content: center;background-color: white;position: relative;}#sk-container-id-54 div.sk-item::before, #sk-container-id-54 div.sk-parallel-item::before {content: \"\";position: absolute;border-left: 1px solid gray;box-sizing: border-box;top: 0;bottom: 0;left: 50%;z-index: -1;}#sk-container-id-54 div.sk-parallel-item {display: flex;flex-direction: column;z-index: 1;position: relative;background-color: white;}#sk-container-id-54 div.sk-parallel-item:first-child::after {align-self: flex-end;width: 50%;}#sk-container-id-54 div.sk-parallel-item:last-child::after {align-self: flex-start;width: 50%;}#sk-container-id-54 div.sk-parallel-item:only-child::after {width: 0;}#sk-container-id-54 div.sk-dashed-wrapped {border: 1px dashed gray;margin: 0 0.4em 0.5em 0.4em;box-sizing: border-box;padding-bottom: 0.4em;background-color: white;}#sk-container-id-54 div.sk-label label {font-family: monospace;font-weight: bold;display: inline-block;line-height: 1.2em;}#sk-container-id-54 div.sk-label-container {text-align: center;}#sk-container-id-54 div.sk-container {/* jupyter's `normalize.less` sets `[hidden] { display: none; }` but bootstrap.min.css set `[hidden] { display: none !important; }` so we also need the `!important` here to be able to override the default hidden behavior on the sphinx rendered scikit-learn.org. See: https://github.com/scikit-learn/scikit-learn/issues/21755 */display: inline-block !important;position: relative;}#sk-container-id-54 div.sk-text-repr-fallback {display: none;}</style><div id=\"sk-container-id-54\" class=\"sk-top-container\"><div class=\"sk-text-repr-fallback\"><pre>VotingClassifier(estimators=[(&#x27;pipe1&#x27;,\n",
              "                              Pipeline(steps=[(&#x27;scaler&#x27;, StandardScaler()),\n",
              "                                              (&#x27;gbc&#x27;,\n",
              "                                               GradientBoostingClassifier(validation_fraction=0.2))])),\n",
              "                             (&#x27;pipe2&#x27;,\n",
              "                              Pipeline(steps=[(&#x27;scaler&#x27;, StandardScaler()),\n",
              "                                              (&#x27;lgc&#x27;, LogisticRegression())]))],\n",
              "                 voting=&#x27;soft&#x27;)</pre><b>In a Jupyter environment, please rerun this cell to show the HTML representation or trust the notebook. <br />On GitHub, the HTML representation is unable to render, please try loading this page with nbviewer.org.</b></div><div class=\"sk-container\" hidden><div class=\"sk-item sk-dashed-wrapped\"><div class=\"sk-label-container\"><div class=\"sk-label sk-toggleable\"><input class=\"sk-toggleable__control sk-hidden--visually\" id=\"sk-estimator-id-96\" type=\"checkbox\" ><label for=\"sk-estimator-id-96\" class=\"sk-toggleable__label sk-toggleable__label-arrow\">VotingClassifier</label><div class=\"sk-toggleable__content\"><pre>VotingClassifier(estimators=[(&#x27;pipe1&#x27;,\n",
              "                              Pipeline(steps=[(&#x27;scaler&#x27;, StandardScaler()),\n",
              "                                              (&#x27;gbc&#x27;,\n",
              "                                               GradientBoostingClassifier(validation_fraction=0.2))])),\n",
              "                             (&#x27;pipe2&#x27;,\n",
              "                              Pipeline(steps=[(&#x27;scaler&#x27;, StandardScaler()),\n",
              "                                              (&#x27;lgc&#x27;, LogisticRegression())]))],\n",
              "                 voting=&#x27;soft&#x27;)</pre></div></div></div><div class=\"sk-parallel\"><div class=\"sk-parallel-item\"><div class=\"sk-item\"><div class=\"sk-label-container\"><div class=\"sk-label sk-toggleable\"><label>pipe1</label></div></div><div class=\"sk-serial\"><div class=\"sk-item\"><div class=\"sk-serial\"><div class=\"sk-item\"><div class=\"sk-estimator sk-toggleable\"><input class=\"sk-toggleable__control sk-hidden--visually\" id=\"sk-estimator-id-97\" type=\"checkbox\" ><label for=\"sk-estimator-id-97\" class=\"sk-toggleable__label sk-toggleable__label-arrow\">StandardScaler</label><div class=\"sk-toggleable__content\"><pre>StandardScaler()</pre></div></div></div><div class=\"sk-item\"><div class=\"sk-estimator sk-toggleable\"><input class=\"sk-toggleable__control sk-hidden--visually\" id=\"sk-estimator-id-98\" type=\"checkbox\" ><label for=\"sk-estimator-id-98\" class=\"sk-toggleable__label sk-toggleable__label-arrow\">GradientBoostingClassifier</label><div class=\"sk-toggleable__content\"><pre>GradientBoostingClassifier(validation_fraction=0.2)</pre></div></div></div></div></div></div></div></div><div class=\"sk-parallel-item\"><div class=\"sk-item\"><div class=\"sk-label-container\"><div class=\"sk-label sk-toggleable\"><label>pipe2</label></div></div><div class=\"sk-serial\"><div class=\"sk-item\"><div class=\"sk-serial\"><div class=\"sk-item\"><div class=\"sk-estimator sk-toggleable\"><input class=\"sk-toggleable__control sk-hidden--visually\" id=\"sk-estimator-id-99\" type=\"checkbox\" ><label for=\"sk-estimator-id-99\" class=\"sk-toggleable__label sk-toggleable__label-arrow\">StandardScaler</label><div class=\"sk-toggleable__content\"><pre>StandardScaler()</pre></div></div></div><div class=\"sk-item\"><div class=\"sk-estimator sk-toggleable\"><input class=\"sk-toggleable__control sk-hidden--visually\" id=\"sk-estimator-id-100\" type=\"checkbox\" ><label for=\"sk-estimator-id-100\" class=\"sk-toggleable__label sk-toggleable__label-arrow\">LogisticRegression</label><div class=\"sk-toggleable__content\"><pre>LogisticRegression()</pre></div></div></div></div></div></div></div></div></div></div></div></div>"
            ]
          },
          "metadata": {},
          "execution_count": 183
        }
      ]
    },
    {
      "cell_type": "code",
      "source": [
        "voting_classifier.fit(X_train, y_train)"
      ],
      "metadata": {
        "colab": {
          "base_uri": "https://localhost:8080/",
          "height": 143
        },
        "id": "Vgq3Sr8px5PQ",
        "outputId": "31d14fbc-497e-4173-95c5-c3223c631119"
      },
      "execution_count": 184,
      "outputs": [
        {
          "output_type": "execute_result",
          "data": {
            "text/plain": [
              "VotingClassifier(estimators=[('pipe1',\n",
              "                              Pipeline(steps=[('scaler', StandardScaler()),\n",
              "                                              ('gbc',\n",
              "                                               GradientBoostingClassifier(validation_fraction=0.2))])),\n",
              "                             ('pipe2',\n",
              "                              Pipeline(steps=[('scaler', StandardScaler()),\n",
              "                                              ('lgc', LogisticRegression())]))],\n",
              "                 voting='soft')"
            ],
            "text/html": [
              "<style>#sk-container-id-55 {color: black;background-color: white;}#sk-container-id-55 pre{padding: 0;}#sk-container-id-55 div.sk-toggleable {background-color: white;}#sk-container-id-55 label.sk-toggleable__label {cursor: pointer;display: block;width: 100%;margin-bottom: 0;padding: 0.3em;box-sizing: border-box;text-align: center;}#sk-container-id-55 label.sk-toggleable__label-arrow:before {content: \"▸\";float: left;margin-right: 0.25em;color: #696969;}#sk-container-id-55 label.sk-toggleable__label-arrow:hover:before {color: black;}#sk-container-id-55 div.sk-estimator:hover label.sk-toggleable__label-arrow:before {color: black;}#sk-container-id-55 div.sk-toggleable__content {max-height: 0;max-width: 0;overflow: hidden;text-align: left;background-color: #f0f8ff;}#sk-container-id-55 div.sk-toggleable__content pre {margin: 0.2em;color: black;border-radius: 0.25em;background-color: #f0f8ff;}#sk-container-id-55 input.sk-toggleable__control:checked~div.sk-toggleable__content {max-height: 200px;max-width: 100%;overflow: auto;}#sk-container-id-55 input.sk-toggleable__control:checked~label.sk-toggleable__label-arrow:before {content: \"▾\";}#sk-container-id-55 div.sk-estimator input.sk-toggleable__control:checked~label.sk-toggleable__label {background-color: #d4ebff;}#sk-container-id-55 div.sk-label input.sk-toggleable__control:checked~label.sk-toggleable__label {background-color: #d4ebff;}#sk-container-id-55 input.sk-hidden--visually {border: 0;clip: rect(1px 1px 1px 1px);clip: rect(1px, 1px, 1px, 1px);height: 1px;margin: -1px;overflow: hidden;padding: 0;position: absolute;width: 1px;}#sk-container-id-55 div.sk-estimator {font-family: monospace;background-color: #f0f8ff;border: 1px dotted black;border-radius: 0.25em;box-sizing: border-box;margin-bottom: 0.5em;}#sk-container-id-55 div.sk-estimator:hover {background-color: #d4ebff;}#sk-container-id-55 div.sk-parallel-item::after {content: \"\";width: 100%;border-bottom: 1px solid gray;flex-grow: 1;}#sk-container-id-55 div.sk-label:hover label.sk-toggleable__label {background-color: #d4ebff;}#sk-container-id-55 div.sk-serial::before {content: \"\";position: absolute;border-left: 1px solid gray;box-sizing: border-box;top: 0;bottom: 0;left: 50%;z-index: 0;}#sk-container-id-55 div.sk-serial {display: flex;flex-direction: column;align-items: center;background-color: white;padding-right: 0.2em;padding-left: 0.2em;position: relative;}#sk-container-id-55 div.sk-item {position: relative;z-index: 1;}#sk-container-id-55 div.sk-parallel {display: flex;align-items: stretch;justify-content: center;background-color: white;position: relative;}#sk-container-id-55 div.sk-item::before, #sk-container-id-55 div.sk-parallel-item::before {content: \"\";position: absolute;border-left: 1px solid gray;box-sizing: border-box;top: 0;bottom: 0;left: 50%;z-index: -1;}#sk-container-id-55 div.sk-parallel-item {display: flex;flex-direction: column;z-index: 1;position: relative;background-color: white;}#sk-container-id-55 div.sk-parallel-item:first-child::after {align-self: flex-end;width: 50%;}#sk-container-id-55 div.sk-parallel-item:last-child::after {align-self: flex-start;width: 50%;}#sk-container-id-55 div.sk-parallel-item:only-child::after {width: 0;}#sk-container-id-55 div.sk-dashed-wrapped {border: 1px dashed gray;margin: 0 0.4em 0.5em 0.4em;box-sizing: border-box;padding-bottom: 0.4em;background-color: white;}#sk-container-id-55 div.sk-label label {font-family: monospace;font-weight: bold;display: inline-block;line-height: 1.2em;}#sk-container-id-55 div.sk-label-container {text-align: center;}#sk-container-id-55 div.sk-container {/* jupyter's `normalize.less` sets `[hidden] { display: none; }` but bootstrap.min.css set `[hidden] { display: none !important; }` so we also need the `!important` here to be able to override the default hidden behavior on the sphinx rendered scikit-learn.org. See: https://github.com/scikit-learn/scikit-learn/issues/21755 */display: inline-block !important;position: relative;}#sk-container-id-55 div.sk-text-repr-fallback {display: none;}</style><div id=\"sk-container-id-55\" class=\"sk-top-container\"><div class=\"sk-text-repr-fallback\"><pre>VotingClassifier(estimators=[(&#x27;pipe1&#x27;,\n",
              "                              Pipeline(steps=[(&#x27;scaler&#x27;, StandardScaler()),\n",
              "                                              (&#x27;gbc&#x27;,\n",
              "                                               GradientBoostingClassifier(validation_fraction=0.2))])),\n",
              "                             (&#x27;pipe2&#x27;,\n",
              "                              Pipeline(steps=[(&#x27;scaler&#x27;, StandardScaler()),\n",
              "                                              (&#x27;lgc&#x27;, LogisticRegression())]))],\n",
              "                 voting=&#x27;soft&#x27;)</pre><b>In a Jupyter environment, please rerun this cell to show the HTML representation or trust the notebook. <br />On GitHub, the HTML representation is unable to render, please try loading this page with nbviewer.org.</b></div><div class=\"sk-container\" hidden><div class=\"sk-item sk-dashed-wrapped\"><div class=\"sk-label-container\"><div class=\"sk-label sk-toggleable\"><input class=\"sk-toggleable__control sk-hidden--visually\" id=\"sk-estimator-id-101\" type=\"checkbox\" ><label for=\"sk-estimator-id-101\" class=\"sk-toggleable__label sk-toggleable__label-arrow\">VotingClassifier</label><div class=\"sk-toggleable__content\"><pre>VotingClassifier(estimators=[(&#x27;pipe1&#x27;,\n",
              "                              Pipeline(steps=[(&#x27;scaler&#x27;, StandardScaler()),\n",
              "                                              (&#x27;gbc&#x27;,\n",
              "                                               GradientBoostingClassifier(validation_fraction=0.2))])),\n",
              "                             (&#x27;pipe2&#x27;,\n",
              "                              Pipeline(steps=[(&#x27;scaler&#x27;, StandardScaler()),\n",
              "                                              (&#x27;lgc&#x27;, LogisticRegression())]))],\n",
              "                 voting=&#x27;soft&#x27;)</pre></div></div></div><div class=\"sk-parallel\"><div class=\"sk-parallel-item\"><div class=\"sk-item\"><div class=\"sk-label-container\"><div class=\"sk-label sk-toggleable\"><label>pipe1</label></div></div><div class=\"sk-serial\"><div class=\"sk-item\"><div class=\"sk-serial\"><div class=\"sk-item\"><div class=\"sk-estimator sk-toggleable\"><input class=\"sk-toggleable__control sk-hidden--visually\" id=\"sk-estimator-id-102\" type=\"checkbox\" ><label for=\"sk-estimator-id-102\" class=\"sk-toggleable__label sk-toggleable__label-arrow\">StandardScaler</label><div class=\"sk-toggleable__content\"><pre>StandardScaler()</pre></div></div></div><div class=\"sk-item\"><div class=\"sk-estimator sk-toggleable\"><input class=\"sk-toggleable__control sk-hidden--visually\" id=\"sk-estimator-id-103\" type=\"checkbox\" ><label for=\"sk-estimator-id-103\" class=\"sk-toggleable__label sk-toggleable__label-arrow\">GradientBoostingClassifier</label><div class=\"sk-toggleable__content\"><pre>GradientBoostingClassifier(validation_fraction=0.2)</pre></div></div></div></div></div></div></div></div><div class=\"sk-parallel-item\"><div class=\"sk-item\"><div class=\"sk-label-container\"><div class=\"sk-label sk-toggleable\"><label>pipe2</label></div></div><div class=\"sk-serial\"><div class=\"sk-item\"><div class=\"sk-serial\"><div class=\"sk-item\"><div class=\"sk-estimator sk-toggleable\"><input class=\"sk-toggleable__control sk-hidden--visually\" id=\"sk-estimator-id-104\" type=\"checkbox\" ><label for=\"sk-estimator-id-104\" class=\"sk-toggleable__label sk-toggleable__label-arrow\">StandardScaler</label><div class=\"sk-toggleable__content\"><pre>StandardScaler()</pre></div></div></div><div class=\"sk-item\"><div class=\"sk-estimator sk-toggleable\"><input class=\"sk-toggleable__control sk-hidden--visually\" id=\"sk-estimator-id-105\" type=\"checkbox\" ><label for=\"sk-estimator-id-105\" class=\"sk-toggleable__label sk-toggleable__label-arrow\">LogisticRegression</label><div class=\"sk-toggleable__content\"><pre>LogisticRegression()</pre></div></div></div></div></div></div></div></div></div></div></div></div>"
            ]
          },
          "metadata": {},
          "execution_count": 184
        }
      ]
    },
    {
      "cell_type": "code",
      "source": [
        "y_pred = voting_classifier.predict(X_test)\n",
        "\n",
        "f1_score(y_true=y_test, y_pred=y_pred)"
      ],
      "metadata": {
        "colab": {
          "base_uri": "https://localhost:8080/"
        },
        "id": "xerfEEAAxyis",
        "outputId": "da9bdeee-5b1b-40d9-ba37-f7a6ca41cfc2"
      },
      "execution_count": 185,
      "outputs": [
        {
          "output_type": "execute_result",
          "data": {
            "text/plain": [
              "0.9249999999999999"
            ]
          },
          "metadata": {},
          "execution_count": 185
        }
      ]
    },
    {
      "cell_type": "code",
      "source": [
        "# XGBoost model을 따로 학습시키고 VotingClassifier에 추가"
      ],
      "metadata": {
        "id": "VvgKemr4yi2y"
      },
      "execution_count": 186,
      "outputs": []
    },
    {
      "cell_type": "code",
      "source": [
        "xgb = XGBClassifier(n_estimators=10000, early_stopping_rounds=10)\n",
        "xgb.fit(X_train, y_train, eval_set=[(X_train, y_train), (X_test, y_test)])"
      ],
      "metadata": {
        "colab": {
          "base_uri": "https://localhost:8080/",
          "height": 716
        },
        "id": "il6rUcBHxOMs",
        "outputId": "cc95c8eb-e8ff-4afc-c2e5-6ae78516c10e"
      },
      "execution_count": 187,
      "outputs": [
        {
          "output_type": "stream",
          "name": "stdout",
          "text": [
            "[0]\tvalidation_0-logloss:0.47369\tvalidation_1-logloss:0.48629\n",
            "[1]\tvalidation_0-logloss:0.35799\tvalidation_1-logloss:0.38499\n",
            "[2]\tvalidation_0-logloss:0.27593\tvalidation_1-logloss:0.32306\n",
            "[3]\tvalidation_0-logloss:0.21821\tvalidation_1-logloss:0.26930\n",
            "[4]\tvalidation_0-logloss:0.17378\tvalidation_1-logloss:0.22892\n",
            "[5]\tvalidation_0-logloss:0.14589\tvalidation_1-logloss:0.20783\n",
            "[6]\tvalidation_0-logloss:0.12209\tvalidation_1-logloss:0.19011\n",
            "[7]\tvalidation_0-logloss:0.10632\tvalidation_1-logloss:0.17637\n",
            "[8]\tvalidation_0-logloss:0.09271\tvalidation_1-logloss:0.16575\n",
            "[9]\tvalidation_0-logloss:0.08098\tvalidation_1-logloss:0.15818\n",
            "[10]\tvalidation_0-logloss:0.07135\tvalidation_1-logloss:0.15290\n",
            "[11]\tvalidation_0-logloss:0.06396\tvalidation_1-logloss:0.14793\n",
            "[12]\tvalidation_0-logloss:0.05739\tvalidation_1-logloss:0.13669\n",
            "[13]\tvalidation_0-logloss:0.05237\tvalidation_1-logloss:0.13677\n",
            "[14]\tvalidation_0-logloss:0.04794\tvalidation_1-logloss:0.12918\n",
            "[15]\tvalidation_0-logloss:0.04450\tvalidation_1-logloss:0.12895\n",
            "[16]\tvalidation_0-logloss:0.04139\tvalidation_1-logloss:0.12327\n",
            "[17]\tvalidation_0-logloss:0.03919\tvalidation_1-logloss:0.12432\n",
            "[18]\tvalidation_0-logloss:0.03783\tvalidation_1-logloss:0.12381\n",
            "[19]\tvalidation_0-logloss:0.03594\tvalidation_1-logloss:0.12399\n",
            "[20]\tvalidation_0-logloss:0.03495\tvalidation_1-logloss:0.12383\n",
            "[21]\tvalidation_0-logloss:0.03393\tvalidation_1-logloss:0.12511\n",
            "[22]\tvalidation_0-logloss:0.03320\tvalidation_1-logloss:0.12522\n",
            "[23]\tvalidation_0-logloss:0.03243\tvalidation_1-logloss:0.12641\n",
            "[24]\tvalidation_0-logloss:0.03176\tvalidation_1-logloss:0.12446\n",
            "[25]\tvalidation_0-logloss:0.03119\tvalidation_1-logloss:0.12572\n",
            "[26]\tvalidation_0-logloss:0.03063\tvalidation_1-logloss:0.12598\n"
          ]
        },
        {
          "output_type": "execute_result",
          "data": {
            "text/plain": [
              "XGBClassifier(base_score=None, booster=None, callbacks=None,\n",
              "              colsample_bylevel=None, colsample_bynode=None,\n",
              "              colsample_bytree=None, device=None, early_stopping_rounds=10,\n",
              "              enable_categorical=False, eval_metric=None, feature_types=None,\n",
              "              gamma=None, grow_policy=None, importance_type=None,\n",
              "              interaction_constraints=None, learning_rate=None, max_bin=None,\n",
              "              max_cat_threshold=None, max_cat_to_onehot=None,\n",
              "              max_delta_step=None, max_depth=None, max_leaves=None,\n",
              "              min_child_weight=None, missing=nan, monotone_constraints=None,\n",
              "              multi_strategy=None, n_estimators=10000, n_jobs=None,\n",
              "              num_parallel_tree=None, random_state=None, ...)"
            ],
            "text/html": [
              "<style>#sk-container-id-56 {color: black;background-color: white;}#sk-container-id-56 pre{padding: 0;}#sk-container-id-56 div.sk-toggleable {background-color: white;}#sk-container-id-56 label.sk-toggleable__label {cursor: pointer;display: block;width: 100%;margin-bottom: 0;padding: 0.3em;box-sizing: border-box;text-align: center;}#sk-container-id-56 label.sk-toggleable__label-arrow:before {content: \"▸\";float: left;margin-right: 0.25em;color: #696969;}#sk-container-id-56 label.sk-toggleable__label-arrow:hover:before {color: black;}#sk-container-id-56 div.sk-estimator:hover label.sk-toggleable__label-arrow:before {color: black;}#sk-container-id-56 div.sk-toggleable__content {max-height: 0;max-width: 0;overflow: hidden;text-align: left;background-color: #f0f8ff;}#sk-container-id-56 div.sk-toggleable__content pre {margin: 0.2em;color: black;border-radius: 0.25em;background-color: #f0f8ff;}#sk-container-id-56 input.sk-toggleable__control:checked~div.sk-toggleable__content {max-height: 200px;max-width: 100%;overflow: auto;}#sk-container-id-56 input.sk-toggleable__control:checked~label.sk-toggleable__label-arrow:before {content: \"▾\";}#sk-container-id-56 div.sk-estimator input.sk-toggleable__control:checked~label.sk-toggleable__label {background-color: #d4ebff;}#sk-container-id-56 div.sk-label input.sk-toggleable__control:checked~label.sk-toggleable__label {background-color: #d4ebff;}#sk-container-id-56 input.sk-hidden--visually {border: 0;clip: rect(1px 1px 1px 1px);clip: rect(1px, 1px, 1px, 1px);height: 1px;margin: -1px;overflow: hidden;padding: 0;position: absolute;width: 1px;}#sk-container-id-56 div.sk-estimator {font-family: monospace;background-color: #f0f8ff;border: 1px dotted black;border-radius: 0.25em;box-sizing: border-box;margin-bottom: 0.5em;}#sk-container-id-56 div.sk-estimator:hover {background-color: #d4ebff;}#sk-container-id-56 div.sk-parallel-item::after {content: \"\";width: 100%;border-bottom: 1px solid gray;flex-grow: 1;}#sk-container-id-56 div.sk-label:hover label.sk-toggleable__label {background-color: #d4ebff;}#sk-container-id-56 div.sk-serial::before {content: \"\";position: absolute;border-left: 1px solid gray;box-sizing: border-box;top: 0;bottom: 0;left: 50%;z-index: 0;}#sk-container-id-56 div.sk-serial {display: flex;flex-direction: column;align-items: center;background-color: white;padding-right: 0.2em;padding-left: 0.2em;position: relative;}#sk-container-id-56 div.sk-item {position: relative;z-index: 1;}#sk-container-id-56 div.sk-parallel {display: flex;align-items: stretch;justify-content: center;background-color: white;position: relative;}#sk-container-id-56 div.sk-item::before, #sk-container-id-56 div.sk-parallel-item::before {content: \"\";position: absolute;border-left: 1px solid gray;box-sizing: border-box;top: 0;bottom: 0;left: 50%;z-index: -1;}#sk-container-id-56 div.sk-parallel-item {display: flex;flex-direction: column;z-index: 1;position: relative;background-color: white;}#sk-container-id-56 div.sk-parallel-item:first-child::after {align-self: flex-end;width: 50%;}#sk-container-id-56 div.sk-parallel-item:last-child::after {align-self: flex-start;width: 50%;}#sk-container-id-56 div.sk-parallel-item:only-child::after {width: 0;}#sk-container-id-56 div.sk-dashed-wrapped {border: 1px dashed gray;margin: 0 0.4em 0.5em 0.4em;box-sizing: border-box;padding-bottom: 0.4em;background-color: white;}#sk-container-id-56 div.sk-label label {font-family: monospace;font-weight: bold;display: inline-block;line-height: 1.2em;}#sk-container-id-56 div.sk-label-container {text-align: center;}#sk-container-id-56 div.sk-container {/* jupyter's `normalize.less` sets `[hidden] { display: none; }` but bootstrap.min.css set `[hidden] { display: none !important; }` so we also need the `!important` here to be able to override the default hidden behavior on the sphinx rendered scikit-learn.org. See: https://github.com/scikit-learn/scikit-learn/issues/21755 */display: inline-block !important;position: relative;}#sk-container-id-56 div.sk-text-repr-fallback {display: none;}</style><div id=\"sk-container-id-56\" class=\"sk-top-container\"><div class=\"sk-text-repr-fallback\"><pre>XGBClassifier(base_score=None, booster=None, callbacks=None,\n",
              "              colsample_bylevel=None, colsample_bynode=None,\n",
              "              colsample_bytree=None, device=None, early_stopping_rounds=10,\n",
              "              enable_categorical=False, eval_metric=None, feature_types=None,\n",
              "              gamma=None, grow_policy=None, importance_type=None,\n",
              "              interaction_constraints=None, learning_rate=None, max_bin=None,\n",
              "              max_cat_threshold=None, max_cat_to_onehot=None,\n",
              "              max_delta_step=None, max_depth=None, max_leaves=None,\n",
              "              min_child_weight=None, missing=nan, monotone_constraints=None,\n",
              "              multi_strategy=None, n_estimators=10000, n_jobs=None,\n",
              "              num_parallel_tree=None, random_state=None, ...)</pre><b>In a Jupyter environment, please rerun this cell to show the HTML representation or trust the notebook. <br />On GitHub, the HTML representation is unable to render, please try loading this page with nbviewer.org.</b></div><div class=\"sk-container\" hidden><div class=\"sk-item\"><div class=\"sk-estimator sk-toggleable\"><input class=\"sk-toggleable__control sk-hidden--visually\" id=\"sk-estimator-id-106\" type=\"checkbox\" checked><label for=\"sk-estimator-id-106\" class=\"sk-toggleable__label sk-toggleable__label-arrow\">XGBClassifier</label><div class=\"sk-toggleable__content\"><pre>XGBClassifier(base_score=None, booster=None, callbacks=None,\n",
              "              colsample_bylevel=None, colsample_bynode=None,\n",
              "              colsample_bytree=None, device=None, early_stopping_rounds=10,\n",
              "              enable_categorical=False, eval_metric=None, feature_types=None,\n",
              "              gamma=None, grow_policy=None, importance_type=None,\n",
              "              interaction_constraints=None, learning_rate=None, max_bin=None,\n",
              "              max_cat_threshold=None, max_cat_to_onehot=None,\n",
              "              max_delta_step=None, max_depth=None, max_leaves=None,\n",
              "              min_child_weight=None, missing=nan, monotone_constraints=None,\n",
              "              multi_strategy=None, n_estimators=10000, n_jobs=None,\n",
              "              num_parallel_tree=None, random_state=None, ...)</pre></div></div></div></div></div>"
            ]
          },
          "metadata": {},
          "execution_count": 187
        }
      ]
    },
    {
      "cell_type": "code",
      "source": [
        "y_pred = xgb.predict(X_test)\n",
        "\n",
        "f1_score(y_true=y_test, y_pred=y_pred)"
      ],
      "metadata": {
        "colab": {
          "base_uri": "https://localhost:8080/"
        },
        "id": "vWfihGrOyChx",
        "outputId": "8a919223-1c42-48a0-ef70-a24e29ff8dfe"
      },
      "execution_count": 188,
      "outputs": [
        {
          "output_type": "execute_result",
          "data": {
            "text/plain": [
              "0.9688581314878894"
            ]
          },
          "metadata": {},
          "execution_count": 188
        }
      ]
    },
    {
      "cell_type": "code",
      "source": [
        "voting_classifier.estimators.append(\n",
        "    ['xgb', xgb]\n",
        ")"
      ],
      "metadata": {
        "id": "sUKCwc_0YoIg"
      },
      "execution_count": 189,
      "outputs": []
    },
    {
      "cell_type": "code",
      "source": [
        "voting_classifier"
      ],
      "metadata": {
        "colab": {
          "base_uri": "https://localhost:8080/",
          "height": 143
        },
        "id": "U5ZqcP1KcCMb",
        "outputId": "022e46a0-f45b-4628-d626-962038f2a403"
      },
      "execution_count": 190,
      "outputs": [
        {
          "output_type": "execute_result",
          "data": {
            "text/plain": [
              "VotingClassifier(estimators=[('pipe1',\n",
              "                              Pipeline(steps=[('scaler', StandardScaler()),\n",
              "                                              ('gbc',\n",
              "                                               GradientBoostingClassifier(validation_fraction=0.2))])),\n",
              "                             ('pipe2',\n",
              "                              Pipeline(steps=[('scaler', StandardScaler()),\n",
              "                                              ('lgc', LogisticRegression())])),\n",
              "                             ['xgb',\n",
              "                              XGBClassifier(base_score=None, booster=None,\n",
              "                                            callbacks=None,\n",
              "                                            colsample_bylevel=None,\n",
              "                                            colsample_bynode=None,\n",
              "                                            colsample_...\n",
              "                                            importance_type=None,\n",
              "                                            interaction_constraints=None,\n",
              "                                            learning_rate=None, max_bin=None,\n",
              "                                            max_cat_threshold=None,\n",
              "                                            max_cat_to_onehot=None,\n",
              "                                            max_delta_step=None, max_depth=None,\n",
              "                                            max_leaves=None,\n",
              "                                            min_child_weight=None, missing=nan,\n",
              "                                            monotone_constraints=None,\n",
              "                                            multi_strategy=None,\n",
              "                                            n_estimators=10000, n_jobs=None,\n",
              "                                            num_parallel_tree=None,\n",
              "                                            random_state=None, ...)]],\n",
              "                 voting='soft')"
            ],
            "text/html": [
              "<style>#sk-container-id-57 {color: black;background-color: white;}#sk-container-id-57 pre{padding: 0;}#sk-container-id-57 div.sk-toggleable {background-color: white;}#sk-container-id-57 label.sk-toggleable__label {cursor: pointer;display: block;width: 100%;margin-bottom: 0;padding: 0.3em;box-sizing: border-box;text-align: center;}#sk-container-id-57 label.sk-toggleable__label-arrow:before {content: \"▸\";float: left;margin-right: 0.25em;color: #696969;}#sk-container-id-57 label.sk-toggleable__label-arrow:hover:before {color: black;}#sk-container-id-57 div.sk-estimator:hover label.sk-toggleable__label-arrow:before {color: black;}#sk-container-id-57 div.sk-toggleable__content {max-height: 0;max-width: 0;overflow: hidden;text-align: left;background-color: #f0f8ff;}#sk-container-id-57 div.sk-toggleable__content pre {margin: 0.2em;color: black;border-radius: 0.25em;background-color: #f0f8ff;}#sk-container-id-57 input.sk-toggleable__control:checked~div.sk-toggleable__content {max-height: 200px;max-width: 100%;overflow: auto;}#sk-container-id-57 input.sk-toggleable__control:checked~label.sk-toggleable__label-arrow:before {content: \"▾\";}#sk-container-id-57 div.sk-estimator input.sk-toggleable__control:checked~label.sk-toggleable__label {background-color: #d4ebff;}#sk-container-id-57 div.sk-label input.sk-toggleable__control:checked~label.sk-toggleable__label {background-color: #d4ebff;}#sk-container-id-57 input.sk-hidden--visually {border: 0;clip: rect(1px 1px 1px 1px);clip: rect(1px, 1px, 1px, 1px);height: 1px;margin: -1px;overflow: hidden;padding: 0;position: absolute;width: 1px;}#sk-container-id-57 div.sk-estimator {font-family: monospace;background-color: #f0f8ff;border: 1px dotted black;border-radius: 0.25em;box-sizing: border-box;margin-bottom: 0.5em;}#sk-container-id-57 div.sk-estimator:hover {background-color: #d4ebff;}#sk-container-id-57 div.sk-parallel-item::after {content: \"\";width: 100%;border-bottom: 1px solid gray;flex-grow: 1;}#sk-container-id-57 div.sk-label:hover label.sk-toggleable__label {background-color: #d4ebff;}#sk-container-id-57 div.sk-serial::before {content: \"\";position: absolute;border-left: 1px solid gray;box-sizing: border-box;top: 0;bottom: 0;left: 50%;z-index: 0;}#sk-container-id-57 div.sk-serial {display: flex;flex-direction: column;align-items: center;background-color: white;padding-right: 0.2em;padding-left: 0.2em;position: relative;}#sk-container-id-57 div.sk-item {position: relative;z-index: 1;}#sk-container-id-57 div.sk-parallel {display: flex;align-items: stretch;justify-content: center;background-color: white;position: relative;}#sk-container-id-57 div.sk-item::before, #sk-container-id-57 div.sk-parallel-item::before {content: \"\";position: absolute;border-left: 1px solid gray;box-sizing: border-box;top: 0;bottom: 0;left: 50%;z-index: -1;}#sk-container-id-57 div.sk-parallel-item {display: flex;flex-direction: column;z-index: 1;position: relative;background-color: white;}#sk-container-id-57 div.sk-parallel-item:first-child::after {align-self: flex-end;width: 50%;}#sk-container-id-57 div.sk-parallel-item:last-child::after {align-self: flex-start;width: 50%;}#sk-container-id-57 div.sk-parallel-item:only-child::after {width: 0;}#sk-container-id-57 div.sk-dashed-wrapped {border: 1px dashed gray;margin: 0 0.4em 0.5em 0.4em;box-sizing: border-box;padding-bottom: 0.4em;background-color: white;}#sk-container-id-57 div.sk-label label {font-family: monospace;font-weight: bold;display: inline-block;line-height: 1.2em;}#sk-container-id-57 div.sk-label-container {text-align: center;}#sk-container-id-57 div.sk-container {/* jupyter's `normalize.less` sets `[hidden] { display: none; }` but bootstrap.min.css set `[hidden] { display: none !important; }` so we also need the `!important` here to be able to override the default hidden behavior on the sphinx rendered scikit-learn.org. See: https://github.com/scikit-learn/scikit-learn/issues/21755 */display: inline-block !important;position: relative;}#sk-container-id-57 div.sk-text-repr-fallback {display: none;}</style><div id=\"sk-container-id-57\" class=\"sk-top-container\"><div class=\"sk-text-repr-fallback\"><pre>VotingClassifier(estimators=[(&#x27;pipe1&#x27;,\n",
              "                              Pipeline(steps=[(&#x27;scaler&#x27;, StandardScaler()),\n",
              "                                              (&#x27;gbc&#x27;,\n",
              "                                               GradientBoostingClassifier(validation_fraction=0.2))])),\n",
              "                             (&#x27;pipe2&#x27;,\n",
              "                              Pipeline(steps=[(&#x27;scaler&#x27;, StandardScaler()),\n",
              "                                              (&#x27;lgc&#x27;, LogisticRegression())])),\n",
              "                             [&#x27;xgb&#x27;,\n",
              "                              XGBClassifier(base_score=None, booster=None,\n",
              "                                            callbacks=None,\n",
              "                                            colsample_bylevel=None,\n",
              "                                            colsample_bynode=None,\n",
              "                                            colsample_...\n",
              "                                            importance_type=None,\n",
              "                                            interaction_constraints=None,\n",
              "                                            learning_rate=None, max_bin=None,\n",
              "                                            max_cat_threshold=None,\n",
              "                                            max_cat_to_onehot=None,\n",
              "                                            max_delta_step=None, max_depth=None,\n",
              "                                            max_leaves=None,\n",
              "                                            min_child_weight=None, missing=nan,\n",
              "                                            monotone_constraints=None,\n",
              "                                            multi_strategy=None,\n",
              "                                            n_estimators=10000, n_jobs=None,\n",
              "                                            num_parallel_tree=None,\n",
              "                                            random_state=None, ...)]],\n",
              "                 voting=&#x27;soft&#x27;)</pre><b>In a Jupyter environment, please rerun this cell to show the HTML representation or trust the notebook. <br />On GitHub, the HTML representation is unable to render, please try loading this page with nbviewer.org.</b></div><div class=\"sk-container\" hidden><div class=\"sk-item sk-dashed-wrapped\"><div class=\"sk-label-container\"><div class=\"sk-label sk-toggleable\"><input class=\"sk-toggleable__control sk-hidden--visually\" id=\"sk-estimator-id-107\" type=\"checkbox\" ><label for=\"sk-estimator-id-107\" class=\"sk-toggleable__label sk-toggleable__label-arrow\">VotingClassifier</label><div class=\"sk-toggleable__content\"><pre>VotingClassifier(estimators=[(&#x27;pipe1&#x27;,\n",
              "                              Pipeline(steps=[(&#x27;scaler&#x27;, StandardScaler()),\n",
              "                                              (&#x27;gbc&#x27;,\n",
              "                                               GradientBoostingClassifier(validation_fraction=0.2))])),\n",
              "                             (&#x27;pipe2&#x27;,\n",
              "                              Pipeline(steps=[(&#x27;scaler&#x27;, StandardScaler()),\n",
              "                                              (&#x27;lgc&#x27;, LogisticRegression())])),\n",
              "                             [&#x27;xgb&#x27;,\n",
              "                              XGBClassifier(base_score=None, booster=None,\n",
              "                                            callbacks=None,\n",
              "                                            colsample_bylevel=None,\n",
              "                                            colsample_bynode=None,\n",
              "                                            colsample_...\n",
              "                                            importance_type=None,\n",
              "                                            interaction_constraints=None,\n",
              "                                            learning_rate=None, max_bin=None,\n",
              "                                            max_cat_threshold=None,\n",
              "                                            max_cat_to_onehot=None,\n",
              "                                            max_delta_step=None, max_depth=None,\n",
              "                                            max_leaves=None,\n",
              "                                            min_child_weight=None, missing=nan,\n",
              "                                            monotone_constraints=None,\n",
              "                                            multi_strategy=None,\n",
              "                                            n_estimators=10000, n_jobs=None,\n",
              "                                            num_parallel_tree=None,\n",
              "                                            random_state=None, ...)]],\n",
              "                 voting=&#x27;soft&#x27;)</pre></div></div></div><div class=\"sk-parallel\"><div class=\"sk-parallel-item\"><div class=\"sk-item\"><div class=\"sk-label-container\"><div class=\"sk-label sk-toggleable\"><label>pipe1</label></div></div><div class=\"sk-serial\"><div class=\"sk-item\"><div class=\"sk-serial\"><div class=\"sk-item\"><div class=\"sk-estimator sk-toggleable\"><input class=\"sk-toggleable__control sk-hidden--visually\" id=\"sk-estimator-id-108\" type=\"checkbox\" ><label for=\"sk-estimator-id-108\" class=\"sk-toggleable__label sk-toggleable__label-arrow\">StandardScaler</label><div class=\"sk-toggleable__content\"><pre>StandardScaler()</pre></div></div></div><div class=\"sk-item\"><div class=\"sk-estimator sk-toggleable\"><input class=\"sk-toggleable__control sk-hidden--visually\" id=\"sk-estimator-id-109\" type=\"checkbox\" ><label for=\"sk-estimator-id-109\" class=\"sk-toggleable__label sk-toggleable__label-arrow\">GradientBoostingClassifier</label><div class=\"sk-toggleable__content\"><pre>GradientBoostingClassifier(validation_fraction=0.2)</pre></div></div></div></div></div></div></div></div><div class=\"sk-parallel-item\"><div class=\"sk-item\"><div class=\"sk-label-container\"><div class=\"sk-label sk-toggleable\"><label>pipe2</label></div></div><div class=\"sk-serial\"><div class=\"sk-item\"><div class=\"sk-serial\"><div class=\"sk-item\"><div class=\"sk-estimator sk-toggleable\"><input class=\"sk-toggleable__control sk-hidden--visually\" id=\"sk-estimator-id-110\" type=\"checkbox\" ><label for=\"sk-estimator-id-110\" class=\"sk-toggleable__label sk-toggleable__label-arrow\">StandardScaler</label><div class=\"sk-toggleable__content\"><pre>StandardScaler()</pre></div></div></div><div class=\"sk-item\"><div class=\"sk-estimator sk-toggleable\"><input class=\"sk-toggleable__control sk-hidden--visually\" id=\"sk-estimator-id-111\" type=\"checkbox\" ><label for=\"sk-estimator-id-111\" class=\"sk-toggleable__label sk-toggleable__label-arrow\">LogisticRegression</label><div class=\"sk-toggleable__content\"><pre>LogisticRegression()</pre></div></div></div></div></div></div></div></div><div class=\"sk-parallel-item\"><div class=\"sk-item\"><div class=\"sk-label-container\"><div class=\"sk-label sk-toggleable\"><label>xgb</label></div></div><div class=\"sk-serial\"><div class=\"sk-item\"><div class=\"sk-estimator sk-toggleable\"><input class=\"sk-toggleable__control sk-hidden--visually\" id=\"sk-estimator-id-112\" type=\"checkbox\" ><label for=\"sk-estimator-id-112\" class=\"sk-toggleable__label sk-toggleable__label-arrow\">XGBClassifier</label><div class=\"sk-toggleable__content\"><pre>XGBClassifier(base_score=None, booster=None, callbacks=None,\n",
              "              colsample_bylevel=None, colsample_bynode=None,\n",
              "              colsample_bytree=None, device=None, early_stopping_rounds=10,\n",
              "              enable_categorical=False, eval_metric=None, feature_types=None,\n",
              "              gamma=None, grow_policy=None, importance_type=None,\n",
              "              interaction_constraints=None, learning_rate=None, max_bin=None,\n",
              "              max_cat_threshold=None, max_cat_to_onehot=None,\n",
              "              max_delta_step=None, max_depth=None, max_leaves=None,\n",
              "              min_child_weight=None, missing=nan, monotone_constraints=None,\n",
              "              multi_strategy=None, n_estimators=10000, n_jobs=None,\n",
              "              num_parallel_tree=None, random_state=None, ...)</pre></div></div></div></div></div></div></div></div></div></div>"
            ]
          },
          "metadata": {},
          "execution_count": 190
        }
      ]
    },
    {
      "cell_type": "code",
      "source": [
        "y_pred = voting_classifier.predict(X_test)\n",
        "f1_score(y_true=y_test, y_pred=y_pred)"
      ],
      "metadata": {
        "colab": {
          "base_uri": "https://localhost:8080/"
        },
        "id": "azG3V_j2xYMi",
        "outputId": "9236e41c-ae59-4c42-d35b-57ccc0255247"
      },
      "execution_count": 191,
      "outputs": [
        {
          "output_type": "execute_result",
          "data": {
            "text/plain": [
              "0.9249999999999999"
            ]
          },
          "metadata": {},
          "execution_count": 191
        }
      ]
    },
    {
      "cell_type": "code",
      "source": [
        "import pickle"
      ],
      "metadata": {
        "id": "aGsAvrJzn1JP"
      },
      "execution_count": 192,
      "outputs": []
    },
    {
      "cell_type": "code",
      "source": [
        "xgboost.__version__"
      ],
      "metadata": {
        "colab": {
          "base_uri": "https://localhost:8080/",
          "height": 36
        },
        "id": "lL6KSji-fsUg",
        "outputId": "fd17e156-ce95-48ec-d124-da2dafd9aed2"
      },
      "execution_count": 193,
      "outputs": [
        {
          "output_type": "execute_result",
          "data": {
            "text/plain": [
              "'2.0.2'"
            ],
            "application/vnd.google.colaboratory.intrinsic+json": {
              "type": "string"
            }
          },
          "metadata": {},
          "execution_count": 193
        }
      ]
    },
    {
      "cell_type": "code",
      "source": [
        "pickle.dump(voting_classifier, open('./test.pkl', 'wb'))"
      ],
      "metadata": {
        "id": "hgyzJx9SaN1R"
      },
      "execution_count": 194,
      "outputs": []
    },
    {
      "cell_type": "code",
      "source": [
        "p = pickle.load(open('./test.pkl', 'rb'))\n",
        "p"
      ],
      "metadata": {
        "colab": {
          "base_uri": "https://localhost:8080/",
          "height": 143
        },
        "id": "ViSCUb7FaTS7",
        "outputId": "c740344f-b312-4d7c-cd15-0574e5b00053"
      },
      "execution_count": 195,
      "outputs": [
        {
          "output_type": "execute_result",
          "data": {
            "text/plain": [
              "VotingClassifier(estimators=[('pipe1',\n",
              "                              Pipeline(steps=[('scaler', StandardScaler()),\n",
              "                                              ('gbc',\n",
              "                                               GradientBoostingClassifier(validation_fraction=0.2))])),\n",
              "                             ('pipe2',\n",
              "                              Pipeline(steps=[('scaler', StandardScaler()),\n",
              "                                              ('lgc', LogisticRegression())])),\n",
              "                             ['xgb',\n",
              "                              XGBClassifier(base_score=None, booster=None,\n",
              "                                            callbacks=None,\n",
              "                                            colsample_bylevel=None,\n",
              "                                            colsample_bynode=None,\n",
              "                                            colsample_...\n",
              "                                            importance_type=None,\n",
              "                                            interaction_constraints=None,\n",
              "                                            learning_rate=None, max_bin=None,\n",
              "                                            max_cat_threshold=None,\n",
              "                                            max_cat_to_onehot=None,\n",
              "                                            max_delta_step=None, max_depth=None,\n",
              "                                            max_leaves=None,\n",
              "                                            min_child_weight=None, missing=nan,\n",
              "                                            monotone_constraints=None,\n",
              "                                            multi_strategy=None,\n",
              "                                            n_estimators=10000, n_jobs=None,\n",
              "                                            num_parallel_tree=None,\n",
              "                                            random_state=None, ...)]],\n",
              "                 voting='soft')"
            ],
            "text/html": [
              "<style>#sk-container-id-58 {color: black;background-color: white;}#sk-container-id-58 pre{padding: 0;}#sk-container-id-58 div.sk-toggleable {background-color: white;}#sk-container-id-58 label.sk-toggleable__label {cursor: pointer;display: block;width: 100%;margin-bottom: 0;padding: 0.3em;box-sizing: border-box;text-align: center;}#sk-container-id-58 label.sk-toggleable__label-arrow:before {content: \"▸\";float: left;margin-right: 0.25em;color: #696969;}#sk-container-id-58 label.sk-toggleable__label-arrow:hover:before {color: black;}#sk-container-id-58 div.sk-estimator:hover label.sk-toggleable__label-arrow:before {color: black;}#sk-container-id-58 div.sk-toggleable__content {max-height: 0;max-width: 0;overflow: hidden;text-align: left;background-color: #f0f8ff;}#sk-container-id-58 div.sk-toggleable__content pre {margin: 0.2em;color: black;border-radius: 0.25em;background-color: #f0f8ff;}#sk-container-id-58 input.sk-toggleable__control:checked~div.sk-toggleable__content {max-height: 200px;max-width: 100%;overflow: auto;}#sk-container-id-58 input.sk-toggleable__control:checked~label.sk-toggleable__label-arrow:before {content: \"▾\";}#sk-container-id-58 div.sk-estimator input.sk-toggleable__control:checked~label.sk-toggleable__label {background-color: #d4ebff;}#sk-container-id-58 div.sk-label input.sk-toggleable__control:checked~label.sk-toggleable__label {background-color: #d4ebff;}#sk-container-id-58 input.sk-hidden--visually {border: 0;clip: rect(1px 1px 1px 1px);clip: rect(1px, 1px, 1px, 1px);height: 1px;margin: -1px;overflow: hidden;padding: 0;position: absolute;width: 1px;}#sk-container-id-58 div.sk-estimator {font-family: monospace;background-color: #f0f8ff;border: 1px dotted black;border-radius: 0.25em;box-sizing: border-box;margin-bottom: 0.5em;}#sk-container-id-58 div.sk-estimator:hover {background-color: #d4ebff;}#sk-container-id-58 div.sk-parallel-item::after {content: \"\";width: 100%;border-bottom: 1px solid gray;flex-grow: 1;}#sk-container-id-58 div.sk-label:hover label.sk-toggleable__label {background-color: #d4ebff;}#sk-container-id-58 div.sk-serial::before {content: \"\";position: absolute;border-left: 1px solid gray;box-sizing: border-box;top: 0;bottom: 0;left: 50%;z-index: 0;}#sk-container-id-58 div.sk-serial {display: flex;flex-direction: column;align-items: center;background-color: white;padding-right: 0.2em;padding-left: 0.2em;position: relative;}#sk-container-id-58 div.sk-item {position: relative;z-index: 1;}#sk-container-id-58 div.sk-parallel {display: flex;align-items: stretch;justify-content: center;background-color: white;position: relative;}#sk-container-id-58 div.sk-item::before, #sk-container-id-58 div.sk-parallel-item::before {content: \"\";position: absolute;border-left: 1px solid gray;box-sizing: border-box;top: 0;bottom: 0;left: 50%;z-index: -1;}#sk-container-id-58 div.sk-parallel-item {display: flex;flex-direction: column;z-index: 1;position: relative;background-color: white;}#sk-container-id-58 div.sk-parallel-item:first-child::after {align-self: flex-end;width: 50%;}#sk-container-id-58 div.sk-parallel-item:last-child::after {align-self: flex-start;width: 50%;}#sk-container-id-58 div.sk-parallel-item:only-child::after {width: 0;}#sk-container-id-58 div.sk-dashed-wrapped {border: 1px dashed gray;margin: 0 0.4em 0.5em 0.4em;box-sizing: border-box;padding-bottom: 0.4em;background-color: white;}#sk-container-id-58 div.sk-label label {font-family: monospace;font-weight: bold;display: inline-block;line-height: 1.2em;}#sk-container-id-58 div.sk-label-container {text-align: center;}#sk-container-id-58 div.sk-container {/* jupyter's `normalize.less` sets `[hidden] { display: none; }` but bootstrap.min.css set `[hidden] { display: none !important; }` so we also need the `!important` here to be able to override the default hidden behavior on the sphinx rendered scikit-learn.org. See: https://github.com/scikit-learn/scikit-learn/issues/21755 */display: inline-block !important;position: relative;}#sk-container-id-58 div.sk-text-repr-fallback {display: none;}</style><div id=\"sk-container-id-58\" class=\"sk-top-container\"><div class=\"sk-text-repr-fallback\"><pre>VotingClassifier(estimators=[(&#x27;pipe1&#x27;,\n",
              "                              Pipeline(steps=[(&#x27;scaler&#x27;, StandardScaler()),\n",
              "                                              (&#x27;gbc&#x27;,\n",
              "                                               GradientBoostingClassifier(validation_fraction=0.2))])),\n",
              "                             (&#x27;pipe2&#x27;,\n",
              "                              Pipeline(steps=[(&#x27;scaler&#x27;, StandardScaler()),\n",
              "                                              (&#x27;lgc&#x27;, LogisticRegression())])),\n",
              "                             [&#x27;xgb&#x27;,\n",
              "                              XGBClassifier(base_score=None, booster=None,\n",
              "                                            callbacks=None,\n",
              "                                            colsample_bylevel=None,\n",
              "                                            colsample_bynode=None,\n",
              "                                            colsample_...\n",
              "                                            importance_type=None,\n",
              "                                            interaction_constraints=None,\n",
              "                                            learning_rate=None, max_bin=None,\n",
              "                                            max_cat_threshold=None,\n",
              "                                            max_cat_to_onehot=None,\n",
              "                                            max_delta_step=None, max_depth=None,\n",
              "                                            max_leaves=None,\n",
              "                                            min_child_weight=None, missing=nan,\n",
              "                                            monotone_constraints=None,\n",
              "                                            multi_strategy=None,\n",
              "                                            n_estimators=10000, n_jobs=None,\n",
              "                                            num_parallel_tree=None,\n",
              "                                            random_state=None, ...)]],\n",
              "                 voting=&#x27;soft&#x27;)</pre><b>In a Jupyter environment, please rerun this cell to show the HTML representation or trust the notebook. <br />On GitHub, the HTML representation is unable to render, please try loading this page with nbviewer.org.</b></div><div class=\"sk-container\" hidden><div class=\"sk-item sk-dashed-wrapped\"><div class=\"sk-label-container\"><div class=\"sk-label sk-toggleable\"><input class=\"sk-toggleable__control sk-hidden--visually\" id=\"sk-estimator-id-113\" type=\"checkbox\" ><label for=\"sk-estimator-id-113\" class=\"sk-toggleable__label sk-toggleable__label-arrow\">VotingClassifier</label><div class=\"sk-toggleable__content\"><pre>VotingClassifier(estimators=[(&#x27;pipe1&#x27;,\n",
              "                              Pipeline(steps=[(&#x27;scaler&#x27;, StandardScaler()),\n",
              "                                              (&#x27;gbc&#x27;,\n",
              "                                               GradientBoostingClassifier(validation_fraction=0.2))])),\n",
              "                             (&#x27;pipe2&#x27;,\n",
              "                              Pipeline(steps=[(&#x27;scaler&#x27;, StandardScaler()),\n",
              "                                              (&#x27;lgc&#x27;, LogisticRegression())])),\n",
              "                             [&#x27;xgb&#x27;,\n",
              "                              XGBClassifier(base_score=None, booster=None,\n",
              "                                            callbacks=None,\n",
              "                                            colsample_bylevel=None,\n",
              "                                            colsample_bynode=None,\n",
              "                                            colsample_...\n",
              "                                            importance_type=None,\n",
              "                                            interaction_constraints=None,\n",
              "                                            learning_rate=None, max_bin=None,\n",
              "                                            max_cat_threshold=None,\n",
              "                                            max_cat_to_onehot=None,\n",
              "                                            max_delta_step=None, max_depth=None,\n",
              "                                            max_leaves=None,\n",
              "                                            min_child_weight=None, missing=nan,\n",
              "                                            monotone_constraints=None,\n",
              "                                            multi_strategy=None,\n",
              "                                            n_estimators=10000, n_jobs=None,\n",
              "                                            num_parallel_tree=None,\n",
              "                                            random_state=None, ...)]],\n",
              "                 voting=&#x27;soft&#x27;)</pre></div></div></div><div class=\"sk-parallel\"><div class=\"sk-parallel-item\"><div class=\"sk-item\"><div class=\"sk-label-container\"><div class=\"sk-label sk-toggleable\"><label>pipe1</label></div></div><div class=\"sk-serial\"><div class=\"sk-item\"><div class=\"sk-serial\"><div class=\"sk-item\"><div class=\"sk-estimator sk-toggleable\"><input class=\"sk-toggleable__control sk-hidden--visually\" id=\"sk-estimator-id-114\" type=\"checkbox\" ><label for=\"sk-estimator-id-114\" class=\"sk-toggleable__label sk-toggleable__label-arrow\">StandardScaler</label><div class=\"sk-toggleable__content\"><pre>StandardScaler()</pre></div></div></div><div class=\"sk-item\"><div class=\"sk-estimator sk-toggleable\"><input class=\"sk-toggleable__control sk-hidden--visually\" id=\"sk-estimator-id-115\" type=\"checkbox\" ><label for=\"sk-estimator-id-115\" class=\"sk-toggleable__label sk-toggleable__label-arrow\">GradientBoostingClassifier</label><div class=\"sk-toggleable__content\"><pre>GradientBoostingClassifier(validation_fraction=0.2)</pre></div></div></div></div></div></div></div></div><div class=\"sk-parallel-item\"><div class=\"sk-item\"><div class=\"sk-label-container\"><div class=\"sk-label sk-toggleable\"><label>pipe2</label></div></div><div class=\"sk-serial\"><div class=\"sk-item\"><div class=\"sk-serial\"><div class=\"sk-item\"><div class=\"sk-estimator sk-toggleable\"><input class=\"sk-toggleable__control sk-hidden--visually\" id=\"sk-estimator-id-116\" type=\"checkbox\" ><label for=\"sk-estimator-id-116\" class=\"sk-toggleable__label sk-toggleable__label-arrow\">StandardScaler</label><div class=\"sk-toggleable__content\"><pre>StandardScaler()</pre></div></div></div><div class=\"sk-item\"><div class=\"sk-estimator sk-toggleable\"><input class=\"sk-toggleable__control sk-hidden--visually\" id=\"sk-estimator-id-117\" type=\"checkbox\" ><label for=\"sk-estimator-id-117\" class=\"sk-toggleable__label sk-toggleable__label-arrow\">LogisticRegression</label><div class=\"sk-toggleable__content\"><pre>LogisticRegression()</pre></div></div></div></div></div></div></div></div><div class=\"sk-parallel-item\"><div class=\"sk-item\"><div class=\"sk-label-container\"><div class=\"sk-label sk-toggleable\"><label>xgb</label></div></div><div class=\"sk-serial\"><div class=\"sk-item\"><div class=\"sk-estimator sk-toggleable\"><input class=\"sk-toggleable__control sk-hidden--visually\" id=\"sk-estimator-id-118\" type=\"checkbox\" ><label for=\"sk-estimator-id-118\" class=\"sk-toggleable__label sk-toggleable__label-arrow\">XGBClassifier</label><div class=\"sk-toggleable__content\"><pre>XGBClassifier(base_score=None, booster=None, callbacks=None,\n",
              "              colsample_bylevel=None, colsample_bynode=None,\n",
              "              colsample_bytree=None, device=None, early_stopping_rounds=10,\n",
              "              enable_categorical=False, eval_metric=None, feature_types=None,\n",
              "              gamma=None, grow_policy=None, importance_type=None,\n",
              "              interaction_constraints=None, learning_rate=None, max_bin=None,\n",
              "              max_cat_threshold=None, max_cat_to_onehot=None,\n",
              "              max_delta_step=None, max_depth=None, max_leaves=None,\n",
              "              min_child_weight=None, missing=nan, monotone_constraints=None,\n",
              "              multi_strategy=None, n_estimators=10000, n_jobs=None,\n",
              "              num_parallel_tree=None, random_state=None, ...)</pre></div></div></div></div></div></div></div></div></div></div>"
            ]
          },
          "metadata": {},
          "execution_count": 195
        }
      ]
    },
    {
      "cell_type": "code",
      "source": [],
      "metadata": {
        "id": "WvNwc7m2aXNf"
      },
      "execution_count": 195,
      "outputs": []
    },
    {
      "cell_type": "markdown",
      "source": [
        "# VotingClassifier Override\n",
        "\n",
        "1. 접근법: VotingClassifier의 fit에 eval_set을 받을 수 있도록 wrapper를 만든다\n",
        "2. 문제점: VotingClassifier는 eval_set을 parameter로 받지 못한다\n",
        "    - 참고 코드: https://github.com/scikit-learn/scikit-learn/blob/main/sklearn/ensemble/_voting.py\n",
        "3. 해결법: Voting Classifier를 override한다\n"
      ],
      "metadata": {
        "id": "AgEpT32p8rwV"
      }
    },
    {
      "cell_type": "code",
      "source": [
        "import sklearn\n",
        "\n",
        "sklearn.__version__"
      ],
      "metadata": {
        "colab": {
          "base_uri": "https://localhost:8080/",
          "height": 36
        },
        "id": "6Ww4FcVJ8s2p",
        "outputId": "3aef9851-21e6-4cc4-cb86-c2cf60c0bf51"
      },
      "execution_count": 196,
      "outputs": [
        {
          "output_type": "execute_result",
          "data": {
            "text/plain": [
              "'1.2.2'"
            ],
            "application/vnd.google.colaboratory.intrinsic+json": {
              "type": "string"
            }
          },
          "metadata": {},
          "execution_count": 196
        }
      ]
    },
    {
      "cell_type": "code",
      "source": [
        "import numpy as np\n",
        "import pandas as pd"
      ],
      "metadata": {
        "id": "EfCRkKkzI9fK"
      },
      "execution_count": 197,
      "outputs": []
    },
    {
      "cell_type": "code",
      "source": [
        "from sklearn.preprocessing import LabelEncoder\n",
        "\n",
        "class VotingClassifierWrapper(VotingClassifier):\n",
        "  def fit(self, X, y, eval_set=None, **params):\n",
        "    # Following _BaseVoting as a Super Class\n",
        "    self.le_ = LabelEncoder().fit(y)\n",
        "    self.classes_ = self.le_.classes_\n",
        "    transformed_y = self.le_.transform(y)\n",
        "\n",
        "    if eval_set is not None:\n",
        "      eval_set = [(X, self.le_.transform(y)) for (X, y) in eval_set]\n",
        "\n",
        "    estimators_ = {}\n",
        "    # if class is xgboost, then support eval_set method\n",
        "    for name, estimator in self.estimators:\n",
        "      if type(estimator) == xgboost.sklearn.XGBClassifier:\n",
        "        estimators_[name] = estimator.fit(X, y, eval_set=eval_set, **params)\n",
        "      else:\n",
        "        estimators_[name] = estimator.fit(X, transformed_y, **params)\n",
        "\n",
        "    # fill out attributes\n",
        "    self.estimators_ = [estimator for (name, estimator) in estimators_.items()]\n",
        "    self.named_estimators_ = estimators_\n",
        "\n",
        "    for name, est in self.estimators:\n",
        "      if hasattr(est, 'feature_names_in_'):\n",
        "        self.feature_names_in_ = est.feature_names_in_\n",
        "\n",
        "    return self"
      ],
      "metadata": {
        "id": "m9Z3mumQFRvy"
      },
      "execution_count": 198,
      "outputs": []
    },
    {
      "cell_type": "code",
      "source": [
        "voting_classifier"
      ],
      "metadata": {
        "colab": {
          "base_uri": "https://localhost:8080/",
          "height": 143
        },
        "id": "RlIDnFfyDVrM",
        "outputId": "6cddf494-9689-4a4e-e83f-6a01441eaaa5"
      },
      "execution_count": 199,
      "outputs": [
        {
          "output_type": "execute_result",
          "data": {
            "text/plain": [
              "VotingClassifier(estimators=[('pipe1',\n",
              "                              Pipeline(steps=[('scaler', StandardScaler()),\n",
              "                                              ('gbc',\n",
              "                                               GradientBoostingClassifier(validation_fraction=0.2))])),\n",
              "                             ('pipe2',\n",
              "                              Pipeline(steps=[('scaler', StandardScaler()),\n",
              "                                              ('lgc', LogisticRegression())])),\n",
              "                             ['xgb',\n",
              "                              XGBClassifier(base_score=None, booster=None,\n",
              "                                            callbacks=None,\n",
              "                                            colsample_bylevel=None,\n",
              "                                            colsample_bynode=None,\n",
              "                                            colsample_...\n",
              "                                            importance_type=None,\n",
              "                                            interaction_constraints=None,\n",
              "                                            learning_rate=None, max_bin=None,\n",
              "                                            max_cat_threshold=None,\n",
              "                                            max_cat_to_onehot=None,\n",
              "                                            max_delta_step=None, max_depth=None,\n",
              "                                            max_leaves=None,\n",
              "                                            min_child_weight=None, missing=nan,\n",
              "                                            monotone_constraints=None,\n",
              "                                            multi_strategy=None,\n",
              "                                            n_estimators=10000, n_jobs=None,\n",
              "                                            num_parallel_tree=None,\n",
              "                                            random_state=None, ...)]],\n",
              "                 voting='soft')"
            ],
            "text/html": [
              "<style>#sk-container-id-59 {color: black;background-color: white;}#sk-container-id-59 pre{padding: 0;}#sk-container-id-59 div.sk-toggleable {background-color: white;}#sk-container-id-59 label.sk-toggleable__label {cursor: pointer;display: block;width: 100%;margin-bottom: 0;padding: 0.3em;box-sizing: border-box;text-align: center;}#sk-container-id-59 label.sk-toggleable__label-arrow:before {content: \"▸\";float: left;margin-right: 0.25em;color: #696969;}#sk-container-id-59 label.sk-toggleable__label-arrow:hover:before {color: black;}#sk-container-id-59 div.sk-estimator:hover label.sk-toggleable__label-arrow:before {color: black;}#sk-container-id-59 div.sk-toggleable__content {max-height: 0;max-width: 0;overflow: hidden;text-align: left;background-color: #f0f8ff;}#sk-container-id-59 div.sk-toggleable__content pre {margin: 0.2em;color: black;border-radius: 0.25em;background-color: #f0f8ff;}#sk-container-id-59 input.sk-toggleable__control:checked~div.sk-toggleable__content {max-height: 200px;max-width: 100%;overflow: auto;}#sk-container-id-59 input.sk-toggleable__control:checked~label.sk-toggleable__label-arrow:before {content: \"▾\";}#sk-container-id-59 div.sk-estimator input.sk-toggleable__control:checked~label.sk-toggleable__label {background-color: #d4ebff;}#sk-container-id-59 div.sk-label input.sk-toggleable__control:checked~label.sk-toggleable__label {background-color: #d4ebff;}#sk-container-id-59 input.sk-hidden--visually {border: 0;clip: rect(1px 1px 1px 1px);clip: rect(1px, 1px, 1px, 1px);height: 1px;margin: -1px;overflow: hidden;padding: 0;position: absolute;width: 1px;}#sk-container-id-59 div.sk-estimator {font-family: monospace;background-color: #f0f8ff;border: 1px dotted black;border-radius: 0.25em;box-sizing: border-box;margin-bottom: 0.5em;}#sk-container-id-59 div.sk-estimator:hover {background-color: #d4ebff;}#sk-container-id-59 div.sk-parallel-item::after {content: \"\";width: 100%;border-bottom: 1px solid gray;flex-grow: 1;}#sk-container-id-59 div.sk-label:hover label.sk-toggleable__label {background-color: #d4ebff;}#sk-container-id-59 div.sk-serial::before {content: \"\";position: absolute;border-left: 1px solid gray;box-sizing: border-box;top: 0;bottom: 0;left: 50%;z-index: 0;}#sk-container-id-59 div.sk-serial {display: flex;flex-direction: column;align-items: center;background-color: white;padding-right: 0.2em;padding-left: 0.2em;position: relative;}#sk-container-id-59 div.sk-item {position: relative;z-index: 1;}#sk-container-id-59 div.sk-parallel {display: flex;align-items: stretch;justify-content: center;background-color: white;position: relative;}#sk-container-id-59 div.sk-item::before, #sk-container-id-59 div.sk-parallel-item::before {content: \"\";position: absolute;border-left: 1px solid gray;box-sizing: border-box;top: 0;bottom: 0;left: 50%;z-index: -1;}#sk-container-id-59 div.sk-parallel-item {display: flex;flex-direction: column;z-index: 1;position: relative;background-color: white;}#sk-container-id-59 div.sk-parallel-item:first-child::after {align-self: flex-end;width: 50%;}#sk-container-id-59 div.sk-parallel-item:last-child::after {align-self: flex-start;width: 50%;}#sk-container-id-59 div.sk-parallel-item:only-child::after {width: 0;}#sk-container-id-59 div.sk-dashed-wrapped {border: 1px dashed gray;margin: 0 0.4em 0.5em 0.4em;box-sizing: border-box;padding-bottom: 0.4em;background-color: white;}#sk-container-id-59 div.sk-label label {font-family: monospace;font-weight: bold;display: inline-block;line-height: 1.2em;}#sk-container-id-59 div.sk-label-container {text-align: center;}#sk-container-id-59 div.sk-container {/* jupyter's `normalize.less` sets `[hidden] { display: none; }` but bootstrap.min.css set `[hidden] { display: none !important; }` so we also need the `!important` here to be able to override the default hidden behavior on the sphinx rendered scikit-learn.org. See: https://github.com/scikit-learn/scikit-learn/issues/21755 */display: inline-block !important;position: relative;}#sk-container-id-59 div.sk-text-repr-fallback {display: none;}</style><div id=\"sk-container-id-59\" class=\"sk-top-container\"><div class=\"sk-text-repr-fallback\"><pre>VotingClassifier(estimators=[(&#x27;pipe1&#x27;,\n",
              "                              Pipeline(steps=[(&#x27;scaler&#x27;, StandardScaler()),\n",
              "                                              (&#x27;gbc&#x27;,\n",
              "                                               GradientBoostingClassifier(validation_fraction=0.2))])),\n",
              "                             (&#x27;pipe2&#x27;,\n",
              "                              Pipeline(steps=[(&#x27;scaler&#x27;, StandardScaler()),\n",
              "                                              (&#x27;lgc&#x27;, LogisticRegression())])),\n",
              "                             [&#x27;xgb&#x27;,\n",
              "                              XGBClassifier(base_score=None, booster=None,\n",
              "                                            callbacks=None,\n",
              "                                            colsample_bylevel=None,\n",
              "                                            colsample_bynode=None,\n",
              "                                            colsample_...\n",
              "                                            importance_type=None,\n",
              "                                            interaction_constraints=None,\n",
              "                                            learning_rate=None, max_bin=None,\n",
              "                                            max_cat_threshold=None,\n",
              "                                            max_cat_to_onehot=None,\n",
              "                                            max_delta_step=None, max_depth=None,\n",
              "                                            max_leaves=None,\n",
              "                                            min_child_weight=None, missing=nan,\n",
              "                                            monotone_constraints=None,\n",
              "                                            multi_strategy=None,\n",
              "                                            n_estimators=10000, n_jobs=None,\n",
              "                                            num_parallel_tree=None,\n",
              "                                            random_state=None, ...)]],\n",
              "                 voting=&#x27;soft&#x27;)</pre><b>In a Jupyter environment, please rerun this cell to show the HTML representation or trust the notebook. <br />On GitHub, the HTML representation is unable to render, please try loading this page with nbviewer.org.</b></div><div class=\"sk-container\" hidden><div class=\"sk-item sk-dashed-wrapped\"><div class=\"sk-label-container\"><div class=\"sk-label sk-toggleable\"><input class=\"sk-toggleable__control sk-hidden--visually\" id=\"sk-estimator-id-119\" type=\"checkbox\" ><label for=\"sk-estimator-id-119\" class=\"sk-toggleable__label sk-toggleable__label-arrow\">VotingClassifier</label><div class=\"sk-toggleable__content\"><pre>VotingClassifier(estimators=[(&#x27;pipe1&#x27;,\n",
              "                              Pipeline(steps=[(&#x27;scaler&#x27;, StandardScaler()),\n",
              "                                              (&#x27;gbc&#x27;,\n",
              "                                               GradientBoostingClassifier(validation_fraction=0.2))])),\n",
              "                             (&#x27;pipe2&#x27;,\n",
              "                              Pipeline(steps=[(&#x27;scaler&#x27;, StandardScaler()),\n",
              "                                              (&#x27;lgc&#x27;, LogisticRegression())])),\n",
              "                             [&#x27;xgb&#x27;,\n",
              "                              XGBClassifier(base_score=None, booster=None,\n",
              "                                            callbacks=None,\n",
              "                                            colsample_bylevel=None,\n",
              "                                            colsample_bynode=None,\n",
              "                                            colsample_...\n",
              "                                            importance_type=None,\n",
              "                                            interaction_constraints=None,\n",
              "                                            learning_rate=None, max_bin=None,\n",
              "                                            max_cat_threshold=None,\n",
              "                                            max_cat_to_onehot=None,\n",
              "                                            max_delta_step=None, max_depth=None,\n",
              "                                            max_leaves=None,\n",
              "                                            min_child_weight=None, missing=nan,\n",
              "                                            monotone_constraints=None,\n",
              "                                            multi_strategy=None,\n",
              "                                            n_estimators=10000, n_jobs=None,\n",
              "                                            num_parallel_tree=None,\n",
              "                                            random_state=None, ...)]],\n",
              "                 voting=&#x27;soft&#x27;)</pre></div></div></div><div class=\"sk-parallel\"><div class=\"sk-parallel-item\"><div class=\"sk-item\"><div class=\"sk-label-container\"><div class=\"sk-label sk-toggleable\"><label>pipe1</label></div></div><div class=\"sk-serial\"><div class=\"sk-item\"><div class=\"sk-serial\"><div class=\"sk-item\"><div class=\"sk-estimator sk-toggleable\"><input class=\"sk-toggleable__control sk-hidden--visually\" id=\"sk-estimator-id-120\" type=\"checkbox\" ><label for=\"sk-estimator-id-120\" class=\"sk-toggleable__label sk-toggleable__label-arrow\">StandardScaler</label><div class=\"sk-toggleable__content\"><pre>StandardScaler()</pre></div></div></div><div class=\"sk-item\"><div class=\"sk-estimator sk-toggleable\"><input class=\"sk-toggleable__control sk-hidden--visually\" id=\"sk-estimator-id-121\" type=\"checkbox\" ><label for=\"sk-estimator-id-121\" class=\"sk-toggleable__label sk-toggleable__label-arrow\">GradientBoostingClassifier</label><div class=\"sk-toggleable__content\"><pre>GradientBoostingClassifier(validation_fraction=0.2)</pre></div></div></div></div></div></div></div></div><div class=\"sk-parallel-item\"><div class=\"sk-item\"><div class=\"sk-label-container\"><div class=\"sk-label sk-toggleable\"><label>pipe2</label></div></div><div class=\"sk-serial\"><div class=\"sk-item\"><div class=\"sk-serial\"><div class=\"sk-item\"><div class=\"sk-estimator sk-toggleable\"><input class=\"sk-toggleable__control sk-hidden--visually\" id=\"sk-estimator-id-122\" type=\"checkbox\" ><label for=\"sk-estimator-id-122\" class=\"sk-toggleable__label sk-toggleable__label-arrow\">StandardScaler</label><div class=\"sk-toggleable__content\"><pre>StandardScaler()</pre></div></div></div><div class=\"sk-item\"><div class=\"sk-estimator sk-toggleable\"><input class=\"sk-toggleable__control sk-hidden--visually\" id=\"sk-estimator-id-123\" type=\"checkbox\" ><label for=\"sk-estimator-id-123\" class=\"sk-toggleable__label sk-toggleable__label-arrow\">LogisticRegression</label><div class=\"sk-toggleable__content\"><pre>LogisticRegression()</pre></div></div></div></div></div></div></div></div><div class=\"sk-parallel-item\"><div class=\"sk-item\"><div class=\"sk-label-container\"><div class=\"sk-label sk-toggleable\"><label>xgb</label></div></div><div class=\"sk-serial\"><div class=\"sk-item\"><div class=\"sk-estimator sk-toggleable\"><input class=\"sk-toggleable__control sk-hidden--visually\" id=\"sk-estimator-id-124\" type=\"checkbox\" ><label for=\"sk-estimator-id-124\" class=\"sk-toggleable__label sk-toggleable__label-arrow\">XGBClassifier</label><div class=\"sk-toggleable__content\"><pre>XGBClassifier(base_score=None, booster=None, callbacks=None,\n",
              "              colsample_bylevel=None, colsample_bynode=None,\n",
              "              colsample_bytree=None, device=None, early_stopping_rounds=10,\n",
              "              enable_categorical=False, eval_metric=None, feature_types=None,\n",
              "              gamma=None, grow_policy=None, importance_type=None,\n",
              "              interaction_constraints=None, learning_rate=None, max_bin=None,\n",
              "              max_cat_threshold=None, max_cat_to_onehot=None,\n",
              "              max_delta_step=None, max_depth=None, max_leaves=None,\n",
              "              min_child_weight=None, missing=nan, monotone_constraints=None,\n",
              "              multi_strategy=None, n_estimators=10000, n_jobs=None,\n",
              "              num_parallel_tree=None, random_state=None, ...)</pre></div></div></div></div></div></div></div></div></div></div>"
            ]
          },
          "metadata": {},
          "execution_count": 199
        }
      ]
    },
    {
      "cell_type": "code",
      "source": [
        "type(X_train) == pd.core.frame.DataFrame"
      ],
      "metadata": {
        "colab": {
          "base_uri": "https://localhost:8080/"
        },
        "id": "irmkT88xRgE6",
        "outputId": "9578e56c-bf82-47f6-b333-f3a8b0a08879"
      },
      "execution_count": 200,
      "outputs": [
        {
          "output_type": "execute_result",
          "data": {
            "text/plain": [
              "True"
            ]
          },
          "metadata": {},
          "execution_count": 200
        }
      ]
    },
    {
      "cell_type": "code",
      "source": [
        "vwrap = VotingClassifierWrapper(\n",
        "    estimators=[\n",
        "        ('pipe1', p1),\n",
        "        ('pipe2', p2),\n",
        "        ('xgb', XGBClassifier(n_estimators=500, early_stopping_rounds=10))\n",
        "        ],\n",
        "    voting='soft')\n",
        "vwrap"
      ],
      "metadata": {
        "colab": {
          "base_uri": "https://localhost:8080/",
          "height": 143
        },
        "id": "6rzAHNjKF5xD",
        "outputId": "3ee64ac2-7fe4-411a-ba66-802bb9b64c06"
      },
      "execution_count": 201,
      "outputs": [
        {
          "output_type": "execute_result",
          "data": {
            "text/plain": [
              "VotingClassifierWrapper(estimators=[('pipe1',\n",
              "                                     Pipeline(steps=[('scaler',\n",
              "                                                      StandardScaler()),\n",
              "                                                     ('gbc',\n",
              "                                                      GradientBoostingClassifier(validation_fraction=0.2))])),\n",
              "                                    ('pipe2',\n",
              "                                     Pipeline(steps=[('scaler',\n",
              "                                                      StandardScaler()),\n",
              "                                                     ('lgc',\n",
              "                                                      LogisticRegression())])),\n",
              "                                    ('xgb',\n",
              "                                     XGBClassifier(base_score=None,\n",
              "                                                   booster=None, callbacks=None,\n",
              "                                                   colsample_bylevel=None,\n",
              "                                                   colsample_bynode=None,\n",
              "                                                   col...\n",
              "                                                   importance_type=None,\n",
              "                                                   interaction_constraints=None,\n",
              "                                                   learning_rate=None,\n",
              "                                                   max_bin=None,\n",
              "                                                   max_cat_threshold=None,\n",
              "                                                   max_cat_to_onehot=None,\n",
              "                                                   max_delta_step=None,\n",
              "                                                   max_depth=None,\n",
              "                                                   max_leaves=None,\n",
              "                                                   min_child_weight=None,\n",
              "                                                   missing=nan,\n",
              "                                                   monotone_constraints=None,\n",
              "                                                   multi_strategy=None,\n",
              "                                                   n_estimators=500,\n",
              "                                                   n_jobs=None,\n",
              "                                                   num_parallel_tree=None,\n",
              "                                                   random_state=None, ...))],\n",
              "                        voting='soft')"
            ],
            "text/html": [
              "<style>#sk-container-id-60 {color: black;background-color: white;}#sk-container-id-60 pre{padding: 0;}#sk-container-id-60 div.sk-toggleable {background-color: white;}#sk-container-id-60 label.sk-toggleable__label {cursor: pointer;display: block;width: 100%;margin-bottom: 0;padding: 0.3em;box-sizing: border-box;text-align: center;}#sk-container-id-60 label.sk-toggleable__label-arrow:before {content: \"▸\";float: left;margin-right: 0.25em;color: #696969;}#sk-container-id-60 label.sk-toggleable__label-arrow:hover:before {color: black;}#sk-container-id-60 div.sk-estimator:hover label.sk-toggleable__label-arrow:before {color: black;}#sk-container-id-60 div.sk-toggleable__content {max-height: 0;max-width: 0;overflow: hidden;text-align: left;background-color: #f0f8ff;}#sk-container-id-60 div.sk-toggleable__content pre {margin: 0.2em;color: black;border-radius: 0.25em;background-color: #f0f8ff;}#sk-container-id-60 input.sk-toggleable__control:checked~div.sk-toggleable__content {max-height: 200px;max-width: 100%;overflow: auto;}#sk-container-id-60 input.sk-toggleable__control:checked~label.sk-toggleable__label-arrow:before {content: \"▾\";}#sk-container-id-60 div.sk-estimator input.sk-toggleable__control:checked~label.sk-toggleable__label {background-color: #d4ebff;}#sk-container-id-60 div.sk-label input.sk-toggleable__control:checked~label.sk-toggleable__label {background-color: #d4ebff;}#sk-container-id-60 input.sk-hidden--visually {border: 0;clip: rect(1px 1px 1px 1px);clip: rect(1px, 1px, 1px, 1px);height: 1px;margin: -1px;overflow: hidden;padding: 0;position: absolute;width: 1px;}#sk-container-id-60 div.sk-estimator {font-family: monospace;background-color: #f0f8ff;border: 1px dotted black;border-radius: 0.25em;box-sizing: border-box;margin-bottom: 0.5em;}#sk-container-id-60 div.sk-estimator:hover {background-color: #d4ebff;}#sk-container-id-60 div.sk-parallel-item::after {content: \"\";width: 100%;border-bottom: 1px solid gray;flex-grow: 1;}#sk-container-id-60 div.sk-label:hover label.sk-toggleable__label {background-color: #d4ebff;}#sk-container-id-60 div.sk-serial::before {content: \"\";position: absolute;border-left: 1px solid gray;box-sizing: border-box;top: 0;bottom: 0;left: 50%;z-index: 0;}#sk-container-id-60 div.sk-serial {display: flex;flex-direction: column;align-items: center;background-color: white;padding-right: 0.2em;padding-left: 0.2em;position: relative;}#sk-container-id-60 div.sk-item {position: relative;z-index: 1;}#sk-container-id-60 div.sk-parallel {display: flex;align-items: stretch;justify-content: center;background-color: white;position: relative;}#sk-container-id-60 div.sk-item::before, #sk-container-id-60 div.sk-parallel-item::before {content: \"\";position: absolute;border-left: 1px solid gray;box-sizing: border-box;top: 0;bottom: 0;left: 50%;z-index: -1;}#sk-container-id-60 div.sk-parallel-item {display: flex;flex-direction: column;z-index: 1;position: relative;background-color: white;}#sk-container-id-60 div.sk-parallel-item:first-child::after {align-self: flex-end;width: 50%;}#sk-container-id-60 div.sk-parallel-item:last-child::after {align-self: flex-start;width: 50%;}#sk-container-id-60 div.sk-parallel-item:only-child::after {width: 0;}#sk-container-id-60 div.sk-dashed-wrapped {border: 1px dashed gray;margin: 0 0.4em 0.5em 0.4em;box-sizing: border-box;padding-bottom: 0.4em;background-color: white;}#sk-container-id-60 div.sk-label label {font-family: monospace;font-weight: bold;display: inline-block;line-height: 1.2em;}#sk-container-id-60 div.sk-label-container {text-align: center;}#sk-container-id-60 div.sk-container {/* jupyter's `normalize.less` sets `[hidden] { display: none; }` but bootstrap.min.css set `[hidden] { display: none !important; }` so we also need the `!important` here to be able to override the default hidden behavior on the sphinx rendered scikit-learn.org. See: https://github.com/scikit-learn/scikit-learn/issues/21755 */display: inline-block !important;position: relative;}#sk-container-id-60 div.sk-text-repr-fallback {display: none;}</style><div id=\"sk-container-id-60\" class=\"sk-top-container\"><div class=\"sk-text-repr-fallback\"><pre>VotingClassifierWrapper(estimators=[(&#x27;pipe1&#x27;,\n",
              "                                     Pipeline(steps=[(&#x27;scaler&#x27;,\n",
              "                                                      StandardScaler()),\n",
              "                                                     (&#x27;gbc&#x27;,\n",
              "                                                      GradientBoostingClassifier(validation_fraction=0.2))])),\n",
              "                                    (&#x27;pipe2&#x27;,\n",
              "                                     Pipeline(steps=[(&#x27;scaler&#x27;,\n",
              "                                                      StandardScaler()),\n",
              "                                                     (&#x27;lgc&#x27;,\n",
              "                                                      LogisticRegression())])),\n",
              "                                    (&#x27;xgb&#x27;,\n",
              "                                     XGBClassifier(base_score=None,\n",
              "                                                   booster=None, callbacks=None,\n",
              "                                                   colsample_bylevel=None,\n",
              "                                                   colsample_bynode=None,\n",
              "                                                   col...\n",
              "                                                   importance_type=None,\n",
              "                                                   interaction_constraints=None,\n",
              "                                                   learning_rate=None,\n",
              "                                                   max_bin=None,\n",
              "                                                   max_cat_threshold=None,\n",
              "                                                   max_cat_to_onehot=None,\n",
              "                                                   max_delta_step=None,\n",
              "                                                   max_depth=None,\n",
              "                                                   max_leaves=None,\n",
              "                                                   min_child_weight=None,\n",
              "                                                   missing=nan,\n",
              "                                                   monotone_constraints=None,\n",
              "                                                   multi_strategy=None,\n",
              "                                                   n_estimators=500,\n",
              "                                                   n_jobs=None,\n",
              "                                                   num_parallel_tree=None,\n",
              "                                                   random_state=None, ...))],\n",
              "                        voting=&#x27;soft&#x27;)</pre><b>In a Jupyter environment, please rerun this cell to show the HTML representation or trust the notebook. <br />On GitHub, the HTML representation is unable to render, please try loading this page with nbviewer.org.</b></div><div class=\"sk-container\" hidden><div class=\"sk-item sk-dashed-wrapped\"><div class=\"sk-label-container\"><div class=\"sk-label sk-toggleable\"><input class=\"sk-toggleable__control sk-hidden--visually\" id=\"sk-estimator-id-125\" type=\"checkbox\" ><label for=\"sk-estimator-id-125\" class=\"sk-toggleable__label sk-toggleable__label-arrow\">VotingClassifierWrapper</label><div class=\"sk-toggleable__content\"><pre>VotingClassifierWrapper(estimators=[(&#x27;pipe1&#x27;,\n",
              "                                     Pipeline(steps=[(&#x27;scaler&#x27;,\n",
              "                                                      StandardScaler()),\n",
              "                                                     (&#x27;gbc&#x27;,\n",
              "                                                      GradientBoostingClassifier(validation_fraction=0.2))])),\n",
              "                                    (&#x27;pipe2&#x27;,\n",
              "                                     Pipeline(steps=[(&#x27;scaler&#x27;,\n",
              "                                                      StandardScaler()),\n",
              "                                                     (&#x27;lgc&#x27;,\n",
              "                                                      LogisticRegression())])),\n",
              "                                    (&#x27;xgb&#x27;,\n",
              "                                     XGBClassifier(base_score=None,\n",
              "                                                   booster=None, callbacks=None,\n",
              "                                                   colsample_bylevel=None,\n",
              "                                                   colsample_bynode=None,\n",
              "                                                   col...\n",
              "                                                   importance_type=None,\n",
              "                                                   interaction_constraints=None,\n",
              "                                                   learning_rate=None,\n",
              "                                                   max_bin=None,\n",
              "                                                   max_cat_threshold=None,\n",
              "                                                   max_cat_to_onehot=None,\n",
              "                                                   max_delta_step=None,\n",
              "                                                   max_depth=None,\n",
              "                                                   max_leaves=None,\n",
              "                                                   min_child_weight=None,\n",
              "                                                   missing=nan,\n",
              "                                                   monotone_constraints=None,\n",
              "                                                   multi_strategy=None,\n",
              "                                                   n_estimators=500,\n",
              "                                                   n_jobs=None,\n",
              "                                                   num_parallel_tree=None,\n",
              "                                                   random_state=None, ...))],\n",
              "                        voting=&#x27;soft&#x27;)</pre></div></div></div><div class=\"sk-parallel\"><div class=\"sk-parallel-item\"><div class=\"sk-item\"><div class=\"sk-label-container\"><div class=\"sk-label sk-toggleable\"><label>pipe1</label></div></div><div class=\"sk-serial\"><div class=\"sk-item\"><div class=\"sk-serial\"><div class=\"sk-item\"><div class=\"sk-estimator sk-toggleable\"><input class=\"sk-toggleable__control sk-hidden--visually\" id=\"sk-estimator-id-126\" type=\"checkbox\" ><label for=\"sk-estimator-id-126\" class=\"sk-toggleable__label sk-toggleable__label-arrow\">StandardScaler</label><div class=\"sk-toggleable__content\"><pre>StandardScaler()</pre></div></div></div><div class=\"sk-item\"><div class=\"sk-estimator sk-toggleable\"><input class=\"sk-toggleable__control sk-hidden--visually\" id=\"sk-estimator-id-127\" type=\"checkbox\" ><label for=\"sk-estimator-id-127\" class=\"sk-toggleable__label sk-toggleable__label-arrow\">GradientBoostingClassifier</label><div class=\"sk-toggleable__content\"><pre>GradientBoostingClassifier(validation_fraction=0.2)</pre></div></div></div></div></div></div></div></div><div class=\"sk-parallel-item\"><div class=\"sk-item\"><div class=\"sk-label-container\"><div class=\"sk-label sk-toggleable\"><label>pipe2</label></div></div><div class=\"sk-serial\"><div class=\"sk-item\"><div class=\"sk-serial\"><div class=\"sk-item\"><div class=\"sk-estimator sk-toggleable\"><input class=\"sk-toggleable__control sk-hidden--visually\" id=\"sk-estimator-id-128\" type=\"checkbox\" ><label for=\"sk-estimator-id-128\" class=\"sk-toggleable__label sk-toggleable__label-arrow\">StandardScaler</label><div class=\"sk-toggleable__content\"><pre>StandardScaler()</pre></div></div></div><div class=\"sk-item\"><div class=\"sk-estimator sk-toggleable\"><input class=\"sk-toggleable__control sk-hidden--visually\" id=\"sk-estimator-id-129\" type=\"checkbox\" ><label for=\"sk-estimator-id-129\" class=\"sk-toggleable__label sk-toggleable__label-arrow\">LogisticRegression</label><div class=\"sk-toggleable__content\"><pre>LogisticRegression()</pre></div></div></div></div></div></div></div></div><div class=\"sk-parallel-item\"><div class=\"sk-item\"><div class=\"sk-label-container\"><div class=\"sk-label sk-toggleable\"><label>xgb</label></div></div><div class=\"sk-serial\"><div class=\"sk-item\"><div class=\"sk-estimator sk-toggleable\"><input class=\"sk-toggleable__control sk-hidden--visually\" id=\"sk-estimator-id-130\" type=\"checkbox\" ><label for=\"sk-estimator-id-130\" class=\"sk-toggleable__label sk-toggleable__label-arrow\">XGBClassifier</label><div class=\"sk-toggleable__content\"><pre>XGBClassifier(base_score=None, booster=None, callbacks=None,\n",
              "              colsample_bylevel=None, colsample_bynode=None,\n",
              "              colsample_bytree=None, device=None, early_stopping_rounds=10,\n",
              "              enable_categorical=False, eval_metric=None, feature_types=None,\n",
              "              gamma=None, grow_policy=None, importance_type=None,\n",
              "              interaction_constraints=None, learning_rate=None, max_bin=None,\n",
              "              max_cat_threshold=None, max_cat_to_onehot=None,\n",
              "              max_delta_step=None, max_depth=None, max_leaves=None,\n",
              "              min_child_weight=None, missing=nan, monotone_constraints=None,\n",
              "              multi_strategy=None, n_estimators=500, n_jobs=None,\n",
              "              num_parallel_tree=None, random_state=None, ...)</pre></div></div></div></div></div></div></div></div></div></div>"
            ]
          },
          "metadata": {},
          "execution_count": 201
        }
      ]
    },
    {
      "cell_type": "code",
      "source": [
        "vwrap.fit(X_train, y_train, eval_set=[(X_train, y_train), (X_test, y_test)])"
      ],
      "metadata": {
        "colab": {
          "base_uri": "https://localhost:8080/",
          "height": 594
        },
        "id": "jmR3IeF4MqYt",
        "outputId": "4e754cb8-c810-48ac-b2ac-98c45b152bb3"
      },
      "execution_count": 202,
      "outputs": [
        {
          "output_type": "stream",
          "name": "stdout",
          "text": [
            "[0]\tvalidation_0-logloss:0.47369\tvalidation_1-logloss:0.48629\n",
            "[1]\tvalidation_0-logloss:0.35799\tvalidation_1-logloss:0.38499\n",
            "[2]\tvalidation_0-logloss:0.27593\tvalidation_1-logloss:0.32306\n",
            "[3]\tvalidation_0-logloss:0.21821\tvalidation_1-logloss:0.26930\n",
            "[4]\tvalidation_0-logloss:0.17378\tvalidation_1-logloss:0.22892\n",
            "[5]\tvalidation_0-logloss:0.14589\tvalidation_1-logloss:0.20783\n",
            "[6]\tvalidation_0-logloss:0.12209\tvalidation_1-logloss:0.19011\n",
            "[7]\tvalidation_0-logloss:0.10632\tvalidation_1-logloss:0.17637\n",
            "[8]\tvalidation_0-logloss:0.09271\tvalidation_1-logloss:0.16575\n",
            "[9]\tvalidation_0-logloss:0.08098\tvalidation_1-logloss:0.15818\n",
            "[10]\tvalidation_0-logloss:0.07135\tvalidation_1-logloss:0.15290\n",
            "[11]\tvalidation_0-logloss:0.06396\tvalidation_1-logloss:0.14793\n",
            "[12]\tvalidation_0-logloss:0.05739\tvalidation_1-logloss:0.13669\n",
            "[13]\tvalidation_0-logloss:0.05237\tvalidation_1-logloss:0.13677\n",
            "[14]\tvalidation_0-logloss:0.04794\tvalidation_1-logloss:0.12918\n",
            "[15]\tvalidation_0-logloss:0.04450\tvalidation_1-logloss:0.12895\n",
            "[16]\tvalidation_0-logloss:0.04139\tvalidation_1-logloss:0.12327\n",
            "[17]\tvalidation_0-logloss:0.03919\tvalidation_1-logloss:0.12432\n",
            "[18]\tvalidation_0-logloss:0.03783\tvalidation_1-logloss:0.12381\n",
            "[19]\tvalidation_0-logloss:0.03594\tvalidation_1-logloss:0.12399\n",
            "[20]\tvalidation_0-logloss:0.03495\tvalidation_1-logloss:0.12383\n",
            "[21]\tvalidation_0-logloss:0.03393\tvalidation_1-logloss:0.12511\n",
            "[22]\tvalidation_0-logloss:0.03320\tvalidation_1-logloss:0.12522\n",
            "[23]\tvalidation_0-logloss:0.03243\tvalidation_1-logloss:0.12641\n",
            "[24]\tvalidation_0-logloss:0.03176\tvalidation_1-logloss:0.12446\n",
            "[25]\tvalidation_0-logloss:0.03119\tvalidation_1-logloss:0.12572\n"
          ]
        },
        {
          "output_type": "execute_result",
          "data": {
            "text/plain": [
              "VotingClassifierWrapper(estimators=[('pipe1',\n",
              "                                     Pipeline(steps=[('scaler',\n",
              "                                                      StandardScaler()),\n",
              "                                                     ('gbc',\n",
              "                                                      GradientBoostingClassifier(validation_fraction=0.2))])),\n",
              "                                    ('pipe2',\n",
              "                                     Pipeline(steps=[('scaler',\n",
              "                                                      StandardScaler()),\n",
              "                                                     ('lgc',\n",
              "                                                      LogisticRegression())])),\n",
              "                                    ('xgb',\n",
              "                                     XGBClassifier(base_score=None,\n",
              "                                                   booster=None, callbacks=None,\n",
              "                                                   colsample_bylevel=None,\n",
              "                                                   colsample_bynode=None,\n",
              "                                                   col...\n",
              "                                                   importance_type=None,\n",
              "                                                   interaction_constraints=None,\n",
              "                                                   learning_rate=None,\n",
              "                                                   max_bin=None,\n",
              "                                                   max_cat_threshold=None,\n",
              "                                                   max_cat_to_onehot=None,\n",
              "                                                   max_delta_step=None,\n",
              "                                                   max_depth=None,\n",
              "                                                   max_leaves=None,\n",
              "                                                   min_child_weight=None,\n",
              "                                                   missing=nan,\n",
              "                                                   monotone_constraints=None,\n",
              "                                                   multi_strategy=None,\n",
              "                                                   n_estimators=500,\n",
              "                                                   n_jobs=None,\n",
              "                                                   num_parallel_tree=None,\n",
              "                                                   random_state=None, ...))],\n",
              "                        voting='soft')"
            ],
            "text/html": [
              "<style>#sk-container-id-61 {color: black;background-color: white;}#sk-container-id-61 pre{padding: 0;}#sk-container-id-61 div.sk-toggleable {background-color: white;}#sk-container-id-61 label.sk-toggleable__label {cursor: pointer;display: block;width: 100%;margin-bottom: 0;padding: 0.3em;box-sizing: border-box;text-align: center;}#sk-container-id-61 label.sk-toggleable__label-arrow:before {content: \"▸\";float: left;margin-right: 0.25em;color: #696969;}#sk-container-id-61 label.sk-toggleable__label-arrow:hover:before {color: black;}#sk-container-id-61 div.sk-estimator:hover label.sk-toggleable__label-arrow:before {color: black;}#sk-container-id-61 div.sk-toggleable__content {max-height: 0;max-width: 0;overflow: hidden;text-align: left;background-color: #f0f8ff;}#sk-container-id-61 div.sk-toggleable__content pre {margin: 0.2em;color: black;border-radius: 0.25em;background-color: #f0f8ff;}#sk-container-id-61 input.sk-toggleable__control:checked~div.sk-toggleable__content {max-height: 200px;max-width: 100%;overflow: auto;}#sk-container-id-61 input.sk-toggleable__control:checked~label.sk-toggleable__label-arrow:before {content: \"▾\";}#sk-container-id-61 div.sk-estimator input.sk-toggleable__control:checked~label.sk-toggleable__label {background-color: #d4ebff;}#sk-container-id-61 div.sk-label input.sk-toggleable__control:checked~label.sk-toggleable__label {background-color: #d4ebff;}#sk-container-id-61 input.sk-hidden--visually {border: 0;clip: rect(1px 1px 1px 1px);clip: rect(1px, 1px, 1px, 1px);height: 1px;margin: -1px;overflow: hidden;padding: 0;position: absolute;width: 1px;}#sk-container-id-61 div.sk-estimator {font-family: monospace;background-color: #f0f8ff;border: 1px dotted black;border-radius: 0.25em;box-sizing: border-box;margin-bottom: 0.5em;}#sk-container-id-61 div.sk-estimator:hover {background-color: #d4ebff;}#sk-container-id-61 div.sk-parallel-item::after {content: \"\";width: 100%;border-bottom: 1px solid gray;flex-grow: 1;}#sk-container-id-61 div.sk-label:hover label.sk-toggleable__label {background-color: #d4ebff;}#sk-container-id-61 div.sk-serial::before {content: \"\";position: absolute;border-left: 1px solid gray;box-sizing: border-box;top: 0;bottom: 0;left: 50%;z-index: 0;}#sk-container-id-61 div.sk-serial {display: flex;flex-direction: column;align-items: center;background-color: white;padding-right: 0.2em;padding-left: 0.2em;position: relative;}#sk-container-id-61 div.sk-item {position: relative;z-index: 1;}#sk-container-id-61 div.sk-parallel {display: flex;align-items: stretch;justify-content: center;background-color: white;position: relative;}#sk-container-id-61 div.sk-item::before, #sk-container-id-61 div.sk-parallel-item::before {content: \"\";position: absolute;border-left: 1px solid gray;box-sizing: border-box;top: 0;bottom: 0;left: 50%;z-index: -1;}#sk-container-id-61 div.sk-parallel-item {display: flex;flex-direction: column;z-index: 1;position: relative;background-color: white;}#sk-container-id-61 div.sk-parallel-item:first-child::after {align-self: flex-end;width: 50%;}#sk-container-id-61 div.sk-parallel-item:last-child::after {align-self: flex-start;width: 50%;}#sk-container-id-61 div.sk-parallel-item:only-child::after {width: 0;}#sk-container-id-61 div.sk-dashed-wrapped {border: 1px dashed gray;margin: 0 0.4em 0.5em 0.4em;box-sizing: border-box;padding-bottom: 0.4em;background-color: white;}#sk-container-id-61 div.sk-label label {font-family: monospace;font-weight: bold;display: inline-block;line-height: 1.2em;}#sk-container-id-61 div.sk-label-container {text-align: center;}#sk-container-id-61 div.sk-container {/* jupyter's `normalize.less` sets `[hidden] { display: none; }` but bootstrap.min.css set `[hidden] { display: none !important; }` so we also need the `!important` here to be able to override the default hidden behavior on the sphinx rendered scikit-learn.org. See: https://github.com/scikit-learn/scikit-learn/issues/21755 */display: inline-block !important;position: relative;}#sk-container-id-61 div.sk-text-repr-fallback {display: none;}</style><div id=\"sk-container-id-61\" class=\"sk-top-container\"><div class=\"sk-text-repr-fallback\"><pre>VotingClassifierWrapper(estimators=[(&#x27;pipe1&#x27;,\n",
              "                                     Pipeline(steps=[(&#x27;scaler&#x27;,\n",
              "                                                      StandardScaler()),\n",
              "                                                     (&#x27;gbc&#x27;,\n",
              "                                                      GradientBoostingClassifier(validation_fraction=0.2))])),\n",
              "                                    (&#x27;pipe2&#x27;,\n",
              "                                     Pipeline(steps=[(&#x27;scaler&#x27;,\n",
              "                                                      StandardScaler()),\n",
              "                                                     (&#x27;lgc&#x27;,\n",
              "                                                      LogisticRegression())])),\n",
              "                                    (&#x27;xgb&#x27;,\n",
              "                                     XGBClassifier(base_score=None,\n",
              "                                                   booster=None, callbacks=None,\n",
              "                                                   colsample_bylevel=None,\n",
              "                                                   colsample_bynode=None,\n",
              "                                                   col...\n",
              "                                                   importance_type=None,\n",
              "                                                   interaction_constraints=None,\n",
              "                                                   learning_rate=None,\n",
              "                                                   max_bin=None,\n",
              "                                                   max_cat_threshold=None,\n",
              "                                                   max_cat_to_onehot=None,\n",
              "                                                   max_delta_step=None,\n",
              "                                                   max_depth=None,\n",
              "                                                   max_leaves=None,\n",
              "                                                   min_child_weight=None,\n",
              "                                                   missing=nan,\n",
              "                                                   monotone_constraints=None,\n",
              "                                                   multi_strategy=None,\n",
              "                                                   n_estimators=500,\n",
              "                                                   n_jobs=None,\n",
              "                                                   num_parallel_tree=None,\n",
              "                                                   random_state=None, ...))],\n",
              "                        voting=&#x27;soft&#x27;)</pre><b>In a Jupyter environment, please rerun this cell to show the HTML representation or trust the notebook. <br />On GitHub, the HTML representation is unable to render, please try loading this page with nbviewer.org.</b></div><div class=\"sk-container\" hidden><div class=\"sk-item sk-dashed-wrapped\"><div class=\"sk-label-container\"><div class=\"sk-label sk-toggleable\"><input class=\"sk-toggleable__control sk-hidden--visually\" id=\"sk-estimator-id-131\" type=\"checkbox\" ><label for=\"sk-estimator-id-131\" class=\"sk-toggleable__label sk-toggleable__label-arrow\">VotingClassifierWrapper</label><div class=\"sk-toggleable__content\"><pre>VotingClassifierWrapper(estimators=[(&#x27;pipe1&#x27;,\n",
              "                                     Pipeline(steps=[(&#x27;scaler&#x27;,\n",
              "                                                      StandardScaler()),\n",
              "                                                     (&#x27;gbc&#x27;,\n",
              "                                                      GradientBoostingClassifier(validation_fraction=0.2))])),\n",
              "                                    (&#x27;pipe2&#x27;,\n",
              "                                     Pipeline(steps=[(&#x27;scaler&#x27;,\n",
              "                                                      StandardScaler()),\n",
              "                                                     (&#x27;lgc&#x27;,\n",
              "                                                      LogisticRegression())])),\n",
              "                                    (&#x27;xgb&#x27;,\n",
              "                                     XGBClassifier(base_score=None,\n",
              "                                                   booster=None, callbacks=None,\n",
              "                                                   colsample_bylevel=None,\n",
              "                                                   colsample_bynode=None,\n",
              "                                                   col...\n",
              "                                                   importance_type=None,\n",
              "                                                   interaction_constraints=None,\n",
              "                                                   learning_rate=None,\n",
              "                                                   max_bin=None,\n",
              "                                                   max_cat_threshold=None,\n",
              "                                                   max_cat_to_onehot=None,\n",
              "                                                   max_delta_step=None,\n",
              "                                                   max_depth=None,\n",
              "                                                   max_leaves=None,\n",
              "                                                   min_child_weight=None,\n",
              "                                                   missing=nan,\n",
              "                                                   monotone_constraints=None,\n",
              "                                                   multi_strategy=None,\n",
              "                                                   n_estimators=500,\n",
              "                                                   n_jobs=None,\n",
              "                                                   num_parallel_tree=None,\n",
              "                                                   random_state=None, ...))],\n",
              "                        voting=&#x27;soft&#x27;)</pre></div></div></div><div class=\"sk-parallel\"><div class=\"sk-parallel-item\"><div class=\"sk-item\"><div class=\"sk-label-container\"><div class=\"sk-label sk-toggleable\"><label>pipe1</label></div></div><div class=\"sk-serial\"><div class=\"sk-item\"><div class=\"sk-serial\"><div class=\"sk-item\"><div class=\"sk-estimator sk-toggleable\"><input class=\"sk-toggleable__control sk-hidden--visually\" id=\"sk-estimator-id-132\" type=\"checkbox\" ><label for=\"sk-estimator-id-132\" class=\"sk-toggleable__label sk-toggleable__label-arrow\">StandardScaler</label><div class=\"sk-toggleable__content\"><pre>StandardScaler()</pre></div></div></div><div class=\"sk-item\"><div class=\"sk-estimator sk-toggleable\"><input class=\"sk-toggleable__control sk-hidden--visually\" id=\"sk-estimator-id-133\" type=\"checkbox\" ><label for=\"sk-estimator-id-133\" class=\"sk-toggleable__label sk-toggleable__label-arrow\">GradientBoostingClassifier</label><div class=\"sk-toggleable__content\"><pre>GradientBoostingClassifier(validation_fraction=0.2)</pre></div></div></div></div></div></div></div></div><div class=\"sk-parallel-item\"><div class=\"sk-item\"><div class=\"sk-label-container\"><div class=\"sk-label sk-toggleable\"><label>pipe2</label></div></div><div class=\"sk-serial\"><div class=\"sk-item\"><div class=\"sk-serial\"><div class=\"sk-item\"><div class=\"sk-estimator sk-toggleable\"><input class=\"sk-toggleable__control sk-hidden--visually\" id=\"sk-estimator-id-134\" type=\"checkbox\" ><label for=\"sk-estimator-id-134\" class=\"sk-toggleable__label sk-toggleable__label-arrow\">StandardScaler</label><div class=\"sk-toggleable__content\"><pre>StandardScaler()</pre></div></div></div><div class=\"sk-item\"><div class=\"sk-estimator sk-toggleable\"><input class=\"sk-toggleable__control sk-hidden--visually\" id=\"sk-estimator-id-135\" type=\"checkbox\" ><label for=\"sk-estimator-id-135\" class=\"sk-toggleable__label sk-toggleable__label-arrow\">LogisticRegression</label><div class=\"sk-toggleable__content\"><pre>LogisticRegression()</pre></div></div></div></div></div></div></div></div><div class=\"sk-parallel-item\"><div class=\"sk-item\"><div class=\"sk-label-container\"><div class=\"sk-label sk-toggleable\"><label>xgb</label></div></div><div class=\"sk-serial\"><div class=\"sk-item\"><div class=\"sk-estimator sk-toggleable\"><input class=\"sk-toggleable__control sk-hidden--visually\" id=\"sk-estimator-id-136\" type=\"checkbox\" ><label for=\"sk-estimator-id-136\" class=\"sk-toggleable__label sk-toggleable__label-arrow\">XGBClassifier</label><div class=\"sk-toggleable__content\"><pre>XGBClassifier(base_score=None, booster=None, callbacks=None,\n",
              "              colsample_bylevel=None, colsample_bynode=None,\n",
              "              colsample_bytree=None, device=None, early_stopping_rounds=10,\n",
              "              enable_categorical=False, eval_metric=None, feature_types=None,\n",
              "              gamma=None, grow_policy=None, importance_type=None,\n",
              "              interaction_constraints=None, learning_rate=None, max_bin=None,\n",
              "              max_cat_threshold=None, max_cat_to_onehot=None,\n",
              "              max_delta_step=None, max_depth=None, max_leaves=None,\n",
              "              min_child_weight=None, missing=nan, monotone_constraints=None,\n",
              "              multi_strategy=None, n_estimators=500, n_jobs=None,\n",
              "              num_parallel_tree=None, random_state=None, ...)</pre></div></div></div></div></div></div></div></div></div></div>"
            ]
          },
          "metadata": {},
          "execution_count": 202
        }
      ]
    },
    {
      "cell_type": "code",
      "source": [
        "pickle.dump(vwrap, open('./test.pkl', 'wb'))"
      ],
      "metadata": {
        "id": "Qk47f0tqTkMa"
      },
      "execution_count": 203,
      "outputs": []
    },
    {
      "cell_type": "code",
      "source": [
        "p = pickle.load(open('./test.pkl', 'rb'))\n",
        "p"
      ],
      "metadata": {
        "colab": {
          "base_uri": "https://localhost:8080/",
          "height": 143
        },
        "id": "PUw29gv6TvM4",
        "outputId": "3b2517a0-0370-430c-847e-943c95ee5d67"
      },
      "execution_count": 204,
      "outputs": [
        {
          "output_type": "execute_result",
          "data": {
            "text/plain": [
              "VotingClassifierWrapper(estimators=[('pipe1',\n",
              "                                     Pipeline(steps=[('scaler',\n",
              "                                                      StandardScaler()),\n",
              "                                                     ('gbc',\n",
              "                                                      GradientBoostingClassifier(validation_fraction=0.2))])),\n",
              "                                    ('pipe2',\n",
              "                                     Pipeline(steps=[('scaler',\n",
              "                                                      StandardScaler()),\n",
              "                                                     ('lgc',\n",
              "                                                      LogisticRegression())])),\n",
              "                                    ('xgb',\n",
              "                                     XGBClassifier(base_score=None,\n",
              "                                                   booster=None, callbacks=None,\n",
              "                                                   colsample_bylevel=None,\n",
              "                                                   colsample_bynode=None,\n",
              "                                                   col...\n",
              "                                                   importance_type=None,\n",
              "                                                   interaction_constraints=None,\n",
              "                                                   learning_rate=None,\n",
              "                                                   max_bin=None,\n",
              "                                                   max_cat_threshold=None,\n",
              "                                                   max_cat_to_onehot=None,\n",
              "                                                   max_delta_step=None,\n",
              "                                                   max_depth=None,\n",
              "                                                   max_leaves=None,\n",
              "                                                   min_child_weight=None,\n",
              "                                                   missing=nan,\n",
              "                                                   monotone_constraints=None,\n",
              "                                                   multi_strategy=None,\n",
              "                                                   n_estimators=500,\n",
              "                                                   n_jobs=None,\n",
              "                                                   num_parallel_tree=None,\n",
              "                                                   random_state=None, ...))],\n",
              "                        voting='soft')"
            ],
            "text/html": [
              "<style>#sk-container-id-62 {color: black;background-color: white;}#sk-container-id-62 pre{padding: 0;}#sk-container-id-62 div.sk-toggleable {background-color: white;}#sk-container-id-62 label.sk-toggleable__label {cursor: pointer;display: block;width: 100%;margin-bottom: 0;padding: 0.3em;box-sizing: border-box;text-align: center;}#sk-container-id-62 label.sk-toggleable__label-arrow:before {content: \"▸\";float: left;margin-right: 0.25em;color: #696969;}#sk-container-id-62 label.sk-toggleable__label-arrow:hover:before {color: black;}#sk-container-id-62 div.sk-estimator:hover label.sk-toggleable__label-arrow:before {color: black;}#sk-container-id-62 div.sk-toggleable__content {max-height: 0;max-width: 0;overflow: hidden;text-align: left;background-color: #f0f8ff;}#sk-container-id-62 div.sk-toggleable__content pre {margin: 0.2em;color: black;border-radius: 0.25em;background-color: #f0f8ff;}#sk-container-id-62 input.sk-toggleable__control:checked~div.sk-toggleable__content {max-height: 200px;max-width: 100%;overflow: auto;}#sk-container-id-62 input.sk-toggleable__control:checked~label.sk-toggleable__label-arrow:before {content: \"▾\";}#sk-container-id-62 div.sk-estimator input.sk-toggleable__control:checked~label.sk-toggleable__label {background-color: #d4ebff;}#sk-container-id-62 div.sk-label input.sk-toggleable__control:checked~label.sk-toggleable__label {background-color: #d4ebff;}#sk-container-id-62 input.sk-hidden--visually {border: 0;clip: rect(1px 1px 1px 1px);clip: rect(1px, 1px, 1px, 1px);height: 1px;margin: -1px;overflow: hidden;padding: 0;position: absolute;width: 1px;}#sk-container-id-62 div.sk-estimator {font-family: monospace;background-color: #f0f8ff;border: 1px dotted black;border-radius: 0.25em;box-sizing: border-box;margin-bottom: 0.5em;}#sk-container-id-62 div.sk-estimator:hover {background-color: #d4ebff;}#sk-container-id-62 div.sk-parallel-item::after {content: \"\";width: 100%;border-bottom: 1px solid gray;flex-grow: 1;}#sk-container-id-62 div.sk-label:hover label.sk-toggleable__label {background-color: #d4ebff;}#sk-container-id-62 div.sk-serial::before {content: \"\";position: absolute;border-left: 1px solid gray;box-sizing: border-box;top: 0;bottom: 0;left: 50%;z-index: 0;}#sk-container-id-62 div.sk-serial {display: flex;flex-direction: column;align-items: center;background-color: white;padding-right: 0.2em;padding-left: 0.2em;position: relative;}#sk-container-id-62 div.sk-item {position: relative;z-index: 1;}#sk-container-id-62 div.sk-parallel {display: flex;align-items: stretch;justify-content: center;background-color: white;position: relative;}#sk-container-id-62 div.sk-item::before, #sk-container-id-62 div.sk-parallel-item::before {content: \"\";position: absolute;border-left: 1px solid gray;box-sizing: border-box;top: 0;bottom: 0;left: 50%;z-index: -1;}#sk-container-id-62 div.sk-parallel-item {display: flex;flex-direction: column;z-index: 1;position: relative;background-color: white;}#sk-container-id-62 div.sk-parallel-item:first-child::after {align-self: flex-end;width: 50%;}#sk-container-id-62 div.sk-parallel-item:last-child::after {align-self: flex-start;width: 50%;}#sk-container-id-62 div.sk-parallel-item:only-child::after {width: 0;}#sk-container-id-62 div.sk-dashed-wrapped {border: 1px dashed gray;margin: 0 0.4em 0.5em 0.4em;box-sizing: border-box;padding-bottom: 0.4em;background-color: white;}#sk-container-id-62 div.sk-label label {font-family: monospace;font-weight: bold;display: inline-block;line-height: 1.2em;}#sk-container-id-62 div.sk-label-container {text-align: center;}#sk-container-id-62 div.sk-container {/* jupyter's `normalize.less` sets `[hidden] { display: none; }` but bootstrap.min.css set `[hidden] { display: none !important; }` so we also need the `!important` here to be able to override the default hidden behavior on the sphinx rendered scikit-learn.org. See: https://github.com/scikit-learn/scikit-learn/issues/21755 */display: inline-block !important;position: relative;}#sk-container-id-62 div.sk-text-repr-fallback {display: none;}</style><div id=\"sk-container-id-62\" class=\"sk-top-container\"><div class=\"sk-text-repr-fallback\"><pre>VotingClassifierWrapper(estimators=[(&#x27;pipe1&#x27;,\n",
              "                                     Pipeline(steps=[(&#x27;scaler&#x27;,\n",
              "                                                      StandardScaler()),\n",
              "                                                     (&#x27;gbc&#x27;,\n",
              "                                                      GradientBoostingClassifier(validation_fraction=0.2))])),\n",
              "                                    (&#x27;pipe2&#x27;,\n",
              "                                     Pipeline(steps=[(&#x27;scaler&#x27;,\n",
              "                                                      StandardScaler()),\n",
              "                                                     (&#x27;lgc&#x27;,\n",
              "                                                      LogisticRegression())])),\n",
              "                                    (&#x27;xgb&#x27;,\n",
              "                                     XGBClassifier(base_score=None,\n",
              "                                                   booster=None, callbacks=None,\n",
              "                                                   colsample_bylevel=None,\n",
              "                                                   colsample_bynode=None,\n",
              "                                                   col...\n",
              "                                                   importance_type=None,\n",
              "                                                   interaction_constraints=None,\n",
              "                                                   learning_rate=None,\n",
              "                                                   max_bin=None,\n",
              "                                                   max_cat_threshold=None,\n",
              "                                                   max_cat_to_onehot=None,\n",
              "                                                   max_delta_step=None,\n",
              "                                                   max_depth=None,\n",
              "                                                   max_leaves=None,\n",
              "                                                   min_child_weight=None,\n",
              "                                                   missing=nan,\n",
              "                                                   monotone_constraints=None,\n",
              "                                                   multi_strategy=None,\n",
              "                                                   n_estimators=500,\n",
              "                                                   n_jobs=None,\n",
              "                                                   num_parallel_tree=None,\n",
              "                                                   random_state=None, ...))],\n",
              "                        voting=&#x27;soft&#x27;)</pre><b>In a Jupyter environment, please rerun this cell to show the HTML representation or trust the notebook. <br />On GitHub, the HTML representation is unable to render, please try loading this page with nbviewer.org.</b></div><div class=\"sk-container\" hidden><div class=\"sk-item sk-dashed-wrapped\"><div class=\"sk-label-container\"><div class=\"sk-label sk-toggleable\"><input class=\"sk-toggleable__control sk-hidden--visually\" id=\"sk-estimator-id-137\" type=\"checkbox\" ><label for=\"sk-estimator-id-137\" class=\"sk-toggleable__label sk-toggleable__label-arrow\">VotingClassifierWrapper</label><div class=\"sk-toggleable__content\"><pre>VotingClassifierWrapper(estimators=[(&#x27;pipe1&#x27;,\n",
              "                                     Pipeline(steps=[(&#x27;scaler&#x27;,\n",
              "                                                      StandardScaler()),\n",
              "                                                     (&#x27;gbc&#x27;,\n",
              "                                                      GradientBoostingClassifier(validation_fraction=0.2))])),\n",
              "                                    (&#x27;pipe2&#x27;,\n",
              "                                     Pipeline(steps=[(&#x27;scaler&#x27;,\n",
              "                                                      StandardScaler()),\n",
              "                                                     (&#x27;lgc&#x27;,\n",
              "                                                      LogisticRegression())])),\n",
              "                                    (&#x27;xgb&#x27;,\n",
              "                                     XGBClassifier(base_score=None,\n",
              "                                                   booster=None, callbacks=None,\n",
              "                                                   colsample_bylevel=None,\n",
              "                                                   colsample_bynode=None,\n",
              "                                                   col...\n",
              "                                                   importance_type=None,\n",
              "                                                   interaction_constraints=None,\n",
              "                                                   learning_rate=None,\n",
              "                                                   max_bin=None,\n",
              "                                                   max_cat_threshold=None,\n",
              "                                                   max_cat_to_onehot=None,\n",
              "                                                   max_delta_step=None,\n",
              "                                                   max_depth=None,\n",
              "                                                   max_leaves=None,\n",
              "                                                   min_child_weight=None,\n",
              "                                                   missing=nan,\n",
              "                                                   monotone_constraints=None,\n",
              "                                                   multi_strategy=None,\n",
              "                                                   n_estimators=500,\n",
              "                                                   n_jobs=None,\n",
              "                                                   num_parallel_tree=None,\n",
              "                                                   random_state=None, ...))],\n",
              "                        voting=&#x27;soft&#x27;)</pre></div></div></div><div class=\"sk-parallel\"><div class=\"sk-parallel-item\"><div class=\"sk-item\"><div class=\"sk-label-container\"><div class=\"sk-label sk-toggleable\"><label>pipe1</label></div></div><div class=\"sk-serial\"><div class=\"sk-item\"><div class=\"sk-serial\"><div class=\"sk-item\"><div class=\"sk-estimator sk-toggleable\"><input class=\"sk-toggleable__control sk-hidden--visually\" id=\"sk-estimator-id-138\" type=\"checkbox\" ><label for=\"sk-estimator-id-138\" class=\"sk-toggleable__label sk-toggleable__label-arrow\">StandardScaler</label><div class=\"sk-toggleable__content\"><pre>StandardScaler()</pre></div></div></div><div class=\"sk-item\"><div class=\"sk-estimator sk-toggleable\"><input class=\"sk-toggleable__control sk-hidden--visually\" id=\"sk-estimator-id-139\" type=\"checkbox\" ><label for=\"sk-estimator-id-139\" class=\"sk-toggleable__label sk-toggleable__label-arrow\">GradientBoostingClassifier</label><div class=\"sk-toggleable__content\"><pre>GradientBoostingClassifier(validation_fraction=0.2)</pre></div></div></div></div></div></div></div></div><div class=\"sk-parallel-item\"><div class=\"sk-item\"><div class=\"sk-label-container\"><div class=\"sk-label sk-toggleable\"><label>pipe2</label></div></div><div class=\"sk-serial\"><div class=\"sk-item\"><div class=\"sk-serial\"><div class=\"sk-item\"><div class=\"sk-estimator sk-toggleable\"><input class=\"sk-toggleable__control sk-hidden--visually\" id=\"sk-estimator-id-140\" type=\"checkbox\" ><label for=\"sk-estimator-id-140\" class=\"sk-toggleable__label sk-toggleable__label-arrow\">StandardScaler</label><div class=\"sk-toggleable__content\"><pre>StandardScaler()</pre></div></div></div><div class=\"sk-item\"><div class=\"sk-estimator sk-toggleable\"><input class=\"sk-toggleable__control sk-hidden--visually\" id=\"sk-estimator-id-141\" type=\"checkbox\" ><label for=\"sk-estimator-id-141\" class=\"sk-toggleable__label sk-toggleable__label-arrow\">LogisticRegression</label><div class=\"sk-toggleable__content\"><pre>LogisticRegression()</pre></div></div></div></div></div></div></div></div><div class=\"sk-parallel-item\"><div class=\"sk-item\"><div class=\"sk-label-container\"><div class=\"sk-label sk-toggleable\"><label>xgb</label></div></div><div class=\"sk-serial\"><div class=\"sk-item\"><div class=\"sk-estimator sk-toggleable\"><input class=\"sk-toggleable__control sk-hidden--visually\" id=\"sk-estimator-id-142\" type=\"checkbox\" ><label for=\"sk-estimator-id-142\" class=\"sk-toggleable__label sk-toggleable__label-arrow\">XGBClassifier</label><div class=\"sk-toggleable__content\"><pre>XGBClassifier(base_score=None, booster=None, callbacks=None,\n",
              "              colsample_bylevel=None, colsample_bynode=None,\n",
              "              colsample_bytree=None, device=None, early_stopping_rounds=10,\n",
              "              enable_categorical=False, eval_metric=None, feature_types=None,\n",
              "              gamma=None, grow_policy=None, importance_type=None,\n",
              "              interaction_constraints=None, learning_rate=None, max_bin=None,\n",
              "              max_cat_threshold=None, max_cat_to_onehot=None,\n",
              "              max_delta_step=None, max_depth=None, max_leaves=None,\n",
              "              min_child_weight=None, missing=nan, monotone_constraints=None,\n",
              "              multi_strategy=None, n_estimators=500, n_jobs=None,\n",
              "              num_parallel_tree=None, random_state=None, ...)</pre></div></div></div></div></div></div></div></div></div></div>"
            ]
          },
          "metadata": {},
          "execution_count": 204
        }
      ]
    },
    {
      "cell_type": "code",
      "source": [
        "vwrap.n_features_in_"
      ],
      "metadata": {
        "colab": {
          "base_uri": "https://localhost:8080/"
        },
        "id": "fadh7H18Rcga",
        "outputId": "cdf9a7fe-3633-48cb-d2d7-ba396878cb94"
      },
      "execution_count": 205,
      "outputs": [
        {
          "output_type": "execute_result",
          "data": {
            "text/plain": [
              "30"
            ]
          },
          "metadata": {},
          "execution_count": 205
        }
      ]
    },
    {
      "cell_type": "code",
      "source": [
        "vwrap.feature_names_in_"
      ],
      "metadata": {
        "colab": {
          "base_uri": "https://localhost:8080/"
        },
        "id": "lCeidcMTTL4D",
        "outputId": "a4fee5f3-27b9-4343-b5cc-41ea6ee4ce78"
      },
      "execution_count": 206,
      "outputs": [
        {
          "output_type": "execute_result",
          "data": {
            "text/plain": [
              "array(['mean radius', 'mean texture', 'mean perimeter', 'mean area',\n",
              "       'mean smoothness', 'mean compactness', 'mean concavity',\n",
              "       'mean concave points', 'mean symmetry', 'mean fractal dimension',\n",
              "       'radius error', 'texture error', 'perimeter error', 'area error',\n",
              "       'smoothness error', 'compactness error', 'concavity error',\n",
              "       'concave points error', 'symmetry error',\n",
              "       'fractal dimension error', 'worst radius', 'worst texture',\n",
              "       'worst perimeter', 'worst area', 'worst smoothness',\n",
              "       'worst compactness', 'worst concavity', 'worst concave points',\n",
              "       'worst symmetry', 'worst fractal dimension'], dtype='<U23')"
            ]
          },
          "metadata": {},
          "execution_count": 206
        }
      ]
    },
    {
      "cell_type": "code",
      "source": [
        "vwrap.predict(X_test)"
      ],
      "metadata": {
        "colab": {
          "base_uri": "https://localhost:8080/"
        },
        "id": "ybZBbNsPM1kC",
        "outputId": "771c33fd-d7b0-46a9-a217-941a48737766"
      },
      "execution_count": 207,
      "outputs": [
        {
          "output_type": "execute_result",
          "data": {
            "text/plain": [
              "array([1, 0, 0, 1, 1, 0, 0, 0, 0, 1, 1, 0, 1, 0, 1, 0, 1, 1, 1, 0, 1, 1,\n",
              "       0, 1, 1, 1, 1, 1, 1, 0, 1, 1, 1, 1, 1, 1, 1, 1, 0, 1, 1, 0, 1, 1,\n",
              "       1, 1, 1, 1, 1, 1, 0, 0, 1, 1, 1, 1, 1, 0, 0, 1, 1, 0, 0, 1, 1, 1,\n",
              "       0, 0, 1, 1, 0, 0, 1, 0, 1, 1, 1, 1, 1, 1, 0, 1, 1, 0, 0, 0, 0, 0,\n",
              "       1, 1, 1, 0, 1, 1, 1, 1, 0, 0, 1, 0, 0, 1, 0, 0, 1, 1, 1, 0, 0, 1,\n",
              "       0, 1, 1, 0, 1, 0, 1, 1, 1, 0, 1, 1, 1, 0, 1, 0, 0, 1, 1, 0, 0, 0,\n",
              "       1, 1, 0, 0, 0, 1, 1, 0, 1, 0, 1, 1, 0, 1, 0, 0, 0, 1, 0, 1, 1, 1,\n",
              "       1, 0, 0, 1, 1, 1, 1, 1, 1, 1, 1, 1, 1, 1, 1, 0, 1, 1, 1, 1, 1, 1,\n",
              "       1, 1, 1, 1, 1, 1, 1, 0, 0, 0, 1, 1, 0, 1, 0, 1, 1, 1, 1, 0, 0, 1,\n",
              "       0, 1, 1, 1, 0, 1, 0, 0, 1, 1, 1, 0, 1, 1, 1, 1, 0, 1, 1, 1, 1, 1,\n",
              "       0, 1, 0, 0, 1, 1, 0, 1, 1, 1, 1, 1, 1, 1, 0, 0, 0, 1, 1, 0, 1, 1,\n",
              "       0, 1, 0, 1, 0, 1, 0, 1, 1, 0, 1, 1, 1, 0, 1, 0, 1, 0, 1, 0, 1, 1,\n",
              "       0, 1, 1, 1, 1, 0, 1, 1, 1, 0, 1, 1, 1, 0, 1, 0, 1, 1, 1, 1, 1, 1,\n",
              "       1, 0, 1, 1, 1, 0, 1, 0, 1, 1, 1, 0, 1, 0, 0, 1, 0, 0, 1, 0, 0, 1,\n",
              "       1, 1, 0, 1, 1, 1, 0, 1, 0, 1, 1, 1, 0, 1, 0, 1, 1, 0, 0, 1, 1, 0,\n",
              "       1, 0, 0, 1, 0, 0, 1, 0, 0, 0, 0, 1, 1, 1, 1, 0, 1, 0, 0, 0, 1, 1,\n",
              "       1, 1, 0, 1, 1, 1, 1, 0, 0, 0, 1, 0, 1, 1, 1, 1, 1, 0, 1, 1, 0, 0,\n",
              "       1, 0, 1, 0, 1, 1, 1, 1, 1, 1, 0, 1, 0, 0, 1, 1, 1, 1, 1, 1, 0, 0,\n",
              "       1, 0, 1, 0, 0, 0, 1, 0, 1, 1, 0, 0, 0, 1, 1, 1, 1, 1, 1, 1, 0, 1,\n",
              "       1, 1, 0, 1, 1, 0, 0, 1, 0, 1, 0, 0, 1, 1, 0, 1, 0, 0, 1, 0, 0, 1,\n",
              "       1, 0, 1, 0, 1, 1, 0, 1, 0, 0, 0, 0, 1, 1, 1, 0])"
            ]
          },
          "metadata": {},
          "execution_count": 207
        }
      ]
    },
    {
      "cell_type": "code",
      "source": [
        "vwrap.predict_proba(X_test)[:10]"
      ],
      "metadata": {
        "colab": {
          "base_uri": "https://localhost:8080/"
        },
        "id": "8rilA4UFPNbo",
        "outputId": "a0df2f7c-6e0f-4ad9-821a-58210cc280e6"
      },
      "execution_count": 208,
      "outputs": [
        {
          "output_type": "execute_result",
          "data": {
            "text/plain": [
              "array([[0.09509189, 0.90490811],\n",
              "       [0.99220907, 0.00779092],\n",
              "       [0.98802918, 0.01197083],\n",
              "       [0.01060427, 0.98939573],\n",
              "       [0.0028034 , 0.9971966 ],\n",
              "       [0.99514109, 0.00485891],\n",
              "       [0.99374744, 0.00625255],\n",
              "       [0.8541045 , 0.1458955 ],\n",
              "       [0.83422239, 0.16577761],\n",
              "       [0.01020755, 0.98979245]])"
            ]
          },
          "metadata": {},
          "execution_count": 208
        }
      ]
    },
    {
      "cell_type": "code",
      "source": [
        "y_pred = vwrap.predict(X_test)\n",
        "f1_score(y_true=y_test, y_pred=y_pred)"
      ],
      "metadata": {
        "colab": {
          "base_uri": "https://localhost:8080/"
        },
        "id": "PibsF7KTCcIm",
        "outputId": "6df162e0-41a5-4d30-8b39-f72b85643784"
      },
      "execution_count": 209,
      "outputs": [
        {
          "output_type": "execute_result",
          "data": {
            "text/plain": [
              "0.9565217391304347"
            ]
          },
          "metadata": {},
          "execution_count": 209
        }
      ]
    },
    {
      "cell_type": "code",
      "source": [
        "vwrap.weights = [1, 0, 0]\n",
        "\n",
        "y_pred = vwrap.predict(X_test)\n",
        "f1_score(y_true=y_test, y_pred=y_pred)"
      ],
      "metadata": {
        "colab": {
          "base_uri": "https://localhost:8080/"
        },
        "id": "kk1HzF7OUPA5",
        "outputId": "4086dadc-a8ad-4162-b44f-ae80483c325f"
      },
      "execution_count": 210,
      "outputs": [
        {
          "output_type": "execute_result",
          "data": {
            "text/plain": [
              "0.9153153153153154"
            ]
          },
          "metadata": {},
          "execution_count": 210
        }
      ]
    },
    {
      "cell_type": "code",
      "source": [
        "vwrap.weights = [1, 0, 3]\n",
        "\n",
        "y_pred = vwrap.predict(X_test)\n",
        "f1_score(y_true=y_test, y_pred=y_pred)"
      ],
      "metadata": {
        "colab": {
          "base_uri": "https://localhost:8080/"
        },
        "id": "gp5yBhCTPwJe",
        "outputId": "ebbf0507-c3f0-4fb4-a17b-a7cf262e8e7d"
      },
      "execution_count": 211,
      "outputs": [
        {
          "output_type": "execute_result",
          "data": {
            "text/plain": [
              "0.9578947368421052"
            ]
          },
          "metadata": {},
          "execution_count": 211
        }
      ]
    },
    {
      "cell_type": "code",
      "source": [
        "vwrap.weights = [1, 1, 0]\n",
        "\n",
        "y_pred = vwrap.predict(X_test)\n",
        "f1_score(y_true=y_test, y_pred=y_pred)"
      ],
      "metadata": {
        "colab": {
          "base_uri": "https://localhost:8080/"
        },
        "id": "cci0L_zRUSti",
        "outputId": "d89e5911-fbdd-4ca6-90a4-f0505afb54e0"
      },
      "execution_count": 212,
      "outputs": [
        {
          "output_type": "execute_result",
          "data": {
            "text/plain": [
              "0.9249999999999999"
            ]
          },
          "metadata": {},
          "execution_count": 212
        }
      ]
    },
    {
      "cell_type": "code",
      "source": [
        "vwrap.weights = [1, 2, 0]\n",
        "\n",
        "y_pred = vwrap.predict(X_test)\n",
        "f1_score(y_true=y_test, y_pred=y_pred)"
      ],
      "metadata": {
        "colab": {
          "base_uri": "https://localhost:8080/"
        },
        "id": "Wwsv1N8yUjDq",
        "outputId": "073103f2-1f1f-4cba-f611-a911d2c2c18c"
      },
      "execution_count": 213,
      "outputs": [
        {
          "output_type": "execute_result",
          "data": {
            "text/plain": [
              "0.9793103448275862"
            ]
          },
          "metadata": {},
          "execution_count": 213
        }
      ]
    },
    {
      "cell_type": "code",
      "source": [
        "vwrap.weights = [1, 1, 3]\n",
        "\n",
        "y_pred = vwrap.predict(X_test)\n",
        "f1_score(y_true=y_test, y_pred=y_pred)"
      ],
      "metadata": {
        "colab": {
          "base_uri": "https://localhost:8080/"
        },
        "id": "496PnaubUkiO",
        "outputId": "8902a86d-5c57-48ce-fdec-3c244a55e92d"
      },
      "execution_count": 214,
      "outputs": [
        {
          "output_type": "execute_result",
          "data": {
            "text/plain": [
              "0.9634782608695653"
            ]
          },
          "metadata": {},
          "execution_count": 214
        }
      ]
    },
    {
      "cell_type": "markdown",
      "source": [
        "# Override XGBoostClassifier\n",
        "\n"
      ],
      "metadata": {
        "id": "viMy0t-5W4Az"
      }
    },
    {
      "cell_type": "code",
      "source": [
        "SklObjective"
      ],
      "metadata": {
        "colab": {
          "base_uri": "https://localhost:8080/"
        },
        "id": "i3N_j0BxZ8-G",
        "outputId": "a788cd8d-7b80-46b5-9a58-8fce8b9ce16b"
      },
      "execution_count": 215,
      "outputs": [
        {
          "output_type": "execute_result",
          "data": {
            "text/plain": [
              "typing.Union[str, typing.Callable[[numpy.ndarray, numpy.ndarray], typing.Tuple[numpy.ndarray, numpy.ndarray]], NoneType]"
            ]
          },
          "metadata": {},
          "execution_count": 215
        }
      ]
    },
    {
      "cell_type": "code",
      "source": [
        "from typing import Optional, Any\n",
        "from xgboost.sklearn import SklObjective, Booster, XGBModel, Metric, TrainingCallback\n",
        "\n",
        "class FractionSupportXGBClassifier(XGBClassifier):\n",
        "  def __init__(\n",
        "      self,\n",
        "      fraction_ratio: Optional[float] = None,\n",
        "      **kwargs: Any,\n",
        "      ) -> None:\n",
        "      self.fraction_ratio = fraction_ratio\n",
        "      if (self.fraction_ratio is not None) and \\\n",
        "       (kwargs.get('early_stopping_rounds') is None):\n",
        "          kwargs['early_stopping_rounds'] = int(kwargs['n_estimators'] / 10) if int(kwargs['n_estimators'] / 10) > 0 else 1\n",
        "      super().__init__(**kwargs)\n",
        "\n",
        "  def fit(\n",
        "      self,\n",
        "      *args,\n",
        "      **kwargs\n",
        "  ) -> \"XGBClassifier\":\n",
        "      if self.fraction_ratio is not None:\n",
        "          X_sample = args[0]\n",
        "          y_sample = args[1]\n",
        "\n",
        "          X_train, X_valid, y_train, y_valid = train_test_split(X_sample, y_sample,\n",
        "                                                                test_size=self.fraction_ratio,\n",
        "                                                                random_state=self.random_state\n",
        "                                                                )\n",
        "\n",
        "          kwargs['eval_set'] = [(X_train, y_train), (X_valid, y_valid)]\n",
        "      return super().fit(*args, **kwargs)"
      ],
      "metadata": {
        "id": "fcv3aDfZUlam"
      },
      "execution_count": 245,
      "outputs": []
    },
    {
      "cell_type": "code",
      "source": [],
      "metadata": {
        "id": "dIwyKpJG1AQh"
      },
      "execution_count": 254,
      "outputs": []
    },
    {
      "cell_type": "code",
      "source": [
        "wrap_xgb = FractionSupportXGBClassifier(n_estimators=10000, fraction_ratio=.2, early_stopping_rounds=10)\n",
        "wrap_xgb"
      ],
      "metadata": {
        "colab": {
          "base_uri": "https://localhost:8080/",
          "height": 251
        },
        "id": "S4emHjqFXcpL",
        "outputId": "ae813bac-4877-40fb-814d-92f02541b746"
      },
      "execution_count": 247,
      "outputs": [
        {
          "output_type": "execute_result",
          "data": {
            "text/plain": [
              "FractionSupportXGBClassifier(base_score=None, booster=None, callbacks=None,\n",
              "                             colsample_bylevel=None, colsample_bynode=None,\n",
              "                             colsample_bytree=None, device=None,\n",
              "                             early_stopping_rounds=10, enable_categorical=False,\n",
              "                             eval_metric=None, feature_types=None,\n",
              "                             fraction_ratio=0.2, gamma=None, grow_policy=None,\n",
              "                             importance_type=None, interaction_constraints=None,\n",
              "                             learning_rate=None, max_bin=None,\n",
              "                             max_cat_threshold=None, max_cat_to_onehot=None,\n",
              "                             max_delta_step=None, max_depth=None,\n",
              "                             max_leaves=None, min_child_weight=None,\n",
              "                             missing=nan, monotone_constraints=None,\n",
              "                             multi_strategy=None, n_estimators=10000,\n",
              "                             n_jobs=None, num_parallel_tree=None, ...)"
            ],
            "text/html": [
              "<style>#sk-container-id-78 {color: black;background-color: white;}#sk-container-id-78 pre{padding: 0;}#sk-container-id-78 div.sk-toggleable {background-color: white;}#sk-container-id-78 label.sk-toggleable__label {cursor: pointer;display: block;width: 100%;margin-bottom: 0;padding: 0.3em;box-sizing: border-box;text-align: center;}#sk-container-id-78 label.sk-toggleable__label-arrow:before {content: \"▸\";float: left;margin-right: 0.25em;color: #696969;}#sk-container-id-78 label.sk-toggleable__label-arrow:hover:before {color: black;}#sk-container-id-78 div.sk-estimator:hover label.sk-toggleable__label-arrow:before {color: black;}#sk-container-id-78 div.sk-toggleable__content {max-height: 0;max-width: 0;overflow: hidden;text-align: left;background-color: #f0f8ff;}#sk-container-id-78 div.sk-toggleable__content pre {margin: 0.2em;color: black;border-radius: 0.25em;background-color: #f0f8ff;}#sk-container-id-78 input.sk-toggleable__control:checked~div.sk-toggleable__content {max-height: 200px;max-width: 100%;overflow: auto;}#sk-container-id-78 input.sk-toggleable__control:checked~label.sk-toggleable__label-arrow:before {content: \"▾\";}#sk-container-id-78 div.sk-estimator input.sk-toggleable__control:checked~label.sk-toggleable__label {background-color: #d4ebff;}#sk-container-id-78 div.sk-label input.sk-toggleable__control:checked~label.sk-toggleable__label {background-color: #d4ebff;}#sk-container-id-78 input.sk-hidden--visually {border: 0;clip: rect(1px 1px 1px 1px);clip: rect(1px, 1px, 1px, 1px);height: 1px;margin: -1px;overflow: hidden;padding: 0;position: absolute;width: 1px;}#sk-container-id-78 div.sk-estimator {font-family: monospace;background-color: #f0f8ff;border: 1px dotted black;border-radius: 0.25em;box-sizing: border-box;margin-bottom: 0.5em;}#sk-container-id-78 div.sk-estimator:hover {background-color: #d4ebff;}#sk-container-id-78 div.sk-parallel-item::after {content: \"\";width: 100%;border-bottom: 1px solid gray;flex-grow: 1;}#sk-container-id-78 div.sk-label:hover label.sk-toggleable__label {background-color: #d4ebff;}#sk-container-id-78 div.sk-serial::before {content: \"\";position: absolute;border-left: 1px solid gray;box-sizing: border-box;top: 0;bottom: 0;left: 50%;z-index: 0;}#sk-container-id-78 div.sk-serial {display: flex;flex-direction: column;align-items: center;background-color: white;padding-right: 0.2em;padding-left: 0.2em;position: relative;}#sk-container-id-78 div.sk-item {position: relative;z-index: 1;}#sk-container-id-78 div.sk-parallel {display: flex;align-items: stretch;justify-content: center;background-color: white;position: relative;}#sk-container-id-78 div.sk-item::before, #sk-container-id-78 div.sk-parallel-item::before {content: \"\";position: absolute;border-left: 1px solid gray;box-sizing: border-box;top: 0;bottom: 0;left: 50%;z-index: -1;}#sk-container-id-78 div.sk-parallel-item {display: flex;flex-direction: column;z-index: 1;position: relative;background-color: white;}#sk-container-id-78 div.sk-parallel-item:first-child::after {align-self: flex-end;width: 50%;}#sk-container-id-78 div.sk-parallel-item:last-child::after {align-self: flex-start;width: 50%;}#sk-container-id-78 div.sk-parallel-item:only-child::after {width: 0;}#sk-container-id-78 div.sk-dashed-wrapped {border: 1px dashed gray;margin: 0 0.4em 0.5em 0.4em;box-sizing: border-box;padding-bottom: 0.4em;background-color: white;}#sk-container-id-78 div.sk-label label {font-family: monospace;font-weight: bold;display: inline-block;line-height: 1.2em;}#sk-container-id-78 div.sk-label-container {text-align: center;}#sk-container-id-78 div.sk-container {/* jupyter's `normalize.less` sets `[hidden] { display: none; }` but bootstrap.min.css set `[hidden] { display: none !important; }` so we also need the `!important` here to be able to override the default hidden behavior on the sphinx rendered scikit-learn.org. See: https://github.com/scikit-learn/scikit-learn/issues/21755 */display: inline-block !important;position: relative;}#sk-container-id-78 div.sk-text-repr-fallback {display: none;}</style><div id=\"sk-container-id-78\" class=\"sk-top-container\"><div class=\"sk-text-repr-fallback\"><pre>FractionSupportXGBClassifier(base_score=None, booster=None, callbacks=None,\n",
              "                             colsample_bylevel=None, colsample_bynode=None,\n",
              "                             colsample_bytree=None, device=None,\n",
              "                             early_stopping_rounds=10, enable_categorical=False,\n",
              "                             eval_metric=None, feature_types=None,\n",
              "                             fraction_ratio=0.2, gamma=None, grow_policy=None,\n",
              "                             importance_type=None, interaction_constraints=None,\n",
              "                             learning_rate=None, max_bin=None,\n",
              "                             max_cat_threshold=None, max_cat_to_onehot=None,\n",
              "                             max_delta_step=None, max_depth=None,\n",
              "                             max_leaves=None, min_child_weight=None,\n",
              "                             missing=nan, monotone_constraints=None,\n",
              "                             multi_strategy=None, n_estimators=10000,\n",
              "                             n_jobs=None, num_parallel_tree=None, ...)</pre><b>In a Jupyter environment, please rerun this cell to show the HTML representation or trust the notebook. <br />On GitHub, the HTML representation is unable to render, please try loading this page with nbviewer.org.</b></div><div class=\"sk-container\" hidden><div class=\"sk-item\"><div class=\"sk-estimator sk-toggleable\"><input class=\"sk-toggleable__control sk-hidden--visually\" id=\"sk-estimator-id-168\" type=\"checkbox\" checked><label for=\"sk-estimator-id-168\" class=\"sk-toggleable__label sk-toggleable__label-arrow\">FractionSupportXGBClassifier</label><div class=\"sk-toggleable__content\"><pre>FractionSupportXGBClassifier(base_score=None, booster=None, callbacks=None,\n",
              "                             colsample_bylevel=None, colsample_bynode=None,\n",
              "                             colsample_bytree=None, device=None,\n",
              "                             early_stopping_rounds=10, enable_categorical=False,\n",
              "                             eval_metric=None, feature_types=None,\n",
              "                             fraction_ratio=0.2, gamma=None, grow_policy=None,\n",
              "                             importance_type=None, interaction_constraints=None,\n",
              "                             learning_rate=None, max_bin=None,\n",
              "                             max_cat_threshold=None, max_cat_to_onehot=None,\n",
              "                             max_delta_step=None, max_depth=None,\n",
              "                             max_leaves=None, min_child_weight=None,\n",
              "                             missing=nan, monotone_constraints=None,\n",
              "                             multi_strategy=None, n_estimators=10000,\n",
              "                             n_jobs=None, num_parallel_tree=None, ...)</pre></div></div></div></div></div>"
            ]
          },
          "metadata": {},
          "execution_count": 247
        }
      ]
    },
    {
      "cell_type": "code",
      "source": [
        "wrap_xgb.fit(X_train, y_train)"
      ],
      "metadata": {
        "colab": {
          "base_uri": "https://localhost:8080/",
          "height": 1000
        },
        "id": "cF5WyBI5gyfB",
        "outputId": "d91b2077-6320-49c9-bb46-f1799ca609dc"
      },
      "execution_count": 248,
      "outputs": [
        {
          "output_type": "stream",
          "name": "stdout",
          "text": [
            "[0]\tvalidation_0-logloss:0.47133\tvalidation_1-logloss:0.48290\n",
            "[1]\tvalidation_0-logloss:0.35365\tvalidation_1-logloss:0.37498\n",
            "[2]\tvalidation_0-logloss:0.27213\tvalidation_1-logloss:0.29082\n",
            "[3]\tvalidation_0-logloss:0.21312\tvalidation_1-logloss:0.23814\n",
            "[4]\tvalidation_0-logloss:0.16877\tvalidation_1-logloss:0.19340\n",
            "[5]\tvalidation_0-logloss:0.14053\tvalidation_1-logloss:0.16686\n",
            "[6]\tvalidation_0-logloss:0.11608\tvalidation_1-logloss:0.14561\n",
            "[7]\tvalidation_0-logloss:0.09984\tvalidation_1-logloss:0.13166\n"
          ]
        },
        {
          "output_type": "stream",
          "name": "stderr",
          "text": [
            "/usr/local/lib/python3.10/dist-packages/xgboost/core.py:160: UserWarning: [03:43:54] WARNING: /workspace/src/learner.cc:742: \n",
            "Parameters: { \"fraction_ratio\" } are not used.\n",
            "\n",
            "  warnings.warn(smsg, UserWarning)\n"
          ]
        },
        {
          "output_type": "stream",
          "name": "stdout",
          "text": [
            "[8]\tvalidation_0-logloss:0.08622\tvalidation_1-logloss:0.11811\n",
            "[9]\tvalidation_0-logloss:0.07471\tvalidation_1-logloss:0.10548\n",
            "[10]\tvalidation_0-logloss:0.06502\tvalidation_1-logloss:0.09611\n",
            "[11]\tvalidation_0-logloss:0.05798\tvalidation_1-logloss:0.08735\n",
            "[12]\tvalidation_0-logloss:0.05197\tvalidation_1-logloss:0.07860\n",
            "[13]\tvalidation_0-logloss:0.04773\tvalidation_1-logloss:0.07053\n",
            "[14]\tvalidation_0-logloss:0.04380\tvalidation_1-logloss:0.06413\n",
            "[15]\tvalidation_0-logloss:0.04070\tvalidation_1-logloss:0.05938\n",
            "[16]\tvalidation_0-logloss:0.03794\tvalidation_1-logloss:0.05489\n",
            "[17]\tvalidation_0-logloss:0.03554\tvalidation_1-logloss:0.05349\n",
            "[18]\tvalidation_0-logloss:0.03444\tvalidation_1-logloss:0.05107\n",
            "[19]\tvalidation_0-logloss:0.03235\tvalidation_1-logloss:0.05000\n",
            "[20]\tvalidation_0-logloss:0.03160\tvalidation_1-logloss:0.04807\n",
            "[21]\tvalidation_0-logloss:0.03035\tvalidation_1-logloss:0.04795\n",
            "[22]\tvalidation_0-logloss:0.02983\tvalidation_1-logloss:0.04638\n",
            "[23]\tvalidation_0-logloss:0.02876\tvalidation_1-logloss:0.04680\n",
            "[24]\tvalidation_0-logloss:0.02850\tvalidation_1-logloss:0.04449\n",
            "[25]\tvalidation_0-logloss:0.02775\tvalidation_1-logloss:0.04463\n",
            "[26]\tvalidation_0-logloss:0.02737\tvalidation_1-logloss:0.04336\n",
            "[27]\tvalidation_0-logloss:0.02674\tvalidation_1-logloss:0.04352\n",
            "[28]\tvalidation_0-logloss:0.02602\tvalidation_1-logloss:0.04399\n",
            "[29]\tvalidation_0-logloss:0.02587\tvalidation_1-logloss:0.04214\n",
            "[30]\tvalidation_0-logloss:0.02551\tvalidation_1-logloss:0.04129\n",
            "[31]\tvalidation_0-logloss:0.02487\tvalidation_1-logloss:0.04171\n",
            "[32]\tvalidation_0-logloss:0.02460\tvalidation_1-logloss:0.04073\n",
            "[33]\tvalidation_0-logloss:0.02450\tvalidation_1-logloss:0.03929\n",
            "[34]\tvalidation_0-logloss:0.02395\tvalidation_1-logloss:0.03969\n",
            "[35]\tvalidation_0-logloss:0.02345\tvalidation_1-logloss:0.03988\n",
            "[36]\tvalidation_0-logloss:0.02332\tvalidation_1-logloss:0.03871\n",
            "[37]\tvalidation_0-logloss:0.02312\tvalidation_1-logloss:0.03796\n",
            "[38]\tvalidation_0-logloss:0.02262\tvalidation_1-logloss:0.03832\n",
            "[39]\tvalidation_0-logloss:0.02252\tvalidation_1-logloss:0.03721\n",
            "[40]\tvalidation_0-logloss:0.02226\tvalidation_1-logloss:0.03677\n",
            "[41]\tvalidation_0-logloss:0.02215\tvalidation_1-logloss:0.03576\n",
            "[42]\tvalidation_0-logloss:0.02171\tvalidation_1-logloss:0.03610\n",
            "[43]\tvalidation_0-logloss:0.02166\tvalidation_1-logloss:0.03503\n",
            "[44]\tvalidation_0-logloss:0.02128\tvalidation_1-logloss:0.03537\n",
            "[45]\tvalidation_0-logloss:0.02106\tvalidation_1-logloss:0.03496\n",
            "[46]\tvalidation_0-logloss:0.02091\tvalidation_1-logloss:0.03435\n",
            "[47]\tvalidation_0-logloss:0.02056\tvalidation_1-logloss:0.03465\n",
            "[48]\tvalidation_0-logloss:0.02049\tvalidation_1-logloss:0.03373\n",
            "[49]\tvalidation_0-logloss:0.02013\tvalidation_1-logloss:0.03400\n",
            "[50]\tvalidation_0-logloss:0.01982\tvalidation_1-logloss:0.03428\n",
            "[51]\tvalidation_0-logloss:0.01977\tvalidation_1-logloss:0.03341\n",
            "[52]\tvalidation_0-logloss:0.01973\tvalidation_1-logloss:0.03267\n",
            "[53]\tvalidation_0-logloss:0.01942\tvalidation_1-logloss:0.03294\n",
            "[54]\tvalidation_0-logloss:0.01941\tvalidation_1-logloss:0.03214\n",
            "[55]\tvalidation_0-logloss:0.01915\tvalidation_1-logloss:0.03241\n",
            "[56]\tvalidation_0-logloss:0.01901\tvalidation_1-logloss:0.03209\n",
            "[57]\tvalidation_0-logloss:0.01877\tvalidation_1-logloss:0.03234\n",
            "[58]\tvalidation_0-logloss:0.01866\tvalidation_1-logloss:0.03205\n",
            "[59]\tvalidation_0-logloss:0.01864\tvalidation_1-logloss:0.03143\n",
            "[60]\tvalidation_0-logloss:0.01840\tvalidation_1-logloss:0.03166\n",
            "[61]\tvalidation_0-logloss:0.01840\tvalidation_1-logloss:0.03166\n",
            "[62]\tvalidation_0-logloss:0.01840\tvalidation_1-logloss:0.03166\n",
            "[63]\tvalidation_0-logloss:0.01836\tvalidation_1-logloss:0.03175\n",
            "[64]\tvalidation_0-logloss:0.01836\tvalidation_1-logloss:0.03175\n",
            "[65]\tvalidation_0-logloss:0.01836\tvalidation_1-logloss:0.03175\n",
            "[66]\tvalidation_0-logloss:0.01836\tvalidation_1-logloss:0.03175\n",
            "[67]\tvalidation_0-logloss:0.01836\tvalidation_1-logloss:0.03175\n",
            "[68]\tvalidation_0-logloss:0.01836\tvalidation_1-logloss:0.03175\n",
            "[69]\tvalidation_0-logloss:0.01836\tvalidation_1-logloss:0.03175\n"
          ]
        },
        {
          "output_type": "execute_result",
          "data": {
            "text/plain": [
              "FractionSupportXGBClassifier(base_score=None, booster=None, callbacks=None,\n",
              "                             colsample_bylevel=None, colsample_bynode=None,\n",
              "                             colsample_bytree=None, device=None,\n",
              "                             early_stopping_rounds=10, enable_categorical=False,\n",
              "                             eval_metric=None, feature_types=None,\n",
              "                             fraction_ratio=0.2, gamma=None, grow_policy=None,\n",
              "                             importance_type=None, interaction_constraints=None,\n",
              "                             learning_rate=None, max_bin=None,\n",
              "                             max_cat_threshold=None, max_cat_to_onehot=None,\n",
              "                             max_delta_step=None, max_depth=None,\n",
              "                             max_leaves=None, min_child_weight=None,\n",
              "                             missing=nan, monotone_constraints=None,\n",
              "                             multi_strategy=None, n_estimators=10000,\n",
              "                             n_jobs=None, num_parallel_tree=None, ...)"
            ],
            "text/html": [
              "<style>#sk-container-id-79 {color: black;background-color: white;}#sk-container-id-79 pre{padding: 0;}#sk-container-id-79 div.sk-toggleable {background-color: white;}#sk-container-id-79 label.sk-toggleable__label {cursor: pointer;display: block;width: 100%;margin-bottom: 0;padding: 0.3em;box-sizing: border-box;text-align: center;}#sk-container-id-79 label.sk-toggleable__label-arrow:before {content: \"▸\";float: left;margin-right: 0.25em;color: #696969;}#sk-container-id-79 label.sk-toggleable__label-arrow:hover:before {color: black;}#sk-container-id-79 div.sk-estimator:hover label.sk-toggleable__label-arrow:before {color: black;}#sk-container-id-79 div.sk-toggleable__content {max-height: 0;max-width: 0;overflow: hidden;text-align: left;background-color: #f0f8ff;}#sk-container-id-79 div.sk-toggleable__content pre {margin: 0.2em;color: black;border-radius: 0.25em;background-color: #f0f8ff;}#sk-container-id-79 input.sk-toggleable__control:checked~div.sk-toggleable__content {max-height: 200px;max-width: 100%;overflow: auto;}#sk-container-id-79 input.sk-toggleable__control:checked~label.sk-toggleable__label-arrow:before {content: \"▾\";}#sk-container-id-79 div.sk-estimator input.sk-toggleable__control:checked~label.sk-toggleable__label {background-color: #d4ebff;}#sk-container-id-79 div.sk-label input.sk-toggleable__control:checked~label.sk-toggleable__label {background-color: #d4ebff;}#sk-container-id-79 input.sk-hidden--visually {border: 0;clip: rect(1px 1px 1px 1px);clip: rect(1px, 1px, 1px, 1px);height: 1px;margin: -1px;overflow: hidden;padding: 0;position: absolute;width: 1px;}#sk-container-id-79 div.sk-estimator {font-family: monospace;background-color: #f0f8ff;border: 1px dotted black;border-radius: 0.25em;box-sizing: border-box;margin-bottom: 0.5em;}#sk-container-id-79 div.sk-estimator:hover {background-color: #d4ebff;}#sk-container-id-79 div.sk-parallel-item::after {content: \"\";width: 100%;border-bottom: 1px solid gray;flex-grow: 1;}#sk-container-id-79 div.sk-label:hover label.sk-toggleable__label {background-color: #d4ebff;}#sk-container-id-79 div.sk-serial::before {content: \"\";position: absolute;border-left: 1px solid gray;box-sizing: border-box;top: 0;bottom: 0;left: 50%;z-index: 0;}#sk-container-id-79 div.sk-serial {display: flex;flex-direction: column;align-items: center;background-color: white;padding-right: 0.2em;padding-left: 0.2em;position: relative;}#sk-container-id-79 div.sk-item {position: relative;z-index: 1;}#sk-container-id-79 div.sk-parallel {display: flex;align-items: stretch;justify-content: center;background-color: white;position: relative;}#sk-container-id-79 div.sk-item::before, #sk-container-id-79 div.sk-parallel-item::before {content: \"\";position: absolute;border-left: 1px solid gray;box-sizing: border-box;top: 0;bottom: 0;left: 50%;z-index: -1;}#sk-container-id-79 div.sk-parallel-item {display: flex;flex-direction: column;z-index: 1;position: relative;background-color: white;}#sk-container-id-79 div.sk-parallel-item:first-child::after {align-self: flex-end;width: 50%;}#sk-container-id-79 div.sk-parallel-item:last-child::after {align-self: flex-start;width: 50%;}#sk-container-id-79 div.sk-parallel-item:only-child::after {width: 0;}#sk-container-id-79 div.sk-dashed-wrapped {border: 1px dashed gray;margin: 0 0.4em 0.5em 0.4em;box-sizing: border-box;padding-bottom: 0.4em;background-color: white;}#sk-container-id-79 div.sk-label label {font-family: monospace;font-weight: bold;display: inline-block;line-height: 1.2em;}#sk-container-id-79 div.sk-label-container {text-align: center;}#sk-container-id-79 div.sk-container {/* jupyter's `normalize.less` sets `[hidden] { display: none; }` but bootstrap.min.css set `[hidden] { display: none !important; }` so we also need the `!important` here to be able to override the default hidden behavior on the sphinx rendered scikit-learn.org. See: https://github.com/scikit-learn/scikit-learn/issues/21755 */display: inline-block !important;position: relative;}#sk-container-id-79 div.sk-text-repr-fallback {display: none;}</style><div id=\"sk-container-id-79\" class=\"sk-top-container\"><div class=\"sk-text-repr-fallback\"><pre>FractionSupportXGBClassifier(base_score=None, booster=None, callbacks=None,\n",
              "                             colsample_bylevel=None, colsample_bynode=None,\n",
              "                             colsample_bytree=None, device=None,\n",
              "                             early_stopping_rounds=10, enable_categorical=False,\n",
              "                             eval_metric=None, feature_types=None,\n",
              "                             fraction_ratio=0.2, gamma=None, grow_policy=None,\n",
              "                             importance_type=None, interaction_constraints=None,\n",
              "                             learning_rate=None, max_bin=None,\n",
              "                             max_cat_threshold=None, max_cat_to_onehot=None,\n",
              "                             max_delta_step=None, max_depth=None,\n",
              "                             max_leaves=None, min_child_weight=None,\n",
              "                             missing=nan, monotone_constraints=None,\n",
              "                             multi_strategy=None, n_estimators=10000,\n",
              "                             n_jobs=None, num_parallel_tree=None, ...)</pre><b>In a Jupyter environment, please rerun this cell to show the HTML representation or trust the notebook. <br />On GitHub, the HTML representation is unable to render, please try loading this page with nbviewer.org.</b></div><div class=\"sk-container\" hidden><div class=\"sk-item\"><div class=\"sk-estimator sk-toggleable\"><input class=\"sk-toggleable__control sk-hidden--visually\" id=\"sk-estimator-id-169\" type=\"checkbox\" checked><label for=\"sk-estimator-id-169\" class=\"sk-toggleable__label sk-toggleable__label-arrow\">FractionSupportXGBClassifier</label><div class=\"sk-toggleable__content\"><pre>FractionSupportXGBClassifier(base_score=None, booster=None, callbacks=None,\n",
              "                             colsample_bylevel=None, colsample_bynode=None,\n",
              "                             colsample_bytree=None, device=None,\n",
              "                             early_stopping_rounds=10, enable_categorical=False,\n",
              "                             eval_metric=None, feature_types=None,\n",
              "                             fraction_ratio=0.2, gamma=None, grow_policy=None,\n",
              "                             importance_type=None, interaction_constraints=None,\n",
              "                             learning_rate=None, max_bin=None,\n",
              "                             max_cat_threshold=None, max_cat_to_onehot=None,\n",
              "                             max_delta_step=None, max_depth=None,\n",
              "                             max_leaves=None, min_child_weight=None,\n",
              "                             missing=nan, monotone_constraints=None,\n",
              "                             multi_strategy=None, n_estimators=10000,\n",
              "                             n_jobs=None, num_parallel_tree=None, ...)</pre></div></div></div></div></div>"
            ]
          },
          "metadata": {},
          "execution_count": 248
        }
      ]
    },
    {
      "cell_type": "code",
      "source": [
        "f1_score(y_true=y_test, y_pred=wrap_xgb.predict(X_test))"
      ],
      "metadata": {
        "colab": {
          "base_uri": "https://localhost:8080/"
        },
        "id": "QgxNVwG4Xewf",
        "outputId": "86161744-ff6f-46ed-eade-99d6ab8d61ba"
      },
      "execution_count": 234,
      "outputs": [
        {
          "output_type": "execute_result",
          "data": {
            "text/plain": [
              "0.9601386481802427"
            ]
          },
          "metadata": {},
          "execution_count": 234
        }
      ]
    },
    {
      "cell_type": "code",
      "source": [
        "vc2 = VotingClassifier(\n",
        "    estimators=[\n",
        "        ('pipe1', p1),\n",
        "        ('pipe2', p2),\n",
        "        ('xgb', FractionSupportXGBClassifier(n_estimators=10000, fraction_ratio=.2, early_stopping_rounds=10))\n",
        "        ],\n",
        "    voting='soft')\n",
        "vc2"
      ],
      "metadata": {
        "colab": {
          "base_uri": "https://localhost:8080/",
          "height": 143
        },
        "id": "UamrFuTycvdU",
        "outputId": "9aa0eec9-c611-4911-e7ec-99bd6cc4a302"
      },
      "execution_count": 235,
      "outputs": [
        {
          "output_type": "execute_result",
          "data": {
            "text/plain": [
              "VotingClassifier(estimators=[('pipe1',\n",
              "                              Pipeline(steps=[('scaler', StandardScaler()),\n",
              "                                              ('gbc',\n",
              "                                               GradientBoostingClassifier(validation_fraction=0.2))])),\n",
              "                             ('pipe2',\n",
              "                              Pipeline(steps=[('scaler', StandardScaler()),\n",
              "                                              ('lgc', LogisticRegression())])),\n",
              "                             ('xgb',\n",
              "                              FractionSupportXGBClassifier(base_score=None,\n",
              "                                                           booster=None,\n",
              "                                                           callbacks=None,\n",
              "                                                           colsample_bylevel=None,\n",
              "                                                           colsample_bynode=...\n",
              "                                                           grow_policy=None,\n",
              "                                                           importance_type=None,\n",
              "                                                           interaction_constraints=None,\n",
              "                                                           learning_rate=None,\n",
              "                                                           max_bin=None,\n",
              "                                                           max_cat_threshold=None,\n",
              "                                                           max_cat_to_onehot=None,\n",
              "                                                           max_delta_step=None,\n",
              "                                                           max_depth=None,\n",
              "                                                           max_leaves=None,\n",
              "                                                           min_child_weight=None,\n",
              "                                                           missing=nan,\n",
              "                                                           monotone_constraints=None,\n",
              "                                                           multi_strategy=None,\n",
              "                                                           n_estimators=10000,\n",
              "                                                           n_jobs=None,\n",
              "                                                           num_parallel_tree=None, ...))],\n",
              "                 voting='soft')"
            ],
            "text/html": [
              "<style>#sk-container-id-74 {color: black;background-color: white;}#sk-container-id-74 pre{padding: 0;}#sk-container-id-74 div.sk-toggleable {background-color: white;}#sk-container-id-74 label.sk-toggleable__label {cursor: pointer;display: block;width: 100%;margin-bottom: 0;padding: 0.3em;box-sizing: border-box;text-align: center;}#sk-container-id-74 label.sk-toggleable__label-arrow:before {content: \"▸\";float: left;margin-right: 0.25em;color: #696969;}#sk-container-id-74 label.sk-toggleable__label-arrow:hover:before {color: black;}#sk-container-id-74 div.sk-estimator:hover label.sk-toggleable__label-arrow:before {color: black;}#sk-container-id-74 div.sk-toggleable__content {max-height: 0;max-width: 0;overflow: hidden;text-align: left;background-color: #f0f8ff;}#sk-container-id-74 div.sk-toggleable__content pre {margin: 0.2em;color: black;border-radius: 0.25em;background-color: #f0f8ff;}#sk-container-id-74 input.sk-toggleable__control:checked~div.sk-toggleable__content {max-height: 200px;max-width: 100%;overflow: auto;}#sk-container-id-74 input.sk-toggleable__control:checked~label.sk-toggleable__label-arrow:before {content: \"▾\";}#sk-container-id-74 div.sk-estimator input.sk-toggleable__control:checked~label.sk-toggleable__label {background-color: #d4ebff;}#sk-container-id-74 div.sk-label input.sk-toggleable__control:checked~label.sk-toggleable__label {background-color: #d4ebff;}#sk-container-id-74 input.sk-hidden--visually {border: 0;clip: rect(1px 1px 1px 1px);clip: rect(1px, 1px, 1px, 1px);height: 1px;margin: -1px;overflow: hidden;padding: 0;position: absolute;width: 1px;}#sk-container-id-74 div.sk-estimator {font-family: monospace;background-color: #f0f8ff;border: 1px dotted black;border-radius: 0.25em;box-sizing: border-box;margin-bottom: 0.5em;}#sk-container-id-74 div.sk-estimator:hover {background-color: #d4ebff;}#sk-container-id-74 div.sk-parallel-item::after {content: \"\";width: 100%;border-bottom: 1px solid gray;flex-grow: 1;}#sk-container-id-74 div.sk-label:hover label.sk-toggleable__label {background-color: #d4ebff;}#sk-container-id-74 div.sk-serial::before {content: \"\";position: absolute;border-left: 1px solid gray;box-sizing: border-box;top: 0;bottom: 0;left: 50%;z-index: 0;}#sk-container-id-74 div.sk-serial {display: flex;flex-direction: column;align-items: center;background-color: white;padding-right: 0.2em;padding-left: 0.2em;position: relative;}#sk-container-id-74 div.sk-item {position: relative;z-index: 1;}#sk-container-id-74 div.sk-parallel {display: flex;align-items: stretch;justify-content: center;background-color: white;position: relative;}#sk-container-id-74 div.sk-item::before, #sk-container-id-74 div.sk-parallel-item::before {content: \"\";position: absolute;border-left: 1px solid gray;box-sizing: border-box;top: 0;bottom: 0;left: 50%;z-index: -1;}#sk-container-id-74 div.sk-parallel-item {display: flex;flex-direction: column;z-index: 1;position: relative;background-color: white;}#sk-container-id-74 div.sk-parallel-item:first-child::after {align-self: flex-end;width: 50%;}#sk-container-id-74 div.sk-parallel-item:last-child::after {align-self: flex-start;width: 50%;}#sk-container-id-74 div.sk-parallel-item:only-child::after {width: 0;}#sk-container-id-74 div.sk-dashed-wrapped {border: 1px dashed gray;margin: 0 0.4em 0.5em 0.4em;box-sizing: border-box;padding-bottom: 0.4em;background-color: white;}#sk-container-id-74 div.sk-label label {font-family: monospace;font-weight: bold;display: inline-block;line-height: 1.2em;}#sk-container-id-74 div.sk-label-container {text-align: center;}#sk-container-id-74 div.sk-container {/* jupyter's `normalize.less` sets `[hidden] { display: none; }` but bootstrap.min.css set `[hidden] { display: none !important; }` so we also need the `!important` here to be able to override the default hidden behavior on the sphinx rendered scikit-learn.org. See: https://github.com/scikit-learn/scikit-learn/issues/21755 */display: inline-block !important;position: relative;}#sk-container-id-74 div.sk-text-repr-fallback {display: none;}</style><div id=\"sk-container-id-74\" class=\"sk-top-container\"><div class=\"sk-text-repr-fallback\"><pre>VotingClassifier(estimators=[(&#x27;pipe1&#x27;,\n",
              "                              Pipeline(steps=[(&#x27;scaler&#x27;, StandardScaler()),\n",
              "                                              (&#x27;gbc&#x27;,\n",
              "                                               GradientBoostingClassifier(validation_fraction=0.2))])),\n",
              "                             (&#x27;pipe2&#x27;,\n",
              "                              Pipeline(steps=[(&#x27;scaler&#x27;, StandardScaler()),\n",
              "                                              (&#x27;lgc&#x27;, LogisticRegression())])),\n",
              "                             (&#x27;xgb&#x27;,\n",
              "                              FractionSupportXGBClassifier(base_score=None,\n",
              "                                                           booster=None,\n",
              "                                                           callbacks=None,\n",
              "                                                           colsample_bylevel=None,\n",
              "                                                           colsample_bynode=...\n",
              "                                                           grow_policy=None,\n",
              "                                                           importance_type=None,\n",
              "                                                           interaction_constraints=None,\n",
              "                                                           learning_rate=None,\n",
              "                                                           max_bin=None,\n",
              "                                                           max_cat_threshold=None,\n",
              "                                                           max_cat_to_onehot=None,\n",
              "                                                           max_delta_step=None,\n",
              "                                                           max_depth=None,\n",
              "                                                           max_leaves=None,\n",
              "                                                           min_child_weight=None,\n",
              "                                                           missing=nan,\n",
              "                                                           monotone_constraints=None,\n",
              "                                                           multi_strategy=None,\n",
              "                                                           n_estimators=10000,\n",
              "                                                           n_jobs=None,\n",
              "                                                           num_parallel_tree=None, ...))],\n",
              "                 voting=&#x27;soft&#x27;)</pre><b>In a Jupyter environment, please rerun this cell to show the HTML representation or trust the notebook. <br />On GitHub, the HTML representation is unable to render, please try loading this page with nbviewer.org.</b></div><div class=\"sk-container\" hidden><div class=\"sk-item sk-dashed-wrapped\"><div class=\"sk-label-container\"><div class=\"sk-label sk-toggleable\"><input class=\"sk-toggleable__control sk-hidden--visually\" id=\"sk-estimator-id-154\" type=\"checkbox\" ><label for=\"sk-estimator-id-154\" class=\"sk-toggleable__label sk-toggleable__label-arrow\">VotingClassifier</label><div class=\"sk-toggleable__content\"><pre>VotingClassifier(estimators=[(&#x27;pipe1&#x27;,\n",
              "                              Pipeline(steps=[(&#x27;scaler&#x27;, StandardScaler()),\n",
              "                                              (&#x27;gbc&#x27;,\n",
              "                                               GradientBoostingClassifier(validation_fraction=0.2))])),\n",
              "                             (&#x27;pipe2&#x27;,\n",
              "                              Pipeline(steps=[(&#x27;scaler&#x27;, StandardScaler()),\n",
              "                                              (&#x27;lgc&#x27;, LogisticRegression())])),\n",
              "                             (&#x27;xgb&#x27;,\n",
              "                              FractionSupportXGBClassifier(base_score=None,\n",
              "                                                           booster=None,\n",
              "                                                           callbacks=None,\n",
              "                                                           colsample_bylevel=None,\n",
              "                                                           colsample_bynode=...\n",
              "                                                           grow_policy=None,\n",
              "                                                           importance_type=None,\n",
              "                                                           interaction_constraints=None,\n",
              "                                                           learning_rate=None,\n",
              "                                                           max_bin=None,\n",
              "                                                           max_cat_threshold=None,\n",
              "                                                           max_cat_to_onehot=None,\n",
              "                                                           max_delta_step=None,\n",
              "                                                           max_depth=None,\n",
              "                                                           max_leaves=None,\n",
              "                                                           min_child_weight=None,\n",
              "                                                           missing=nan,\n",
              "                                                           monotone_constraints=None,\n",
              "                                                           multi_strategy=None,\n",
              "                                                           n_estimators=10000,\n",
              "                                                           n_jobs=None,\n",
              "                                                           num_parallel_tree=None, ...))],\n",
              "                 voting=&#x27;soft&#x27;)</pre></div></div></div><div class=\"sk-parallel\"><div class=\"sk-parallel-item\"><div class=\"sk-item\"><div class=\"sk-label-container\"><div class=\"sk-label sk-toggleable\"><label>pipe1</label></div></div><div class=\"sk-serial\"><div class=\"sk-item\"><div class=\"sk-serial\"><div class=\"sk-item\"><div class=\"sk-estimator sk-toggleable\"><input class=\"sk-toggleable__control sk-hidden--visually\" id=\"sk-estimator-id-155\" type=\"checkbox\" ><label for=\"sk-estimator-id-155\" class=\"sk-toggleable__label sk-toggleable__label-arrow\">StandardScaler</label><div class=\"sk-toggleable__content\"><pre>StandardScaler()</pre></div></div></div><div class=\"sk-item\"><div class=\"sk-estimator sk-toggleable\"><input class=\"sk-toggleable__control sk-hidden--visually\" id=\"sk-estimator-id-156\" type=\"checkbox\" ><label for=\"sk-estimator-id-156\" class=\"sk-toggleable__label sk-toggleable__label-arrow\">GradientBoostingClassifier</label><div class=\"sk-toggleable__content\"><pre>GradientBoostingClassifier(validation_fraction=0.2)</pre></div></div></div></div></div></div></div></div><div class=\"sk-parallel-item\"><div class=\"sk-item\"><div class=\"sk-label-container\"><div class=\"sk-label sk-toggleable\"><label>pipe2</label></div></div><div class=\"sk-serial\"><div class=\"sk-item\"><div class=\"sk-serial\"><div class=\"sk-item\"><div class=\"sk-estimator sk-toggleable\"><input class=\"sk-toggleable__control sk-hidden--visually\" id=\"sk-estimator-id-157\" type=\"checkbox\" ><label for=\"sk-estimator-id-157\" class=\"sk-toggleable__label sk-toggleable__label-arrow\">StandardScaler</label><div class=\"sk-toggleable__content\"><pre>StandardScaler()</pre></div></div></div><div class=\"sk-item\"><div class=\"sk-estimator sk-toggleable\"><input class=\"sk-toggleable__control sk-hidden--visually\" id=\"sk-estimator-id-158\" type=\"checkbox\" ><label for=\"sk-estimator-id-158\" class=\"sk-toggleable__label sk-toggleable__label-arrow\">LogisticRegression</label><div class=\"sk-toggleable__content\"><pre>LogisticRegression()</pre></div></div></div></div></div></div></div></div><div class=\"sk-parallel-item\"><div class=\"sk-item\"><div class=\"sk-label-container\"><div class=\"sk-label sk-toggleable\"><label>xgb</label></div></div><div class=\"sk-serial\"><div class=\"sk-item\"><div class=\"sk-estimator sk-toggleable\"><input class=\"sk-toggleable__control sk-hidden--visually\" id=\"sk-estimator-id-159\" type=\"checkbox\" ><label for=\"sk-estimator-id-159\" class=\"sk-toggleable__label sk-toggleable__label-arrow\">FractionSupportXGBClassifier</label><div class=\"sk-toggleable__content\"><pre>FractionSupportXGBClassifier(base_score=None, booster=None, callbacks=None,\n",
              "                             colsample_bylevel=None, colsample_bynode=None,\n",
              "                             colsample_bytree=None, device=None,\n",
              "                             early_stopping_rounds=10, enable_categorical=False,\n",
              "                             eval_metric=None, feature_types=None,\n",
              "                             fraction_ratio=0.2, gamma=None, grow_policy=None,\n",
              "                             importance_type=None, interaction_constraints=None,\n",
              "                             learning_rate=None, max_bin=None,\n",
              "                             max_cat_threshold=None, max_cat_to_onehot=None,\n",
              "                             max_delta_step=None, max_depth=None,\n",
              "                             max_leaves=None, min_child_weight=None,\n",
              "                             missing=nan, monotone_constraints=None,\n",
              "                             multi_strategy=None, n_estimators=10000,\n",
              "                             n_jobs=None, num_parallel_tree=None, ...)</pre></div></div></div></div></div></div></div></div></div></div>"
            ]
          },
          "metadata": {},
          "execution_count": 235
        }
      ]
    },
    {
      "cell_type": "code",
      "source": [
        "vc2.fit(X_train, y_train)"
      ],
      "metadata": {
        "colab": {
          "base_uri": "https://localhost:8080/",
          "height": 1000
        },
        "id": "fJoWV_GghXGa",
        "outputId": "2845eb59-bc22-4429-ca1a-1388ce6440ad"
      },
      "execution_count": 236,
      "outputs": [
        {
          "output_type": "stream",
          "name": "stdout",
          "text": [
            "[0]\tvalidation_0-logloss:0.47990\tvalidation_1-logloss:0.44938\n",
            "[1]\tvalidation_0-logloss:0.36282\tvalidation_1-logloss:0.33910\n",
            "[2]\tvalidation_0-logloss:0.28076\tvalidation_1-logloss:0.25706\n",
            "[3]\tvalidation_0-logloss:0.22214\tvalidation_1-logloss:0.20286\n",
            "[4]\tvalidation_0-logloss:0.17788\tvalidation_1-logloss:0.15776\n",
            "[5]\tvalidation_0-logloss:0.14949\tvalidation_1-logloss:0.13183\n",
            "[6]\tvalidation_0-logloss:0.12482\tvalidation_1-logloss:0.11140\n",
            "[7]\tvalidation_0-logloss:0.10904\tvalidation_1-logloss:0.09569\n",
            "[8]\tvalidation_0-logloss:0.09615\tvalidation_1-logloss:0.07926\n",
            "[9]\tvalidation_0-logloss:0.08361\tvalidation_1-logloss:0.07066\n",
            "[10]\tvalidation_0-logloss:0.07360\tvalidation_1-logloss:0.06255\n",
            "[11]\tvalidation_0-logloss:0.06641\tvalidation_1-logloss:0.05438\n",
            "[12]\tvalidation_0-logloss:0.06018\tvalidation_1-logloss:0.04648\n",
            "[13]\tvalidation_0-logloss:0.05499\tvalidation_1-logloss:0.04213\n",
            "[14]\tvalidation_0-logloss:0.05063\tvalidation_1-logloss:0.03738\n",
            "[15]\tvalidation_0-logloss:0.04649\tvalidation_1-logloss:0.03671\n",
            "[16]\tvalidation_0-logloss:0.04356\tvalidation_1-logloss:0.03288\n",
            "[17]\tvalidation_0-logloss:0.04136\tvalidation_1-logloss:0.03072\n",
            "[18]\tvalidation_0-logloss:0.04007\tvalidation_1-logloss:0.02903\n",
            "[19]\tvalidation_0-logloss:0.03837\tvalidation_1-logloss:0.02646\n",
            "[20]\tvalidation_0-logloss:0.03741\tvalidation_1-logloss:0.02533\n",
            "[21]\tvalidation_0-logloss:0.03653\tvalidation_1-logloss:0.02378\n",
            "[22]\tvalidation_0-logloss:0.03580\tvalidation_1-logloss:0.02302\n",
            "[23]\tvalidation_0-logloss:0.03495\tvalidation_1-logloss:0.02257\n",
            "[24]\tvalidation_0-logloss:0.03412\tvalidation_1-logloss:0.02252\n",
            "[25]\tvalidation_0-logloss:0.03364\tvalidation_1-logloss:0.02159\n",
            "[26]\tvalidation_0-logloss:0.03306\tvalidation_1-logloss:0.02111\n",
            "[27]\tvalidation_0-logloss:0.03252\tvalidation_1-logloss:0.02090\n",
            "[28]\tvalidation_0-logloss:0.03198\tvalidation_1-logloss:0.02067\n",
            "[29]\tvalidation_0-logloss:0.03135\tvalidation_1-logloss:0.02071\n",
            "[30]\tvalidation_0-logloss:0.03087\tvalidation_1-logloss:0.02030\n",
            "[31]\tvalidation_0-logloss:0.03038\tvalidation_1-logloss:0.02012\n",
            "[32]\tvalidation_0-logloss:0.02995\tvalidation_1-logloss:0.01979\n",
            "[33]\tvalidation_0-logloss:0.02952\tvalidation_1-logloss:0.01966\n",
            "[34]\tvalidation_0-logloss:0.02909\tvalidation_1-logloss:0.01956\n",
            "[35]\tvalidation_0-logloss:0.02869\tvalidation_1-logloss:0.01937\n",
            "[36]\tvalidation_0-logloss:0.02828\tvalidation_1-logloss:0.01930\n",
            "[37]\tvalidation_0-logloss:0.02796\tvalidation_1-logloss:0.01902\n",
            "[38]\tvalidation_0-logloss:0.02756\tvalidation_1-logloss:0.01897\n",
            "[39]\tvalidation_0-logloss:0.02732\tvalidation_1-logloss:0.01842\n",
            "[40]\tvalidation_0-logloss:0.02710\tvalidation_1-logloss:0.01784\n",
            "[41]\tvalidation_0-logloss:0.02673\tvalidation_1-logloss:0.01784\n",
            "[42]\tvalidation_0-logloss:0.02639\tvalidation_1-logloss:0.01781\n"
          ]
        },
        {
          "output_type": "stream",
          "name": "stderr",
          "text": [
            "/usr/local/lib/python3.10/dist-packages/xgboost/core.py:160: UserWarning: [03:36:59] WARNING: /workspace/src/learner.cc:742: \n",
            "Parameters: { \"fraction_ratio\" } are not used.\n",
            "\n",
            "  warnings.warn(smsg, UserWarning)\n"
          ]
        },
        {
          "output_type": "stream",
          "name": "stdout",
          "text": [
            "[43]\tvalidation_0-logloss:0.02619\tvalidation_1-logloss:0.01733\n",
            "[44]\tvalidation_0-logloss:0.02589\tvalidation_1-logloss:0.01732\n",
            "[45]\tvalidation_0-logloss:0.02563\tvalidation_1-logloss:0.01707\n",
            "[46]\tvalidation_0-logloss:0.02537\tvalidation_1-logloss:0.01691\n",
            "[47]\tvalidation_0-logloss:0.02508\tvalidation_1-logloss:0.01694\n",
            "[48]\tvalidation_0-logloss:0.02477\tvalidation_1-logloss:0.01699\n",
            "[49]\tvalidation_0-logloss:0.02452\tvalidation_1-logloss:0.01685\n",
            "[50]\tvalidation_0-logloss:0.02426\tvalidation_1-logloss:0.01688\n",
            "[51]\tvalidation_0-logloss:0.02405\tvalidation_1-logloss:0.01666\n",
            "[52]\tvalidation_0-logloss:0.02382\tvalidation_1-logloss:0.01667\n",
            "[53]\tvalidation_0-logloss:0.02357\tvalidation_1-logloss:0.01671\n",
            "[54]\tvalidation_0-logloss:0.02343\tvalidation_1-logloss:0.01642\n",
            "[55]\tvalidation_0-logloss:0.02322\tvalidation_1-logloss:0.01648\n",
            "[56]\tvalidation_0-logloss:0.02304\tvalidation_1-logloss:0.01629\n",
            "[57]\tvalidation_0-logloss:0.02285\tvalidation_1-logloss:0.01636\n",
            "[58]\tvalidation_0-logloss:0.02271\tvalidation_1-logloss:0.01620\n",
            "[59]\tvalidation_0-logloss:0.02258\tvalidation_1-logloss:0.01602\n",
            "[60]\tvalidation_0-logloss:0.02238\tvalidation_1-logloss:0.01609\n",
            "[61]\tvalidation_0-logloss:0.02238\tvalidation_1-logloss:0.01609\n",
            "[62]\tvalidation_0-logloss:0.02238\tvalidation_1-logloss:0.01609\n",
            "[63]\tvalidation_0-logloss:0.02239\tvalidation_1-logloss:0.01601\n",
            "[64]\tvalidation_0-logloss:0.02239\tvalidation_1-logloss:0.01601\n",
            "[65]\tvalidation_0-logloss:0.02239\tvalidation_1-logloss:0.01601\n",
            "[66]\tvalidation_0-logloss:0.02239\tvalidation_1-logloss:0.01600\n",
            "[67]\tvalidation_0-logloss:0.02239\tvalidation_1-logloss:0.01600\n",
            "[68]\tvalidation_0-logloss:0.02239\tvalidation_1-logloss:0.01600\n",
            "[69]\tvalidation_0-logloss:0.02239\tvalidation_1-logloss:0.01600\n",
            "[70]\tvalidation_0-logloss:0.02239\tvalidation_1-logloss:0.01600\n",
            "[71]\tvalidation_0-logloss:0.02239\tvalidation_1-logloss:0.01600\n",
            "[72]\tvalidation_0-logloss:0.02239\tvalidation_1-logloss:0.01600\n",
            "[73]\tvalidation_0-logloss:0.02239\tvalidation_1-logloss:0.01600\n",
            "[74]\tvalidation_0-logloss:0.02239\tvalidation_1-logloss:0.01600\n",
            "[75]\tvalidation_0-logloss:0.02239\tvalidation_1-logloss:0.01600\n",
            "[76]\tvalidation_0-logloss:0.02239\tvalidation_1-logloss:0.01600\n",
            "[77]\tvalidation_0-logloss:0.02239\tvalidation_1-logloss:0.01600\n",
            "[78]\tvalidation_0-logloss:0.02239\tvalidation_1-logloss:0.01600\n",
            "[79]\tvalidation_0-logloss:0.02239\tvalidation_1-logloss:0.01600\n",
            "[80]\tvalidation_0-logloss:0.02239\tvalidation_1-logloss:0.01600\n",
            "[81]\tvalidation_0-logloss:0.02239\tvalidation_1-logloss:0.01600\n",
            "[82]\tvalidation_0-logloss:0.02239\tvalidation_1-logloss:0.01600\n",
            "[83]\tvalidation_0-logloss:0.02239\tvalidation_1-logloss:0.01600\n",
            "[84]\tvalidation_0-logloss:0.02239\tvalidation_1-logloss:0.01600\n",
            "[85]\tvalidation_0-logloss:0.02239\tvalidation_1-logloss:0.01600\n",
            "[86]\tvalidation_0-logloss:0.02239\tvalidation_1-logloss:0.01600\n",
            "[87]\tvalidation_0-logloss:0.02239\tvalidation_1-logloss:0.01600\n",
            "[88]\tvalidation_0-logloss:0.02239\tvalidation_1-logloss:0.01600\n",
            "[89]\tvalidation_0-logloss:0.02239\tvalidation_1-logloss:0.01600\n",
            "[90]\tvalidation_0-logloss:0.02239\tvalidation_1-logloss:0.01600\n",
            "[91]\tvalidation_0-logloss:0.02239\tvalidation_1-logloss:0.01600\n",
            "[92]\tvalidation_0-logloss:0.02239\tvalidation_1-logloss:0.01600\n",
            "[93]\tvalidation_0-logloss:0.02239\tvalidation_1-logloss:0.01600\n",
            "[94]\tvalidation_0-logloss:0.02239\tvalidation_1-logloss:0.01600\n",
            "[95]\tvalidation_0-logloss:0.02239\tvalidation_1-logloss:0.01600\n",
            "[96]\tvalidation_0-logloss:0.02239\tvalidation_1-logloss:0.01600\n",
            "[97]\tvalidation_0-logloss:0.02239\tvalidation_1-logloss:0.01600\n",
            "[98]\tvalidation_0-logloss:0.02239\tvalidation_1-logloss:0.01600\n",
            "[99]\tvalidation_0-logloss:0.02239\tvalidation_1-logloss:0.01600\n",
            "[100]\tvalidation_0-logloss:0.02239\tvalidation_1-logloss:0.01600\n",
            "[101]\tvalidation_0-logloss:0.02239\tvalidation_1-logloss:0.01600\n",
            "[102]\tvalidation_0-logloss:0.02239\tvalidation_1-logloss:0.01600\n",
            "[103]\tvalidation_0-logloss:0.02239\tvalidation_1-logloss:0.01600\n",
            "[104]\tvalidation_0-logloss:0.02239\tvalidation_1-logloss:0.01600\n"
          ]
        },
        {
          "output_type": "execute_result",
          "data": {
            "text/plain": [
              "VotingClassifier(estimators=[('pipe1',\n",
              "                              Pipeline(steps=[('scaler', StandardScaler()),\n",
              "                                              ('gbc',\n",
              "                                               GradientBoostingClassifier(validation_fraction=0.2))])),\n",
              "                             ('pipe2',\n",
              "                              Pipeline(steps=[('scaler', StandardScaler()),\n",
              "                                              ('lgc', LogisticRegression())])),\n",
              "                             ('xgb',\n",
              "                              FractionSupportXGBClassifier(base_score=None,\n",
              "                                                           booster=None,\n",
              "                                                           callbacks=None,\n",
              "                                                           colsample_bylevel=None,\n",
              "                                                           colsample_bynode=...\n",
              "                                                           grow_policy=None,\n",
              "                                                           importance_type=None,\n",
              "                                                           interaction_constraints=None,\n",
              "                                                           learning_rate=None,\n",
              "                                                           max_bin=None,\n",
              "                                                           max_cat_threshold=None,\n",
              "                                                           max_cat_to_onehot=None,\n",
              "                                                           max_delta_step=None,\n",
              "                                                           max_depth=None,\n",
              "                                                           max_leaves=None,\n",
              "                                                           min_child_weight=None,\n",
              "                                                           missing=nan,\n",
              "                                                           monotone_constraints=None,\n",
              "                                                           multi_strategy=None,\n",
              "                                                           n_estimators=10000,\n",
              "                                                           n_jobs=None,\n",
              "                                                           num_parallel_tree=None, ...))],\n",
              "                 voting='soft')"
            ],
            "text/html": [
              "<style>#sk-container-id-75 {color: black;background-color: white;}#sk-container-id-75 pre{padding: 0;}#sk-container-id-75 div.sk-toggleable {background-color: white;}#sk-container-id-75 label.sk-toggleable__label {cursor: pointer;display: block;width: 100%;margin-bottom: 0;padding: 0.3em;box-sizing: border-box;text-align: center;}#sk-container-id-75 label.sk-toggleable__label-arrow:before {content: \"▸\";float: left;margin-right: 0.25em;color: #696969;}#sk-container-id-75 label.sk-toggleable__label-arrow:hover:before {color: black;}#sk-container-id-75 div.sk-estimator:hover label.sk-toggleable__label-arrow:before {color: black;}#sk-container-id-75 div.sk-toggleable__content {max-height: 0;max-width: 0;overflow: hidden;text-align: left;background-color: #f0f8ff;}#sk-container-id-75 div.sk-toggleable__content pre {margin: 0.2em;color: black;border-radius: 0.25em;background-color: #f0f8ff;}#sk-container-id-75 input.sk-toggleable__control:checked~div.sk-toggleable__content {max-height: 200px;max-width: 100%;overflow: auto;}#sk-container-id-75 input.sk-toggleable__control:checked~label.sk-toggleable__label-arrow:before {content: \"▾\";}#sk-container-id-75 div.sk-estimator input.sk-toggleable__control:checked~label.sk-toggleable__label {background-color: #d4ebff;}#sk-container-id-75 div.sk-label input.sk-toggleable__control:checked~label.sk-toggleable__label {background-color: #d4ebff;}#sk-container-id-75 input.sk-hidden--visually {border: 0;clip: rect(1px 1px 1px 1px);clip: rect(1px, 1px, 1px, 1px);height: 1px;margin: -1px;overflow: hidden;padding: 0;position: absolute;width: 1px;}#sk-container-id-75 div.sk-estimator {font-family: monospace;background-color: #f0f8ff;border: 1px dotted black;border-radius: 0.25em;box-sizing: border-box;margin-bottom: 0.5em;}#sk-container-id-75 div.sk-estimator:hover {background-color: #d4ebff;}#sk-container-id-75 div.sk-parallel-item::after {content: \"\";width: 100%;border-bottom: 1px solid gray;flex-grow: 1;}#sk-container-id-75 div.sk-label:hover label.sk-toggleable__label {background-color: #d4ebff;}#sk-container-id-75 div.sk-serial::before {content: \"\";position: absolute;border-left: 1px solid gray;box-sizing: border-box;top: 0;bottom: 0;left: 50%;z-index: 0;}#sk-container-id-75 div.sk-serial {display: flex;flex-direction: column;align-items: center;background-color: white;padding-right: 0.2em;padding-left: 0.2em;position: relative;}#sk-container-id-75 div.sk-item {position: relative;z-index: 1;}#sk-container-id-75 div.sk-parallel {display: flex;align-items: stretch;justify-content: center;background-color: white;position: relative;}#sk-container-id-75 div.sk-item::before, #sk-container-id-75 div.sk-parallel-item::before {content: \"\";position: absolute;border-left: 1px solid gray;box-sizing: border-box;top: 0;bottom: 0;left: 50%;z-index: -1;}#sk-container-id-75 div.sk-parallel-item {display: flex;flex-direction: column;z-index: 1;position: relative;background-color: white;}#sk-container-id-75 div.sk-parallel-item:first-child::after {align-self: flex-end;width: 50%;}#sk-container-id-75 div.sk-parallel-item:last-child::after {align-self: flex-start;width: 50%;}#sk-container-id-75 div.sk-parallel-item:only-child::after {width: 0;}#sk-container-id-75 div.sk-dashed-wrapped {border: 1px dashed gray;margin: 0 0.4em 0.5em 0.4em;box-sizing: border-box;padding-bottom: 0.4em;background-color: white;}#sk-container-id-75 div.sk-label label {font-family: monospace;font-weight: bold;display: inline-block;line-height: 1.2em;}#sk-container-id-75 div.sk-label-container {text-align: center;}#sk-container-id-75 div.sk-container {/* jupyter's `normalize.less` sets `[hidden] { display: none; }` but bootstrap.min.css set `[hidden] { display: none !important; }` so we also need the `!important` here to be able to override the default hidden behavior on the sphinx rendered scikit-learn.org. See: https://github.com/scikit-learn/scikit-learn/issues/21755 */display: inline-block !important;position: relative;}#sk-container-id-75 div.sk-text-repr-fallback {display: none;}</style><div id=\"sk-container-id-75\" class=\"sk-top-container\"><div class=\"sk-text-repr-fallback\"><pre>VotingClassifier(estimators=[(&#x27;pipe1&#x27;,\n",
              "                              Pipeline(steps=[(&#x27;scaler&#x27;, StandardScaler()),\n",
              "                                              (&#x27;gbc&#x27;,\n",
              "                                               GradientBoostingClassifier(validation_fraction=0.2))])),\n",
              "                             (&#x27;pipe2&#x27;,\n",
              "                              Pipeline(steps=[(&#x27;scaler&#x27;, StandardScaler()),\n",
              "                                              (&#x27;lgc&#x27;, LogisticRegression())])),\n",
              "                             (&#x27;xgb&#x27;,\n",
              "                              FractionSupportXGBClassifier(base_score=None,\n",
              "                                                           booster=None,\n",
              "                                                           callbacks=None,\n",
              "                                                           colsample_bylevel=None,\n",
              "                                                           colsample_bynode=...\n",
              "                                                           grow_policy=None,\n",
              "                                                           importance_type=None,\n",
              "                                                           interaction_constraints=None,\n",
              "                                                           learning_rate=None,\n",
              "                                                           max_bin=None,\n",
              "                                                           max_cat_threshold=None,\n",
              "                                                           max_cat_to_onehot=None,\n",
              "                                                           max_delta_step=None,\n",
              "                                                           max_depth=None,\n",
              "                                                           max_leaves=None,\n",
              "                                                           min_child_weight=None,\n",
              "                                                           missing=nan,\n",
              "                                                           monotone_constraints=None,\n",
              "                                                           multi_strategy=None,\n",
              "                                                           n_estimators=10000,\n",
              "                                                           n_jobs=None,\n",
              "                                                           num_parallel_tree=None, ...))],\n",
              "                 voting=&#x27;soft&#x27;)</pre><b>In a Jupyter environment, please rerun this cell to show the HTML representation or trust the notebook. <br />On GitHub, the HTML representation is unable to render, please try loading this page with nbviewer.org.</b></div><div class=\"sk-container\" hidden><div class=\"sk-item sk-dashed-wrapped\"><div class=\"sk-label-container\"><div class=\"sk-label sk-toggleable\"><input class=\"sk-toggleable__control sk-hidden--visually\" id=\"sk-estimator-id-160\" type=\"checkbox\" ><label for=\"sk-estimator-id-160\" class=\"sk-toggleable__label sk-toggleable__label-arrow\">VotingClassifier</label><div class=\"sk-toggleable__content\"><pre>VotingClassifier(estimators=[(&#x27;pipe1&#x27;,\n",
              "                              Pipeline(steps=[(&#x27;scaler&#x27;, StandardScaler()),\n",
              "                                              (&#x27;gbc&#x27;,\n",
              "                                               GradientBoostingClassifier(validation_fraction=0.2))])),\n",
              "                             (&#x27;pipe2&#x27;,\n",
              "                              Pipeline(steps=[(&#x27;scaler&#x27;, StandardScaler()),\n",
              "                                              (&#x27;lgc&#x27;, LogisticRegression())])),\n",
              "                             (&#x27;xgb&#x27;,\n",
              "                              FractionSupportXGBClassifier(base_score=None,\n",
              "                                                           booster=None,\n",
              "                                                           callbacks=None,\n",
              "                                                           colsample_bylevel=None,\n",
              "                                                           colsample_bynode=...\n",
              "                                                           grow_policy=None,\n",
              "                                                           importance_type=None,\n",
              "                                                           interaction_constraints=None,\n",
              "                                                           learning_rate=None,\n",
              "                                                           max_bin=None,\n",
              "                                                           max_cat_threshold=None,\n",
              "                                                           max_cat_to_onehot=None,\n",
              "                                                           max_delta_step=None,\n",
              "                                                           max_depth=None,\n",
              "                                                           max_leaves=None,\n",
              "                                                           min_child_weight=None,\n",
              "                                                           missing=nan,\n",
              "                                                           monotone_constraints=None,\n",
              "                                                           multi_strategy=None,\n",
              "                                                           n_estimators=10000,\n",
              "                                                           n_jobs=None,\n",
              "                                                           num_parallel_tree=None, ...))],\n",
              "                 voting=&#x27;soft&#x27;)</pre></div></div></div><div class=\"sk-parallel\"><div class=\"sk-parallel-item\"><div class=\"sk-item\"><div class=\"sk-label-container\"><div class=\"sk-label sk-toggleable\"><label>pipe1</label></div></div><div class=\"sk-serial\"><div class=\"sk-item\"><div class=\"sk-serial\"><div class=\"sk-item\"><div class=\"sk-estimator sk-toggleable\"><input class=\"sk-toggleable__control sk-hidden--visually\" id=\"sk-estimator-id-161\" type=\"checkbox\" ><label for=\"sk-estimator-id-161\" class=\"sk-toggleable__label sk-toggleable__label-arrow\">StandardScaler</label><div class=\"sk-toggleable__content\"><pre>StandardScaler()</pre></div></div></div><div class=\"sk-item\"><div class=\"sk-estimator sk-toggleable\"><input class=\"sk-toggleable__control sk-hidden--visually\" id=\"sk-estimator-id-162\" type=\"checkbox\" ><label for=\"sk-estimator-id-162\" class=\"sk-toggleable__label sk-toggleable__label-arrow\">GradientBoostingClassifier</label><div class=\"sk-toggleable__content\"><pre>GradientBoostingClassifier(validation_fraction=0.2)</pre></div></div></div></div></div></div></div></div><div class=\"sk-parallel-item\"><div class=\"sk-item\"><div class=\"sk-label-container\"><div class=\"sk-label sk-toggleable\"><label>pipe2</label></div></div><div class=\"sk-serial\"><div class=\"sk-item\"><div class=\"sk-serial\"><div class=\"sk-item\"><div class=\"sk-estimator sk-toggleable\"><input class=\"sk-toggleable__control sk-hidden--visually\" id=\"sk-estimator-id-163\" type=\"checkbox\" ><label for=\"sk-estimator-id-163\" class=\"sk-toggleable__label sk-toggleable__label-arrow\">StandardScaler</label><div class=\"sk-toggleable__content\"><pre>StandardScaler()</pre></div></div></div><div class=\"sk-item\"><div class=\"sk-estimator sk-toggleable\"><input class=\"sk-toggleable__control sk-hidden--visually\" id=\"sk-estimator-id-164\" type=\"checkbox\" ><label for=\"sk-estimator-id-164\" class=\"sk-toggleable__label sk-toggleable__label-arrow\">LogisticRegression</label><div class=\"sk-toggleable__content\"><pre>LogisticRegression()</pre></div></div></div></div></div></div></div></div><div class=\"sk-parallel-item\"><div class=\"sk-item\"><div class=\"sk-label-container\"><div class=\"sk-label sk-toggleable\"><label>xgb</label></div></div><div class=\"sk-serial\"><div class=\"sk-item\"><div class=\"sk-estimator sk-toggleable\"><input class=\"sk-toggleable__control sk-hidden--visually\" id=\"sk-estimator-id-165\" type=\"checkbox\" ><label for=\"sk-estimator-id-165\" class=\"sk-toggleable__label sk-toggleable__label-arrow\">FractionSupportXGBClassifier</label><div class=\"sk-toggleable__content\"><pre>FractionSupportXGBClassifier(base_score=None, booster=None, callbacks=None,\n",
              "                             colsample_bylevel=None, colsample_bynode=None,\n",
              "                             colsample_bytree=None, device=None,\n",
              "                             early_stopping_rounds=10, enable_categorical=False,\n",
              "                             eval_metric=None, feature_types=None,\n",
              "                             fraction_ratio=0.2, gamma=None, grow_policy=None,\n",
              "                             importance_type=None, interaction_constraints=None,\n",
              "                             learning_rate=None, max_bin=None,\n",
              "                             max_cat_threshold=None, max_cat_to_onehot=None,\n",
              "                             max_delta_step=None, max_depth=None,\n",
              "                             max_leaves=None, min_child_weight=None,\n",
              "                             missing=nan, monotone_constraints=None,\n",
              "                             multi_strategy=None, n_estimators=10000,\n",
              "                             n_jobs=None, num_parallel_tree=None, ...)</pre></div></div></div></div></div></div></div></div></div></div>"
            ]
          },
          "metadata": {},
          "execution_count": 236
        }
      ]
    },
    {
      "cell_type": "code",
      "source": [
        "f1_score(y_true=y_test, y_pred=vc2.predict(X_test))"
      ],
      "metadata": {
        "colab": {
          "base_uri": "https://localhost:8080/"
        },
        "id": "krwwPH8ZhfHn",
        "outputId": "24eb62ec-8f1e-4812-83b2-679b766a198f"
      },
      "execution_count": 177,
      "outputs": [
        {
          "output_type": "execute_result",
          "data": {
            "text/plain": [
              "0.958041958041958"
            ]
          },
          "metadata": {},
          "execution_count": 177
        }
      ]
    },
    {
      "cell_type": "code",
      "source": [],
      "metadata": {
        "id": "6Dw8OunshnUX"
      },
      "execution_count": null,
      "outputs": []
    }
  ]
}