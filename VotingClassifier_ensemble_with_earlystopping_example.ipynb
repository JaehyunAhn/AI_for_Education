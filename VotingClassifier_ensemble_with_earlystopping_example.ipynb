{
  "nbformat": 4,
  "nbformat_minor": 0,
  "metadata": {
    "colab": {
      "provenance": [],
      "authorship_tag": "ABX9TyPCBM0aS/zvWeRIA3R3ebYt",
      "include_colab_link": true
    },
    "kernelspec": {
      "name": "python3",
      "display_name": "Python 3"
    },
    "language_info": {
      "name": "python"
    }
  },
  "cells": [
    {
      "cell_type": "markdown",
      "metadata": {
        "id": "view-in-github",
        "colab_type": "text"
      },
      "source": [
        "<a href=\"https://colab.research.google.com/github/JaehyunAhn/AI_for_Education/blob/master/VotingClassifier_ensemble_with_earlystopping_example.ipynb\" target=\"_parent\"><img src=\"https://colab.research.google.com/assets/colab-badge.svg\" alt=\"Open In Colab\"/></a>"
      ]
    },
    {
      "cell_type": "code",
      "source": [
        "from sklearn.base import BaseEstimator\n",
        "from sklearn.model_selection import train_test_split\n",
        "from xgboost import XGBRegressor, XGBClassifier\n",
        "\n",
        "class XGBoostWithEarlyStop(BaseEstimator):\n",
        "    def __init__(self, test_size=0.2, **estimator_params):\n",
        "        self.test_size = test_size\n",
        "        if self.estimator is not None:\n",
        "            self.set_params(**estimator_params)\n",
        "\n",
        "    def set_params(self, **params):\n",
        "        return self.estimator.set_params(**params)\n",
        "\n",
        "    def get_params(self, **params):\n",
        "        return self.estimator.get_params()\n",
        "\n",
        "    def fit(self, X, y):\n",
        "        x_train, x_val, y_train, y_val = train_test_split(X, y, test_size=self.test_size)\n",
        "        self.estimator.fit(x_train, y_train,\n",
        "                           eval_set=[(x_train, y_train), (x_val, y_val)])\n",
        "        return self\n",
        "\n",
        "    def predict(self, X):\n",
        "        return self.estimator.predict(X)\n",
        "\n",
        "    def predict_proba(self, X):\n",
        "        return self.estimator.predict_proba(X)\n",
        "\n",
        "class XGBoostRegressorWithEarlyStop(XGBoostWithEarlyStop):\n",
        "    def __init__(self, *args, **kwargs):\n",
        "        self.estimator = XGBRegressor()\n",
        "        self._estimator_type = 'regressor'\n",
        "        super(XGBoostRegressorWithEarlyStop, self).__init__(*args, **kwargs)\n",
        "\n",
        "class XGBoostClassifierWithEarlyStop(XGBoostWithEarlyStop):\n",
        "    def __init__(self, *args, **kwargs):\n",
        "        self.estimator = XGBClassifier()\n",
        "        self._estimator_type = 'classifier'\n",
        "        super(XGBoostClassifierWithEarlyStop, self).__init__(*args, **kwargs)\n"
      ],
      "metadata": {
        "id": "9-34N8ivGbji"
      },
      "execution_count": 148,
      "outputs": []
    },
    {
      "cell_type": "code",
      "execution_count": 154,
      "metadata": {
        "colab": {
          "base_uri": "https://localhost:8080/"
        },
        "id": "19SqG-jTASv9",
        "outputId": "1c7d97c5-daa8-4daa-8320-ddf11ff82b61"
      },
      "outputs": [
        {
          "output_type": "stream",
          "name": "stdout",
          "text": [
            "[0]\tvalidation_0-aucpr:0.99600\tvalidation_1-aucpr:0.90025\n",
            "[1]\tvalidation_0-aucpr:0.99801\tvalidation_1-aucpr:0.89746\n",
            "[2]\tvalidation_0-aucpr:0.99817\tvalidation_1-aucpr:0.89746\n",
            "[3]\tvalidation_0-aucpr:0.99740\tvalidation_1-aucpr:0.89746\n"
          ]
        },
        {
          "output_type": "stream",
          "name": "stderr",
          "text": [
            "/usr/local/lib/python3.10/dist-packages/xgboost/core.py:160: UserWarning: [06:53:05] WARNING: /workspace/src/learner.cc:742: \n",
            "Parameters: { \"verbose_eval\" } are not used.\n",
            "\n",
            "  warnings.warn(smsg, UserWarning)\n"
          ]
        }
      ],
      "source": [
        "from sklearn.pipeline import Pipeline\n",
        "from sklearn.ensemble import VotingClassifier\n",
        "from xgboost import XGBClassifier\n",
        "from sklearn.preprocessing import StandardScaler\n",
        "from sklearn.datasets import load_breast_cancer\n",
        "from sklearn.model_selection import train_test_split\n",
        "from sklearn.base import BaseEstimator, TransformerMixin\n",
        "from sklearn.linear_model import LogisticRegression\n",
        "\n",
        "\n",
        "X, y = load_breast_cancer(return_X_y=True)\n",
        "\n",
        "# Split your data into training and validation sets\n",
        "X_train, X_test, y_train, y_test = train_test_split(X, y, test_size=0.8, random_state=42)\n",
        "\n",
        "# Define your preprocessing steps in the pipeline\n",
        "scaler = StandardScaler()  # You can replace this with any preprocessing steps you need\n",
        "\n",
        "xgb_model = XGBoostClassifierWithEarlyStop(\n",
        "    objective=\"binary:logistic\",\n",
        "    eval_metric=\"aucpr\",\n",
        "    n_estimators=600,  # Set a large number\n",
        "    max_depth=6,\n",
        "    learning_rate=0.1,\n",
        "    verbose_eval=True,\n",
        "    early_stopping_rounds=3\n",
        ")\n",
        "\n",
        "logistic_model = LogisticRegression()\n",
        "\n",
        "# Create the VotingClassifier with only the XGBoost model\n",
        "\n",
        "voting_classifier = VotingClassifier(\n",
        "    estimators=[\n",
        "        ('xgb', xgb_model),\n",
        "        ('lgr', logistic_model)\n",
        "        ],\n",
        "    voting='soft'\n",
        ")\n",
        "\n",
        "pipe = Pipeline(\n",
        "    [\n",
        "        ('scaler', scaler),\n",
        "        ('clf', voting_classifier)\n",
        "    ]\n",
        ")\n",
        "\n",
        "# Fit the VotingClassifier with training data\n",
        "pipe.fit(X_train, y_train)\n",
        "\n",
        "# Use the VotingClassifier to make predictions on the validation data\n",
        "y_pred = pipe.predict(X_test)"
      ]
    },
    {
      "cell_type": "code",
      "source": [
        "# xgb_model.set_params(early_stopping_rounds=7)\n",
        "# xgb_model.fit(X_train, y_train)"
      ],
      "metadata": {
        "id": "l2IgrHgFDWE0"
      },
      "execution_count": 158,
      "outputs": []
    },
    {
      "cell_type": "code",
      "source": [
        "# xgb_model.get_params()"
      ],
      "metadata": {
        "id": "fwSBj8PGPTsK"
      },
      "execution_count": 156,
      "outputs": []
    },
    {
      "cell_type": "code",
      "source": [
        "from sklearn.metrics import f1_score\n",
        "\n",
        "f1_score(y_true=y_test, y_pred=y_pred)"
      ],
      "metadata": {
        "colab": {
          "base_uri": "https://localhost:8080/"
        },
        "id": "jAXYq8C3Aa5o",
        "outputId": "12bb73d5-23c8-4f5b-a9f5-10306b5dabe1"
      },
      "execution_count": 157,
      "outputs": [
        {
          "output_type": "execute_result",
          "data": {
            "text/plain": [
              "0.9846153846153847"
            ]
          },
          "metadata": {},
          "execution_count": 157
        }
      ]
    },
    {
      "cell_type": "code",
      "source": [],
      "metadata": {
        "id": "dWuTxWamIMsf"
      },
      "execution_count": null,
      "outputs": []
    }
  ]
}